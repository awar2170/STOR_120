{
 "cells": [
  {
   "cell_type": "code",
   "execution_count": null,
   "metadata": {},
   "outputs": [],
   "source": [
    "from datascience import *\n",
    "import numpy as np\n",
    "\n",
    "%matplotlib inline\n",
    "import matplotlib.pyplot as plots\n",
    "plots.style.use('fivethirtyeight')"
   ]
  },
  {
   "cell_type": "markdown",
   "metadata": {},
   "source": [
    "## Swain vs. Alabama ##"
   ]
  },
  {
   "cell_type": "markdown",
   "metadata": {},
   "source": [
    "### Hypothesis Test"
   ]
  },
  {
   "cell_type": "code",
   "execution_count": null,
   "metadata": {},
   "outputs": [],
   "source": [
    "population_proportions = make_array(.26, .74)\n",
    "\n",
    "def panel_proportion():\n",
    "    return sample_proportions(100, population_proportions).item(0)\n",
    "\n",
    "panels = make_array()\n",
    "\n",
    "num_simulations = 100000\n",
    "\n",
    "for i in np.arange(num_simulations):\n",
    "    new_panel = panel_proportion() * 100\n",
    "    panels = np.append(panels, new_panel)"
   ]
  },
  {
   "cell_type": "code",
   "execution_count": null,
   "metadata": {},
   "outputs": [],
   "source": [
    "Table().with_column('Number of Black Men on Panel of 100', panels).hist(bins=np.arange(5.5,40.))\n",
    "plots.plot([8, 8], [0, .1], color='red', lw=2);\n",
    "print(\"p-value = \", sum(panels <= 8)/num_simulations)"
   ]
  },
  {
   "cell_type": "markdown",
   "metadata": {},
   "source": [
    "### Confidence Interval "
   ]
  },
  {
   "cell_type": "code",
   "execution_count": null,
   "metadata": {},
   "outputs": [],
   "source": [
    "sample_panel_proportions = make_array(.08, .92)\n",
    "\n",
    "def bootstrap_proportion(size, distribution):\n",
    "    return sample_proportions(size, distribution).item(0)\n",
    "\n",
    "bootstrap_panels = make_array()\n",
    "\n",
    "for i in np.arange(num_simulations):\n",
    "    new_bootstrap_panel = bootstrap_proportion(100, sample_panel_proportions) * 100\n",
    "    bootstrap_panels = np.append(bootstrap_panels, new_bootstrap_panel)\n"
   ]
  },
  {
   "cell_type": "code",
   "execution_count": null,
   "metadata": {},
   "outputs": [],
   "source": [
    "left = percentile(2.5, bootstrap_panels)\n",
    "right = percentile(97.5, bootstrap_panels)\n",
    "\n",
    "left, right"
   ]
  },
  {
   "cell_type": "code",
   "execution_count": null,
   "metadata": {},
   "outputs": [],
   "source": [
    "Table().with_column(\n",
    "    'Bootstrap Number of Black Men on Panel of 100', bootstrap_panels\n",
    ").hist(bins=np.arange(-0.5,40.))\n",
    "\n",
    "plots.plot([left,right], [0,0], color=\"lightgreen\", lw=10, zorder=1);\n",
    "plots.scatter(8,0.002,color=\"blue\", s=40, zorder=2);\n",
    "print(\"We predict with 95% confidence that if the jury pool were randomly selected,\")\n",
    "print(\"it was selected from a population of between\", left, \"and\",np.round(right,1), \"percent black men.\")"
   ]
  },
  {
   "cell_type": "markdown",
   "metadata": {},
   "source": [
    "### Null and Bootstrap Distributions Together"
   ]
  },
  {
   "cell_type": "code",
   "execution_count": null,
   "metadata": {},
   "outputs": [],
   "source": [
    "Table().with_columns(\n",
    "    'Bootstrap Distribution', bootstrap_panels,\n",
    "    'Null Distribution', panels\n",
    ").hist(bins=np.arange(-0.5,40.))\n",
    "\n",
    "plots.plot(\n",
    "    [left,right], \n",
    "    [0,0], \n",
    "    color=\"lightgreen\", \n",
    "    lw=10, \n",
    "    zorder=1\n",
    ");\n",
    "plots.scatter(\n",
    "    sample_panel_proportions.item(0)*100,\n",
    "    0.002,\n",
    "    color=\"blue\",\n",
    "    s=40,\n",
    "    zorder=2);\n",
    "\n",
    "plots.plot(\n",
    "    [population_proportions.item(0)*100, population_proportions.item(0)*100], \n",
    "    [0, .15], \n",
    "    color='red', \n",
    "    lw=2\n",
    ");"
   ]
  },
  {
   "cell_type": "markdown",
   "metadata": {},
   "source": [
    "### Significance Level?"
   ]
  },
  {
   "cell_type": "code",
   "execution_count": null,
   "metadata": {},
   "outputs": [],
   "source": [
    "left90 = percentile(5, bootstrap_panels)\n",
    "right90 = percentile(95, bootstrap_panels)\n",
    "\n",
    "left90, right90"
   ]
  },
  {
   "cell_type": "code",
   "execution_count": null,
   "metadata": {},
   "outputs": [],
   "source": [
    "Table().with_columns(\n",
    "    'Bootstrap Distribution', bootstrap_panels,\n",
    "    'Null Distribution', panels\n",
    ").hist(bins=np.arange(-0.5,40.))\n",
    "\n",
    "plots.plot(\n",
    "    [left90,right90], \n",
    "    [0,0], \n",
    "    color=\"lightgreen\", \n",
    "    lw=10, \n",
    "    zorder=1\n",
    ");\n",
    "plots.scatter(\n",
    "    sample_panel_proportions.item(0)*100,\n",
    "    0.002,\n",
    "    color=\"blue\",\n",
    "    s=40,\n",
    "    zorder=2);\n",
    "\n",
    "plots.plot(\n",
    "    [population_proportions.item(0)*100, population_proportions.item(0)*100], \n",
    "    [0, .15], \n",
    "    color='red', \n",
    "    lw=2\n",
    ");"
   ]
  },
  {
   "cell_type": "markdown",
   "metadata": {},
   "source": [
    "## Do Babies Understand Probability?"
   ]
  },
  {
   "cell_type": "markdown",
   "metadata": {},
   "source": [
    "### Hypothesis Test"
   ]
  },
  {
   "cell_type": "code",
   "execution_count": null,
   "metadata": {},
   "outputs": [],
   "source": [
    "model_proportions = make_array(0.5, 0.5)\n",
    "\n",
    "def statistic(expected_prop, actual_prop):\n",
    "    return 100*abs(expected_prop - actual_prop)\n",
    "\n",
    "observed_statistic = statistic(0.5, 18/24)\n",
    "\n",
    "def simulation_and_statistic(model_proportions, expected_proportion_correct):\n",
    "       \n",
    "    simulation_proportion_correct = sample_proportions(24, model_proportions)\n",
    "    one_statistic = statistic(simulation_proportion_correct.item(0), expected_proportion_correct)\n",
    "    \n",
    "    return one_statistic"
   ]
  },
  {
   "cell_type": "code",
   "execution_count": null,
   "metadata": {},
   "outputs": [],
   "source": [
    "simulated_statistics = make_array()\n",
    "\n",
    "for i in np.arange(num_simulations):\n",
    "    simulated_statistic = simulation_and_statistic(model_proportions, 0.5)\n",
    "    simulated_statistics = np.append(simulated_statistics, simulated_statistic)"
   ]
  },
  {
   "cell_type": "code",
   "execution_count": null,
   "metadata": {},
   "outputs": [],
   "source": [
    "Table().with_column('Simulated Statistics', simulated_statistics).hist(bins = np.arange(0, 50, 4.16))\n",
    "plots.plot([observed_statistic, observed_statistic], [0, .08], color='red', lw=2);\n",
    "\n",
    "print(\"p-value:  \", sum(simulated_statistics >= observed_statistic)/num_simulations)"
   ]
  },
  {
   "cell_type": "markdown",
   "metadata": {},
   "source": [
    "### Confidence Interval "
   ]
  },
  {
   "cell_type": "code",
   "execution_count": null,
   "metadata": {},
   "outputs": [],
   "source": [
    "sample_tt_proportions = make_array(18/24, 6/24)\n",
    "\n",
    "bootstrap_tt = make_array()\n",
    "\n",
    "for i in np.arange(num_simulations):\n",
    "    new_bootstrap_tt = bootstrap_proportion(24, sample_tt_proportions)*100 - 50\n",
    "    bootstrap_tt = np.append(bootstrap_tt, new_bootstrap_tt)"
   ]
  },
  {
   "cell_type": "code",
   "execution_count": null,
   "metadata": {},
   "outputs": [],
   "source": [
    "left_tt_95 = percentile(2.5, bootstrap_tt)\n",
    "right_tt_95 = percentile(97.5, bootstrap_tt)\n",
    "\n",
    "left_tt_95, right_tt_95"
   ]
  },
  {
   "cell_type": "code",
   "execution_count": null,
   "metadata": {},
   "outputs": [],
   "source": [
    "Table().with_column(\n",
    "    'Expected - Actual Percentage Correct', bootstrap_tt\n",
    ").hist(bins = np.arange(-25, 50, 4.16))\n",
    "\n",
    "plots.plot([left_tt_95,right_tt_95], [0,0], color=\"gold\", lw=10, zorder=1);\n",
    "plots.scatter(observed_statistic, 0.001, color=\"blue\", s=50, zorder=2);\n",
    "plots.plot([0, 0], [0, .06], color='red', lw=2);"
   ]
  },
  {
   "cell_type": "markdown",
   "metadata": {},
   "source": [
    "### One Sided Hypotheses"
   ]
  },
  {
   "cell_type": "code",
   "execution_count": null,
   "metadata": {},
   "outputs": [],
   "source": [
    "left_tt_90 = percentile(5, bootstrap_tt)\n",
    "right_tt_90 = percentile(95, bootstrap_tt)\n",
    "\n",
    "left_tt_90, right_tt_90\n",
    "\n",
    "Table().with_column(\n",
    "    'Expected - Actual Percentage Correct', bootstrap_tt\n",
    ").hist(bins = np.arange(-25, 50, 4.16))\n",
    "\n",
    "plots.plot([left_tt_90,right_tt_90], [0,0], color=\"gold\", lw=10, zorder=1);\n",
    "plots.scatter(observed_statistic, 0.001, color=\"blue\", s=40, zorder=2);\n",
    "plots.plot([0, 0], [0, .06], color='red', lw=2);"
   ]
  }
 ],
 "metadata": {
  "anaconda-cloud": {},
  "kernelspec": {
   "display_name": "Python 3 (ipykernel)",
   "language": "python",
   "name": "python3"
  },
  "language_info": {
   "codemirror_mode": {
    "name": "ipython",
    "version": 3
   },
   "file_extension": ".py",
   "mimetype": "text/x-python",
   "name": "python",
   "nbconvert_exporter": "python",
   "pygments_lexer": "ipython3",
   "version": "3.9.7"
  }
 },
 "nbformat": 4,
 "nbformat_minor": 4
}
