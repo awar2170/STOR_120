{
 "cells": [
  {
   "cell_type": "code",
   "execution_count": null,
   "metadata": {},
   "outputs": [],
   "source": [
    "from datascience import *\n",
    "%matplotlib inline\n",
    "import matplotlib.pyplot as plots\n",
    "plots.style.use('fivethirtyeight')\n",
    "import numpy as np"
   ]
  },
  {
   "cell_type": "markdown",
   "metadata": {},
   "source": [
    "# Confidence Intervals"
   ]
  },
  {
   "cell_type": "markdown",
   "metadata": {},
   "source": [
    "## Another Example: Mean Maternal Age"
   ]
  },
  {
   "cell_type": "code",
   "execution_count": null,
   "metadata": {},
   "outputs": [],
   "source": [
    "# This time we have a sample, but no population data!\n",
    "births = Table.read_table('baby.csv')\n",
    "births.show(5)"
   ]
  },
  {
   "cell_type": "code",
   "execution_count": null,
   "metadata": {},
   "outputs": [],
   "source": [
    "# sample distribution\n",
    "\n",
    "births.hist('Maternal Age')"
   ]
  },
  {
   "cell_type": "code",
   "execution_count": null,
   "metadata": {},
   "outputs": [],
   "source": [
    "# sample mean maternal age\n",
    "\n",
    "mean_age = np.mean(births.column('Maternal Age'))\n",
    "mean_age"
   ]
  },
  {
   "cell_type": "code",
   "execution_count": null,
   "metadata": {},
   "outputs": [],
   "source": [
    "# samples with replacement from our sample\n",
    "# returns the mean maternal age of this bootstrap sample\n",
    "\n",
    "def one_bootstrap_mean():\n",
    "    return np.mean(births.sample().column('Maternal Age'))"
   ]
  },
  {
   "cell_type": "code",
   "execution_count": null,
   "metadata": {},
   "outputs": [],
   "source": [
    "bootstrap_means = make_array()\n",
    "\n",
    "for i in np.arange(1000):\n",
    "    new_mean = one_bootstrap_mean()\n",
    "    bootstrap_means = np.append(bootstrap_means, new_mean)\n",
    "\n",
    "# Determine the bounds for the middle 95% of bootstrap sample mean maternal ages\n",
    "    \n",
    "left = percentile(2.5, bootstrap_means)\n",
    "right = percentile(97.5, bootstrap_means)"
   ]
  },
  {
   "cell_type": "code",
   "execution_count": null,
   "metadata": {},
   "outputs": [],
   "source": [
    "Table().with_column('Bootstrap means', bootstrap_means).hist()\n",
    "\n",
    "plots.plot([left,right], [0,0], color=\"gold\", lw=10, zorder=1);\n",
    "plots.plot([mean_age,mean_age], [0,2.5], color=\"blue\", lw=3, zorder=1);\n",
    "plots.title('Bootstrap Means (1K Bootstraps from our Sample)');\n",
    "\n",
    "print(\"We have 95% confidence that the mean maternal age is in the interval from\", \n",
    "      np.round(left, 3),\n",
    "      \"to\",\n",
    "      np.round(right, 3),\n",
    "      'years old.'\n",
    "     )"
   ]
  },
  {
   "cell_type": "markdown",
   "metadata": {},
   "source": [
    "## Back to an example with population data"
   ]
  },
  {
   "cell_type": "code",
   "execution_count": null,
   "metadata": {},
   "outputs": [],
   "source": [
    "united = Table.read_table('united.csv')\n",
    "pop_median = np.median(united.column('Delay'))\n",
    "\n",
    "our_sample = united.sample(100, with_replacement=False)\n",
    "our_sample_median = np.median(our_sample.column('Delay'))\n",
    "\n",
    "pop_median, our_sample_median"
   ]
  },
  {
   "cell_type": "code",
   "execution_count": null,
   "metadata": {},
   "outputs": [],
   "source": [
    "def one_bootstrap_median():\n",
    "    single_sample = our_sample.sample()\n",
    "    return np.median(single_sample.column('Delay'))\n",
    "\n",
    "bootstrap_medians = make_array()\n",
    "\n",
    "for i in np.arange(1000):\n",
    "    new_median = one_bootstrap_median()\n",
    "    bootstrap_medians = np.append(bootstrap_medians, new_median)\n",
    "\n",
    "left = percentile(2.5, bootstrap_medians)\n",
    "right = percentile(97.5, bootstrap_medians)"
   ]
  },
  {
   "cell_type": "code",
   "execution_count": null,
   "metadata": {},
   "outputs": [],
   "source": [
    "sampling_bins = np.arange(-3, 11, 1)    \n",
    "    \n",
    "Table().with_column(\n",
    "    'Bootstrap Medians', bootstrap_medians\n",
    ").hist('Bootstrap Medians', bins = sampling_bins)\n",
    "\n",
    "plots.plot([left, right], [0,0], color=\"gold\",lw=10, zorder=1);\n",
    "plots.plot([pop_median, pop_median], [0,0.3], color=\"red\",lw=2, zorder=1);\n",
    "plots.plot([our_sample_median, our_sample_median], [0,0.3], color=\"blue\",lw=2, zorder=1);"
   ]
  },
  {
   "cell_type": "markdown",
   "metadata": {},
   "source": [
    "## Simulation of Simulations"
   ]
  },
  {
   "cell_type": "code",
   "execution_count": null,
   "metadata": {},
   "outputs": [],
   "source": [
    "left_ends = make_array()\n",
    "right_ends = make_array()\n",
    "\n",
    "total_delays = united.select('Delay')\n",
    "\n",
    "def bootstrap_median(original_sample, label, replications):\n",
    "    \"\"\"Returns an array of bootstrapped sample medians:\n",
    "    original_sample: table containing the original sample\n",
    "    label: label of column containing the variable\n",
    "    replications: number of bootstrap samples\n",
    "    \"\"\"\n",
    "    just_one_column = original_sample.select(label)\n",
    "    medians = make_array()\n",
    "    for i in np.arange(replications):\n",
    "        bootstrap_sample = just_one_column.sample()\n",
    "        resampled_median = percentile(50, bootstrap_sample.column(0))\n",
    "        medians = np.append(medians, resampled_median)\n",
    "        \n",
    "    return medians"
   ]
  },
  {
   "cell_type": "code",
   "execution_count": null,
   "metadata": {},
   "outputs": [],
   "source": [
    "# Generate 100 intervals, in the table intervals\n",
    "\n",
    "for i in np.arange(100):\n",
    "    first_sample = total_delays.sample(100, with_replacement=False)\n",
    "    medians = bootstrap_median(first_sample, 'Delay', 1000)\n",
    "    left_ends = np.append(left_ends, percentile(2.5, medians))\n",
    "    right_ends = np.append(right_ends, percentile(97.5, medians))\n",
    "\n",
    "intervals = Table().with_columns(\n",
    "    'Left', left_ends,\n",
    "    'Right', right_ends\n",
    ")   "
   ]
  },
  {
   "cell_type": "code",
   "execution_count": null,
   "metadata": {},
   "outputs": [],
   "source": [
    "intervals"
   ]
  },
  {
   "cell_type": "code",
   "execution_count": null,
   "metadata": {},
   "outputs": [],
   "source": [
    "# transposes table and labels columns by replication\n",
    "replication_number = np.ndarray.astype(np.arange(1, 101), str)\n",
    "intervals2 = Table(replication_number).with_rows(make_array(left_ends, right_ends))\n",
    "intervals2 "
   ]
  },
  {
   "cell_type": "code",
   "execution_count": null,
   "metadata": {},
   "outputs": [],
   "source": [
    "# makes the the plot bigger\n",
    "plots.figure(figsize=(8,8))\n",
    "\n",
    "#plot 100 intervals on one plot\n",
    "for i in np.arange(100):\n",
    "    ends = intervals2.column(i)\n",
    "    plots.plot(ends, make_array(i+1, i+1), color='gold', lw=2, zorder=2)\n",
    "    \n",
    "plots.plot([pop_median, pop_median], make_array(0, 100), color='red', lw=5, zorder=1)\n",
    "plots.xlabel('Median (minutes)')\n",
    "plots.ylabel('Replication')\n",
    "plots.title('Population Median and Intervals of Estimates');"
   ]
  }
 ],
 "metadata": {
  "anaconda-cloud": {},
  "kernelspec": {
   "display_name": "Python 3",
   "language": "python",
   "name": "python3"
  },
  "language_info": {
   "codemirror_mode": {
    "name": "ipython",
    "version": 3
   },
   "file_extension": ".py",
   "mimetype": "text/x-python",
   "name": "python",
   "nbconvert_exporter": "python",
   "pygments_lexer": "ipython3",
   "version": "3.8.5"
  }
 },
 "nbformat": 4,
 "nbformat_minor": 4
}
