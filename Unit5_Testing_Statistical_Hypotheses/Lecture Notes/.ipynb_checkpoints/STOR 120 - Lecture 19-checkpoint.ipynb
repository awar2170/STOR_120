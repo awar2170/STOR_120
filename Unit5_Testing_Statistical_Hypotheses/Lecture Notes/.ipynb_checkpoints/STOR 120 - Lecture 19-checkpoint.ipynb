{
 "cells": [
  {
   "cell_type": "code",
   "execution_count": null,
   "metadata": {},
   "outputs": [],
   "source": [
    "from datascience import *\n",
    "import numpy as np\n",
    "\n",
    "%matplotlib inline\n",
    "import matplotlib.pyplot as plots\n",
    "plots.style.use('fivethirtyeight')"
   ]
  },
  {
   "cell_type": "markdown",
   "metadata": {},
   "source": [
    "## Class 19: Decisions and Uncertainty"
   ]
  },
  {
   "cell_type": "code",
   "execution_count": null,
   "metadata": {},
   "outputs": [],
   "source": [
    "scores = Table.read_table('scores_by_section.csv')\n",
    "scores"
   ]
  },
  {
   "cell_type": "code",
   "execution_count": null,
   "metadata": {},
   "outputs": [],
   "source": [
    "scores.group('Section')"
   ]
  },
  {
   "cell_type": "code",
   "execution_count": null,
   "metadata": {},
   "outputs": [],
   "source": [
    "scores.group('Section', np.average).show()"
   ]
  },
  {
   "cell_type": "code",
   "execution_count": null,
   "metadata": {},
   "outputs": [],
   "source": [
    "observed_average = scores.group('Section', np.average).where('Section', 3).column('Midterm average').item(0)\n",
    "observed_average"
   ]
  },
  {
   "cell_type": "code",
   "execution_count": null,
   "metadata": {},
   "outputs": [],
   "source": [
    "random_sample = scores.sample(27, with_replacement=False)\n",
    "random_sample"
   ]
  },
  {
   "cell_type": "code",
   "execution_count": null,
   "metadata": {},
   "outputs": [],
   "source": [
    "np.average(random_sample.column('Midterm'))"
   ]
  },
  {
   "cell_type": "code",
   "execution_count": null,
   "metadata": {},
   "outputs": [],
   "source": [
    "# Simulate one value of the test statistic \n",
    "# under the hypothesis that the section is like a random sample from the class\n",
    "\n",
    "def random_sample_midterm_avg():\n",
    "    random_sample = scores.sample(27, with_replacement = False)\n",
    "    return np.average(random_sample.column('Midterm'))"
   ]
  },
  {
   "cell_type": "code",
   "execution_count": null,
   "metadata": {},
   "outputs": [],
   "source": [
    "# Simulate 10,000 copies of the test statistic\n",
    "\n",
    "sample_averages = make_array()\n",
    "\n",
    "for i in np.arange(10000):\n",
    "    sample_averages = np.append(sample_averages, random_sample_midterm_avg())    "
   ]
  },
  {
   "cell_type": "code",
   "execution_count": null,
   "metadata": {},
   "outputs": [],
   "source": [
    "# Compare the simulated distribution of the statistic\n",
    "# and the actual observed statistic\n",
    "\n",
    "averages_tbl = Table().with_column('Random Sample Average', sample_averages)\n",
    "averages_tbl.hist(bins = 20)\n",
    "plots.plot([observed_average, observed_average], [0, .35], color='red', lw=2);"
   ]
  },
  {
   "cell_type": "code",
   "execution_count": null,
   "metadata": {},
   "outputs": [],
   "source": [
    "sum(sample_averages <= observed_average) / 10000"
   ]
  },
  {
   "cell_type": "code",
   "execution_count": null,
   "metadata": {},
   "outputs": [],
   "source": [
    "# 5% of 10,000 = 500\n",
    "\n",
    "five_percent_point = averages_tbl.sort(0).column(0).item(500)\n",
    "five_percent_point"
   ]
  },
  {
   "cell_type": "code",
   "execution_count": null,
   "metadata": {},
   "outputs": [],
   "source": [
    "averages_tbl.hist(bins = 20)\n",
    "plots.plot([five_percent_point, five_percent_point], [0, 0.35], color='gold', lw=2)\n",
    "plots.title('Area to the left of the gold line: 5%');\n",
    "plots.plot([observed_average, observed_average], [0, .35], color='red', lw=2);"
   ]
  }
 ],
 "metadata": {
  "anaconda-cloud": {},
  "kernelspec": {
   "display_name": "Python 3 (ipykernel)",
   "language": "python",
   "name": "python3"
  },
  "language_info": {
   "codemirror_mode": {
    "name": "ipython",
    "version": 3
   },
   "file_extension": ".py",
   "mimetype": "text/x-python",
   "name": "python",
   "nbconvert_exporter": "python",
   "pygments_lexer": "ipython3",
   "version": "3.9.7"
  }
 },
 "nbformat": 4,
 "nbformat_minor": 4
}
