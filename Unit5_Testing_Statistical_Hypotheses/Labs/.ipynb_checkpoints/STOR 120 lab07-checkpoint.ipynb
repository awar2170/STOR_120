{
 "cells": [
  {
   "cell_type": "markdown",
   "metadata": {},
   "source": [
    "# Lab 7: Crime and Penalty\n",
    "\n",
    "Welcome to Lab 7!"
   ]
  },
  {
   "cell_type": "code",
   "execution_count": 1,
   "metadata": {},
   "outputs": [],
   "source": [
    "# Run this cell to set up the notebook, but please don't change it.\n",
    "\n",
    "# These lines import the Numpy and Datascience modules.\n",
    "import numpy as np\n",
    "from datascience import *\n",
    "\n",
    "# These lines do some fancy plotting magic.\n",
    "import matplotlib\n",
    "%matplotlib inline\n",
    "import matplotlib.pyplot as plt\n",
    "plt.style.use('fivethirtyeight')\n",
    "import warnings\n",
    "warnings.simplefilter('ignore', FutureWarning)"
   ]
  },
  {
   "cell_type": "markdown",
   "metadata": {},
   "source": [
    "## 1. A/B Testing\n",
    "\n",
    "A/B testing is a form of hypothesis testing that allows you to make comparisons between two distributions.\n",
    "\n",
    "You'll almost never be explicitly asked to perform an A/B test. Make sure you can identify situations where the test is appropriate and know how to correctly implement each step.  "
   ]
  },
  {
   "cell_type": "markdown",
   "metadata": {},
   "source": [
    "**Question 1.1:** The following statements are the unordered steps of an A/B hypothesis test:\n",
    "\n",
    "1. Find the value of the observed test statistic\n",
    "\n",
    "2. Choose a test statistic (typically the difference in means between two categories)\n",
    "\n",
    "3. Shuffle the labels of the original sample, find your simulated test statistic, and repeat many times\n",
    "\n",
    "4. Calculate the p-value based off your observed and simulated test statistics\n",
    "\n",
    "5. Define a null and alternate model\n",
    "\n",
    "6. Use the p-value and p-value cutoff to draw a conclusion about the null hypothesis\n",
    "\n",
    "Make an array called `ab_test_order` that contains the correct order of an A/B test, where the first item of the array is the first step of an A/B test and the last item of the array is the last step of an A/B test\n",
    "\n",
    "<!--\n",
    "BEGIN QUESTION\n",
    "name: q1_1\n",
    "-->"
   ]
  },
  {
   "cell_type": "markdown",
   "metadata": {},
   "source": [
    "Order the steps of an A/B Hypothesis test:\n",
    "1. Define a null and alternate model \n",
    "\n",
    "2. Choose a test statistic (typically the difference in means between two categories)\n",
    "\n",
    "3. Shuffle the labels of the original sample, find your simulated test statistic, and repeat many times\n",
    "\n",
    "4. Find the value of the observed test statistic \n",
    "\n",
    "5. Calculate the p-value based off your observed and simulated test statistics \n",
    "\n",
    "6. Use the p-value and p-value cutoff to draw a conclusion about the null hypothesis "
   ]
  },
  {
   "cell_type": "code",
   "execution_count": 2,
   "metadata": {},
   "outputs": [
    {
     "data": {
      "text/plain": [
       "array(['1. Define a null and alternate model',\n",
       "       '2. Choose a test statistic (typically the difference in means between two categories3. Shuffle the labels of the original sample, find your simulated test statistic, and repeat many times',\n",
       "       '4. Find the value of the observed test statistic',\n",
       "       '5. Calculate the p-value based off your observed and simulated test statistics',\n",
       "       '6. Use the p-value and p-value cutoff to draw a conclusion about the null hypothesis '],\n",
       "      dtype='<U187')"
      ]
     },
     "execution_count": 2,
     "metadata": {},
     "output_type": "execute_result"
    }
   ],
   "source": [
    "ab_test_order = make_array(\"1. Define a null and alternate model\", \n",
    "                           \"2. Choose a test statistic (typically the difference in means between two categories\"\n",
    "                           \"3. Shuffle the labels of the original sample, find your simulated test statistic, and repeat many times\",\n",
    "                           \"4. Find the value of the observed test statistic\",\n",
    "                           \"5. Calculate the p-value based off your observed and simulated test statistics\",\n",
    "                           \"6. Use the p-value and p-value cutoff to draw a conclusion about the null hypothesis \")\n",
    "ab_test_order"
   ]
  },
  {
   "cell_type": "markdown",
   "metadata": {
    "editable": false
   },
   "source": [
    "**Question 1.2:** If the null hypothesis of an A/B test is correct, should the order of labels affect the differences in means between each group? Why do we shuffle labels in an A/B test? \n",
    "\n",
    "<!--\n",
    "BEGIN QUESTION\n",
    "name: q1_2\n",
    "-->"
   ]
  },
  {
   "cell_type": "markdown",
   "metadata": {},
   "source": [
    "The order shouldn't effect the outcome of the test.  We shuffle them in the off chance they were recorded in a pattern.  We also shuffle them to increase the random select that we choose to run our test on.  This way we have a more reliable sample to test on. "
   ]
  },
  {
   "cell_type": "markdown",
   "metadata": {},
   "source": [
    "## 2: Murder Rates\n",
    "\n",
    "Punishment for crime has many [philosophical justifications](https://plato.stanford.edu/entries/legal-punishment/).  An important one is that fear of punishment may *deter* people from committing crimes.\n",
    "\n",
    "In the United States, some jurisdictions execute people who are convicted of particularly serious crimes, such as murder.  This punishment is called the *death penalty* or *capital punishment*.  The death penalty is controversial, and deterrence has been one focal point of the debate.  There are other reasons to support or oppose the death penalty, but in this project we'll focus on deterrence.\n",
    "\n",
    "The key question about deterrence is:\n",
    "\n",
    "> Through our exploration, does instituting a death penalty for murder actually reduce the number of murders?\n",
    "\n",
    "You might have a strong intuition in one direction, but the evidence turns out to be surprisingly complex.  Different sides have variously argued that the death penalty has no deterrent effect and that each execution prevents 8 murders, all using statistical arguments!  We'll try to come to our own conclusion.\n",
    "\n",
    "#### The data\n",
    "\n",
    "The main data source for this lab comes from a [paper](http://cjlf.org/deathpenalty/DezRubShepDeterFinal.pdf) by three researchers, Dezhbakhsh, Rubin, and Shepherd.  The dataset contains rates of various violent crimes for every year 1960-2003 (44 years) in every US state.  The researchers compiled the data from the FBI's Uniform Crime Reports.\n",
    "\n",
    "Since crimes are committed by people, not states, we need to account for the number of people in each state when we're looking at state-level data.  Murder rates are calculated as follows:\n",
    "\n",
    "$$\\text{murder rate for state X in year Y} = \\frac{\\text{number of murders in state X in year Y}}{\\text{population in state X in year Y}}*100000$$\n",
    "\n",
    "(Murder is rare, so we multiply by 100,000 just to avoid dealing with tiny numbers.)"
   ]
  },
  {
   "cell_type": "code",
   "execution_count": 3,
   "metadata": {},
   "outputs": [
    {
     "data": {
      "text/html": [
       "<table border=\"1\" class=\"dataframe\">\n",
       "    <thead>\n",
       "        <tr>\n",
       "            <th>State</th> <th>Year</th> <th>Population</th> <th>Murder Rate</th>\n",
       "        </tr>\n",
       "    </thead>\n",
       "    <tbody>\n",
       "        <tr>\n",
       "            <td>Alaska</td> <td>1960</td> <td>226,167   </td> <td>10.2       </td>\n",
       "        </tr>\n",
       "        <tr>\n",
       "            <td>Alaska</td> <td>1961</td> <td>234,000   </td> <td>11.5       </td>\n",
       "        </tr>\n",
       "        <tr>\n",
       "            <td>Alaska</td> <td>1962</td> <td>246,000   </td> <td>4.5        </td>\n",
       "        </tr>\n",
       "        <tr>\n",
       "            <td>Alaska</td> <td>1963</td> <td>248,000   </td> <td>6.5        </td>\n",
       "        </tr>\n",
       "        <tr>\n",
       "            <td>Alaska</td> <td>1964</td> <td>250,000   </td> <td>10.4       </td>\n",
       "        </tr>\n",
       "        <tr>\n",
       "            <td>Alaska</td> <td>1965</td> <td>253,000   </td> <td>6.3        </td>\n",
       "        </tr>\n",
       "        <tr>\n",
       "            <td>Alaska</td> <td>1966</td> <td>272,000   </td> <td>12.9       </td>\n",
       "        </tr>\n",
       "        <tr>\n",
       "            <td>Alaska</td> <td>1967</td> <td>272,000   </td> <td>9.6        </td>\n",
       "        </tr>\n",
       "        <tr>\n",
       "            <td>Alaska</td> <td>1968</td> <td>277,000   </td> <td>10.5       </td>\n",
       "        </tr>\n",
       "        <tr>\n",
       "            <td>Alaska</td> <td>1969</td> <td>282,000   </td> <td>10.6       </td>\n",
       "        </tr>\n",
       "    </tbody>\n",
       "</table>\n",
       "<p>... (2190 rows omitted)</p>"
      ],
      "text/plain": [
       "State  | Year | Population | Murder Rate\n",
       "Alaska | 1960 | 226,167    | 10.2\n",
       "Alaska | 1961 | 234,000    | 11.5\n",
       "Alaska | 1962 | 246,000    | 4.5\n",
       "Alaska | 1963 | 248,000    | 6.5\n",
       "Alaska | 1964 | 250,000    | 10.4\n",
       "Alaska | 1965 | 253,000    | 6.3\n",
       "Alaska | 1966 | 272,000    | 12.9\n",
       "Alaska | 1967 | 272,000    | 9.6\n",
       "Alaska | 1968 | 277,000    | 10.5\n",
       "Alaska | 1969 | 282,000    | 10.6\n",
       "... (2190 rows omitted)"
      ]
     },
     "execution_count": 3,
     "metadata": {},
     "output_type": "execute_result"
    }
   ],
   "source": [
    "murder_rates = Table.read_table('../Datasets/crime_rates.csv').select('State', 'Year', 'Population', 'Murder Rate')\n",
    "murder_rates.set_format(\"Population\", NumberFormatter)"
   ]
  },
  {
   "cell_type": "markdown",
   "metadata": {},
   "source": [
    "Murder rates vary over time, and different states exhibit different trends. The rates in some states change dramatically from year to year, while others are quite stable. Let's plot a couple, just to see the variety.\n",
    "\n",
    "**Question 2.1.** Draw a line plot with years on the horizontal axis and murder rates on the vertical axis. Include two lines: one for North Carolina murder rates and one for Texas murder rates. Create this plot using a single call, `nc_tx.plot('Year')`.\n",
    "\n",
    "*Hint*: To create two lines, you will need create the table `nc_tx` with two columns of murder rates, in addition to a column of years. This table will have the following structure:\n",
    "\n",
    "| Year | Murder rate in North Carolina | Murder rate in Texas     |\n",
    "|------|-------------------------------|--------------------------|\n",
    "| 1960 | 10.6                          | 1.2                      |\n",
    "| 1961 | 9.2                           | 1                        |\n",
    "| 1962 | 7.9                           | 0.9                      |\n",
    "\n",
    "<center>... (41 rows omitted)</center>\n",
    "\n",
    "<!--\n",
    "BEGIN QUESTION\n",
    "name: q2_1\n",
    "-->"
   ]
  },
  {
   "cell_type": "code",
   "execution_count": 4,
   "metadata": {},
   "outputs": [
    {
     "data": {
      "text/html": [
       "<table border=\"1\" class=\"dataframe\">\n",
       "    <thead>\n",
       "        <tr>\n",
       "            <th>Year</th> <th>Murder rate in North Carolina</th> <th>Murder rate in Texas</th>\n",
       "        </tr>\n",
       "    </thead>\n",
       "    <tbody>\n",
       "        <tr>\n",
       "            <td>1960</td> <td>10.6                         </td> <td>8.6                 </td>\n",
       "        </tr>\n",
       "        <tr>\n",
       "            <td>1961</td> <td>9.2                          </td> <td>8.1                 </td>\n",
       "        </tr>\n",
       "        <tr>\n",
       "            <td>1962</td> <td>7.9                          </td> <td>7.2                 </td>\n",
       "        </tr>\n",
       "        <tr>\n",
       "            <td>1963</td> <td>8.2                          </td> <td>7.4                 </td>\n",
       "        </tr>\n",
       "        <tr>\n",
       "            <td>1964</td> <td>8                            </td> <td>7.6                 </td>\n",
       "        </tr>\n",
       "        <tr>\n",
       "            <td>1965</td> <td>8.3                          </td> <td>7.5                 </td>\n",
       "        </tr>\n",
       "        <tr>\n",
       "            <td>1966</td> <td>9.2                          </td> <td>9.1                 </td>\n",
       "        </tr>\n",
       "        <tr>\n",
       "            <td>1967</td> <td>9.9                          </td> <td>9.9                 </td>\n",
       "        </tr>\n",
       "        <tr>\n",
       "            <td>1968</td> <td>10.2                         </td> <td>10.6                </td>\n",
       "        </tr>\n",
       "        <tr>\n",
       "            <td>1969</td> <td>11.3                         </td> <td>11.3                </td>\n",
       "        </tr>\n",
       "    </tbody>\n",
       "</table>\n",
       "<p>... (34 rows omitted)</p>"
      ],
      "text/plain": [
       "Year | Murder rate in North Carolina | Murder rate in Texas\n",
       "1960 | 10.6                          | 8.6\n",
       "1961 | 9.2                           | 8.1\n",
       "1962 | 7.9                           | 7.2\n",
       "1963 | 8.2                           | 7.4\n",
       "1964 | 8                             | 7.6\n",
       "1965 | 8.3                           | 7.5\n",
       "1966 | 9.2                           | 9.1\n",
       "1967 | 9.9                           | 9.9\n",
       "1968 | 10.2                          | 10.6\n",
       "1969 | 11.3                          | 11.3\n",
       "... (34 rows omitted)"
      ]
     },
     "execution_count": 4,
     "metadata": {},
     "output_type": "execute_result"
    }
   ],
   "source": [
    "# The next lines are provided for you. They create a table\n",
    "# containing only the North Carolina information and one containing\n",
    "# only the Texas information.\n",
    "\n",
    "nc = murder_rates.where('State', 'North Carolina').drop('State', 'Population').relabeled(1, 'Murder rate in North Carolina')\n",
    "tx = murder_rates.where('State', 'Texas').drop('State', 'Population').relabeled(1, 'Murder rate in Texas')\n",
    "\n",
    "# Fill in this line to make a table like the one pictured above.\n",
    "nc_tx = nc.join(\"Year\", tx)\n",
    "nc_tx"
   ]
  },
  {
   "cell_type": "markdown",
   "metadata": {},
   "source": [
    "**Question 2.2:** Using the table `nc_tx`, draw a line plot that compares the murder rate in North Carolina and the murder rate in Texas over time.\n",
    "\n",
    "<!--\n",
    "BEGIN QUESTION\n",
    "name: q2_2\n",
    "-->"
   ]
  },
  {
   "cell_type": "code",
   "execution_count": 5,
   "metadata": {},
   "outputs": [
    {
     "data": {
      "image/png": "[encoded data removed]",
      "text/plain": [
       "<Figure size 432x432 with 1 Axes>"
      ]
     },
     "metadata": {},
     "output_type": "display_data"
    }
   ],
   "source": [
    "# Draw your line plot here\n",
    "nc_tx.plot(\"Year\")"
   ]
  },
  {
   "cell_type": "markdown",
   "metadata": {},
   "source": [
    "## 3. The Death Penalty\n",
    "\n",
    "Some US states have the death penalty, and others don't, and laws have changed over time. In addition to changes in murder rates, we will also consider whether the death penalty was in force in each state and each year.\n",
    "\n",
    "Using this information, we would like to investigate how the presence of the death penalty affects the murder rate of a state."
   ]
  },
  {
   "cell_type": "markdown",
   "metadata": {
    "editable": false
   },
   "source": [
    "**Question 3.1.** We want to know whether the death penalty *causes* a change in the murder rate.  Why is it not sufficient to compare murder rates in places and times when the death penalty was in force with places and times when it wasn't?\n",
    "\n",
    "<!--\n",
    "BEGIN QUESTION\n",
    "name: q3_1\n",
    "-->"
   ]
  },
  {
   "cell_type": "markdown",
   "metadata": {
    "manual_problem_id": "death_penalty_2"
   },
   "source": [
    "There may be other circumstances that cause a change in a state's murder rate over years.  If we just compare the years with the death penalty in effect with the years it was not in effect it doesn't account for what time was like during the years.  For example, it was probably a lot easier to murder someone and get away with it in the 1950s than in the later 1900s.  Furthermore, if we just compare the two years, that's more of an observational study than an experiment.  In observational studies we can conclude association, but not causation.  If we run a simulated experiment using the data we have, we can say we have causal evidence that something may have had an impact on the change in the murder rates. "
   ]
  },
  {
   "cell_type": "markdown",
   "metadata": {},
   "source": [
    "### A Natural Experiment\n",
    "\n",
    "In order to attempt to investigate the causal relationship between the death penalty and murder rates, we're going to take advantage of a *natural experiment*.  A natural experiment happens when something other than experimental design applies a treatment to one group and not to another (control) group, and we have some hope that the treatment and control groups don't have any other systematic differences.\n",
    "\n",
    "Our natural experiment is this: in 1972, a Supreme Court decision called *Furman v. Georgia* banned the death penalty throughout the US.  Suddenly, many states went from having the death penalty to not having the death penalty.\n",
    "\n",
    "As a first step, let's see how murder rates changed before and after the court decision.  We'll define the test as follows:\n",
    "\n",
    "> **Population:** All the states that had the death penalty before the 1972 abolition.  (There is no control group for the states that already lacked the death penalty in 1972, so we must omit them.)  This includes all US states **except** Alaska, Hawaii, Maine, Michigan, Wisconsin, and Minnesota.\n",
    "\n",
    "> **Treatment group:** The states in that population, in 1973 (the year after 1972).\n",
    "\n",
    "> **Control group:** The states in that population, in 1971 (the year before 1972).\n",
    "\n",
    "> **Null hypothesis:** Murder rates in 1971 and 1973 come from the same distribution.\n",
    "\n",
    "> **Alternative hypothesis:** Murder rates were higher in 1973 than they were in 1971.\n",
    "\n",
    "Our alternative hypothesis is related to our suspicion that murder rates increase when the death penalty is eliminated.  "
   ]
  },
  {
   "cell_type": "markdown",
   "metadata": {
    "editable": false
   },
   "source": [
    "**Question 3.2:** Should we use an A/B test to test these hypotheses? If yes, what is our \"A\" group and what is our \"B\" group?\n",
    "\n",
    "<!--\n",
    "BEGIN QUESTION\n",
    "name: q3_2\n",
    "-->"
   ]
  },
  {
   "cell_type": "markdown",
   "metadata": {},
   "source": [
    "We canuse A/B testing to test if there was a change between the time there was the death penalty and no death penalty.  The A group would be the group of murder rates when there was a death penalty in effect and the group B would be the group of murder rates when there was no death penalty in effect. "
   ]
  },
  {
   "cell_type": "markdown",
   "metadata": {},
   "source": [
    "The `death_penalty` table below describes whether each state allowed the death penalty in 1971."
   ]
  },
  {
   "cell_type": "code",
   "execution_count": 6,
   "metadata": {},
   "outputs": [
    {
     "data": {
      "text/html": [
       "<table border=\"1\" class=\"dataframe\">\n",
       "    <thead>\n",
       "        <tr>\n",
       "            <th>State</th> <th>Death Penalty</th>\n",
       "        </tr>\n",
       "    </thead>\n",
       "    <tbody>\n",
       "        <tr>\n",
       "            <td>Alabama    </td> <td>True         </td>\n",
       "        </tr>\n",
       "        <tr>\n",
       "            <td>Alaska     </td> <td>False        </td>\n",
       "        </tr>\n",
       "        <tr>\n",
       "            <td>Arizona    </td> <td>True         </td>\n",
       "        </tr>\n",
       "        <tr>\n",
       "            <td>Arkansas   </td> <td>True         </td>\n",
       "        </tr>\n",
       "        <tr>\n",
       "            <td>California </td> <td>True         </td>\n",
       "        </tr>\n",
       "        <tr>\n",
       "            <td>Colorado   </td> <td>True         </td>\n",
       "        </tr>\n",
       "        <tr>\n",
       "            <td>Connecticut</td> <td>True         </td>\n",
       "        </tr>\n",
       "        <tr>\n",
       "            <td>Delaware   </td> <td>True         </td>\n",
       "        </tr>\n",
       "        <tr>\n",
       "            <td>Florida    </td> <td>True         </td>\n",
       "        </tr>\n",
       "        <tr>\n",
       "            <td>Georgia    </td> <td>True         </td>\n",
       "        </tr>\n",
       "    </tbody>\n",
       "</table>\n",
       "<p>... (40 rows omitted)</p>"
      ],
      "text/plain": [
       "State       | Death Penalty\n",
       "Alabama     | True\n",
       "Alaska      | False\n",
       "Arizona     | True\n",
       "Arkansas    | True\n",
       "California  | True\n",
       "Colorado    | True\n",
       "Connecticut | True\n",
       "Delaware    | True\n",
       "Florida     | True\n",
       "Georgia     | True\n",
       "... (40 rows omitted)"
      ]
     },
     "execution_count": 6,
     "metadata": {},
     "output_type": "execute_result"
    }
   ],
   "source": [
    "non_death_penalty_states = make_array('Alaska', 'Hawaii', 'Maine', 'Michigan', 'Wisconsin', 'Minnesota')\n",
    "\n",
    "def had_death_penalty_in_1971(state):\n",
    "    \"\"\"Returns True if the argument is the name of a state that had the death penalty in 1971.\"\"\"\n",
    "    # The implementation of this function uses a bit of syntax\n",
    "    # we haven't seen before.  Just trust that it behaves as its\n",
    "    # documentation claims.\n",
    "    return state not in non_death_penalty_states\n",
    "\n",
    "states = murder_rates.group('State').select('State')\n",
    "death_penalty = states.with_column('Death Penalty', states.apply(had_death_penalty_in_1971, 0))\n",
    "death_penalty"
   ]
  },
  {
   "cell_type": "markdown",
   "metadata": {},
   "source": [
    "**Question 3.3:** Use the `death_penalty` and `murder_rates` tables to find murder rates in 1971 for states with the death penalty before the abolition. Create a new table `preban_rates` that contains the same information as `murder_rates`, along with a column `Death Penalty` that contains booleans (`True` or `False`) describing if states had the death penalty in 1971. This table should only include those states with the death penalty in 1971.\n",
    "\n",
    "<!--\n",
    "BEGIN QUESTION\n",
    "name: q3_3\n",
    "-->"
   ]
  },
  {
   "cell_type": "code",
   "execution_count": 7,
   "metadata": {},
   "outputs": [
    {
     "data": {
      "text/html": [
       "<table border=\"1\" class=\"dataframe\">\n",
       "    <thead>\n",
       "        <tr>\n",
       "            <th>State</th> <th>Year</th> <th>Population</th> <th>Murder Rate</th> <th>Death Penalty</th>\n",
       "        </tr>\n",
       "    </thead>\n",
       "    <tbody>\n",
       "        <tr>\n",
       "            <td>Alabama    </td> <td>1971</td> <td>3,479,000 </td> <td>15.1       </td> <td>True         </td>\n",
       "        </tr>\n",
       "        <tr>\n",
       "            <td>Arizona    </td> <td>1971</td> <td>1,849,000 </td> <td>6.7        </td> <td>True         </td>\n",
       "        </tr>\n",
       "        <tr>\n",
       "            <td>Arkansas   </td> <td>1971</td> <td>1,944,000 </td> <td>10.5       </td> <td>True         </td>\n",
       "        </tr>\n",
       "        <tr>\n",
       "            <td>California </td> <td>1971</td> <td>20,223,000</td> <td>8.1        </td> <td>True         </td>\n",
       "        </tr>\n",
       "        <tr>\n",
       "            <td>Colorado   </td> <td>1971</td> <td>2,283,000 </td> <td>6.5        </td> <td>True         </td>\n",
       "        </tr>\n",
       "        <tr>\n",
       "            <td>Connecticut</td> <td>1971</td> <td>3,081,000 </td> <td>3.1        </td> <td>True         </td>\n",
       "        </tr>\n",
       "        <tr>\n",
       "            <td>Delaware   </td> <td>1971</td> <td>558,000   </td> <td>6.1        </td> <td>True         </td>\n",
       "        </tr>\n",
       "        <tr>\n",
       "            <td>Florida    </td> <td>1971</td> <td>7,041,000 </td> <td>13.3       </td> <td>True         </td>\n",
       "        </tr>\n",
       "        <tr>\n",
       "            <td>Georgia    </td> <td>1971</td> <td>4,664,000 </td> <td>16         </td> <td>True         </td>\n",
       "        </tr>\n",
       "        <tr>\n",
       "            <td>Idaho      </td> <td>1971</td> <td>732,000   </td> <td>3.3        </td> <td>True         </td>\n",
       "        </tr>\n",
       "    </tbody>\n",
       "</table>\n",
       "<p>... (34 rows omitted)</p>"
      ],
      "text/plain": [
       "State       | Year | Population | Murder Rate | Death Penalty\n",
       "Alabama     | 1971 | 3,479,000  | 15.1        | True\n",
       "Arizona     | 1971 | 1,849,000  | 6.7         | True\n",
       "Arkansas    | 1971 | 1,944,000  | 10.5        | True\n",
       "California  | 1971 | 20,223,000 | 8.1         | True\n",
       "Colorado    | 1971 | 2,283,000  | 6.5         | True\n",
       "Connecticut | 1971 | 3,081,000  | 3.1         | True\n",
       "Delaware    | 1971 | 558,000    | 6.1         | True\n",
       "Florida     | 1971 | 7,041,000  | 13.3        | True\n",
       "Georgia     | 1971 | 4,664,000  | 16          | True\n",
       "Idaho       | 1971 | 732,000    | 3.3         | True\n",
       "... (34 rows omitted)"
      ]
     },
     "execution_count": 7,
     "metadata": {},
     "output_type": "execute_result"
    }
   ],
   "source": [
    "# States that had death penalty in 1971\n",
    "preban_rates = murder_rates.join(\"State\", death_penalty).where(\"Death Penalty\", are.equal_to(True)).where(\"Year\", are.equal_to(1971))\n",
    "preban_rates"
   ]
  },
  {
   "cell_type": "markdown",
   "metadata": {},
   "source": [
    "**Question 3.4:** Create a table `postban_rates` that contains the same information as `preban_rates`, but for 1973 instead of 1971. `postban_rates` should only contain the states found in `preban_rates` and all states should show that they do not have the death penalty.\n",
    "\n",
    "<!--\n",
    "BEGIN QUESTION\n",
    "name: q3_4\n",
    "-->"
   ]
  },
  {
   "cell_type": "code",
   "execution_count": 8,
   "metadata": {},
   "outputs": [
    {
     "data": {
      "text/html": [
       "<table border=\"1\" class=\"dataframe\">\n",
       "    <thead>\n",
       "        <tr>\n",
       "            <th>State</th> <th>Year</th> <th>Population</th> <th>Murder Rate</th> <th>Death Penalty</th>\n",
       "        </tr>\n",
       "    </thead>\n",
       "    <tbody>\n",
       "        <tr>\n",
       "            <td>Alabama    </td> <td>1973</td> <td>3,539,000 </td> <td>13.2       </td> <td>False        </td>\n",
       "        </tr>\n",
       "        <tr>\n",
       "            <td>Arizona    </td> <td>1973</td> <td>2,058,000 </td> <td>8.1        </td> <td>False        </td>\n",
       "        </tr>\n",
       "        <tr>\n",
       "            <td>Arkansas   </td> <td>1973</td> <td>2,037,000 </td> <td>8.8        </td> <td>False        </td>\n",
       "        </tr>\n",
       "        <tr>\n",
       "            <td>California </td> <td>1973</td> <td>20,601,000</td> <td>9          </td> <td>False        </td>\n",
       "        </tr>\n",
       "        <tr>\n",
       "            <td>Colorado   </td> <td>1973</td> <td>2,437,000 </td> <td>7.9        </td> <td>False        </td>\n",
       "        </tr>\n",
       "        <tr>\n",
       "            <td>Connecticut</td> <td>1973</td> <td>3,076,000 </td> <td>3.3        </td> <td>False        </td>\n",
       "        </tr>\n",
       "        <tr>\n",
       "            <td>Delaware   </td> <td>1973</td> <td>576,000   </td> <td>5.9        </td> <td>False        </td>\n",
       "        </tr>\n",
       "        <tr>\n",
       "            <td>Florida    </td> <td>1973</td> <td>7,678,000 </td> <td>15.4       </td> <td>False        </td>\n",
       "        </tr>\n",
       "        <tr>\n",
       "            <td>Georgia    </td> <td>1973</td> <td>4,786,000 </td> <td>17.4       </td> <td>False        </td>\n",
       "        </tr>\n",
       "        <tr>\n",
       "            <td>Idaho      </td> <td>1973</td> <td>770,000   </td> <td>2.6        </td> <td>False        </td>\n",
       "        </tr>\n",
       "    </tbody>\n",
       "</table>\n",
       "<p>... (34 rows omitted)</p>"
      ],
      "text/plain": [
       "State       | Year | Population | Murder Rate | Death Penalty\n",
       "Alabama     | 1973 | 3,539,000  | 13.2        | False\n",
       "Arizona     | 1973 | 2,058,000  | 8.1         | False\n",
       "Arkansas    | 1973 | 2,037,000  | 8.8         | False\n",
       "California  | 1973 | 20,601,000 | 9           | False\n",
       "Colorado    | 1973 | 2,437,000  | 7.9         | False\n",
       "Connecticut | 1973 | 3,076,000  | 3.3         | False\n",
       "Delaware    | 1973 | 576,000    | 5.9         | False\n",
       "Florida     | 1973 | 7,678,000  | 15.4        | False\n",
       "Georgia     | 1973 | 4,786,000  | 17.4        | False\n",
       "Idaho       | 1973 | 770,000    | 2.6         | False\n",
       "... (34 rows omitted)"
      ]
     },
     "execution_count": 8,
     "metadata": {},
     "output_type": "execute_result"
    }
   ],
   "source": [
    "postban_rates = murder_rates.join(\"State\", death_penalty).where(\"Death Penalty\", are.equal_to(True)).where(\"Year\", are.equal_to(1973))\n",
    "postban_rates = postban_rates.sort(\"State\")    \n",
    "postban_rates[\"Death Penalty\"][:] = False\n",
    "postban_rates"
   ]
  },
  {
   "cell_type": "markdown",
   "metadata": {},
   "source": [
    "**Question 3.5:** Use `preban_rates_copy` and `postban_rates` to create a table `change_in_death_rates` that contains each state's population, murder rate, and whether or not that state had the death penalty for both 1971 and 1973. The table should contain two rows for each state and have the same column labels as `preban_rates`.\n",
    "\n",
    "*Hint:* `tbl_1.append(tbl_2)` will create a new table that includes rows from both `tbl_1` and `tbl_2`. Both tables must have the exactly the same columns, in the same order.\n",
    "\n",
    "<!--\n",
    "BEGIN QUESTION\n",
    "name: q3_5\n",
    "-->"
   ]
  },
  {
   "cell_type": "code",
   "execution_count": 9,
   "metadata": {
    "scrolled": true
   },
   "outputs": [
    {
     "data": {
      "text/html": [
       "<table border=\"1\" class=\"dataframe\">\n",
       "    <thead>\n",
       "        <tr>\n",
       "            <th>State</th> <th>Year</th> <th>Population</th> <th>Murder Rate</th> <th>Death Penalty</th>\n",
       "        </tr>\n",
       "    </thead>\n",
       "    <tbody>\n",
       "        <tr>\n",
       "            <td>Alabama    </td> <td>1971</td> <td>3,479,000 </td> <td>15.1       </td> <td>True         </td>\n",
       "        </tr>\n",
       "        <tr>\n",
       "            <td>Arizona    </td> <td>1971</td> <td>1,849,000 </td> <td>6.7        </td> <td>True         </td>\n",
       "        </tr>\n",
       "        <tr>\n",
       "            <td>Arkansas   </td> <td>1971</td> <td>1,944,000 </td> <td>10.5       </td> <td>True         </td>\n",
       "        </tr>\n",
       "        <tr>\n",
       "            <td>California </td> <td>1971</td> <td>20,223,000</td> <td>8.1        </td> <td>True         </td>\n",
       "        </tr>\n",
       "        <tr>\n",
       "            <td>Colorado   </td> <td>1971</td> <td>2,283,000 </td> <td>6.5        </td> <td>True         </td>\n",
       "        </tr>\n",
       "        <tr>\n",
       "            <td>Connecticut</td> <td>1971</td> <td>3,081,000 </td> <td>3.1        </td> <td>True         </td>\n",
       "        </tr>\n",
       "        <tr>\n",
       "            <td>Delaware   </td> <td>1971</td> <td>558,000   </td> <td>6.1        </td> <td>True         </td>\n",
       "        </tr>\n",
       "        <tr>\n",
       "            <td>Florida    </td> <td>1971</td> <td>7,041,000 </td> <td>13.3       </td> <td>True         </td>\n",
       "        </tr>\n",
       "        <tr>\n",
       "            <td>Georgia    </td> <td>1971</td> <td>4,664,000 </td> <td>16         </td> <td>True         </td>\n",
       "        </tr>\n",
       "        <tr>\n",
       "            <td>Idaho      </td> <td>1971</td> <td>732,000   </td> <td>3.3        </td> <td>True         </td>\n",
       "        </tr>\n",
       "    </tbody>\n",
       "</table>\n",
       "<p>... (78 rows omitted)</p>"
      ],
      "text/plain": [
       "State       | Year | Population | Murder Rate | Death Penalty\n",
       "Alabama     | 1971 | 3,479,000  | 15.1        | True\n",
       "Arizona     | 1971 | 1,849,000  | 6.7         | True\n",
       "Arkansas    | 1971 | 1,944,000  | 10.5        | True\n",
       "California  | 1971 | 20,223,000 | 8.1         | True\n",
       "Colorado    | 1971 | 2,283,000  | 6.5         | True\n",
       "Connecticut | 1971 | 3,081,000  | 3.1         | True\n",
       "Delaware    | 1971 | 558,000    | 6.1         | True\n",
       "Florida     | 1971 | 7,041,000  | 13.3        | True\n",
       "Georgia     | 1971 | 4,664,000  | 16          | True\n",
       "Idaho       | 1971 | 732,000    | 3.3         | True\n",
       "... (78 rows omitted)"
      ]
     },
     "execution_count": 9,
     "metadata": {},
     "output_type": "execute_result"
    }
   ],
   "source": [
    "preban_rates_copy = preban_rates.copy()\n",
    "change_in_death_rates = preban_rates_copy.append(postban_rates)\n",
    "change_in_death_rates"
   ]
  },
  {
   "cell_type": "markdown",
   "metadata": {},
   "source": [
    "Run the cell below to view the distribution of death rates during the pre-ban and post-ban time periods."
   ]
  },
  {
   "cell_type": "code",
   "execution_count": 10,
   "metadata": {},
   "outputs": [
    {
     "data": {
      "image/png": "[encoded data removed]",
      "text/plain": [
       "<Figure size 432x288 with 1 Axes>"
      ]
     },
     "metadata": {},
     "output_type": "display_data"
    }
   ],
   "source": [
    "change_in_death_rates.hist('Murder Rate', group = 'Death Penalty')"
   ]
  },
  {
   "cell_type": "markdown",
   "metadata": {
    "editable": false
   },
   "source": [
    "**Question 3.6:** Create a table `rate_means` that contains the average murder rates for the states that had the death penalty and the states that didn't have the death penalty. It should have two columns: one indicating if the penalty was in place, and one that contains the average murder rate for each group.\n",
    "\n",
    "<!--\n",
    "BEGIN QUESTION\n",
    "name: q3_6\n",
    "-->"
   ]
  },
  {
   "cell_type": "code",
   "execution_count": 11,
   "metadata": {},
   "outputs": [
    {
     "data": {
      "text/html": [
       "<table border=\"1\" class=\"dataframe\">\n",
       "    <thead>\n",
       "        <tr>\n",
       "            <th>Death Penalty</th> <th>State average</th> <th>Year average</th> <th>Population average</th> <th>Murder Rate average</th>\n",
       "        </tr>\n",
       "    </thead>\n",
       "    <tbody>\n",
       "        <tr>\n",
       "            <td>False        </td> <td>             </td> <td>1973        </td> <td>4.30466e+06       </td> <td>8.12045            </td>\n",
       "        </tr>\n",
       "        <tr>\n",
       "            <td>True         </td> <td>             </td> <td>1971        </td> <td>4.22852e+06       </td> <td>7.51364            </td>\n",
       "        </tr>\n",
       "    </tbody>\n",
       "</table>"
      ],
      "text/plain": [
       "Death Penalty | State average | Year average | Population average | Murder Rate average\n",
       "False         |               | 1973         | 4.30466e+06        | 8.12045\n",
       "True          |               | 1971         | 4.22852e+06        | 7.51364"
      ]
     },
     "execution_count": 11,
     "metadata": {},
     "output_type": "execute_result"
    }
   ],
   "source": [
    "rate_means = change_in_death_rates.group(\"Death Penalty\", np.average)\n",
    "rate_means"
   ]
  },
  {
   "cell_type": "markdown",
   "metadata": {},
   "source": [
    "**Question 3.7:** We want to figure out if there is a difference between the distribution of death rates in 1971 and 1973. Specifically, we want to test if murder rates were higher in 1973 than they were in 1971. \n",
    "\n",
    "What should the test statistic be? How does it help us differentiate whether the data supports the null and alternative? \n",
    "\n",
    "<!--\n",
    "BEGIN QUESTION\n",
    "name: q3_7\n",
    "-->"
   ]
  },
  {
   "cell_type": "markdown",
   "metadata": {},
   "source": [
    "I think the test statistic should be the Murder Rate average because that is what we are trying to measure a change in.  It helps us differeniate whether the data supports the null and alternative hypothesis because the null states that \"murder tates in 1971 and 1973 come from the same distirbution\" while the alterative hypthesis states \"Murder rates were higher in 1973 than they were in 1971.\"  Because the common theme between the two are the change in murder rates, we want that to be the statistic we use as the measurement. "
   ]
  },
  {
   "cell_type": "markdown",
   "metadata": {
    "editable": false
   },
   "source": [
    "**Question 3.8:** Set `observed_difference` to the observed test statistic using the `rate_means` table \n",
    "\n",
    "<!--\n",
    "BEGIN QUESTION\n",
    "name: q3_8\n",
    "-->"
   ]
  },
  {
   "cell_type": "code",
   "execution_count": 12,
   "metadata": {},
   "outputs": [
    {
     "data": {
      "text/plain": [
       "-0.6068181600659095"
      ]
     },
     "execution_count": 12,
     "metadata": {},
     "output_type": "execute_result"
    }
   ],
   "source": [
    "observed_difference = rate_means.column(4).item(1)-rate_means.column(4).item(0)\n",
    "observed_difference"
   ]
  },
  {
   "cell_type": "markdown",
   "metadata": {
    "editable": false
   },
   "source": [
    "**Question 3.9:** Given a table like `change_in_death_rates`, a value column `label`, and a group column `group_label`, write a function that calculates the appropriate test statistic.\n",
    "\n",
    "<!--\n",
    "BEGIN QUESTION\n",
    "name: q3_9\n",
    "-->"
   ]
  },
  {
   "cell_type": "code",
   "execution_count": 13,
   "metadata": {},
   "outputs": [],
   "source": [
    "# table = change_in_death_rates \n",
    "# value_col = \"Death Penalty\"\n",
    "# labels_col = \"Murder Rate\"\n",
    "\n",
    "# reduced = table.select(labels_col, values_col)  \n",
    "# print(reduced)\n",
    "    \n",
    "#     # table containing group means\n",
    "# means_table = reduced.group(values_col, np.average)\n",
    "# print(means_table)\n",
    "#     # array of group means\n",
    "# means = means_table.column(1)\n",
    "\n"
   ]
  },
  {
   "cell_type": "code",
   "execution_count": 14,
   "metadata": {},
   "outputs": [
    {
     "data": {
      "text/plain": [
       "-0.6068181600659095"
      ]
     },
     "execution_count": 14,
     "metadata": {},
     "output_type": "execute_result"
    }
   ],
   "source": [
    "def find_test_stat(table, values_col, labels_col):\n",
    "    #table with the two relevant columns\n",
    "    reduced = table.select(labels_col, values_col)  \n",
    "    \n",
    "    # table containing group means\n",
    "    means_table = reduced.group(values_col, np.average)\n",
    "    # array of group means\n",
    "    means = means_table.column(1)\n",
    "    \n",
    "    return means.item(1) - means.item(0)\n",
    "\n",
    "find_test_stat(change_in_death_rates, \"Death Penalty\", \"Murder Rate\")"
   ]
  },
  {
   "cell_type": "markdown",
   "metadata": {},
   "source": [
    "When we run a simulation for A/B testing, we resample by shuffling the labels of the original sample. If the null hypothesis is true and the murder rate distributions are the same, we expect that the difference in mean death rates will be not change when \"Death Penalty\" labels are changed."
   ]
  },
  {
   "cell_type": "markdown",
   "metadata": {},
   "source": [
    "**Question 3.10:** Write a function `simulate_and_test_statistic` to compute one trial of our A/B test. Your function should run a simulation and return a test statistic.\n",
    "\n",
    "<!--\n",
    "BEGIN QUESTION\n",
    "name: q3_10\n",
    "-->"
   ]
  },
  {
   "cell_type": "code",
   "execution_count": 15,
   "metadata": {},
   "outputs": [],
   "source": [
    "# # I'm super sus of this, this test is telling me that if I run a randomly shuffled selection, I get the same \n",
    "# # test stat for each shuffle\n",
    "# # Are you sure this is correct? \n",
    "# # This follows the exact same format as the lecture 20 notes\n",
    "\n",
    "# table = change_in_death_rates\n",
    "# labels_col = \"Murder Rate\"\n",
    "# values_col = \"Death Penalty\"\n",
    "# shuffled_labels = table.sample(with_replacement = False\n",
    "#                                                     ).column(values_col)\n",
    "# # print(shuffled_labels)\n",
    "\n",
    "# shuffled_table = table.select(labels_col).with_column(\n",
    "#         'Shuffled Label', shuffled_labels)\n",
    "# print(shuffled_table)\n",
    "\n",
    "# means_table = shuffled_table.group(labels_col, np.average)\n",
    "# print(means_table)\n",
    "\n",
    "# means = means_table.column(0)\n",
    "# print(means)\n",
    "\n",
    "# # find_test_stat(shuffled_table,'Shuffled Label' , labels_col)"
   ]
  },
  {
   "cell_type": "code",
   "execution_count": 16,
   "metadata": {},
   "outputs": [
    {
     "data": {
      "text/plain": [
       "-0.11136361816136464"
      ]
     },
     "execution_count": 16,
     "metadata": {},
     "output_type": "execute_result"
    }
   ],
   "source": [
    "def simulate_and_test_statistic(table, labels_col, values_col):\n",
    "    \"\"\"Takes: name of table, column label of numerical variable,\n",
    "    column label of group-label variable\n",
    "    Returns: Difference of means of the two groups after shuffling labels\"\"\"\n",
    "    \n",
    "    # array of shuffled labels\n",
    "    shuffled_labels = table.sample(with_replacement = False\n",
    "                                                    ).column(values_col)\n",
    "    \n",
    "    # table of numerical variable and shuffled labels\n",
    "    shuffled_table = table.select(labels_col).with_column(\n",
    "        'Shuffled Label', shuffled_labels)\n",
    "    \n",
    "    return find_test_stat(shuffled_table, labels_col, 'Shuffled Label')\n",
    "\n",
    "simulate_and_test_statistic(change_in_death_rates, \"Death Penalty\", \"Murder Rate\")"
   ]
  },
  {
   "cell_type": "markdown",
   "metadata": {
    "editable": false
   },
   "source": [
    "**Question 3.11:** Simulate 5000 trials of our A/B test and store the test statistics in an array called `differences`\n",
    "\n",
    "<!--\n",
    "BEGIN QUESTION\n",
    "name: q3_11\n",
    "-->"
   ]
  },
  {
   "cell_type": "code",
   "execution_count": 17,
   "metadata": {},
   "outputs": [
    {
     "data": {
      "text/plain": [
       "array([ 1.62045456, -0.92045445,  0.20681815, ..., -2.3340909 ,\n",
       "       -1.3295455 ,  0.1568181 ])"
      ]
     },
     "execution_count": 17,
     "metadata": {},
     "output_type": "execute_result"
    }
   ],
   "source": [
    "# This cell might take a couple seconds to run\n",
    "differences = make_array()\n",
    "\n",
    "for i in np.arange(5000):\n",
    "    new_difference = simulate_and_test_statistic(change_in_death_rates, \"Death Penalty\", \"Murder Rate\")\n",
    "    differences = np.append(differences, new_difference)\n",
    "                                                 \n",
    "differences"
   ]
  },
  {
   "cell_type": "markdown",
   "metadata": {},
   "source": [
    "Run the cell below to view a histogram of your simulated test statistics plotted with your observed test statistic"
   ]
  },
  {
   "cell_type": "code",
   "execution_count": 18,
   "metadata": {},
   "outputs": [
    {
     "data": {
      "image/png": "[encoded data removed]",
      "text/plain": [
       "<Figure size 432x288 with 1 Axes>"
      ]
     },
     "metadata": {},
     "output_type": "display_data"
    }
   ],
   "source": [
    "Table().with_column('Difference Between Group Means', differences).hist()\n",
    "plt.plot([observed_difference, observed_difference], [0, 0.5], color='red', lw=2);"
   ]
  },
  {
   "cell_type": "markdown",
   "metadata": {
    "editable": false
   },
   "source": [
    "**Question 3.12:** Find the p-value for your test and assign it to `empirical_P`\n",
    "\n",
    "<!--\n",
    "BEGIN QUESTION\n",
    "name: q3_12\n",
    "-->"
   ]
  },
  {
   "cell_type": "code",
   "execution_count": 19,
   "metadata": {},
   "outputs": [
    {
     "data": {
      "text/plain": [
       "0.2538"
      ]
     },
     "execution_count": 19,
     "metadata": {},
     "output_type": "execute_result"
    }
   ],
   "source": [
    "empirical_P = sum(differences <= observed_difference)/5000\n",
    "empirical_P"
   ]
  },
  {
   "cell_type": "markdown",
   "metadata": {
    "editable": false
   },
   "source": [
    "**Question 3.13:** Using a 5% P-value cutoff, draw a conclusion about the null and alternative hypotheses. Describe your findings using simple, non-technical language. What does your analysis tell you about murder rates after the death penalty was suspended? What can you claim about causation from your statistical analysis?\n",
    "\n",
    "<!--\n",
    "BEGIN QUESTION\n",
    "name: q3_13\n",
    "-->"
   ]
  },
  {
   "cell_type": "markdown",
   "metadata": {},
   "source": [
    "We fail to reject the null hypothesis with this current pvalue because the pvalue is greater than the alpha level of 0.05.  That means that there appears to be no change in the distribution of murder rates in 1971 and 1973; or in other words, they appear to come from the same distribution. "
   ]
  },
  {
   "cell_type": "markdown",
   "metadata": {},
   "source": [
    "**You're done! Congratulations.**"
   ]
  }
 ],
 "metadata": {
  "kernelspec": {
   "display_name": "PythonData",
   "language": "python",
   "name": "pythondata"
  },
  "language_info": {
   "codemirror_mode": {
    "name": "ipython",
    "version": 3
   },
   "file_extension": ".py",
   "mimetype": "text/x-python",
   "name": "python",
   "nbconvert_exporter": "python",
   "pygments_lexer": "ipython3",
   "version": "3.9.7"
  }
 },
 "nbformat": 4,
 "nbformat_minor": 4
}
