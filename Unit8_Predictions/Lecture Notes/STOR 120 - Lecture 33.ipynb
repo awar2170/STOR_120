{
 "cells": [
  {
   "cell_type": "code",
   "execution_count": null,
   "metadata": {},
   "outputs": [],
   "source": [
    "from datascience import *\n",
    "import numpy as np\n",
    "%matplotlib inline\n",
    "import matplotlib.pyplot as plots\n",
    "plots.style.use('fivethirtyeight')"
   ]
  },
  {
   "cell_type": "code",
   "execution_count": null,
   "metadata": {},
   "outputs": [],
   "source": [
    "# Some functions for plotting. You don't have to understand how any\n",
    "# of the functions in this cell work, since they use things we \n",
    "# haven't learned about in STOR 120\n",
    "\n",
    "def draw_line(slope=0, intercept=0, x=make_array(-4, 4), color='r'):\n",
    "    y = x*slope + intercept\n",
    "    plots.plot(x, y, color=color)\n",
    "    \n",
    "def make_correlated_data(r):\n",
    "    x = np.random.normal(0, 1, 1000)\n",
    "    z = np.random.normal(0, 1, 1000)\n",
    "    y = r*x + (np.sqrt(1-r**2))*z\n",
    "    return x, y\n",
    "    \n",
    "def r_table(r):\n",
    "    \"\"\"\n",
    "    Generate a table of 1000 data points with a correlation approximately r\n",
    "    \"\"\"\n",
    "    np.random.seed(8)\n",
    "    x, y = make_correlated_data(r)\n",
    "    return Table().with_columns('x', x, 'y', y)"
   ]
  },
  {
   "cell_type": "markdown",
   "metadata": {},
   "source": [
    "## Linear regression: defining the line"
   ]
  },
  {
   "cell_type": "code",
   "execution_count": null,
   "metadata": {},
   "outputs": [],
   "source": [
    "def standard_units(x):\n",
    "    \"\"\"Converts an array x to standard units\"\"\"\n",
    "    return (x - np.mean(x)) / np.std(x)"
   ]
  },
  {
   "cell_type": "code",
   "execution_count": null,
   "metadata": {},
   "outputs": [],
   "source": [
    "def correlation(t, x, y):\n",
    "    x_su = standard_units(t.column(x))\n",
    "    y_su = standard_units(t.column(y))\n",
    "    return np.mean(x_su * y_su)"
   ]
  },
  {
   "cell_type": "code",
   "execution_count": null,
   "metadata": {},
   "outputs": [],
   "source": [
    "def slope(t, x, y):\n",
    "    \"\"\"t is a table; x and y are column labels\"\"\"\n",
    "    r = correlation(t, x, y)\n",
    "    slope_xy = r * np.std(t.column(y)) / np.std(t.column(x))\n",
    "    return slope_xy"
   ]
  },
  {
   "cell_type": "code",
   "execution_count": null,
   "metadata": {},
   "outputs": [],
   "source": [
    "def intercept(t, x, y):\n",
    "    \"\"\"t is a table; x and y are column labels\"\"\"\n",
    "    slope_xy = slope(t, x, y)\n",
    "    intercept_xy = np.average(t.column(y) - slope_xy * np.average(t.column(x)))\n",
    "    return intercept_xy"
   ]
  },
  {
   "cell_type": "code",
   "execution_count": null,
   "metadata": {},
   "outputs": [],
   "source": [
    "another_example = r_table(-0.7)\n",
    "\n",
    "ae_slope = slope(another_example, 'x', 'y')\n",
    "ae_intercept = intercept(another_example, 'x', 'y')"
   ]
  },
  {
   "cell_type": "code",
   "execution_count": null,
   "metadata": {},
   "outputs": [],
   "source": [
    "another_example.scatter('x', 'y')\n",
    "draw_line(\n",
    "    slope = ae_slope, \n",
    "    intercept = ae_intercept, \n",
    "    x = make_array(-3.5, 3.5), \n",
    "    color='r'\n",
    ")"
   ]
  },
  {
   "cell_type": "code",
   "execution_count": null,
   "metadata": {},
   "outputs": [],
   "source": [
    "another_example.scatter('x', 'y', fit_line=True)"
   ]
  },
  {
   "cell_type": "markdown",
   "metadata": {},
   "source": [
    "## Prediction"
   ]
  },
  {
   "cell_type": "code",
   "execution_count": null,
   "metadata": {},
   "outputs": [],
   "source": [
    "demographics = Table.read_table('district_demographics2016.csv')\n",
    "demographics.show(5)"
   ]
  },
  {
   "cell_type": "code",
   "execution_count": null,
   "metadata": {},
   "outputs": [],
   "source": [
    "demographics = demographics.drop(\n",
    "    'State', 'District', 'Percent voting for Clinton')\n",
    "demographics.show(5)"
   ]
  },
  {
   "cell_type": "code",
   "execution_count": null,
   "metadata": {},
   "outputs": [],
   "source": [
    "demographics.scatter('College%', 'Median Income')"
   ]
  },
  {
   "cell_type": "code",
   "execution_count": null,
   "metadata": {},
   "outputs": [],
   "source": [
    "correlation(demographics, 'College%', 'Median Income')"
   ]
  },
  {
   "cell_type": "code",
   "execution_count": null,
   "metadata": {},
   "outputs": [],
   "source": [
    "regression_slope = slope(demographics, 'College%', 'Median Income')\n",
    "regression_intercept = intercept(demographics, 'College%', 'Median Income')\n",
    "regression_slope, regression_intercept"
   ]
  },
  {
   "cell_type": "code",
   "execution_count": null,
   "metadata": {},
   "outputs": [],
   "source": [
    "# For 50% College \n",
    "\n",
    "regression_intercept + regression_slope*50"
   ]
  },
  {
   "cell_type": "code",
   "execution_count": null,
   "metadata": {},
   "outputs": [],
   "source": [
    "def fitted_values(t, x, y):\n",
    "    \"\"\"Return an array of the regressions estimates at all the x values\"\"\"\n",
    "    a = slope(t, x, y)\n",
    "    b = intercept(t, x, y)\n",
    "    return a*t.column(x) + b"
   ]
  },
  {
   "cell_type": "code",
   "execution_count": null,
   "metadata": {},
   "outputs": [],
   "source": [
    "predicted = fitted_values(demographics, 'College%', 'Median Income')"
   ]
  },
  {
   "cell_type": "code",
   "execution_count": null,
   "metadata": {},
   "outputs": [],
   "source": [
    "demographics = demographics.with_column(\n",
    "    'Linear Prediction', predicted)\n",
    "demographics.scatter('College%')"
   ]
  },
  {
   "cell_type": "markdown",
   "metadata": {},
   "source": [
    "## Errors"
   ]
  },
  {
   "cell_type": "code",
   "execution_count": null,
   "metadata": {},
   "outputs": [],
   "source": [
    "actual = demographics.column('Median Income')\n",
    "errors = actual - predicted"
   ]
  },
  {
   "cell_type": "code",
   "execution_count": null,
   "metadata": {},
   "outputs": [],
   "source": [
    "demographics.with_column('Error', errors)"
   ]
  },
  {
   "cell_type": "code",
   "execution_count": null,
   "metadata": {},
   "outputs": [],
   "source": [
    "np.mean(errors)"
   ]
  },
  {
   "cell_type": "code",
   "execution_count": null,
   "metadata": {},
   "outputs": [],
   "source": [
    "np.mean(errors ** 2) ** 0.5"
   ]
  },
  {
   "cell_type": "code",
   "execution_count": null,
   "metadata": {},
   "outputs": [],
   "source": [
    "def demographics_errors(slope, intercept):\n",
    "    # Use four convenient points from the original data\n",
    "    sample = [[14.7, 33995], [19.1, 61454], [50.7, 71183], [59.5, 105918]]\n",
    "    demographics.scatter('College%', 'Median Income', alpha=0.5)\n",
    "    xlims = make_array(5, 75)\n",
    "    # Plot a line with the slope and intercept you specified:\n",
    "    plots.plot(xlims, slope * xlims + intercept, lw=4)\n",
    "    # Plot red lines from each of the four points to the line\n",
    "    for x, y in sample:\n",
    "        plots.plot([x, x], [y, slope * x + intercept], color='r', lw=4)"
   ]
  },
  {
   "cell_type": "code",
   "execution_count": null,
   "metadata": {},
   "outputs": [],
   "source": [
    "demographics_errors(regression_slope, regression_intercept)"
   ]
  },
  {
   "cell_type": "code",
   "execution_count": null,
   "metadata": {},
   "outputs": [],
   "source": [
    "# takes any slope, any intercept\n",
    "\n",
    "demographics_errors(1500, 20000)"
   ]
  },
  {
   "cell_type": "code",
   "execution_count": null,
   "metadata": {},
   "outputs": [],
   "source": [
    "demographics_errors(-1000, 75000)"
   ]
  },
  {
   "cell_type": "markdown",
   "metadata": {},
   "source": [
    "## Numerical Optimization ###"
   ]
  },
  {
   "cell_type": "code",
   "execution_count": null,
   "metadata": {},
   "outputs": [],
   "source": [
    "x = np.arange(1, 3, 0.1)\n",
    "y = (x-2)**2 + 3\n",
    "Table().with_columns('x', x, 'y', y).plot('x')"
   ]
  },
  {
   "cell_type": "code",
   "execution_count": null,
   "metadata": {},
   "outputs": [],
   "source": [
    "def f(x):\n",
    "    return ((x-2)**2) + 3"
   ]
  },
  {
   "cell_type": "code",
   "execution_count": null,
   "metadata": {},
   "outputs": [],
   "source": [
    "minimize(f)"
   ]
  },
  {
   "cell_type": "code",
   "execution_count": null,
   "metadata": {},
   "outputs": [],
   "source": [
    "x = np.arange(-1.5, 1.5, 0.05)\n",
    "y2 = 2 * np.sin(x*np.pi) + x ** 3 + x ** 4 \n",
    "Table().with_columns('x', x, 'y', y2).plot('x')"
   ]
  },
  {
   "cell_type": "code",
   "execution_count": null,
   "metadata": {},
   "outputs": [],
   "source": [
    "def complicated_function(x):\n",
    "    return 2 * np.sin(x*np.pi) + x ** 3 + x ** 4 "
   ]
  },
  {
   "cell_type": "code",
   "execution_count": null,
   "metadata": {},
   "outputs": [],
   "source": [
    "minimize(complicated_function)"
   ]
  },
  {
   "cell_type": "markdown",
   "metadata": {},
   "source": [
    "### Minimizing RMSE ###"
   ]
  },
  {
   "cell_type": "code",
   "execution_count": null,
   "metadata": {},
   "outputs": [],
   "source": [
    "def demographics_rmse(any_slope, any_intercept):\n",
    "    x = demographics.column('College%')\n",
    "    y = demographics.column('Median Income')\n",
    "    estimate = any_slope*x + any_intercept\n",
    "    return (np.mean((y - estimate) ** 2)) ** 0.5"
   ]
  },
  {
   "cell_type": "code",
   "execution_count": null,
   "metadata": {},
   "outputs": [],
   "source": [
    "demographics_errors(1500, 20000)\n",
    "demographics_rmse(1500, 20000)"
   ]
  },
  {
   "cell_type": "code",
   "execution_count": null,
   "metadata": {},
   "outputs": [],
   "source": [
    "demographics_errors(-1000, 75000)\n",
    "demographics_rmse(-1000, 75000)"
   ]
  },
  {
   "cell_type": "code",
   "execution_count": null,
   "metadata": {},
   "outputs": [],
   "source": [
    "minimize(demographics_rmse)"
   ]
  },
  {
   "cell_type": "code",
   "execution_count": null,
   "metadata": {},
   "outputs": [],
   "source": [
    "make_array(regression_slope, regression_intercept)"
   ]
  }
 ],
 "metadata": {
  "kernelspec": {
   "display_name": "Python 3 (ipykernel)",
   "language": "python",
   "name": "python3"
  },
  "language_info": {
   "codemirror_mode": {
    "name": "ipython",
    "version": 3
   },
   "file_extension": ".py",
   "mimetype": "text/x-python",
   "name": "python",
   "nbconvert_exporter": "python",
   "pygments_lexer": "ipython3",
   "version": "3.9.7"
  }
 },
 "nbformat": 4,
 "nbformat_minor": 4
}
