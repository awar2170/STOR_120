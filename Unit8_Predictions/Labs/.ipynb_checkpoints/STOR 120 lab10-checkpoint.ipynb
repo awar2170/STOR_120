{
 "cells": [
  {
   "cell_type": "markdown",
   "metadata": {},
   "source": [
    "# Lab 10: Regression"
   ]
  },
  {
   "cell_type": "code",
   "execution_count": 1,
   "metadata": {},
   "outputs": [],
   "source": [
    "# Run this cell to set up the notebook, but please don't change it.\n",
    "import numpy as np\n",
    "import math\n",
    "from datascience import *\n",
    "\n",
    "# These lines set up the plotting functionality and formatting.\n",
    "import matplotlib\n",
    "%matplotlib inline\n",
    "import matplotlib.pyplot as plots\n",
    "plots.style.use('fivethirtyeight')\n",
    "import warnings\n",
    "warnings.simplefilter(action=\"ignore\", category=FutureWarning)"
   ]
  },
  {
   "cell_type": "markdown",
   "metadata": {},
   "source": [
    "# 1. The Dataset\n",
    "\n",
    "In this lab, we are exploring movie screenplays. In particular, we have compiled a list of 5,000 words (including stemmed words) that occur in conversations between movie characters. For each movie, our dataset tells us the frequency with which each of these words occurs in certain conversations in its screenplay. All words have been converted to lowercase.\n",
    "\n",
    "Run the cell below to read the `movies` table."
   ]
  },
  {
   "cell_type": "code",
   "execution_count": 2,
   "metadata": {},
   "outputs": [
    {
     "data": {
      "text/html": [
       "<table border=\"1\" class=\"dataframe\">\n",
       "    <thead>\n",
       "        <tr>\n",
       "            <th>Title</th> <th>Year</th> <th>Rating</th> <th>Genre</th> <th># Words</th> <th>breez</th> <th>england</th> <th>it</th> <th>bravo</th>\n",
       "        </tr>\n",
       "    </thead>\n",
       "    <tbody>\n",
       "        <tr>\n",
       "            <td>wild wild west</td> <td>1999</td> <td>4.3   </td> <td>comedy</td> <td>3446   </td> <td>0    </td> <td>0      </td> <td>0.0212635</td> <td>0    </td>\n",
       "        </tr>\n",
       "    </tbody>\n",
       "</table>"
      ],
      "text/plain": [
       "Title          | Year | Rating | Genre  | # Words | breez | england | it        | bravo\n",
       "wild wild west | 1999 | 4.3    | comedy | 3446    | 0     | 0       | 0.0212635 | 0"
      ]
     },
     "execution_count": 2,
     "metadata": {},
     "output_type": "execute_result"
    }
   ],
   "source": [
    "movies = Table.read_table('../Datasets/movies.csv')\n",
    "movies.where(\"Title\", \"wild wild west\").select(0, 1, 2, 3, 4, 14, 49, 1042, 4004)"
   ]
  },
  {
   "cell_type": "markdown",
   "metadata": {},
   "source": [
    "The above cell prints a few columns of the row for the comedy movie *Wild Wild West*.  The movie contains 3446 words. The word \"it\" appears 74 times, as it makes up  $\\frac{74}{3446} \\approx 0.021364$ of the words in the movie. The word \"england\" doesn't appear at all.\n",
    "This numerical representation of a body of text, one that describes only the frequencies of individual words, is called a bag-of-words representation. A lot of information is discarded in this representation: the order of the words, the context of each word, who said what, the cast of characters and actors, etc. However, a bag-of-words representation is often used for machine learning applications as a reasonable starting point, because a great deal of information is also retained and expressed in a convenient and compact format."
   ]
  },
  {
   "cell_type": "markdown",
   "metadata": {},
   "source": [
    "All movie titles are unique. The `row_for_title` function provides fast access to the one row for each title. \n",
    "\n",
    "*Note: All movies in our dataset have their titles lower-cased.* "
   ]
  },
  {
   "cell_type": "code",
   "execution_count": 3,
   "metadata": {
    "tags": []
   },
   "outputs": [],
   "source": [
    "title_index = movies.index_by('Title')\n",
    "def row_for_title(title):\n",
    "    \"\"\"Return the row for a title, similar to the following expression (but faster)\n",
    "    \n",
    "    movies.where('Title', title).row(0)\n",
    "    \"\"\"\n",
    "    return title_index.get(title)[0]"
   ]
  },
  {
   "cell_type": "markdown",
   "metadata": {},
   "source": [
    "For example, the fastest way to find the frequency of \"none\" in the movie *The Terminator* is to access the `'none'` item from its row. Check the original table to see if this worked for you!"
   ]
  },
  {
   "cell_type": "code",
   "execution_count": 4,
   "metadata": {},
   "outputs": [
    {
     "data": {
      "text/plain": [
       "0.0009633911368015"
      ]
     },
     "execution_count": 4,
     "metadata": {},
     "output_type": "execute_result"
    }
   ],
   "source": [
    "row_for_title('the terminator').item('none') "
   ]
  },
  {
   "cell_type": "markdown",
   "metadata": {},
   "source": [
    "#### Question 1.1\n",
    "Set `expected_row_sum` to the number that you __expect__ will result from summing all proportions in each row, excluding the first five columns.\n",
    "\n",
    "<!--\n",
    "BEGIN QUESTION\n",
    "name: q1_1\n",
    "-->"
   ]
  },
  {
   "cell_type": "code",
   "execution_count": 5,
   "metadata": {},
   "outputs": [],
   "source": [
    "import pandas as pd "
   ]
  },
  {
   "cell_type": "code",
   "execution_count": 6,
   "metadata": {},
   "outputs": [],
   "source": [
    "movies_df = pd.read_csv('../Datasets/movies.csv')"
   ]
  },
  {
   "cell_type": "code",
   "execution_count": 7,
   "metadata": {},
   "outputs": [
    {
     "data": {
      "text/plain": [
       "0      1.0\n",
       "1      1.0\n",
       "2      1.0\n",
       "3      1.0\n",
       "4      1.0\n",
       "      ... \n",
       "365    1.0\n",
       "366    1.0\n",
       "367    1.0\n",
       "368    1.0\n",
       "369    1.0\n",
       "Name: Sum, Length: 370, dtype: float64"
      ]
     },
     "execution_count": 7,
     "metadata": {},
     "output_type": "execute_result"
    }
   ],
   "source": [
    "updated_movies_df = movies_df.drop([\"Title\", \"Year\", \"Rating\", \"Genre\", \"# Words\"], axis = 1)\n",
    "updated_movies_df[\"Sum\"] = updated_movies_df.sum(axis=1)\n",
    "updated_movies_df[\"Sum\"]"
   ]
  },
  {
   "cell_type": "code",
   "execution_count": 8,
   "metadata": {},
   "outputs": [
    {
     "data": {
      "text/plain": [
       "0.9999999999999613"
      ]
     },
     "execution_count": 8,
     "metadata": {},
     "output_type": "execute_result"
    }
   ],
   "source": [
    "# Set row_sum to a number that's the (approximate) sum of each row of word proportions.\n",
    "expected_row_sum = np.average(updated_movies_df[\"Sum\"])\n",
    "expected_row_sum"
   ]
  },
  {
   "cell_type": "markdown",
   "metadata": {},
   "source": [
    "This dataset was extracted from [a dataset from Cornell University](http://www.cs.cornell.edu/~cristian/Cornell_Movie-Dialogs_Corpus.html). After transforming the dataset (e.g., converting the words to lowercase, removing the naughty words, and converting the counts to frequencies), we created this new dataset containing the frequency of 5000 common words in each movie."
   ]
  },
  {
   "cell_type": "markdown",
   "metadata": {
    "tags": []
   },
   "source": [
    "## 2. Relationships Between Pairs of Words"
   ]
  },
  {
   "cell_type": "markdown",
   "metadata": {},
   "source": [
    "For this section we will look at the relationship between the proportion of the word `her` in screenplays versus the word `she`. We would like to use linear regression to make predictions about this relationship, but that won't work well if the data aren't roughly linearly related. To check that, we should look at the data. Run the cell below to construct a new table `she_her` that contains only the proportions of the words `she` and `her` in the screenplays."
   ]
  },
  {
   "cell_type": "code",
   "execution_count": 9,
   "metadata": {},
   "outputs": [
    {
     "data": {
      "text/html": [
       "<table border=\"1\" class=\"dataframe\">\n",
       "    <thead>\n",
       "        <tr>\n",
       "            <th>she</th> <th>her</th>\n",
       "        </tr>\n",
       "    </thead>\n",
       "    <tbody>\n",
       "        <tr>\n",
       "            <td>0.0061667 </td> <td>0.00676348 </td>\n",
       "        </tr>\n",
       "        <tr>\n",
       "            <td>0.00929316</td> <td>0.00450577 </td>\n",
       "        </tr>\n",
       "        <tr>\n",
       "            <td>0.00224593</td> <td>0.000748643</td>\n",
       "        </tr>\n",
       "        <tr>\n",
       "            <td>0.00330797</td> <td>0.00198478 </td>\n",
       "        </tr>\n",
       "        <tr>\n",
       "            <td>0.0010981 </td> <td>0.00146413 </td>\n",
       "        </tr>\n",
       "        <tr>\n",
       "            <td>0         </td> <td>0.0016129  </td>\n",
       "        </tr>\n",
       "        <tr>\n",
       "            <td>0.00207727</td> <td>0          </td>\n",
       "        </tr>\n",
       "        <tr>\n",
       "            <td>0.00388469</td> <td>0.00163566 </td>\n",
       "        </tr>\n",
       "        <tr>\n",
       "            <td>0.00283661</td> <td>0.00189107 </td>\n",
       "        </tr>\n",
       "        <tr>\n",
       "            <td>0.0068835 </td> <td>0.00361384 </td>\n",
       "        </tr>\n",
       "    </tbody>\n",
       "</table>\n",
       "<p>... (360 rows omitted)</p>"
      ],
      "text/plain": [
       "she        | her\n",
       "0.0061667  | 0.00676348\n",
       "0.00929316 | 0.00450577\n",
       "0.00224593 | 0.000748643\n",
       "0.00330797 | 0.00198478\n",
       "0.0010981  | 0.00146413\n",
       "0          | 0.0016129\n",
       "0.00207727 | 0\n",
       "0.00388469 | 0.00163566\n",
       "0.00283661 | 0.00189107\n",
       "0.0068835  | 0.00361384\n",
       "... (360 rows omitted)"
      ]
     },
     "execution_count": 9,
     "metadata": {},
     "output_type": "execute_result"
    }
   ],
   "source": [
    "she_her = movies.select(\"she\", \"her\")\n",
    "she_her"
   ]
  },
  {
   "cell_type": "markdown",
   "metadata": {},
   "source": [
    "**Question 2.1.** Make a scatter plot of the data.  It's conventional to put the column we want to predict on the vertical axis and the other column on the horizontal axis. Lets's say we want to use the proportions of `she` to predict the proportions of `her`\n",
    "\n",
    "<!--\n",
    "BEGIN QUESTION\n",
    "name: q2_1\n",
    "-->"
   ]
  },
  {
   "cell_type": "code",
   "execution_count": 10,
   "metadata": {},
   "outputs": [
    {
     "data": {
      "image/png": "[encoded data removed]",
      "text/plain": [
       "<Figure size 360x360 with 1 Axes>"
      ]
     },
     "metadata": {},
     "output_type": "display_data"
    }
   ],
   "source": [
    "she_her.scatter(\"she\", \"her\")"
   ]
  },
  {
   "cell_type": "markdown",
   "metadata": {},
   "source": [
    "**Question 2.2.** Are the proportions of `she` and `her` in the screenplays roughly linearly related based on the scatter plot above?\n",
    "\n",
    "<!--\n",
    "BEGIN QUESTION\n",
    "name: q2_2\n",
    "-->"
   ]
  },
  {
   "cell_type": "markdown",
   "metadata": {},
   "source": [
    "Yes, they appear roughly linear."
   ]
  },
  {
   "cell_type": "markdown",
   "metadata": {},
   "source": [
    "We're going to continue with the assumption that they are linearly related, so it's reasonable to use linear regression to analyze this data.\n",
    "\n",
    "We'd next like to plot the data in standard units. If you don't remember the definition of standard units, textbook section [14.2](https://www.inferentialthinking.com/chapters/14/2/Variability.html#standard-units) might help!"
   ]
  },
  {
   "cell_type": "markdown",
   "metadata": {},
   "source": [
    "**Question 2.3.** Compute the mean and standard deviation for the proportions of `she` and `her` in the screenplays.  **Then** create a table called `she_her_standard` containing the proportions of `she` and `her` in the screenplays in standard units.  The columns should be named `she (standard units)` and `her (standard units)`.\n",
    "\n",
    "<!--\n",
    "BEGIN QUESTION\n",
    "name: q2_3\n",
    "-->"
   ]
  },
  {
   "cell_type": "code",
   "execution_count": 11,
   "metadata": {},
   "outputs": [],
   "source": [
    "def standard_units(x):\n",
    "    \"Convert any array of numbers to standard units.\"\n",
    "    return (x - np.average(x)) / np.std(x)"
   ]
  },
  {
   "cell_type": "code",
   "execution_count": 12,
   "metadata": {
    "for_assignment_type": "solution"
   },
   "outputs": [
    {
     "data": {
      "text/html": [
       "<table border=\"1\" class=\"dataframe\">\n",
       "    <thead>\n",
       "        <tr>\n",
       "            <th>she (standard units)</th> <th>her (standard units)</th>\n",
       "        </tr>\n",
       "    </thead>\n",
       "    <tbody>\n",
       "        <tr>\n",
       "            <td>0.64874             </td> <td>1.41556             </td>\n",
       "        </tr>\n",
       "        <tr>\n",
       "            <td>1.54528             </td> <td>0.555731            </td>\n",
       "        </tr>\n",
       "        <tr>\n",
       "            <td>-0.475576           </td> <td>-0.875146           </td>\n",
       "        </tr>\n",
       "        <tr>\n",
       "            <td>-0.171026           </td> <td>-0.40437            </td>\n",
       "        </tr>\n",
       "        <tr>\n",
       "            <td>-0.804727           </td> <td>-0.602658           </td>\n",
       "        </tr>\n",
       "        <tr>\n",
       "            <td>-1.11962            </td> <td>-0.545998           </td>\n",
       "        </tr>\n",
       "        <tr>\n",
       "            <td>-0.523939           </td> <td>-1.16026            </td>\n",
       "        </tr>\n",
       "        <tr>\n",
       "            <td>-0.00564772         </td> <td>-0.537332           </td>\n",
       "        </tr>\n",
       "        <tr>\n",
       "            <td>-0.306193           </td> <td>-0.440059           </td>\n",
       "        </tr>\n",
       "        <tr>\n",
       "            <td>0.854288            </td> <td>0.216043            </td>\n",
       "        </tr>\n",
       "    </tbody>\n",
       "</table>\n",
       "<p>... (360 rows omitted)</p>"
      ],
      "text/plain": [
       "she (standard units) | her (standard units)\n",
       "0.64874              | 1.41556\n",
       "1.54528              | 0.555731\n",
       "-0.475576            | -0.875146\n",
       "-0.171026            | -0.40437\n",
       "-0.804727            | -0.602658\n",
       "-1.11962             | -0.545998\n",
       "-0.523939            | -1.16026\n",
       "-0.00564772          | -0.537332\n",
       "-0.306193            | -0.440059\n",
       "0.854288             | 0.216043\n",
       "... (360 rows omitted)"
      ]
     },
     "execution_count": 12,
     "metadata": {},
     "output_type": "execute_result"
    }
   ],
   "source": [
    "she_mean = np.mean(she_her.column(\"she\"))\n",
    "she_std = np.std(she_her.column(\"she\"))\n",
    "her_mean = np.mean(she_her.column(\"her\"))\n",
    "her_std = np.std(she_her.column(\"her\"))\n",
    "\n",
    "she_her_standard = Table().with_columns(\n",
    "    \"she (standard units)\", standard_units(she_her.column(\"she\")),\n",
    "    \"her (standard units)\", standard_units(she_her.column(\"her\"))\n",
    ")\n",
    "\n",
    "she_her_standard"
   ]
  },
  {
   "cell_type": "markdown",
   "metadata": {},
   "source": [
    "**Question 2.4.** Plot the data again, but this time in standard units.\n",
    "\n",
    "<!--\n",
    "BEGIN QUESTION\n",
    "name: q2_4\n",
    "-->"
   ]
  },
  {
   "cell_type": "code",
   "execution_count": 13,
   "metadata": {},
   "outputs": [
    {
     "data": {
      "image/png": "[encoded data removed]",
      "text/plain": [
       "<Figure size 360x360 with 1 Axes>"
      ]
     },
     "metadata": {},
     "output_type": "display_data"
    }
   ],
   "source": [
    "she_her_standard.scatter(\"she (standard units)\", \"her (standard units)\")"
   ]
  },
  {
   "cell_type": "markdown",
   "metadata": {},
   "source": [
    "You'll notice that this plot looks the same as the last one!  However, the data and axes are scaled differently.  So it's important to read the ticks on the axes."
   ]
  },
  {
   "cell_type": "markdown",
   "metadata": {},
   "source": [
    "**Question 2.5.** Which would you guess best describes the correlation between the proportions of `she` and `her` in this dataset?\n",
    "\n",
    "1. correlation is positive (but not close to zero)\n",
    "2. correlation is close to zero\n",
    "3. correlation is negative (but not close to zero)\n",
    "\n",
    "Assign `correlation` to the number corresponding to your guess.\n",
    "\n",
    "<!--\n",
    "BEGIN QUESTION\n",
    "name: q2_5\n",
    "-->"
   ]
  },
  {
   "cell_type": "code",
   "execution_count": 14,
   "metadata": {},
   "outputs": [],
   "source": [
    "correlation = 1"
   ]
  },
  {
   "cell_type": "markdown",
   "metadata": {},
   "source": [
    "**Question 2.6.** Compute the correlation `r`.  \n",
    "\n",
    "*Hint:* Use `she_her_standard`.  Section [15.1](https://www.inferentialthinking.com/chapters/15/1/Correlation.html#calculating-r) explains how to do this.\n",
    "\n",
    "\n",
    "<!--\n",
    "BEGIN QUESTION\n",
    "name: q2_6\n",
    "-->"
   ]
  },
  {
   "cell_type": "code",
   "execution_count": 15,
   "metadata": {},
   "outputs": [],
   "source": [
    "def correlation(t, x, y):\n",
    "    x_standard = standard_units(t.column(x))\n",
    "    y_standard = standard_units(t.column(y))\n",
    "    return np.average(x_standard * y_standard)"
   ]
  },
  {
   "cell_type": "code",
   "execution_count": 16,
   "metadata": {},
   "outputs": [
    {
     "data": {
      "text/plain": [
       "0.7495352897692051"
      ]
     },
     "execution_count": 16,
     "metadata": {},
     "output_type": "execute_result"
    }
   ],
   "source": [
    "r = correlation(she_her_standard, \"she (standard units)\", \"her (standard units)\")\n",
    "r"
   ]
  },
  {
   "cell_type": "markdown",
   "metadata": {},
   "source": [
    "## 3. The regression line\n",
    "Correlation is the **slope of the regression line when the data are put in standard units**.\n",
    "\n",
    "The next cell plots the regression line in standard units:\n",
    "\n",
    "$$\\text{her proportion in standard units} = r \\times \\text{she proportions in standard units}.$$\n",
    "\n",
    "Then, it plots the data in standard units again, for comparison."
   ]
  },
  {
   "cell_type": "code",
   "execution_count": 17,
   "metadata": {},
   "outputs": [
    {
     "data": {
      "image/png": "[encoded data removed]",
      "text/plain": [
       "<Figure size 360x360 with 1 Axes>"
      ]
     },
     "metadata": {},
     "output_type": "display_data"
    }
   ],
   "source": [
    "def draw_line(slope=0, intercept=0, x=make_array(-1.5, 6), color='r'):\n",
    "    y = x*slope + intercept\n",
    "    plots.plot(x, y, color=color)\n",
    "\n",
    "she_her_standard.scatter('she (standard units)', 'her (standard units)')\n",
    "draw_line(slope = r)"
   ]
  },
  {
   "cell_type": "markdown",
   "metadata": {},
   "source": [
    "How would you take a point in standard units and convert it back to original units?  We'd have to \"stretch\" its horizontal position by `she_std` and its vertical position by `her_std`. That means the same thing would happen to the slope of the line.\n",
    "\n",
    "Stretching a line horizontally makes it less steep, so we divide the slope by the stretching factor.  Stretching a line vertically makes it more steep, so we multiply the slope by the stretching factor.\n",
    "\n",
    "**Question 3.1.** Calculate the slope of the regression line in original units, and assign it to `slope`.\n",
    "\n",
    "(If the \"stretching\" explanation is unintuitive, consult section [15.2](https://www.inferentialthinking.com/chapters/15/2/Regression_Line.html#the-equation-of-the-regression-line) in the textbook.)\n",
    "\n",
    "<!--\n",
    "BEGIN QUESTION\n",
    "name: q3_1\n",
    "-->"
   ]
  },
  {
   "cell_type": "code",
   "execution_count": 18,
   "metadata": {},
   "outputs": [],
   "source": [
    "def slope(t, x, y):\n",
    "    r = correlation(t, x, y)\n",
    "    y_sd = np.std(t.column(y))\n",
    "    x_sd = np.std(t.column(x))\n",
    "    return r * y_sd / x_sd"
   ]
  },
  {
   "cell_type": "code",
   "execution_count": 19,
   "metadata": {},
   "outputs": [
    {
     "data": {
      "text/plain": [
       "0.564368757872142"
      ]
     },
     "execution_count": 19,
     "metadata": {},
     "output_type": "execute_result"
    }
   ],
   "source": [
    "t = she_her\n",
    "x = \"she\"\n",
    "y = \"her\"\n",
    "\n",
    "r = correlation(t,x,y)\n",
    "y_sd = np.std(t.column(y))\n",
    "x_sd = np.std(t.column(x))\n",
    "r*y_sd/x_sd\n",
    "\n",
    "slope = r*y_sd/x_sd\n",
    "slope"
   ]
  },
  {
   "cell_type": "markdown",
   "metadata": {},
   "source": [
    "We know that the regression line passes through the point `(she_mean, her_mean)`.  You might recall from high-school algebra that the equation for the line is therefore:\n",
    "\n",
    "$$\\text{her proportion} - \\verb|her_mean| = \\texttt{slope} \\times (\\text{she proportion} - \\verb|she_mean|)$$\n",
    "\n",
    "The rearranged equation becomes:\n",
    "\n",
    "$$\\text{her proportion} = \\texttt{slope} \\times \\text{she proportion} + (- \\texttt{slope} \\times \\verb|she_mean| + \\verb|her_mean|)$$\n",
    "\n",
    "\n",
    "**Question 3.2.** Calculate the intercept in original units and assign it to `intercept`.\n",
    "\n",
    "<!--\n",
    "BEGIN QUESTION\n",
    "name: q3_2\n",
    "-->"
   ]
  },
  {
   "cell_type": "code",
   "execution_count": 20,
   "metadata": {},
   "outputs": [],
   "source": [
    "def intercept(t, x, y):\n",
    "    x_mean = np.mean(t.column(x))\n",
    "    y_mean = np.mean(t.column(y))\n",
    "    return y_mean - slope(t, x, y)*x_mean"
   ]
  },
  {
   "cell_type": "code",
   "execution_count": 21,
   "metadata": {},
   "outputs": [
    {
     "data": {
      "text/plain": [
       "0.0008430489801415065"
      ]
     },
     "execution_count": 21,
     "metadata": {},
     "output_type": "execute_result"
    }
   ],
   "source": [
    "t = she_her\n",
    "x = \"she\"\n",
    "y = \"her\"\n",
    "\n",
    "x_mean = np.mean(t.column(x))\n",
    "y_mean = np.mean(t.column(y))\n",
    "y_mean - slope*x_mean\n",
    "\n",
    "intercept = y_mean - slope*x_mean\n",
    "intercept"
   ]
  },
  {
   "cell_type": "markdown",
   "metadata": {},
   "source": [
    "## 3. Investigating the regression line\n",
    "The slope and intercept tell you exactly what the regression line looks like. To predict the proportion of the words in a screenplay that are `her` , multiply the proportion of the words in a screenplay that are `she` by `slope` and then add `intercept`.\n",
    "\n",
    "**Question 3.1.** Compute the the proportion of the words in a screenplay that are `her` for a screenplay with `she` occurring for 0.005 proportion of the words and for a screenplay with `she` occurring for 0.015 proportion of the words\n",
    "\n",
    "<!--\n",
    "BEGIN QUESTION\n",
    "name: q3_1\n",
    "-->"
   ]
  },
  {
   "cell_type": "code",
   "execution_count": 22,
   "metadata": {},
   "outputs": [
    {
     "name": "stdout",
     "output_type": "stream",
     "text": [
      "For a screenplay with 'she' occurring for 0.005 proportion of the words, we predict that 'her' would occur in the screenplay 0.0036648927695022166 proportion of the words.\n",
      "For a screenplay with 'she' occurring for 0.015 proportion of the words, we predict that 'her' would occur in the screenplay 0.009308580348223638 proportion of the words.\n"
     ]
    }
   ],
   "source": [
    "her_prop_for_she005 = 0.005 * slope + intercept\n",
    "her_prop_for_she015 = 0.015 * slope + intercept\n",
    "\n",
    "# Here is a helper function to print out your predictions.\n",
    "# Don't modify the code below.\n",
    "def print_prediction(she, predicted_her):\n",
    "    print(\"For a screenplay with 'she' occurring for\", she,\n",
    "          \"proportion of the words, we predict that 'her' would occur in the screenplay\", predicted_her,\n",
    "          \"proportion of the words.\")\n",
    "\n",
    "print_prediction(0.005, her_prop_for_she005)\n",
    "print_prediction(0.015, her_prop_for_she015)"
   ]
  },
  {
   "cell_type": "markdown",
   "metadata": {},
   "source": [
    "The next cell plots the line that goes between those two points, which is (a segment of) the regression line."
   ]
  },
  {
   "cell_type": "code",
   "execution_count": 23,
   "metadata": {},
   "outputs": [
    {
     "data": {
      "image/png": "[encoded data removed]",
      "text/plain": [
       "<Figure size 360x360 with 1 Axes>"
      ]
     },
     "metadata": {},
     "output_type": "display_data"
    }
   ],
   "source": [
    "she_her.scatter('she', 'her')\n",
    "draw_line(\n",
    "    slope = slope,\n",
    "    intercept = intercept,\n",
    "    x = make_array(0.005, 0.0015)\n",
    ")"
   ]
  },
  {
   "cell_type": "markdown",
   "metadata": {},
   "source": [
    "**Question 3.2.** Make predictions for the proportion of words that are `her` for each screenplay in the `she_her` table.  (Of course, we know exactly what the proportions are! We are doing this so we can see how accurate our predictions are.)  Put these numbers into a column in a new table called `her_predictions` that also includes the columns of the `she_her` table.\n",
    "\n",
    "<!--\n",
    "BEGIN QUESTION\n",
    "name: q3_2\n",
    "-->"
   ]
  },
  {
   "cell_type": "code",
   "execution_count": 24,
   "metadata": {},
   "outputs": [],
   "source": [
    "def prediction_at(t, x, y, x_value):\n",
    "    '''\n",
    "    t - table\n",
    "    x - label of x column\n",
    "    y - label of y column\n",
    "    x_value - the x value for which we want to predict y\n",
    "    '''\n",
    "    return slope(t, x, y) * x_value + intercept(t, x, y)"
   ]
  },
  {
   "cell_type": "code",
   "execution_count": 25,
   "metadata": {},
   "outputs": [],
   "source": [
    "her_predictions_values = slope * she_her.column(\"her\") + intercept"
   ]
  },
  {
   "cell_type": "code",
   "execution_count": 26,
   "metadata": {},
   "outputs": [
    {
     "data": {
      "text/html": [
       "<table border=\"1\" class=\"dataframe\">\n",
       "    <thead>\n",
       "        <tr>\n",
       "            <th>she</th> <th>her</th> <th>her_predictions</th>\n",
       "        </tr>\n",
       "    </thead>\n",
       "    <tbody>\n",
       "        <tr>\n",
       "            <td>0.0061667 </td> <td>0.00676348 </td> <td>0.00466014     </td>\n",
       "        </tr>\n",
       "        <tr>\n",
       "            <td>0.00929316</td> <td>0.00450577 </td> <td>0.00338597     </td>\n",
       "        </tr>\n",
       "        <tr>\n",
       "            <td>0.00224593</td> <td>0.000748643</td> <td>0.00126556     </td>\n",
       "        </tr>\n",
       "        <tr>\n",
       "            <td>0.00330797</td> <td>0.00198478 </td> <td>0.0019632      </td>\n",
       "        </tr>\n",
       "        <tr>\n",
       "            <td>0.0010981 </td> <td>0.00146413 </td> <td>0.00166936     </td>\n",
       "        </tr>\n",
       "        <tr>\n",
       "            <td>0         </td> <td>0.0016129  </td> <td>0.00175332     </td>\n",
       "        </tr>\n",
       "        <tr>\n",
       "            <td>0.00207727</td> <td>0          </td> <td>0.000843049    </td>\n",
       "        </tr>\n",
       "        <tr>\n",
       "            <td>0.00388469</td> <td>0.00163566 </td> <td>0.00176616     </td>\n",
       "        </tr>\n",
       "        <tr>\n",
       "            <td>0.00283661</td> <td>0.00189107 </td> <td>0.00191031     </td>\n",
       "        </tr>\n",
       "        <tr>\n",
       "            <td>0.0068835 </td> <td>0.00361384 </td> <td>0.00288259     </td>\n",
       "        </tr>\n",
       "    </tbody>\n",
       "</table>\n",
       "<p>... (360 rows omitted)</p>"
      ],
      "text/plain": [
       "she        | her         | her_predictions\n",
       "0.0061667  | 0.00676348  | 0.00466014\n",
       "0.00929316 | 0.00450577  | 0.00338597\n",
       "0.00224593 | 0.000748643 | 0.00126556\n",
       "0.00330797 | 0.00198478  | 0.0019632\n",
       "0.0010981  | 0.00146413  | 0.00166936\n",
       "0          | 0.0016129   | 0.00175332\n",
       "0.00207727 | 0           | 0.000843049\n",
       "0.00388469 | 0.00163566  | 0.00176616\n",
       "0.00283661 | 0.00189107  | 0.00191031\n",
       "0.0068835  | 0.00361384  | 0.00288259\n",
       "... (360 rows omitted)"
      ]
     },
     "execution_count": 26,
     "metadata": {},
     "output_type": "execute_result"
    }
   ],
   "source": [
    "her_predictions = she_her.with_column(\"her_predictions\", her_predictions_values)\n",
    "her_predictions"
   ]
  },
  {
   "cell_type": "markdown",
   "metadata": {},
   "source": [
    "**Question 3.3.** How close were we?  Compute the *residual* for each screenplay in the dataset.  The residual is the actual proportion of the words that are `her` minus the predicted proportion of the words that are `her`.  Add the residuals to `her_predictions` as a new column called `residual` and name the resulting table `her_residuals`.\n",
    "\n",
    "<!--\n",
    "BEGIN QUESTION\n",
    "name: q3_3\n",
    "-->"
   ]
  },
  {
   "cell_type": "code",
   "execution_count": 27,
   "metadata": {},
   "outputs": [],
   "source": [
    "resdiuals = her_predictions.column(\"her\") - her_predictions.column(\"her_predictions\")"
   ]
  },
  {
   "cell_type": "code",
   "execution_count": 28,
   "metadata": {},
   "outputs": [
    {
     "data": {
      "text/html": [
       "<table border=\"1\" class=\"dataframe\">\n",
       "    <thead>\n",
       "        <tr>\n",
       "            <th>she</th> <th>her</th> <th>her_predictions</th> <th>residual</th>\n",
       "        </tr>\n",
       "    </thead>\n",
       "    <tbody>\n",
       "        <tr>\n",
       "            <td>0.0061667 </td> <td>0.00676348 </td> <td>0.00466014     </td> <td>0.00210333  </td>\n",
       "        </tr>\n",
       "        <tr>\n",
       "            <td>0.00929316</td> <td>0.00450577 </td> <td>0.00338597     </td> <td>0.00111981  </td>\n",
       "        </tr>\n",
       "        <tr>\n",
       "            <td>0.00224593</td> <td>0.000748643</td> <td>0.00126556     </td> <td>-0.000516917</td>\n",
       "        </tr>\n",
       "        <tr>\n",
       "            <td>0.00330797</td> <td>0.00198478 </td> <td>0.0019632      </td> <td>2.15846e-05 </td>\n",
       "        </tr>\n",
       "        <tr>\n",
       "            <td>0.0010981 </td> <td>0.00146413 </td> <td>0.00166936     </td> <td>-0.000205229</td>\n",
       "        </tr>\n",
       "        <tr>\n",
       "            <td>0         </td> <td>0.0016129  </td> <td>0.00175332     </td> <td>-0.000140418</td>\n",
       "        </tr>\n",
       "        <tr>\n",
       "            <td>0.00207727</td> <td>0          </td> <td>0.000843049    </td> <td>-0.000843049</td>\n",
       "        </tr>\n",
       "        <tr>\n",
       "            <td>0.00388469</td> <td>0.00163566 </td> <td>0.00176616     </td> <td>-0.000130506</td>\n",
       "        </tr>\n",
       "        <tr>\n",
       "            <td>0.00283661</td> <td>0.00189107 </td> <td>0.00191031     </td> <td>-1.9238e-05 </td>\n",
       "        </tr>\n",
       "        <tr>\n",
       "            <td>0.0068835 </td> <td>0.00361384 </td> <td>0.00288259     </td> <td>0.000731251 </td>\n",
       "        </tr>\n",
       "    </tbody>\n",
       "</table>\n",
       "<p>... (360 rows omitted)</p>"
      ],
      "text/plain": [
       "she        | her         | her_predictions | residual\n",
       "0.0061667  | 0.00676348  | 0.00466014      | 0.00210333\n",
       "0.00929316 | 0.00450577  | 0.00338597      | 0.00111981\n",
       "0.00224593 | 0.000748643 | 0.00126556      | -0.000516917\n",
       "0.00330797 | 0.00198478  | 0.0019632       | 2.15846e-05\n",
       "0.0010981  | 0.00146413  | 0.00166936      | -0.000205229\n",
       "0          | 0.0016129   | 0.00175332      | -0.000140418\n",
       "0.00207727 | 0           | 0.000843049     | -0.000843049\n",
       "0.00388469 | 0.00163566  | 0.00176616      | -0.000130506\n",
       "0.00283661 | 0.00189107  | 0.00191031      | -1.9238e-05\n",
       "0.0068835  | 0.00361384  | 0.00288259      | 0.000731251\n",
       "... (360 rows omitted)"
      ]
     },
     "execution_count": 28,
     "metadata": {},
     "output_type": "execute_result"
    }
   ],
   "source": [
    "her_residuals = her_predictions.with_column(\"residual\", resdiuals)\n",
    "her_residuals"
   ]
  },
  {
   "cell_type": "markdown",
   "metadata": {},
   "source": [
    "Here is a plot of the residuals you computed.  Each point corresponds to one screenplay.  It shows how much our prediction over- or under-estimated the proportion of `her` words in the screenplay."
   ]
  },
  {
   "cell_type": "code",
   "execution_count": 29,
   "metadata": {},
   "outputs": [
    {
     "data": {
      "image/png": "[encoded data removed]",
      "text/plain": [
       "<Figure size 360x360 with 1 Axes>"
      ]
     },
     "metadata": {},
     "output_type": "display_data"
    }
   ],
   "source": [
    "her_residuals.scatter(\"she\", \"residual\", color=\"r\")"
   ]
  },
  {
   "cell_type": "markdown",
   "metadata": {},
   "source": [
    "## 4. More Words for Multiple Regression\n",
    "\n",
    "#### Question 4.1\n",
    "Choose a new word in the dataset that you think could be used to predict the proportion of the word `her` in a screenplay. The new word should have a correlation of greater than 0.05 or less than -0.0.5 with `her`. The code to plot the scatter plot and line of best fit is given for you, you just need to calculate the correct values for `r_her_new_word`, `slope_her_new_word` and `intercept_her_new_word`.\n",
    "\n",
    "*Hint: It's easier to think of words with a positive correlation, i.e. words that are often mentioned together*.\n",
    "\n",
    "<!--\n",
    "BEGIN QUESTION\n",
    "name: q4_1\n",
    "manual: true\n",
    "image: true\n",
    "-->\n",
    "<!-- EXPORT TO PDF -->"
   ]
  },
  {
   "cell_type": "code",
   "execution_count": 34,
   "metadata": {},
   "outputs": [],
   "source": [
    "corrMatrix = updated_movies_df.corr()"
   ]
  },
  {
   "cell_type": "code",
   "execution_count": 56,
   "metadata": {},
   "outputs": [
    {
     "data": {
      "text/plain": [
       "0.39039075484466995"
      ]
     },
     "execution_count": 56,
     "metadata": {},
     "output_type": "execute_result"
    }
   ],
   "source": [
    "corrHer = pd.DataFrame(corrMatrix[\"her\"])\n",
    "\n",
    "possible_options05 = corrHer[corrHer[\"her\"] >= 0.05]\n",
    "possible_options5 = corrHer[corrHer[\"her\"] >= 0.2]\n",
    "\n",
    "possible_options5[\"her\"][\"daughter\"]"
   ]
  },
  {
   "cell_type": "code",
   "execution_count": 59,
   "metadata": {},
   "outputs": [
    {
     "data": {
      "text/plain": [
       "2.3617012754142883"
      ]
     },
     "execution_count": 59,
     "metadata": {},
     "output_type": "execute_result"
    }
   ],
   "source": [
    "new_word = \"daughter\"\n",
    "\n",
    "# This array should make your code cleaner!\n",
    "arr_new_word = movies.column(new_word)\n",
    "\n",
    "new_word_su = standard_units(arr_new_word)\n",
    "\n"
   ]
  },
  {
   "cell_type": "code",
   "execution_count": 60,
   "metadata": {
    "export_pdf": true
   },
   "outputs": [
    {
     "name": "stdout",
     "output_type": "stream",
     "text": [
      "Correlation: 0.39039075484466995\n"
     ]
    },
    {
     "data": {
      "image/png": "[encoded data removed]",
      "text/plain": [
       "<Figure size 360x360 with 1 Axes>"
      ]
     },
     "metadata": {},
     "output_type": "display_data"
    }
   ],
   "source": [
    "new_word = \"daughter\"\n",
    "\n",
    "# This array should make your code cleaner!\n",
    "arr_new_word = movies.column(new_word)\n",
    "\n",
    "new_word_su = standard_units(arr_new_word)\n",
    "\n",
    "r_her_new_word = possible_options5[\"her\"][\"daughter\"]\n",
    "\n",
    "t = movies\n",
    "x = \"daughter\"\n",
    "y = \"her\"\n",
    "\n",
    "r = possible_options5[\"her\"][\"daughter\"]\n",
    "y_sd = np.std(t.column(y))\n",
    "x_sd = np.std(t.column(x))\n",
    "\n",
    "slope_her_new_word = r * y_sd / x_sd\n",
    "\n",
    "x_mean = np.mean(t.column(x))\n",
    "y_mean = np.mean(t.column(y))\n",
    "\n",
    "intercept_her_new_word = y_mean - slope_her_new_word*x_mean\n",
    "\n",
    "\n",
    "# DON'T CHANGE THESE LINES OF CODE\n",
    "movies.scatter(new_word, 'her')\n",
    "max_x = max(movies.column(new_word))\n",
    "print('Correlation:', r_her_new_word)\n",
    "plots.plot([0, max_x * 1.3], [intercept_her_new_word, intercept_her_new_word + slope_her_new_word * (max_x*1.3)], color='gold');"
   ]
  },
  {
   "cell_type": "markdown",
   "metadata": {},
   "source": [
    "In class we saw that the best fit regression line used to predict y with x minimized the root mean squared error (rmse). \n",
    "\n",
    "$$\n",
    "rmse ~=~ \\sqrt{mean{(y - y_{estimate})}^2}\n",
    "$$\n",
    "\n"
   ]
  },
  {
   "cell_type": "markdown",
   "metadata": {},
   "source": [
    "#### Question 4.2\n",
    "Define the function below to calculate the root mean squared error for a regression line that uses the proportion of `new_word` as predictor for the proportion of `her`."
   ]
  },
  {
   "cell_type": "code",
   "execution_count": 77,
   "metadata": {},
   "outputs": [],
   "source": [
    "def her_new_word_rmse(any_slope, any_intercept):\n",
    "    y = movies.column(\"her\")\n",
    "    x = movies.column(\"daughter\")\n",
    "    estimate = any_slope*x + any_intercept\n",
    "    return (np.mean((y - estimate) ** 2)) ** 0.5"
   ]
  },
  {
   "cell_type": "markdown",
   "metadata": {},
   "source": [
    "Run the cells below to see that the minimize function will (most likely) output the same values for the slope and intercept that you calculated in question 3.2"
   ]
  },
  {
   "cell_type": "code",
   "execution_count": 78,
   "metadata": {},
   "outputs": [
    {
     "data": {
      "text/plain": [
       "array([2.3616991 , 0.00263609])"
      ]
     },
     "execution_count": 78,
     "metadata": {},
     "output_type": "execute_result"
    }
   ],
   "source": [
    "minimize(her_new_word_rmse)"
   ]
  },
  {
   "cell_type": "code",
   "execution_count": 86,
   "metadata": {},
   "outputs": [
    {
     "data": {
      "text/plain": [
       "(2.3617012754142883, 0.002636084753161227)"
      ]
     },
     "execution_count": 86,
     "metadata": {},
     "output_type": "execute_result"
    }
   ],
   "source": [
    "slope_her_new_word, intercept_her_new_word"
   ]
  },
  {
   "cell_type": "markdown",
   "metadata": {},
   "source": [
    "This method of using the minimize function to find the minimum root mean squared value for a function can be extended to nonlinear models as well as to models with multiple predictors."
   ]
  },
  {
   "cell_type": "markdown",
   "metadata": {},
   "source": [
    "#### Question 4.2 \n",
    "\n",
    "Use the proportions of your `new_word` and `she` to construct a multiple regression model to predict the proportion of the words in the script that are `her`.\n",
    "\n",
    "\n",
    "$$\n",
    "her_{estimate} ~=~ a*newword + b*she + c\n",
    "$$\n",
    "\n",
    "for constants $a$, $b$, and $c$\n",
    "\n",
    "Define the function below to calculate the root mean squared error for a regression line that has the proportions of these words as predictors for the proportion of `her` in a screenplay."
   ]
  },
  {
   "cell_type": "code",
   "execution_count": 2,
   "metadata": {},
   "outputs": [],
   "source": [
    "def she_new_her_rmse(gest_days_mult, mat_height_mult, intercept):\n",
    "    \n",
    "    newword = movies.column('daughter')\n",
    "        \n",
    "    y = movies.column('she')\n",
    "    \n",
    "    prediction = sum([\n",
    "        gest_days_mult * newword,\n",
    "        mat_height_mult * mat_height,\n",
    "        intercept]\n",
    "    )\n",
    "    \n",
    "    mse = np.mean((y - prediction) ** 2)\n",
    "    return np.sqrt(mse)"
   ]
  },
  {
   "cell_type": "markdown",
   "metadata": {},
   "source": [
    "#### Question 4.3\n",
    "\n",
    "Use the minimize function to find the coefficients  $a$, $b$, and $c$ that result in the minimal root mean squared error."
   ]
  },
  {
   "cell_type": "code",
   "execution_count": 3,
   "metadata": {},
   "outputs": [
    {
     "ename": "NameError",
     "evalue": "name 'minimize' is not defined",
     "output_type": "error",
     "traceback": [
      "\u001b[1;31m---------------------------------------------------------------------------\u001b[0m",
      "\u001b[1;31mNameError\u001b[0m                                 Traceback (most recent call last)",
      "\u001b[1;32m~\\AppData\\Local\\Temp/ipykernel_21412/3857713262.py\u001b[0m in \u001b[0;36m<module>\u001b[1;34m\u001b[0m\n\u001b[1;32m----> 1\u001b[1;33m \u001b[0mminimize\u001b[0m\u001b[1;33m(\u001b[0m\u001b[0mshe_new_her_rmse\u001b[0m\u001b[1;33m)\u001b[0m\u001b[1;33m\u001b[0m\u001b[1;33m\u001b[0m\u001b[0m\n\u001b[0m",
      "\u001b[1;31mNameError\u001b[0m: name 'minimize' is not defined"
     ]
    }
   ],
   "source": [
    "minimize(she_new_her_rmse)"
   ]
  },
  {
   "cell_type": "markdown",
   "metadata": {},
   "source": [
    "#### Question 4.4\n",
    "\n",
    "For the movie The Terminator, what proportion of the words in the script does your model predict will be `her` using the proportion of your `new_word` and `she` in a screenplay"
   ]
  },
  {
   "cell_type": "code",
   "execution_count": 85,
   "metadata": {},
   "outputs": [
    {
     "ename": "TypeError",
     "evalue": "can't multiply sequence by non-int of type 'numpy.float64'",
     "output_type": "error",
     "traceback": [
      "\u001b[1;31m---------------------------------------------------------------------------\u001b[0m",
      "\u001b[1;31mTypeError\u001b[0m                                 Traceback (most recent call last)",
      "\u001b[1;32m~\\AppData\\Local\\Temp/ipykernel_8828/1609534938.py\u001b[0m in \u001b[0;36m<module>\u001b[1;34m\u001b[0m\n\u001b[1;32m----> 1\u001b[1;33m \u001b[0mshe_new_her_rmse\u001b[0m\u001b[1;33m(\u001b[0m\u001b[0mmovies\u001b[0m\u001b[1;33m,\u001b[0m \u001b[1;34m\"daughter\"\u001b[0m\u001b[1;33m,\u001b[0m \u001b[1;34m\"she\"\u001b[0m\u001b[1;33m)\u001b[0m\u001b[1;33m\u001b[0m\u001b[1;33m\u001b[0m\u001b[0m\n\u001b[0m",
      "\u001b[1;32m~\\AppData\\Local\\Temp/ipykernel_8828/3571112688.py\u001b[0m in \u001b[0;36mshe_new_her_rmse\u001b[1;34m(t, x, y)\u001b[0m\n\u001b[0;32m     13\u001b[0m     \u001b[0mintercept_her_new_word\u001b[0m \u001b[1;33m=\u001b[0m \u001b[0my_mean\u001b[0m \u001b[1;33m-\u001b[0m \u001b[0mslope_her_new_word\u001b[0m\u001b[1;33m*\u001b[0m\u001b[0mx_mean\u001b[0m\u001b[1;33m\u001b[0m\u001b[1;33m\u001b[0m\u001b[0m\n\u001b[0;32m     14\u001b[0m \u001b[1;33m\u001b[0m\u001b[0m\n\u001b[1;32m---> 15\u001b[1;33m     \u001b[0mestimate\u001b[0m \u001b[1;33m=\u001b[0m \u001b[0mslope_her_new_word\u001b[0m\u001b[1;33m*\u001b[0m\u001b[0mx\u001b[0m \u001b[1;33m+\u001b[0m \u001b[0mintercept_her_new_word\u001b[0m\u001b[1;33m\u001b[0m\u001b[1;33m\u001b[0m\u001b[0m\n\u001b[0m\u001b[0;32m     16\u001b[0m     \u001b[1;32mreturn\u001b[0m \u001b[1;33m(\u001b[0m\u001b[0mnp\u001b[0m\u001b[1;33m.\u001b[0m\u001b[0mmean\u001b[0m\u001b[1;33m(\u001b[0m\u001b[1;33m(\u001b[0m\u001b[0my\u001b[0m \u001b[1;33m-\u001b[0m \u001b[0mestimate\u001b[0m\u001b[1;33m)\u001b[0m \u001b[1;33m**\u001b[0m \u001b[1;36m2\u001b[0m\u001b[1;33m)\u001b[0m\u001b[1;33m)\u001b[0m \u001b[1;33m**\u001b[0m \u001b[1;36m0.5\u001b[0m\u001b[1;33m\u001b[0m\u001b[1;33m\u001b[0m\u001b[0m\n",
      "\u001b[1;31mTypeError\u001b[0m: can't multiply sequence by non-int of type 'numpy.float64'"
     ]
    }
   ],
   "source": [
    "multiple_regression_rmse(\"\")"
   ]
  },
  {
   "cell_type": "markdown",
   "metadata": {},
   "source": [
    "You have finished lab 10! We'll use this data again in lab 11 in an attempt to classify the genre of movies."
   ]
  }
 ],
 "metadata": {
  "kernelspec": {
   "display_name": "PythonData",
   "language": "python",
   "name": "pythondata"
  },
  "language_info": {
   "codemirror_mode": {
    "name": "ipython",
    "version": 3
   },
   "file_extension": ".py",
   "mimetype": "text/x-python",
   "name": "python",
   "nbconvert_exporter": "python",
   "pygments_lexer": "ipython3",
   "version": "3.9.7"
  }
 },
 "nbformat": 4,
 "nbformat_minor": 4
}
