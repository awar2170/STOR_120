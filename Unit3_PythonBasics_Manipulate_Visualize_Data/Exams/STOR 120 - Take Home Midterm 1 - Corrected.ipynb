{
 "cells": [
  {
   "cell_type": "markdown",
   "metadata": {
    "tags": []
   },
   "source": [
    "# STOR 120: Take Home Midterm 1\n",
    "\n",
    "60 points total\n",
    "\n",
    "**Due:** Wednesday, February 9th to Gradescope before the start of class time.\n",
    "\n",
    "    Section 001: 12:20pm\n",
    "    Section 002:  1:25pm\n",
    "  \n",
    "**Directions:** The exam is open book, notes, course materials, internet, and all things that are not direct communication with others. Just as with all course assignments, you will submit exams to Gradescope as Jupyter Notebooks with the ipynb file extension. To receive full credit, you should show all of your code used to answer each question. Make sure to view your submission in Gradescope and verify that it is the correct file and has the format that you intended it to have, including all code being shown and run.\n",
    "\n",
    "Come to office hours if you have specific questions regarding the exam. Due to the large class sizes, individual questions sent via email are not possible to answer for all students. Please refrain from posting public questions to Piazza before the exam is due.  "
   ]
  },
  {
   "cell_type": "markdown",
   "metadata": {},
   "source": [
    "**Data:** The dataset used on this exam contains an overview of the 50 most crowded airports in the world for each year from 2016 to 2020. Each row in the table is an airport in the given year with the following atttributes:\n",
    "\n",
    "Variable   | Description\n",
    "-----------|---------------------------------------------------------------\n",
    "Rank       | Airport ranking by number of passengers for given year\n",
    "Airport    | Name of the airport\n",
    "Location   | Location of the airport\n",
    "Country    | Airport Country\n",
    "IATA Code  | Three-letter code designating the airport defined by the International Air Transport Association\n",
    "ICAO Code  | Four-letter code designating the airport as defined by the International Civil Aviation Organization\n",
    "Passengers | Total number of passengers for the given year\n",
    "Year       | Year of ranking"
   ]
  },
  {
   "cell_type": "markdown",
   "metadata": {},
   "source": [
    "**Run the cell below to import the needed modules and dataset.**"
   ]
  },
  {
   "cell_type": "code",
   "execution_count": 1,
   "metadata": {},
   "outputs": [
    {
     "data": {
      "text/html": [
       "<div>\n",
       "<style scoped>\n",
       "    .dataframe tbody tr th:only-of-type {\n",
       "        vertical-align: middle;\n",
       "    }\n",
       "\n",
       "    .dataframe tbody tr th {\n",
       "        vertical-align: top;\n",
       "    }\n",
       "\n",
       "    .dataframe thead th {\n",
       "        text-align: right;\n",
       "    }\n",
       "</style>\n",
       "<table border=\"1\" class=\"dataframe\">\n",
       "  <thead>\n",
       "    <tr style=\"text-align: right;\">\n",
       "      <th></th>\n",
       "      <th>Rank</th>\n",
       "      <th>Airport</th>\n",
       "      <th>Location</th>\n",
       "      <th>Country</th>\n",
       "      <th>IATA Code</th>\n",
       "      <th>ICAO Code</th>\n",
       "      <th>Passengers</th>\n",
       "      <th>Year</th>\n",
       "    </tr>\n",
       "  </thead>\n",
       "  <tbody>\n",
       "    <tr>\n",
       "      <th>0</th>\n",
       "      <td>1</td>\n",
       "      <td>China Guangzhou Baiyun International Airport</td>\n",
       "      <td>Baiyun-Huadu, Guangzhou, Guangdong</td>\n",
       "      <td>China</td>\n",
       "      <td>CAN</td>\n",
       "      <td>ZGGG</td>\n",
       "      <td>43760427</td>\n",
       "      <td>2020</td>\n",
       "    </tr>\n",
       "    <tr>\n",
       "      <th>1</th>\n",
       "      <td>2</td>\n",
       "      <td>United States Hartsfield–Jackson Atlanta Inter...</td>\n",
       "      <td>Atlanta, Georgia</td>\n",
       "      <td>United States</td>\n",
       "      <td>ATL</td>\n",
       "      <td>KATL</td>\n",
       "      <td>42918685</td>\n",
       "      <td>2020</td>\n",
       "    </tr>\n",
       "    <tr>\n",
       "      <th>2</th>\n",
       "      <td>3</td>\n",
       "      <td>China Chengdu Shuangliu International Airport</td>\n",
       "      <td>Shuangliu-Wuhou, Chengdu, Sichuan</td>\n",
       "      <td>China</td>\n",
       "      <td>CTU</td>\n",
       "      <td>ZUUU</td>\n",
       "      <td>40741509</td>\n",
       "      <td>2020</td>\n",
       "    </tr>\n",
       "    <tr>\n",
       "      <th>3</th>\n",
       "      <td>4</td>\n",
       "      <td>United States Dallas/Fort Worth International ...</td>\n",
       "      <td>Dallas-Fort Worth, Texas</td>\n",
       "      <td>United States</td>\n",
       "      <td>DFW</td>\n",
       "      <td>KDFW</td>\n",
       "      <td>39364990</td>\n",
       "      <td>2020</td>\n",
       "    </tr>\n",
       "    <tr>\n",
       "      <th>4</th>\n",
       "      <td>5</td>\n",
       "      <td>China Shenzhen Bao'an International Airport</td>\n",
       "      <td>Bao'an, Shenzhen, Guangdong</td>\n",
       "      <td>China</td>\n",
       "      <td>SZX</td>\n",
       "      <td>ZGSZ</td>\n",
       "      <td>37916059</td>\n",
       "      <td>2020</td>\n",
       "    </tr>\n",
       "    <tr>\n",
       "      <th>...</th>\n",
       "      <td>...</td>\n",
       "      <td>...</td>\n",
       "      <td>...</td>\n",
       "      <td>...</td>\n",
       "      <td>...</td>\n",
       "      <td>...</td>\n",
       "      <td>...</td>\n",
       "      <td>...</td>\n",
       "    </tr>\n",
       "    <tr>\n",
       "      <th>245</th>\n",
       "      <td>46</td>\n",
       "      <td>United States Newark Liberty International Air...</td>\n",
       "      <td>Newark, New Jersey</td>\n",
       "      <td>United States</td>\n",
       "      <td>EWR</td>\n",
       "      <td>KEWR</td>\n",
       "      <td>40289969</td>\n",
       "      <td>2016</td>\n",
       "    </tr>\n",
       "    <tr>\n",
       "      <th>246</th>\n",
       "      <td>47</td>\n",
       "      <td>Philippines Ninoy Aquino International Airport</td>\n",
       "      <td>Pasay/Parañaque, Metro Manila</td>\n",
       "      <td>Philippines</td>\n",
       "      <td>MNL</td>\n",
       "      <td>RPLL</td>\n",
       "      <td>39534991</td>\n",
       "      <td>2016</td>\n",
       "    </tr>\n",
       "    <tr>\n",
       "      <th>247</th>\n",
       "      <td>48</td>\n",
       "      <td>Japan Narita International Airport</td>\n",
       "      <td>Narita, Chiba</td>\n",
       "      <td>Japan</td>\n",
       "      <td>NRT</td>\n",
       "      <td>RJAA</td>\n",
       "      <td>39000563</td>\n",
       "      <td>2016</td>\n",
       "    </tr>\n",
       "    <tr>\n",
       "      <th>248</th>\n",
       "      <td>49</td>\n",
       "      <td>United States Minneapolis/St Paul Internationa...</td>\n",
       "      <td>St. Paul, Minnesota</td>\n",
       "      <td>United States</td>\n",
       "      <td>MSP</td>\n",
       "      <td>KMSP</td>\n",
       "      <td>37413728</td>\n",
       "      <td>2016</td>\n",
       "    </tr>\n",
       "    <tr>\n",
       "      <th>249</th>\n",
       "      <td>50</td>\n",
       "      <td>Qatar Hamad International Airport</td>\n",
       "      <td>Doha</td>\n",
       "      <td>Qatar</td>\n",
       "      <td>DOH</td>\n",
       "      <td>OTHH</td>\n",
       "      <td>37283987</td>\n",
       "      <td>2016</td>\n",
       "    </tr>\n",
       "  </tbody>\n",
       "</table>\n",
       "<p>250 rows × 8 columns</p>\n",
       "</div>"
      ],
      "text/plain": [
       "     Rank                                            Airport  \\\n",
       "0       1       China Guangzhou Baiyun International Airport   \n",
       "1       2  United States Hartsfield–Jackson Atlanta Inter...   \n",
       "2       3      China Chengdu Shuangliu International Airport   \n",
       "3       4  United States Dallas/Fort Worth International ...   \n",
       "4       5        China Shenzhen Bao'an International Airport   \n",
       "..    ...                                                ...   \n",
       "245    46  United States Newark Liberty International Air...   \n",
       "246    47     Philippines Ninoy Aquino International Airport   \n",
       "247    48                 Japan Narita International Airport   \n",
       "248    49  United States Minneapolis/St Paul Internationa...   \n",
       "249    50                  Qatar Hamad International Airport   \n",
       "\n",
       "                               Location        Country IATA Code ICAO Code  \\\n",
       "0    Baiyun-Huadu, Guangzhou, Guangdong          China       CAN      ZGGG   \n",
       "1                      Atlanta, Georgia  United States       ATL      KATL   \n",
       "2     Shuangliu-Wuhou, Chengdu, Sichuan          China       CTU      ZUUU   \n",
       "3              Dallas-Fort Worth, Texas  United States       DFW      KDFW   \n",
       "4           Bao'an, Shenzhen, Guangdong          China       SZX      ZGSZ   \n",
       "..                                  ...            ...       ...       ...   \n",
       "245                  Newark, New Jersey  United States       EWR      KEWR   \n",
       "246       Pasay/Parañaque, Metro Manila    Philippines       MNL      RPLL   \n",
       "247                       Narita, Chiba          Japan       NRT      RJAA   \n",
       "248                 St. Paul, Minnesota  United States       MSP      KMSP   \n",
       "249                                Doha          Qatar       DOH      OTHH   \n",
       "\n",
       "     Passengers  Year  \n",
       "0      43760427  2020  \n",
       "1      42918685  2020  \n",
       "2      40741509  2020  \n",
       "3      39364990  2020  \n",
       "4      37916059  2020  \n",
       "..          ...   ...  \n",
       "245    40289969  2016  \n",
       "246    39534991  2016  \n",
       "247    39000563  2016  \n",
       "248    37413728  2016  \n",
       "249    37283987  2016  \n",
       "\n",
       "[250 rows x 8 columns]"
      ]
     },
     "execution_count": 1,
     "metadata": {},
     "output_type": "execute_result"
    }
   ],
   "source": [
    "from datascience import *\n",
    "import numpy as np\n",
    "import pandas as pd\n",
    "\n",
    "%matplotlib inline\n",
    "import matplotlib.pyplot as plt\n",
    "plt.style.use('fivethirtyeight')\n",
    "\n",
    "import warnings\n",
    "warnings.simplefilter('ignore', FutureWarning)\n",
    "\n",
    "Airports = pd.read_csv('../Datasets/Airports.csv')\n",
    "Airports"
   ]
  },
  {
   "cell_type": "markdown",
   "metadata": {},
   "source": [
    "### Question 1.1 *(4 pts)*"
   ]
  },
  {
   "cell_type": "markdown",
   "metadata": {},
   "source": [
    "What is the total number of passengers in the top 50 most crowded airports in 2020? Assign `tot_pass_2020` to this value."
   ]
  },
  {
   "cell_type": "code",
   "execution_count": 2,
   "metadata": {},
   "outputs": [
    {
     "data": {
      "text/plain": [
       "49    15892892\n",
       "48    16091449\n",
       "47    16300000\n",
       "46    16409625\n",
       "45    16484132\n",
       "44    16490216\n",
       "43    16583878\n",
       "42    16630642\n",
       "41    16706000\n",
       "40    16710197\n",
       "Name: Passengers, dtype: int64"
      ]
     },
     "execution_count": 2,
     "metadata": {},
     "output_type": "execute_result"
    }
   ],
   "source": [
    "sorted_airports = Airports.sort_values(\"Passengers\").head(10)\n",
    "sorted_airports[\"Passengers\"]\n",
    "# I dont need to filter for years because these top 10 are all in the year 2020"
   ]
  },
  {
   "cell_type": "code",
   "execution_count": 3,
   "metadata": {},
   "outputs": [
    {
     "name": "stdout",
     "output_type": "stream",
     "text": [
      "164299031\n"
     ]
    }
   ],
   "source": [
    "tot_pass_2020 = sorted_airports[\"Passengers\"].sum()\n",
    "print(tot_pass_2020)"
   ]
  },
  {
   "cell_type": "markdown",
   "metadata": {},
   "source": [
    "### Question 1.2 *(4 pts)*"
   ]
  },
  {
   "cell_type": "markdown",
   "metadata": {},
   "source": [
    "What are the names of the airports with the largest number of passengers in each of the years? Assign `busiest_airports` to an array containing the names of these airports (possibly with repeated names of the same airport), in descending order of their passenger totals.\n",
    "\n",
    "Note: You may see **\\xa0** in the strings for the names of the airports. This is fine and due to the encoding of the data."
   ]
  },
  {
   "cell_type": "code",
   "execution_count": 4,
   "metadata": {},
   "outputs": [
    {
     "name": "stdout",
     "output_type": "stream",
     "text": [
      "<class 'pandas.core.frame.DataFrame'>\n",
      "RangeIndex: 250 entries, 0 to 249\n",
      "Data columns (total 8 columns):\n",
      " #   Column      Non-Null Count  Dtype \n",
      "---  ------      --------------  ----- \n",
      " 0   Rank        250 non-null    int64 \n",
      " 1   Airport     250 non-null    object\n",
      " 2   Location    250 non-null    object\n",
      " 3   Country     250 non-null    object\n",
      " 4   IATA Code   250 non-null    object\n",
      " 5   ICAO Code   250 non-null    object\n",
      " 6   Passengers  250 non-null    int64 \n",
      " 7   Year        250 non-null    int64 \n",
      "dtypes: int64(3), object(5)\n",
      "memory usage: 15.8+ KB\n"
     ]
    }
   ],
   "source": [
    "Airports.info()"
   ]
  },
  {
   "cell_type": "code",
   "execution_count": 5,
   "metadata": {},
   "outputs": [],
   "source": [
    "# NOTE: THIS IS ASKING FOR THE MAX FROM EACH YEAR \n",
    "Airports[\"Year\"].unique()\n",
    "\n",
    "# NOTE: IN DESCENDING ORDER FROM PASSENGER TOTALS \n",
    "\n",
    "# 2016\n",
    "Airports_2016 = Airports[Airports[\"Year\"] == 2016] \n",
    "Airports_max_2016 = Airports_2016[\"Passengers\"].index.max()\n",
    "a2016 = Airports_2016.loc[[Airports_max_2016]]\n",
    "\n",
    "# 2017\n",
    "Airports_2017 = Airports[Airports[\"Year\"] == 2017] \n",
    "Airports_max_2017 = Airports_2017[\"Passengers\"].index.max()\n",
    "a2017 = Airports_2017.loc[[Airports_max_2017]]\n",
    "\n",
    "# 2018\n",
    "Airports_2018 = Airports[Airports[\"Year\"] == 2018] \n",
    "Airports_max_2018 = Airports_2018[\"Passengers\"].index.max()\n",
    "a2018 = Airports_2018.loc[[Airports_max_2018]]\n",
    "\n",
    "# 2019\n",
    "Airports_2019 = Airports[Airports[\"Year\"] == 2019] \n",
    "Airports_max_2019 = Airports_2019[\"Passengers\"].index.max()\n",
    "a2019 = Airports_2019.loc[[Airports_max_2019]]\n",
    "\n",
    "# 2020\n",
    "Airports_2020 = Airports[Airports[\"Year\"] == 2020] \n",
    "Airports_max_2020 = Airports_2020[\"Passengers\"].index.max()\n",
    "a2020 = Airports_2020.loc[[Airports_max_2020]]"
   ]
  },
  {
   "cell_type": "code",
   "execution_count": 6,
   "metadata": {},
   "outputs": [],
   "source": [
    "combined_frame = pd.concat([a2016,a2017,a2018,a2019,a2020])\n",
    "combined_frame_sorted = combined_frame.sort_values(\"Passengers\")"
   ]
  },
  {
   "cell_type": "code",
   "execution_count": 7,
   "metadata": {},
   "outputs": [],
   "source": [
    "check = make_array(combined_frame_sorted[\"Airport\"])\n",
    "check_2 = check[0]"
   ]
  },
  {
   "cell_type": "code",
   "execution_count": 8,
   "metadata": {},
   "outputs": [
    {
     "data": {
      "text/plain": [
       "array(['United States\\xa0Newark Liberty International Airport',\n",
       "       'Qatar\\xa0Hamad International Airport',\n",
       "       'Russia\\xa0Sheremetyevo International Airport',\n",
       "       'Japan\\xa0Narita International Airport',\n",
       "       'Japan\\xa0Narita International Airport'], dtype=object)"
      ]
     },
     "execution_count": 8,
     "metadata": {},
     "output_type": "execute_result"
    }
   ],
   "source": [
    "busiest_airports = check_2\n",
    "busiest_airports"
   ]
  },
  {
   "cell_type": "markdown",
   "metadata": {},
   "source": [
    "### Question 1.3 *(4 pts)*"
   ]
  },
  {
   "cell_type": "markdown",
   "metadata": {},
   "source": [
    "What is the average number of passengers in the top ranked airports for each of the years? Assign this value to `busiest_airports_average`."
   ]
  },
  {
   "cell_type": "code",
   "execution_count": 9,
   "metadata": {},
   "outputs": [],
   "source": [
    "# print(combined_frame)"
   ]
  },
  {
   "cell_type": "code",
   "execution_count": 10,
   "metadata": {},
   "outputs": [],
   "source": [
    "# Average Number of Passengers for the 2016 Top Ranked Airport\n",
    "QA_2016 = Airports[Airports[\"Airport\"] == 'Qatar\\xa0Hamad International Airport'][\"Passengers\"].sum()\n",
    "QA_entries = len(Airports[Airports[\"Airport\"] == 'Qatar\\xa0Hamad International Airport'][\"Passengers\"])\n",
    "QA_2016 = QA_2016/QA_entries\n",
    "\n",
    "# Average Number of Passengers for the 2017 Top Ranked Airport\n",
    "RU_2017 = Airports[Airports[\"Airport\"] == 'Russia\\xa0Sheremetyevo International Airport'][\"Passengers\"].sum()\n",
    "RU_entries = len(Airports[Airports[\"Airport\"] == 'Russia\\xa0Sheremetyevo International Airport'][\"Passengers\"])\n",
    "RU_2017 = RU_2017/RU_entries\n",
    "\n",
    "# Average Number of Passengers for the 2018 Top Ranked Airport\n",
    "JA_2018 = Airports[Airports[\"Airport\"] == 'Japan\\xa0Narita International Airport'][\"Passengers\"].sum()\n",
    "JA_entries = len(Airports[Airports[\"Airport\"] == 'Japan\\xa0Narita International Airport'][\"Passengers\"])\n",
    "JA_2018 = JA_2018/JA_entries\n",
    "\n",
    "# Average Number of Passengers for the 2019 Top Ranked Airport\n",
    "\n",
    "# Average Number of Passengers for the 2020 Top Ranked Airport \n",
    "tot_US = Airports[Airports[\"Airport\"] == 'United States\\xa0Newark Liberty International Airport'][\"Passengers\"].sum()\n",
    "US_entires = len(Airports[Airports[\"Airport\"] == 'United States\\xa0Newark Liberty International Airport'][\"Passengers\"])\n",
    "US_2020 = tot_US/US_entires # The US Newark airports have an average of 38395597.4 passengers over the course of 5 years"
   ]
  },
  {
   "cell_type": "code",
   "execution_count": 11,
   "metadata": {},
   "outputs": [
    {
     "data": {
      "text/html": [
       "<div>\n",
       "<style scoped>\n",
       "    .dataframe tbody tr th:only-of-type {\n",
       "        vertical-align: middle;\n",
       "    }\n",
       "\n",
       "    .dataframe tbody tr th {\n",
       "        vertical-align: top;\n",
       "    }\n",
       "\n",
       "    .dataframe thead th {\n",
       "        text-align: right;\n",
       "    }\n",
       "</style>\n",
       "<table border=\"1\" class=\"dataframe\">\n",
       "  <thead>\n",
       "    <tr style=\"text-align: right;\">\n",
       "      <th></th>\n",
       "      <th>Top Ranked Year</th>\n",
       "      <th>Airport Name</th>\n",
       "      <th>Average Number of Passengers From 2016 to 2020</th>\n",
       "    </tr>\n",
       "  </thead>\n",
       "  <tbody>\n",
       "    <tr>\n",
       "      <th>0</th>\n",
       "      <td>2016</td>\n",
       "      <td>Qatar Hamad International Airport</td>\n",
       "      <td>37283987.00</td>\n",
       "    </tr>\n",
       "    <tr>\n",
       "      <th>1</th>\n",
       "      <td>2017</td>\n",
       "      <td>Russia Sheremetyevo International Airport</td>\n",
       "      <td>38911453.25</td>\n",
       "    </tr>\n",
       "    <tr>\n",
       "      <th>2</th>\n",
       "      <td>2018</td>\n",
       "      <td>Japan Narita International Airport</td>\n",
       "      <td>41630444.00</td>\n",
       "    </tr>\n",
       "    <tr>\n",
       "      <th>3</th>\n",
       "      <td>2019</td>\n",
       "      <td>Japan Narita International Airport</td>\n",
       "      <td>41630444.00</td>\n",
       "    </tr>\n",
       "    <tr>\n",
       "      <th>4</th>\n",
       "      <td>2020</td>\n",
       "      <td>United States Newark Liberty International Air...</td>\n",
       "      <td>38395597.40</td>\n",
       "    </tr>\n",
       "  </tbody>\n",
       "</table>\n",
       "</div>"
      ],
      "text/plain": [
       "   Top Ranked Year                                       Airport Name  \\\n",
       "0             2016                  Qatar Hamad International Airport   \n",
       "1             2017          Russia Sheremetyevo International Airport   \n",
       "2             2018                 Japan Narita International Airport   \n",
       "3             2019                 Japan Narita International Airport   \n",
       "4             2020  United States Newark Liberty International Air...   \n",
       "\n",
       "   Average Number of Passengers From 2016 to 2020  \n",
       "0                                     37283987.00  \n",
       "1                                     38911453.25  \n",
       "2                                     41630444.00  \n",
       "3                                     41630444.00  \n",
       "4                                     38395597.40  "
      ]
     },
     "execution_count": 11,
     "metadata": {},
     "output_type": "execute_result"
    }
   ],
   "source": [
    "busiest_airport_average = {\"Top Ranked Year\":[2016,2017,2018,2019,2020],\n",
    "                          \"Airport Name\":[\"Qatar Hamad International Airport\", \"Russia Sheremetyevo International Airport\",\n",
    "                                         \"Japan Narita International Airport\", \"Japan Narita International Airport\", \n",
    "                                         \"United States Newark Liberty International Airport\"], \n",
    "                          \"Average Number of Passengers From 2016 to 2020\":[QA_2016, RU_2017, JA_2018, JA_2018, US_2020]}\n",
    "pd.DataFrame(busiest_airport_average)"
   ]
  },
  {
   "cell_type": "markdown",
   "metadata": {},
   "source": [
    "### Question 2.1 *(4 pts)*"
   ]
  },
  {
   "cell_type": "markdown",
   "metadata": {},
   "source": [
    "Construct a new table `Airports2` that contains each of the rows and columns of the `Airports` table and also contains a new column, `Passengers in Millions`, which is the number of passengers for each airport counted in millions of passengers.  "
   ]
  },
  {
   "cell_type": "code",
   "execution_count": 12,
   "metadata": {},
   "outputs": [],
   "source": [
    "Airports[\"Passengers in Millions\"] = Airports[\"Passengers\"]/1000000"
   ]
  },
  {
   "cell_type": "code",
   "execution_count": 13,
   "metadata": {},
   "outputs": [
    {
     "name": "stdout",
     "output_type": "stream",
     "text": [
      "   Rank                                            Airport  \\\n",
      "0     1       China Guangzhou Baiyun International Airport   \n",
      "1     2  United States Hartsfield–Jackson Atlanta Inter...   \n",
      "2     3      China Chengdu Shuangliu International Airport   \n",
      "3     4  United States Dallas/Fort Worth International ...   \n",
      "4     5        China Shenzhen Bao'an International Airport   \n",
      "\n",
      "                             Location        Country IATA Code ICAO Code  \\\n",
      "0  Baiyun-Huadu, Guangzhou, Guangdong          China       CAN      ZGGG   \n",
      "1                    Atlanta, Georgia  United States       ATL      KATL   \n",
      "2   Shuangliu-Wuhou, Chengdu, Sichuan          China       CTU      ZUUU   \n",
      "3            Dallas-Fort Worth, Texas  United States       DFW      KDFW   \n",
      "4         Bao'an, Shenzhen, Guangdong          China       SZX      ZGSZ   \n",
      "\n",
      "   Passengers  Year  Passengers in Millions  \n",
      "0    43760427  2020               43.760427  \n",
      "1    42918685  2020               42.918685  \n",
      "2    40741509  2020               40.741509  \n",
      "3    39364990  2020               39.364990  \n",
      "4    37916059  2020               37.916059  \n"
     ]
    }
   ],
   "source": [
    "Airports2 = Airports\n",
    "print(Airports2.head(5))"
   ]
  },
  {
   "cell_type": "markdown",
   "metadata": {},
   "source": [
    "### Question 2.2 *(4 pts)*"
   ]
  },
  {
   "cell_type": "markdown",
   "metadata": {},
   "source": [
    "Use the `Airports2` table to construct a histogram for the numbers of passengers in the millions. Construct the histogram such that the bins begin at 10 million passengers, are 10 million passengers wide, and the histogram has bins containing all of the data from the airports in the table."
   ]
  },
  {
   "cell_type": "code",
   "execution_count": 14,
   "metadata": {},
   "outputs": [
    {
     "data": {
      "text/plain": [
       "count    250.000000\n",
       "mean      51.486173\n",
       "std       20.027108\n",
       "min       15.892892\n",
       "25%       41.893894\n",
       "50%       47.595593\n",
       "75%       64.498943\n",
       "max      110.531300\n",
       "Name: Passengers in Millions, dtype: float64"
      ]
     },
     "execution_count": 14,
     "metadata": {},
     "output_type": "execute_result"
    }
   ],
   "source": [
    "# Make hist of number of passengers in the millions \n",
    "# Bin begins at 10 million passangers, are 10 passengers wide, and all the date from teh airports in the table \n",
    "Airports2[\"Passengers in Millions\"].describe()\n",
    "# Max is 110"
   ]
  },
  {
   "cell_type": "code",
   "execution_count": 15,
   "metadata": {},
   "outputs": [],
   "source": [
    "my_bins = np.arange(10, 121, 10) # This is because the max value is 110.5 and I need a bin higher than just 110 to contain it\n",
    "labels = [\"10-19\", \"20-29\", \"30-39\", \"40-49\", \"50-59\", \"60-69\", \"70-79\", \"80-89\", \"90-109\", \"100-109\", \"110-119\"]"
   ]
  },
  {
   "cell_type": "code",
   "execution_count": 16,
   "metadata": {},
   "outputs": [
    {
     "data": {
      "text/plain": [
       "Text(0.5, 1.0, 'Millions of Passengers on Flights Between 2016 - 2020')"
      ]
     },
     "execution_count": 16,
     "metadata": {},
     "output_type": "execute_result"
    },
    {
     "data": {
      "image/png": "[encoded data removed]",
      "text/plain": [
       "<Figure size 432x288 with 1 Axes>"
      ]
     },
     "metadata": {},
     "output_type": "display_data"
    }
   ],
   "source": [
    "plt.hist(Airports2[\"Passengers in Millions\"], my_bins, edgecolor = \"black\")\n",
    "plt.xlabel(\"Millions of Passengers\")\n",
    "plt.ylabel(\"Frequency\")\n",
    "plt.title(\"Millions of Passengers on Flights Between 2016 - 2020\")"
   ]
  },
  {
   "cell_type": "markdown",
   "metadata": {},
   "source": [
    "### Question 2.3 *(2 pts)*"
   ]
  },
  {
   "cell_type": "markdown",
   "metadata": {},
   "source": [
    "From the histogram constructed in the previous question, which binning of millions of passengers has the most airports in the data? Set `most_airports_bin` to an array containging two values, the lower and upper limits of that bin."
   ]
  },
  {
   "cell_type": "code",
   "execution_count": 17,
   "metadata": {},
   "outputs": [
    {
     "data": {
      "text/plain": [
       "array([40, 49], dtype=int64)"
      ]
     },
     "execution_count": 17,
     "metadata": {},
     "output_type": "execute_result"
    }
   ],
   "source": [
    "most_airports_bin = make_array(40, 49)\n",
    "most_airports_bin"
   ]
  },
  {
   "cell_type": "markdown",
   "metadata": {},
   "source": [
    "### Question 2.4 *(4 pts)*"
   ]
  },
  {
   "cell_type": "markdown",
   "metadata": {},
   "source": [
    "How many airports are in the bin from the previous question? Assign this value to `num_airports`. Consider each row of the data as a unique airport, even though the same airport may be shown over multiple years. You should calculate this number from the `Airports2` table and not estimate the value from the histogram."
   ]
  },
  {
   "cell_type": "code",
   "execution_count": 18,
   "metadata": {},
   "outputs": [
    {
     "data": {
      "text/plain": [
       "40-49      88\n",
       "60-69      37\n",
       "50-59      31\n",
       "70-79      21\n",
       "10-19      19\n",
       "20-29      17\n",
       "30-39      15\n",
       "80-89      14\n",
       "100-109     5\n",
       "90-109      2\n",
       "110-119     1\n",
       "Name: Bins, dtype: int64"
      ]
     },
     "execution_count": 18,
     "metadata": {},
     "output_type": "execute_result"
    }
   ],
   "source": [
    "Airports2[\"Bins\"] = pd.cut(Airports2[\"Passengers in Millions\"], my_bins, labels = labels)\n",
    "Airports2[\"Bins\"].isnull().sum() \n",
    "# One is null, I bet that is whatever is not gathered by the 10 \n",
    "Airports2[Airports2[\"Bins\"].isnull()].index.tolist()\n",
    "Airports2.loc[[50]] # Fixed previous error in previous question, this is now in a bin \n",
    "\n",
    "Airports2[\"Bins\"].value_counts()"
   ]
  },
  {
   "cell_type": "code",
   "execution_count": 19,
   "metadata": {},
   "outputs": [
    {
     "data": {
      "text/plain": [
       "88"
      ]
     },
     "execution_count": 19,
     "metadata": {},
     "output_type": "execute_result"
    }
   ],
   "source": [
    "num_airports = Airports2[\"Bins\"].value_counts().max()\n",
    "num_airports"
   ]
  },
  {
   "cell_type": "markdown",
   "metadata": {},
   "source": [
    "### Question 3.1 *(8 pts)*"
   ]
  },
  {
   "cell_type": "markdown",
   "metadata": {},
   "source": [
    "Construct a bar chart showing the number of times each country appears in the top 50 airports for all years in the data. The bar chart should have the country with the highest number of airports at the top, and then the remaining countries in decreasing order."
   ]
  },
  {
   "cell_type": "code",
   "execution_count": 20,
   "metadata": {},
   "outputs": [
    {
     "data": {
      "text/plain": [
       "United States           76\n",
       "China                   49\n",
       "United Kingdom           9\n",
       "Spain                    9\n",
       "Germany                  9\n",
       "India                    9\n",
       "Japan                    9\n",
       "Turkey                   6\n",
       "United Arab Emirates     5\n",
       "Mexico                   5\n",
       "Russia                   5\n",
       "Thailand                 5\n",
       "France                   5\n",
       "Malaysia                 4\n",
       "Australia                4\n",
       "Philippines              4\n",
       "Taiwan                   4\n",
       "Canada                   4\n",
       "Indonesia                4\n",
       "Hong Kong SAR, China     4\n",
       "Singapore                4\n",
       "South Korea              4\n",
       "Netherlands              3\n",
       "Italy                    3\n",
       "The Netherlands          2\n",
       "Republic of Korea        2\n",
       "Brazil                   1\n",
       "Vietnam                  1\n",
       "Qatar                    1\n",
       "Name: Country, dtype: int64"
      ]
     },
     "execution_count": 20,
     "metadata": {},
     "output_type": "execute_result"
    }
   ],
   "source": [
    "# The number of times each country appears in the top 50 airports for all years in the data \n",
    "Airports[\"Country\"].unique()\n",
    "countries = ['China', 'United States', 'Japan', 'India', 'United Arab Emirates',\n",
    "       'Turkey', 'France', 'United Kingdom', 'Mexico', 'Vietnam',\n",
    "       'South Korea', 'Netherlands', 'Brazil', 'Russia', 'Germany',\n",
    "       'Spain', 'Thailand', 'Hong Kong SAR, China', 'Singapore',\n",
    "       'Malaysia', 'Indonesia', 'Canada', 'Taiwan', 'Philippines',\n",
    "       'Australia', 'Italy', 'The Netherlands', 'Republic of Korea',\n",
    "       'Qatar']\n",
    "\n",
    "Airports[\"Rank\"].unique()\n",
    "# There are only 50 ranks, so just make a value count of the countries \n",
    "Airports[\"Country\"].value_counts()"
   ]
  },
  {
   "cell_type": "code",
   "execution_count": 21,
   "metadata": {},
   "outputs": [
    {
     "data": {
      "text/plain": [
       "Text(0.5, 1.0, 'Number of Times a Country Appears in the Top 50 Years From 2016 to 2020')"
      ]
     },
     "execution_count": 21,
     "metadata": {},
     "output_type": "execute_result"
    },
    {
     "data": {
      "image/png": "[encoded data removed]",
      "text/plain": [
       "<Figure size 432x288 with 1 Axes>"
      ]
     },
     "metadata": {},
     "output_type": "display_data"
    }
   ],
   "source": [
    "Airports[\"Country\"].value_counts().plot(kind = \"bar\")\n",
    "plt.xlabel(\"Country\")\n",
    "plt.ylabel(\"Frequency\")\n",
    "plt.title(\"Number of Times a Country Appears in the Top 50 Years From 2016 to 2020\")"
   ]
  },
  {
   "cell_type": "markdown",
   "metadata": {},
   "source": [
    "### Question 3.2 *(8 pts)*"
   ]
  },
  {
   "cell_type": "markdown",
   "metadata": {},
   "source": [
    "You should see that China and the United States have many more airports in the data than other countries. Construct a table, `US_China_tot`, using only the airports in the United States and China (over all years) that has five rows, one for each year in the data, and columns for the year (in ascending order), the total number passengers in these airports in China for each year, and the total number passengers in these airports in the United States for each year.\n",
    "\n",
    "Note: Depending on how you go about this problem, you may receive a **VisibleDeprecationWarning**. This is fine and will not impact your table."
   ]
  },
  {
   "cell_type": "code",
   "execution_count": 22,
   "metadata": {},
   "outputs": [
    {
     "data": {
      "text/plain": [
       "array(['China', 'United States', 'Japan', 'India', 'United Arab Emirates',\n",
       "       'Turkey', 'France', 'United Kingdom', 'Mexico', 'Vietnam',\n",
       "       'South Korea', 'Netherlands', 'Brazil', 'Russia', 'Germany',\n",
       "       'Spain', 'Thailand', 'Hong Kong SAR, China', 'Singapore',\n",
       "       'Malaysia', 'Indonesia', 'Canada', 'Taiwan', 'Philippines',\n",
       "       'Australia', 'Italy', 'The Netherlands', 'Republic of Korea',\n",
       "       'Qatar'], dtype=object)"
      ]
     },
     "execution_count": 22,
     "metadata": {},
     "output_type": "execute_result"
    }
   ],
   "source": [
    "Airports[\"Country\"].unique()"
   ]
  },
  {
   "cell_type": "code",
   "execution_count": 23,
   "metadata": {},
   "outputs": [],
   "source": [
    "# GOal: Make a table that has chin and the US's airports passangers for each year \n",
    "\n",
    "# First Filter the data for just US and China\n",
    "US = Airports[Airports[\"Country\"] == \"United States\"]\n",
    "China = Airports[Airports[\"Country\"] == \"China\"]\n",
    "US_China = Airports[(Airports[\"Country\"] == \"China\") | (Airports[\"Country\"] == \"United States\")]\n",
    "# US_China[\"Country\"].unique()\n",
    "# US_China_grouped = US_China.groupby(\"Country\")\n",
    "# US_China_grouped[\"Year\"].value_counts().plot(kind = \"barh\")"
   ]
  },
  {
   "cell_type": "code",
   "execution_count": 24,
   "metadata": {},
   "outputs": [
    {
     "data": {
      "text/html": [
       "<div>\n",
       "<style scoped>\n",
       "    .dataframe tbody tr th:only-of-type {\n",
       "        vertical-align: middle;\n",
       "    }\n",
       "\n",
       "    .dataframe tbody tr th {\n",
       "        vertical-align: top;\n",
       "    }\n",
       "\n",
       "    .dataframe thead th {\n",
       "        text-align: right;\n",
       "    }\n",
       "</style>\n",
       "<table border=\"1\" class=\"dataframe\">\n",
       "  <thead>\n",
       "    <tr style=\"text-align: right;\">\n",
       "      <th></th>\n",
       "      <th>United States</th>\n",
       "      <th>China</th>\n",
       "    </tr>\n",
       "    <tr>\n",
       "      <th>Year</th>\n",
       "      <th></th>\n",
       "      <th></th>\n",
       "    </tr>\n",
       "  </thead>\n",
       "  <tbody>\n",
       "    <tr>\n",
       "      <th>2016</th>\n",
       "      <td>886062548</td>\n",
       "      <td>390582892</td>\n",
       "    </tr>\n",
       "    <tr>\n",
       "      <th>2017</th>\n",
       "      <td>869980194</td>\n",
       "      <td>455506455</td>\n",
       "    </tr>\n",
       "    <tr>\n",
       "      <th>2018</th>\n",
       "      <td>904921387</td>\n",
       "      <td>482556514</td>\n",
       "    </tr>\n",
       "    <tr>\n",
       "      <th>2019</th>\n",
       "      <td>934865503</td>\n",
       "      <td>544055234</td>\n",
       "    </tr>\n",
       "    <tr>\n",
       "      <th>2020</th>\n",
       "      <td>368767320</td>\n",
       "      <td>472211986</td>\n",
       "    </tr>\n",
       "  </tbody>\n",
       "</table>\n",
       "</div>"
      ],
      "text/plain": [
       "      United States      China\n",
       "Year                          \n",
       "2016      886062548  390582892\n",
       "2017      869980194  455506455\n",
       "2018      904921387  482556514\n",
       "2019      934865503  544055234\n",
       "2020      368767320  472211986"
      ]
     },
     "execution_count": 24,
     "metadata": {},
     "output_type": "execute_result"
    }
   ],
   "source": [
    "# Make manually \n",
    "US_total_2016_pass = US[\"Passengers\"][US[\"Year\"] == 2016].sum()\n",
    "US_total_2017_pass = US[\"Passengers\"][US[\"Year\"] == 2017].sum()\n",
    "US_total_2018_pass = US[\"Passengers\"][US[\"Year\"] == 2018].sum()\n",
    "US_total_2019_pass = US[\"Passengers\"][US[\"Year\"] == 2019].sum()\n",
    "US_total_2020_pass = US[\"Passengers\"][US[\"Year\"] == 2020].sum()\n",
    "\n",
    "China_total_2016_pass = China[\"Passengers\"][China[\"Year\"] == 2016].sum()\n",
    "China_total_2017_pass = China[\"Passengers\"][China[\"Year\"] == 2017].sum()\n",
    "China_total_2018_pass = China[\"Passengers\"][China[\"Year\"] == 2018].sum()\n",
    "China_total_2019_pass = China[\"Passengers\"][China[\"Year\"] == 2019].sum()\n",
    "China_total_2020_pass = China[\"Passengers\"][China[\"Year\"] == 2020].sum()\n",
    "\n",
    "# After you get each put into a dictionary, then set index to country \n",
    "# Then format according to the problem\n",
    "# US_China_tot_part1 = {\"Country\":[\"United States\", \"China\"], \n",
    "#                       \"2016\": [US_total_2016_pass, China_total_2016_pass], \n",
    "#                       \"2017\":[US_total_2017_pass, China_total_2017_pass], \n",
    "#                       \"2018\":[US_total_2018_pass, China_total_2018_pass], \n",
    "#                       \"2019\":[US_total_2019_pass, China_total_2019_pass],\n",
    "#                       \"2020\":[US_total_2020_pass, China_total_2020_pass]}\n",
    "# US_China_Passengers = pd.DataFrame(US_China_tot_part1)\n",
    "# US_China_Passengers_t = US_China_Passengers.set_index(\"Country\")\n",
    "# US_China_Passengers_t.transpose()\n",
    "\n",
    "# If I wanted the chart to be a little more proper \n",
    "US_China_tot_part2 = {\"United States\":[US_total_2016_pass, US_total_2017_pass, US_total_2018_pass, \n",
    "                                      US_total_2019_pass, US_total_2020_pass], \n",
    "                     \"China\":[China_total_2016_pass, China_total_2017_pass, China_total_2018_pass,\n",
    "                             China_total_2019_pass, China_total_2020_pass], \n",
    "                     \"Year\":[2016,2017,2018,2019,2020]}\n",
    "US_China_Passengers_pt2 = pd.DataFrame(US_China_tot_part2)\n",
    "US_C_Pass = US_China_Passengers_pt2.set_index(\"Year\")\n",
    "US_C_Pass"
   ]
  },
  {
   "cell_type": "code",
   "execution_count": 25,
   "metadata": {},
   "outputs": [
    {
     "data": {
      "text/html": [
       "<div>\n",
       "<style scoped>\n",
       "    .dataframe tbody tr th:only-of-type {\n",
       "        vertical-align: middle;\n",
       "    }\n",
       "\n",
       "    .dataframe tbody tr th {\n",
       "        vertical-align: top;\n",
       "    }\n",
       "\n",
       "    .dataframe thead th {\n",
       "        text-align: right;\n",
       "    }\n",
       "</style>\n",
       "<table border=\"1\" class=\"dataframe\">\n",
       "  <thead>\n",
       "    <tr style=\"text-align: right;\">\n",
       "      <th></th>\n",
       "      <th>United States</th>\n",
       "      <th>China</th>\n",
       "    </tr>\n",
       "    <tr>\n",
       "      <th>Year</th>\n",
       "      <th></th>\n",
       "      <th></th>\n",
       "    </tr>\n",
       "  </thead>\n",
       "  <tbody>\n",
       "    <tr>\n",
       "      <th>2016</th>\n",
       "      <td>886062548</td>\n",
       "      <td>390582892</td>\n",
       "    </tr>\n",
       "    <tr>\n",
       "      <th>2017</th>\n",
       "      <td>869980194</td>\n",
       "      <td>455506455</td>\n",
       "    </tr>\n",
       "    <tr>\n",
       "      <th>2018</th>\n",
       "      <td>904921387</td>\n",
       "      <td>482556514</td>\n",
       "    </tr>\n",
       "    <tr>\n",
       "      <th>2019</th>\n",
       "      <td>934865503</td>\n",
       "      <td>544055234</td>\n",
       "    </tr>\n",
       "    <tr>\n",
       "      <th>2020</th>\n",
       "      <td>368767320</td>\n",
       "      <td>472211986</td>\n",
       "    </tr>\n",
       "  </tbody>\n",
       "</table>\n",
       "</div>"
      ],
      "text/plain": [
       "      United States      China\n",
       "Year                          \n",
       "2016      886062548  390582892\n",
       "2017      869980194  455506455\n",
       "2018      904921387  482556514\n",
       "2019      934865503  544055234\n",
       "2020      368767320  472211986"
      ]
     },
     "execution_count": 25,
     "metadata": {},
     "output_type": "execute_result"
    }
   ],
   "source": [
    "US_China_tot = US_C_Pass\n",
    "US_China_tot"
   ]
  },
  {
   "cell_type": "markdown",
   "metadata": {},
   "source": [
    "### Question 3.3 *(4 pts)*"
   ]
  },
  {
   "cell_type": "markdown",
   "metadata": {},
   "source": [
    "Using the `US_China_tot` table from the previous question, construct an appropriate plot that shows these totals for passengers over time for each of the two countries."
   ]
  },
  {
   "cell_type": "code",
   "execution_count": 26,
   "metadata": {},
   "outputs": [
    {
     "data": {
      "text/plain": [
       "Text(0.5, 1.0, 'Passengers Over Time in the United States versus China')"
      ]
     },
     "execution_count": 26,
     "metadata": {},
     "output_type": "execute_result"
    },
    {
     "data": {
      "image/png": "[encoded data removed]",
      "text/plain": [
       "<Figure size 432x288 with 1 Axes>"
      ]
     },
     "metadata": {},
     "output_type": "display_data"
    }
   ],
   "source": [
    "US_China_tot.plot()\n",
    "plt.ylabel(\"Passengers\")\n",
    "plt.title(\"Passengers Over Time in the United States versus China\")"
   ]
  },
  {
   "cell_type": "markdown",
   "metadata": {},
   "source": [
    "### Question 4.1 *(8 pts)*"
   ]
  },
  {
   "cell_type": "markdown",
   "metadata": {},
   "source": [
    "Write a function, `airport_prop` with arguments for IATA Code, country, and year for a given airport in the data (in that order). The function should return the proportion of passengers in that country's airports (from these top 50 most crowded airports) that went through the specific airport with the given IATA Code in the given year. "
   ]
  },
  {
   "cell_type": "code",
   "execution_count": 27,
   "metadata": {},
   "outputs": [],
   "source": [
    "# Airports2"
   ]
  },
  {
   "cell_type": "code",
   "execution_count": 28,
   "metadata": {},
   "outputs": [],
   "source": [
    "#Plan:\n",
    "\n",
    "# def airport_prop(IATA_Code, country, year):\n",
    "    # I need the proportion of passengers in that country's airports (from the top 50)\n",
    "        # So this should be IATA_CODE(for specific year)/Total_passengers_for_country(for specific year) \n",
    "            # Return the final proportion "
   ]
  },
  {
   "cell_type": "code",
   "execution_count": 29,
   "metadata": {},
   "outputs": [],
   "source": [
    "def airport_prop(IATA_Code, Country, Year):\n",
    "    function_df = Airports2[Airports2[\"Year\"] == Year]\n",
    "    IATA_People = function_df[function_df[\"IATA Code\"] == str(IATA_Code)][\"Passengers\"].sum()\n",
    "    Total_People = function_df[function_df[\"Country\"] == str(Country)][\"Passengers\"].sum()\n",
    "    division_math = IATA_People/Total_People\n",
    "    return division_math"
   ]
  },
  {
   "cell_type": "markdown",
   "metadata": {},
   "source": [
    "Run the cell below to check your function."
   ]
  },
  {
   "cell_type": "code",
   "execution_count": 30,
   "metadata": {},
   "outputs": [
    {
     "data": {
      "text/plain": [
       "0.08029706493512576"
      ]
     },
     "execution_count": 30,
     "metadata": {},
     "output_type": "execute_result"
    }
   ],
   "source": [
    "airport_prop('DFW','United States', 2019)"
   ]
  },
  {
   "cell_type": "markdown",
   "metadata": {},
   "source": [
    "### Question 4.2 *(6 pts)*"
   ]
  },
  {
   "cell_type": "markdown",
   "metadata": {},
   "source": [
    "Construct a new table, `Airports_prop_2020` for just the 2020 data. It should have all of the columns of the `Airports` table as well as a new column `Passengers Proportion`, which is the proportion of passengers from a given country's airports (from these top 50 most crowded airports) that went through a given airport in 2020. You should use the apply function and your function created in the previous question to answer this question. Sort the data in the `Airports_prop_2020` table by this new `Passengers Proportion` column in ascending order."
   ]
  },
  {
   "cell_type": "code",
   "execution_count": 31,
   "metadata": {},
   "outputs": [],
   "source": [
    "# Airports2.head(1)"
   ]
  },
  {
   "cell_type": "code",
   "execution_count": 32,
   "metadata": {},
   "outputs": [],
   "source": [
    "# Step 1: Filter for just the 2020 data \n",
    "Airports_2020_Only = Airports2[Airports2[\"Year\"] == 2020]"
   ]
  },
  {
   "cell_type": "code",
   "execution_count": 33,
   "metadata": {},
   "outputs": [],
   "source": [
    "code = Airports_2020_Only[\"IATA Code\"]\n",
    "country = Airports_2020_Only[\"Country\"]\n",
    "year = Airports_2020_Only[\"Year\"]\n",
    "\n",
    "len(Airports_2020_Only)\n",
    "\n",
    "new_info = [] \n",
    "\n",
    "for x in np.arange(0,50,1):\n",
    "    new_info.append(airport_prop(code[x], country[x], year[x]))"
   ]
  },
  {
   "cell_type": "code",
   "execution_count": 34,
   "metadata": {},
   "outputs": [
    {
     "name": "stderr",
     "output_type": "stream",
     "text": [
      "C:\\Users\\adeve\\AppData\\Local\\Temp/ipykernel_22424/349593407.py:5: SettingWithCopyWarning: \n",
      "A value is trying to be set on a copy of a slice from a DataFrame.\n",
      "Try using .loc[row_indexer,col_indexer] = value instead\n",
      "\n",
      "See the caveats in the documentation: https://pandas.pydata.org/pandas-docs/stable/user_guide/indexing.html#returning-a-view-versus-a-copy\n",
      "  Airports_2020_Only[\"Passengers Proportion\"] = new_info\n"
     ]
    }
   ],
   "source": [
    "dictionary = {\"Passengers Proportion\": new_info}\n",
    "dict_df = pd.DataFrame(dictionary)\n",
    "\n",
    "array_attempt = make_array(new_info)\n",
    "Airports_2020_Only[\"Passengers Proportion\"] = new_info"
   ]
  },
  {
   "cell_type": "code",
   "execution_count": 35,
   "metadata": {},
   "outputs": [],
   "source": [
    "# Airports_2020_Only.sort_values(\"Passengers Proportion\")"
   ]
  },
  {
   "cell_type": "code",
   "execution_count": 36,
   "metadata": {},
   "outputs": [
    {
     "data": {
      "text/html": [
       "<div>\n",
       "<style scoped>\n",
       "    .dataframe tbody tr th:only-of-type {\n",
       "        vertical-align: middle;\n",
       "    }\n",
       "\n",
       "    .dataframe tbody tr th {\n",
       "        vertical-align: top;\n",
       "    }\n",
       "\n",
       "    .dataframe thead th {\n",
       "        text-align: right;\n",
       "    }\n",
       "</style>\n",
       "<table border=\"1\" class=\"dataframe\">\n",
       "  <thead>\n",
       "    <tr style=\"text-align: right;\">\n",
       "      <th></th>\n",
       "      <th>Rank</th>\n",
       "      <th>Airport</th>\n",
       "      <th>Location</th>\n",
       "      <th>Country</th>\n",
       "      <th>IATA Code</th>\n",
       "      <th>ICAO Code</th>\n",
       "      <th>Passengers</th>\n",
       "      <th>Year</th>\n",
       "      <th>Passengers in Millions</th>\n",
       "      <th>Bins</th>\n",
       "      <th>Passengers Proportion</th>\n",
       "    </tr>\n",
       "  </thead>\n",
       "  <tbody>\n",
       "    <tr>\n",
       "      <th>48</th>\n",
       "      <td>49</td>\n",
       "      <td>China Beijing Daxing International Airport</td>\n",
       "      <td>Daxing District, Beijing</td>\n",
       "      <td>China</td>\n",
       "      <td>PKX</td>\n",
       "      <td>ZBAD</td>\n",
       "      <td>16091449</td>\n",
       "      <td>2020</td>\n",
       "      <td>16.091449</td>\n",
       "      <td>10-19</td>\n",
       "      <td>0.034077</td>\n",
       "    </tr>\n",
       "    <tr>\n",
       "      <th>44</th>\n",
       "      <td>45</td>\n",
       "      <td>China Haikou Meilan International Airport</td>\n",
       "      <td>Lingshan, Haikou, Hainan</td>\n",
       "      <td>China</td>\n",
       "      <td>HAK</td>\n",
       "      <td>ZJHK</td>\n",
       "      <td>16490216</td>\n",
       "      <td>2020</td>\n",
       "      <td>16.490216</td>\n",
       "      <td>10-19</td>\n",
       "      <td>0.034921</td>\n",
       "    </tr>\n",
       "    <tr>\n",
       "      <th>43</th>\n",
       "      <td>44</td>\n",
       "      <td>China Guiyang Longdongbao International Airport</td>\n",
       "      <td>Nanming District, Guiyang, Guizhou</td>\n",
       "      <td>China</td>\n",
       "      <td>KWE</td>\n",
       "      <td>ZUGY</td>\n",
       "      <td>16583878</td>\n",
       "      <td>2020</td>\n",
       "      <td>16.583878</td>\n",
       "      <td>10-19</td>\n",
       "      <td>0.035120</td>\n",
       "    </tr>\n",
       "    <tr>\n",
       "      <th>40</th>\n",
       "      <td>41</td>\n",
       "      <td>China Xiamen Gaoqi International Airport</td>\n",
       "      <td>Huli District, Xiamen, Fujian</td>\n",
       "      <td>China</td>\n",
       "      <td>XMN</td>\n",
       "      <td>ZSAM</td>\n",
       "      <td>16710197</td>\n",
       "      <td>2020</td>\n",
       "      <td>16.710197</td>\n",
       "      <td>10-19</td>\n",
       "      <td>0.035387</td>\n",
       "    </tr>\n",
       "    <tr>\n",
       "      <th>33</th>\n",
       "      <td>34</td>\n",
       "      <td>China Changsha Huanghua International Airport</td>\n",
       "      <td>Huanghua, Changsha, Hunan</td>\n",
       "      <td>China</td>\n",
       "      <td>CSX</td>\n",
       "      <td>ZGHA</td>\n",
       "      <td>19223825</td>\n",
       "      <td>2020</td>\n",
       "      <td>19.223825</td>\n",
       "      <td>10-19</td>\n",
       "      <td>0.040710</td>\n",
       "    </tr>\n",
       "  </tbody>\n",
       "</table>\n",
       "</div>"
      ],
      "text/plain": [
       "    Rank                                          Airport  \\\n",
       "48    49       China Beijing Daxing International Airport   \n",
       "44    45        China Haikou Meilan International Airport   \n",
       "43    44  China Guiyang Longdongbao International Airport   \n",
       "40    41         China Xiamen Gaoqi International Airport   \n",
       "33    34    China Changsha Huanghua International Airport   \n",
       "\n",
       "                              Location Country IATA Code ICAO Code  \\\n",
       "48            Daxing District, Beijing   China       PKX      ZBAD   \n",
       "44            Lingshan, Haikou, Hainan   China       HAK      ZJHK   \n",
       "43  Nanming District, Guiyang, Guizhou   China       KWE      ZUGY   \n",
       "40       Huli District, Xiamen, Fujian   China       XMN      ZSAM   \n",
       "33           Huanghua, Changsha, Hunan   China       CSX      ZGHA   \n",
       "\n",
       "    Passengers  Year  Passengers in Millions   Bins  Passengers Proportion  \n",
       "48    16091449  2020               16.091449  10-19               0.034077  \n",
       "44    16490216  2020               16.490216  10-19               0.034921  \n",
       "43    16583878  2020               16.583878  10-19               0.035120  \n",
       "40    16710197  2020               16.710197  10-19               0.035387  \n",
       "33    19223825  2020               19.223825  10-19               0.040710  "
      ]
     },
     "execution_count": 36,
     "metadata": {},
     "output_type": "execute_result"
    }
   ],
   "source": [
    "Airports_prop_2020 = Airports_2020_Only.sort_values(\"Passengers Proportion\")\n",
    "Airports_prop_2020.head(5)"
   ]
  },
  {
   "cell_type": "code",
   "execution_count": null,
   "metadata": {},
   "outputs": [],
   "source": []
  }
 ],
 "metadata": {
  "kernelspec": {
   "display_name": "PythonData",
   "language": "python",
   "name": "pythondata"
  },
  "language_info": {
   "codemirror_mode": {
    "name": "ipython",
    "version": 3
   },
   "file_extension": ".py",
   "mimetype": "text/x-python",
   "name": "python",
   "nbconvert_exporter": "python",
   "pygments_lexer": "ipython3",
   "version": "3.9.7"
  }
 },
 "nbformat": 4,
 "nbformat_minor": 4
}
