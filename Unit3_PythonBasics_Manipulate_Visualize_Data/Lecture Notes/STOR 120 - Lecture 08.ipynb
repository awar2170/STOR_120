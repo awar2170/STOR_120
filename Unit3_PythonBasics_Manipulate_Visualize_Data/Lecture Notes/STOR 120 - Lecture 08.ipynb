{
 "cells": [
  {
   "cell_type": "code",
   "execution_count": 8,
   "metadata": {},
   "outputs": [],
   "source": [
    "from datascience import *\n",
    "import numpy as np\n",
    "import warnings\n",
    "warnings.filterwarnings(\"ignore\")\n",
    "\n",
    "%matplotlib inline\n",
    "import matplotlib.pyplot as plots\n",
    "plots.style.use('fivethirtyeight')\n",
    "plots.rcParams[\"patch.force_edgecolor\"] = True"
   ]
  },
  {
   "cell_type": "markdown",
   "metadata": {},
   "source": [
    "## Lecture 8 ##"
   ]
  },
  {
   "cell_type": "markdown",
   "metadata": {},
   "source": [
    "## Categorical Distribution ##"
   ]
  },
  {
   "cell_type": "code",
   "execution_count": 10,
   "metadata": {},
   "outputs": [
    {
     "data": {
      "text/html": [
       "<table border=\"1\" class=\"dataframe\">\n",
       "    <thead>\n",
       "        <tr>\n",
       "            <th>Rank</th> <th>Name</th> <th>Platform</th> <th>Year</th> <th>Genre</th> <th>Publisher</th> <th>NA_Sales</th> <th>EU_Sales</th> <th>JP_Sales</th> <th>Other_Sales</th> <th>Global_Sales</th>\n",
       "        </tr>\n",
       "    </thead>\n",
       "    <tbody>\n",
       "        <tr>\n",
       "            <td>1   </td> <td>Wii Sports               </td> <td>Wii     </td> <td>2006</td> <td>Sports      </td> <td>Nintendo </td> <td>41.49   </td> <td>29.02   </td> <td>3.77    </td> <td>8.46       </td> <td>82.74       </td>\n",
       "        </tr>\n",
       "        <tr>\n",
       "            <td>2   </td> <td>Super Mario Bros.        </td> <td>NES     </td> <td>1985</td> <td>Platform    </td> <td>Nintendo </td> <td>29.08   </td> <td>3.58    </td> <td>6.81    </td> <td>0.77       </td> <td>40.24       </td>\n",
       "        </tr>\n",
       "        <tr>\n",
       "            <td>3   </td> <td>Mario Kart Wii           </td> <td>Wii     </td> <td>2008</td> <td>Racing      </td> <td>Nintendo </td> <td>15.85   </td> <td>12.88   </td> <td>3.79    </td> <td>3.31       </td> <td>35.82       </td>\n",
       "        </tr>\n",
       "        <tr>\n",
       "            <td>4   </td> <td>Wii Sports Resort        </td> <td>Wii     </td> <td>2009</td> <td>Sports      </td> <td>Nintendo </td> <td>15.75   </td> <td>11.01   </td> <td>3.28    </td> <td>2.96       </td> <td>33          </td>\n",
       "        </tr>\n",
       "        <tr>\n",
       "            <td>5   </td> <td>Pokemon Red/Pokemon Blue </td> <td>GB      </td> <td>1996</td> <td>Role-Playing</td> <td>Nintendo </td> <td>11.27   </td> <td>8.89    </td> <td>10.22   </td> <td>1          </td> <td>31.37       </td>\n",
       "        </tr>\n",
       "        <tr>\n",
       "            <td>6   </td> <td>Tetris                   </td> <td>GB      </td> <td>1989</td> <td>Puzzle      </td> <td>Nintendo </td> <td>23.2    </td> <td>2.26    </td> <td>4.22    </td> <td>0.58       </td> <td>30.26       </td>\n",
       "        </tr>\n",
       "        <tr>\n",
       "            <td>7   </td> <td>New Super Mario Bros.    </td> <td>DS      </td> <td>2006</td> <td>Platform    </td> <td>Nintendo </td> <td>11.38   </td> <td>9.23    </td> <td>6.5     </td> <td>2.9        </td> <td>30.01       </td>\n",
       "        </tr>\n",
       "        <tr>\n",
       "            <td>8   </td> <td>Wii Play                 </td> <td>Wii     </td> <td>2006</td> <td>Misc        </td> <td>Nintendo </td> <td>14.03   </td> <td>9.2     </td> <td>2.93    </td> <td>2.85       </td> <td>29.02       </td>\n",
       "        </tr>\n",
       "        <tr>\n",
       "            <td>9   </td> <td>New Super Mario Bros. Wii</td> <td>Wii     </td> <td>2009</td> <td>Platform    </td> <td>Nintendo </td> <td>14.59   </td> <td>7.06    </td> <td>4.7     </td> <td>2.26       </td> <td>28.62       </td>\n",
       "        </tr>\n",
       "        <tr>\n",
       "            <td>10  </td> <td>Duck Hunt                </td> <td>NES     </td> <td>1984</td> <td>Shooter     </td> <td>Nintendo </td> <td>26.93   </td> <td>0.63    </td> <td>0.28    </td> <td>0.47       </td> <td>28.31       </td>\n",
       "        </tr>\n",
       "    </tbody>\n",
       "</table>\n",
       "<p>... (16588 rows omitted)</p>"
      ],
      "text/plain": [
       "Rank | Name                      | Platform | Year | Genre        | Publisher | NA_Sales | EU_Sales | JP_Sales | Other_Sales | Global_Sales\n",
       "1    | Wii Sports                | Wii      | 2006 | Sports       | Nintendo  | 41.49    | 29.02    | 3.77     | 8.46        | 82.74\n",
       "2    | Super Mario Bros.         | NES      | 1985 | Platform     | Nintendo  | 29.08    | 3.58     | 6.81     | 0.77        | 40.24\n",
       "3    | Mario Kart Wii            | Wii      | 2008 | Racing       | Nintendo  | 15.85    | 12.88    | 3.79     | 3.31        | 35.82\n",
       "4    | Wii Sports Resort         | Wii      | 2009 | Sports       | Nintendo  | 15.75    | 11.01    | 3.28     | 2.96        | 33\n",
       "5    | Pokemon Red/Pokemon Blue  | GB       | 1996 | Role-Playing | Nintendo  | 11.27    | 8.89     | 10.22    | 1           | 31.37\n",
       "6    | Tetris                    | GB       | 1989 | Puzzle       | Nintendo  | 23.2     | 2.26     | 4.22     | 0.58        | 30.26\n",
       "7    | New Super Mario Bros.     | DS       | 2006 | Platform     | Nintendo  | 11.38    | 9.23     | 6.5      | 2.9         | 30.01\n",
       "8    | Wii Play                  | Wii      | 2006 | Misc         | Nintendo  | 14.03    | 9.2      | 2.93     | 2.85        | 29.02\n",
       "9    | New Super Mario Bros. Wii | Wii      | 2009 | Platform     | Nintendo  | 14.59    | 7.06     | 4.7      | 2.26        | 28.62\n",
       "10   | Duck Hunt                 | NES      | 1984 | Shooter      | Nintendo  | 26.93    | 0.63     | 0.28     | 0.47        | 28.31\n",
       "... (16588 rows omitted)"
      ]
     },
     "execution_count": 10,
     "metadata": {},
     "output_type": "execute_result"
    }
   ],
   "source": [
    "vgsales = Table.read_table('../Datasets/vgsales.csv')\n",
    "vgsales"
   ]
  },
  {
   "cell_type": "code",
   "execution_count": 13,
   "metadata": {},
   "outputs": [
    {
     "data": {
      "image/png": "[encoded data removed]",
      "text/plain": [
       "<Figure size 432x360 with 1 Axes>"
      ]
     },
     "metadata": {},
     "output_type": "display_data"
    }
   ],
   "source": [
    "# New years_since variable\n",
    "years_since = 2022 - vgsales.column('Year')\n",
    "# THis is because we don't have a years_since column in the data yet, \n",
    "# and we have to make a column that has the data that we want to apply it to a bar chart \n",
    "\n",
    "# Add Age column to table\n",
    "vgsales = vgsales.with_column('Years Since Release', years_since)\n",
    "# This puts the years_since column into the vgsales data \n",
    "#dataframe.with_column(\"Column Name\", array for the data)\n",
    "\n",
    "# Select Nintendo, sort by gloabl sales, and make new table with 10 largest gloabl sales\n",
    "top10_nintendo = vgsales.sort('Global_Sales', descending=True).where('Publisher', 'Nintendo').take(np.arange(10))\n",
    "# THis is sorting the vgsales by global_sales column and \n",
    "# np.arange(10) takes just ten I think \n",
    "# The .where tells thething to see where the publisher is intendo \n",
    "\n",
    "# Barplot for Age of movies by title\n",
    "top10_nintendo.barh('Name', 'Years Since Release')\n"
   ]
  },
  {
   "cell_type": "code",
   "execution_count": 14,
   "metadata": {},
   "outputs": [
    {
     "data": {
      "text/html": [
       "<table border=\"1\" class=\"dataframe\">\n",
       "    <thead>\n",
       "        <tr>\n",
       "            <th>Genre</th>\n",
       "        </tr>\n",
       "    </thead>\n",
       "    <tbody>\n",
       "        <tr>\n",
       "            <td>Sports      </td>\n",
       "        </tr>\n",
       "        <tr>\n",
       "            <td>Platform    </td>\n",
       "        </tr>\n",
       "        <tr>\n",
       "            <td>Racing      </td>\n",
       "        </tr>\n",
       "        <tr>\n",
       "            <td>Sports      </td>\n",
       "        </tr>\n",
       "        <tr>\n",
       "            <td>Role-Playing</td>\n",
       "        </tr>\n",
       "        <tr>\n",
       "            <td>Puzzle      </td>\n",
       "        </tr>\n",
       "        <tr>\n",
       "            <td>Platform    </td>\n",
       "        </tr>\n",
       "        <tr>\n",
       "            <td>Misc        </td>\n",
       "        </tr>\n",
       "        <tr>\n",
       "            <td>Platform    </td>\n",
       "        </tr>\n",
       "        <tr>\n",
       "            <td>Shooter     </td>\n",
       "        </tr>\n",
       "    </tbody>\n",
       "</table>\n",
       "<p>... (16588 rows omitted)</p>"
      ],
      "text/plain": [
       "Genre\n",
       "Sports\n",
       "Platform\n",
       "Racing\n",
       "Sports\n",
       "Role-Playing\n",
       "Puzzle\n",
       "Platform\n",
       "Misc\n",
       "Platform\n",
       "Shooter\n",
       "... (16588 rows omitted)"
      ]
     },
     "execution_count": 14,
     "metadata": {},
     "output_type": "execute_result"
    }
   ],
   "source": [
    "genre = vgsales.select('Genre')\n",
    "genre\n",
    "# THis is just the column of genre from vgsales \n",
    "# Start from the simple, then get bigger "
   ]
  },
  {
   "cell_type": "code",
   "execution_count": 15,
   "metadata": {},
   "outputs": [],
   "source": [
    "genre_distribution = genre.group('Genre')"
   ]
  },
  {
   "cell_type": "code",
   "execution_count": 16,
   "metadata": {},
   "outputs": [
    {
     "data": {
      "text/html": [
       "<table border=\"1\" class=\"dataframe\">\n",
       "    <thead>\n",
       "        <tr>\n",
       "            <th>Genre</th> <th>count</th>\n",
       "        </tr>\n",
       "    </thead>\n",
       "    <tbody>\n",
       "        <tr>\n",
       "            <td>Action      </td> <td>3316 </td>\n",
       "        </tr>\n",
       "        <tr>\n",
       "            <td>Adventure   </td> <td>1286 </td>\n",
       "        </tr>\n",
       "        <tr>\n",
       "            <td>Fighting    </td> <td>848  </td>\n",
       "        </tr>\n",
       "        <tr>\n",
       "            <td>Misc        </td> <td>1739 </td>\n",
       "        </tr>\n",
       "        <tr>\n",
       "            <td>Platform    </td> <td>886  </td>\n",
       "        </tr>\n",
       "        <tr>\n",
       "            <td>Puzzle      </td> <td>582  </td>\n",
       "        </tr>\n",
       "        <tr>\n",
       "            <td>Racing      </td> <td>1249 </td>\n",
       "        </tr>\n",
       "        <tr>\n",
       "            <td>Role-Playing</td> <td>1488 </td>\n",
       "        </tr>\n",
       "        <tr>\n",
       "            <td>Shooter     </td> <td>1310 </td>\n",
       "        </tr>\n",
       "        <tr>\n",
       "            <td>Simulation  </td> <td>867  </td>\n",
       "        </tr>\n",
       "    </tbody>\n",
       "</table>\n",
       "<p>... (2 rows omitted)</p>"
      ],
      "text/plain": [
       "Genre        | count\n",
       "Action       | 3316\n",
       "Adventure    | 1286\n",
       "Fighting     | 848\n",
       "Misc         | 1739\n",
       "Platform     | 886\n",
       "Puzzle       | 582\n",
       "Racing       | 1249\n",
       "Role-Playing | 1488\n",
       "Shooter      | 1310\n",
       "Simulation   | 867\n",
       "... (2 rows omitted)"
      ]
     },
     "execution_count": 16,
     "metadata": {},
     "output_type": "execute_result"
    }
   ],
   "source": [
    "genre_distribution "
   ]
  },
  {
   "cell_type": "code",
   "execution_count": 17,
   "metadata": {},
   "outputs": [
    {
     "data": {
      "text/plain": [
       "16598"
      ]
     },
     "execution_count": 17,
     "metadata": {},
     "output_type": "execute_result"
    }
   ],
   "source": [
    "sum(genre_distribution.column('count'))"
   ]
  },
  {
   "cell_type": "markdown",
   "metadata": {},
   "source": [
    "## Bar Charts ##"
   ]
  },
  {
   "cell_type": "code",
   "execution_count": 18,
   "metadata": {},
   "outputs": [
    {
     "data": {
      "image/png": "[encoded data removed]",
      "text/plain": [
       "<Figure size 432x432 with 1 Axes>"
      ]
     },
     "metadata": {},
     "output_type": "display_data"
    }
   ],
   "source": [
    "genre_distribution.barh('Genre')"
   ]
  },
  {
   "cell_type": "code",
   "execution_count": 19,
   "metadata": {},
   "outputs": [
    {
     "data": {
      "image/png": "[encoded data removed]",
      "text/plain": [
       "<Figure size 432x432 with 1 Axes>"
      ]
     },
     "metadata": {},
     "output_type": "display_data"
    }
   ],
   "source": [
    "genre_distribution.sort('count', descending=True).barh('Genre')\n",
    "# This sorts the data in one direction \n",
    "# We are looking at the drop off of game types "
   ]
  },
  {
   "cell_type": "markdown",
   "metadata": {},
   "source": [
    "## Numerical Distribution - Binning \n",
    "- looking at how many values are in certain ranges \n",
    "- certain bins \n",
    "- the lower bound of the bin is included, and the upper bound is no included \n",
    "- want to get a rough idea of what is goin on in a districution \n",
    "- want to look at teh video game sales and want to learn more about the years before relase adn how its spread out before teh release \n",
    "- want to devleop some binning for the data \n",
    "- to start this: what's the most recent game and the oldest? \n",
    "- min and max \n",
    "\n",
    "- the min and max wouldn't give us a tuple if we forgot to include the comma \n",
    "- the most recent game came out 2 years ago and the oldest came out 42 years ago \n",
    "\n",
    "- the my_bins\n",
    "    - choing random values, they don't really have meaning \n",
    "    - the top value has to be bigger than the largest value because we want to include the top alue \n",
    "    - we have chosen purposeful not equal with bins to see teh different impact of this \n",
    "    \n",
    "- New table, bin_data section \n",
    "    - dataframe.bin(\"Name of the column you want to bin\", bins = my_bins) \n",
    "    - you have to define what \"my_bins\" are each time \n",
    " \n",
    "- Sum of the bin data \n",
    "    - this has sum(dataframe.column('Column you want to sum'))\n",
    "\n",
    "- We look at vgsales.sort since release becayse we want to see if \n",
    "    - the newest title and the other ones \n",
    "    - its the other end that have values that don thaevnumeric values \n",
    "    - if we decending = true, we can see the end of the things that have NAN orders "
   ]
  },
  {
   "cell_type": "code",
   "execution_count": 20,
   "metadata": {},
   "outputs": [
    {
     "data": {
      "text/html": [
       "<table border=\"1\" class=\"dataframe\">\n",
       "    <thead>\n",
       "        <tr>\n",
       "            <th>Rank</th> <th>Name</th> <th>Platform</th> <th>Year</th> <th>Genre</th> <th>Publisher</th> <th>NA_Sales</th> <th>EU_Sales</th> <th>JP_Sales</th> <th>Other_Sales</th> <th>Global_Sales</th> <th>Years Since Release</th>\n",
       "        </tr>\n",
       "    </thead>\n",
       "    <tbody>\n",
       "        <tr>\n",
       "            <td>1   </td> <td>Wii Sports               </td> <td>Wii     </td> <td>2006</td> <td>Sports      </td> <td>Nintendo </td> <td>41.49   </td> <td>29.02   </td> <td>3.77    </td> <td>8.46       </td> <td>82.74       </td> <td>16                 </td>\n",
       "        </tr>\n",
       "        <tr>\n",
       "            <td>2   </td> <td>Super Mario Bros.        </td> <td>NES     </td> <td>1985</td> <td>Platform    </td> <td>Nintendo </td> <td>29.08   </td> <td>3.58    </td> <td>6.81    </td> <td>0.77       </td> <td>40.24       </td> <td>37                 </td>\n",
       "        </tr>\n",
       "        <tr>\n",
       "            <td>3   </td> <td>Mario Kart Wii           </td> <td>Wii     </td> <td>2008</td> <td>Racing      </td> <td>Nintendo </td> <td>15.85   </td> <td>12.88   </td> <td>3.79    </td> <td>3.31       </td> <td>35.82       </td> <td>14                 </td>\n",
       "        </tr>\n",
       "        <tr>\n",
       "            <td>4   </td> <td>Wii Sports Resort        </td> <td>Wii     </td> <td>2009</td> <td>Sports      </td> <td>Nintendo </td> <td>15.75   </td> <td>11.01   </td> <td>3.28    </td> <td>2.96       </td> <td>33          </td> <td>13                 </td>\n",
       "        </tr>\n",
       "        <tr>\n",
       "            <td>5   </td> <td>Pokemon Red/Pokemon Blue </td> <td>GB      </td> <td>1996</td> <td>Role-Playing</td> <td>Nintendo </td> <td>11.27   </td> <td>8.89    </td> <td>10.22   </td> <td>1          </td> <td>31.37       </td> <td>26                 </td>\n",
       "        </tr>\n",
       "        <tr>\n",
       "            <td>6   </td> <td>Tetris                   </td> <td>GB      </td> <td>1989</td> <td>Puzzle      </td> <td>Nintendo </td> <td>23.2    </td> <td>2.26    </td> <td>4.22    </td> <td>0.58       </td> <td>30.26       </td> <td>33                 </td>\n",
       "        </tr>\n",
       "        <tr>\n",
       "            <td>7   </td> <td>New Super Mario Bros.    </td> <td>DS      </td> <td>2006</td> <td>Platform    </td> <td>Nintendo </td> <td>11.38   </td> <td>9.23    </td> <td>6.5     </td> <td>2.9        </td> <td>30.01       </td> <td>16                 </td>\n",
       "        </tr>\n",
       "        <tr>\n",
       "            <td>8   </td> <td>Wii Play                 </td> <td>Wii     </td> <td>2006</td> <td>Misc        </td> <td>Nintendo </td> <td>14.03   </td> <td>9.2     </td> <td>2.93    </td> <td>2.85       </td> <td>29.02       </td> <td>16                 </td>\n",
       "        </tr>\n",
       "        <tr>\n",
       "            <td>9   </td> <td>New Super Mario Bros. Wii</td> <td>Wii     </td> <td>2009</td> <td>Platform    </td> <td>Nintendo </td> <td>14.59   </td> <td>7.06    </td> <td>4.7     </td> <td>2.26       </td> <td>28.62       </td> <td>13                 </td>\n",
       "        </tr>\n",
       "        <tr>\n",
       "            <td>10  </td> <td>Duck Hunt                </td> <td>NES     </td> <td>1984</td> <td>Shooter     </td> <td>Nintendo </td> <td>26.93   </td> <td>0.63    </td> <td>0.28    </td> <td>0.47       </td> <td>28.31       </td> <td>38                 </td>\n",
       "        </tr>\n",
       "    </tbody>\n",
       "</table>\n",
       "<p>... (16588 rows omitted)</p>"
      ],
      "text/plain": [
       "Rank | Name                      | Platform | Year | Genre        | Publisher | NA_Sales | EU_Sales | JP_Sales | Other_Sales | Global_Sales | Years Since Release\n",
       "1    | Wii Sports                | Wii      | 2006 | Sports       | Nintendo  | 41.49    | 29.02    | 3.77     | 8.46        | 82.74        | 16\n",
       "2    | Super Mario Bros.         | NES      | 1985 | Platform     | Nintendo  | 29.08    | 3.58     | 6.81     | 0.77        | 40.24        | 37\n",
       "3    | Mario Kart Wii            | Wii      | 2008 | Racing       | Nintendo  | 15.85    | 12.88    | 3.79     | 3.31        | 35.82        | 14\n",
       "4    | Wii Sports Resort         | Wii      | 2009 | Sports       | Nintendo  | 15.75    | 11.01    | 3.28     | 2.96        | 33           | 13\n",
       "5    | Pokemon Red/Pokemon Blue  | GB       | 1996 | Role-Playing | Nintendo  | 11.27    | 8.89     | 10.22    | 1           | 31.37        | 26\n",
       "6    | Tetris                    | GB       | 1989 | Puzzle       | Nintendo  | 23.2     | 2.26     | 4.22     | 0.58        | 30.26        | 33\n",
       "7    | New Super Mario Bros.     | DS       | 2006 | Platform     | Nintendo  | 11.38    | 9.23     | 6.5      | 2.9         | 30.01        | 16\n",
       "8    | Wii Play                  | Wii      | 2006 | Misc         | Nintendo  | 14.03    | 9.2      | 2.93     | 2.85        | 29.02        | 16\n",
       "9    | New Super Mario Bros. Wii | Wii      | 2009 | Platform     | Nintendo  | 14.59    | 7.06     | 4.7      | 2.26        | 28.62        | 13\n",
       "10   | Duck Hunt                 | NES      | 1984 | Shooter      | Nintendo  | 26.93    | 0.63     | 0.28     | 0.47        | 28.31        | 38\n",
       "... (16588 rows omitted)"
      ]
     },
     "execution_count": 20,
     "metadata": {},
     "output_type": "execute_result"
    }
   ],
   "source": [
    "vgsales"
   ]
  },
  {
   "cell_type": "code",
   "execution_count": 21,
   "metadata": {},
   "outputs": [
    {
     "data": {
      "text/plain": [
       "(2.0, 42.0)"
      ]
     },
     "execution_count": 21,
     "metadata": {},
     "output_type": "execute_result"
    }
   ],
   "source": [
    "min(years_since), max(years_since)"
   ]
  },
  {
   "cell_type": "code",
   "execution_count": 22,
   "metadata": {},
   "outputs": [],
   "source": [
    "my_bins = make_array(0, 5, 10, 15, 20, 30, 43)"
   ]
  },
  {
   "cell_type": "code",
   "execution_count": 23,
   "metadata": {},
   "outputs": [
    {
     "data": {
      "text/html": [
       "<table border=\"1\" class=\"dataframe\">\n",
       "    <thead>\n",
       "        <tr>\n",
       "            <th>bin</th> <th>Years Since Release count</th>\n",
       "        </tr>\n",
       "    </thead>\n",
       "    <tbody>\n",
       "        <tr>\n",
       "            <td>0   </td> <td>1                        </td>\n",
       "        </tr>\n",
       "        <tr>\n",
       "            <td>5   </td> <td>2089                     </td>\n",
       "        </tr>\n",
       "        <tr>\n",
       "            <td>10  </td> <td>5914                     </td>\n",
       "        </tr>\n",
       "        <tr>\n",
       "            <td>15  </td> <td>4689                     </td>\n",
       "        </tr>\n",
       "        <tr>\n",
       "            <td>20  </td> <td>3329                     </td>\n",
       "        </tr>\n",
       "        <tr>\n",
       "            <td>30  </td> <td>305                      </td>\n",
       "        </tr>\n",
       "        <tr>\n",
       "            <td>43  </td> <td>0                        </td>\n",
       "        </tr>\n",
       "    </tbody>\n",
       "</table>"
      ],
      "text/plain": [
       "bin  | Years Since Release count\n",
       "0    | 1\n",
       "5    | 2089\n",
       "10   | 5914\n",
       "15   | 4689\n",
       "20   | 3329\n",
       "30   | 305\n",
       "43   | 0"
      ]
     },
     "execution_count": 23,
     "metadata": {},
     "output_type": "execute_result"
    }
   ],
   "source": [
    "binned_data = vgsales.bin('Years Since Release', bins = my_bins)\n",
    "binned_data"
   ]
  },
  {
   "cell_type": "code",
   "execution_count": 24,
   "metadata": {},
   "outputs": [
    {
     "data": {
      "text/plain": [
       "16327"
      ]
     },
     "execution_count": 24,
     "metadata": {},
     "output_type": "execute_result"
    }
   ],
   "source": [
    "sum(binned_data.column('Years Since Release count'))"
   ]
  },
  {
   "cell_type": "code",
   "execution_count": 25,
   "metadata": {},
   "outputs": [
    {
     "data": {
      "text/html": [
       "<table border=\"1\" class=\"dataframe\">\n",
       "    <thead>\n",
       "        <tr>\n",
       "            <th>Rank</th> <th>Name</th> <th>Platform</th> <th>Year</th> <th>Genre</th> <th>Publisher</th> <th>NA_Sales</th> <th>EU_Sales</th> <th>JP_Sales</th> <th>Other_Sales</th> <th>Global_Sales</th> <th>Years Since Release</th>\n",
       "        </tr>\n",
       "    </thead>\n",
       "    <tbody>\n",
       "        <tr>\n",
       "            <td>180 </td> <td>Madden NFL 2004                            </td> <td>PS2     </td> <td>nan </td> <td>Sports   </td> <td>Electronic Arts                       </td> <td>4.26    </td> <td>0.26    </td> <td>0.01    </td> <td>0.71       </td> <td>5.23        </td> <td>nan                </td>\n",
       "        </tr>\n",
       "        <tr>\n",
       "            <td>378 </td> <td>FIFA Soccer 2004                           </td> <td>PS2     </td> <td>nan </td> <td>Sports   </td> <td>Electronic Arts                       </td> <td>0.59    </td> <td>2.36    </td> <td>0.04    </td> <td>0.51       </td> <td>3.49        </td> <td>nan                </td>\n",
       "        </tr>\n",
       "        <tr>\n",
       "            <td>432 </td> <td>LEGO Batman: The Videogame                 </td> <td>Wii     </td> <td>nan </td> <td>Action   </td> <td>Warner Bros. Interactive Entertainment</td> <td>1.86    </td> <td>1.02    </td> <td>0       </td> <td>0.29       </td> <td>3.17        </td> <td>nan                </td>\n",
       "        </tr>\n",
       "        <tr>\n",
       "            <td>471 </td> <td>wwe Smackdown vs. Raw 2006                 </td> <td>PS2     </td> <td>nan </td> <td>Fighting </td> <td>nan                                   </td> <td>1.57    </td> <td>1.02    </td> <td>0       </td> <td>0.41       </td> <td>3           </td> <td>nan                </td>\n",
       "        </tr>\n",
       "        <tr>\n",
       "            <td>608 </td> <td>Space Invaders                             </td> <td>2600    </td> <td>nan </td> <td>Shooter  </td> <td>Atari                                 </td> <td>2.36    </td> <td>0.14    </td> <td>0       </td> <td>0.03       </td> <td>2.53        </td> <td>nan                </td>\n",
       "        </tr>\n",
       "        <tr>\n",
       "            <td>625 </td> <td>Rock Band                                  </td> <td>X360    </td> <td>nan </td> <td>Misc     </td> <td>Electronic Arts                       </td> <td>1.93    </td> <td>0.34    </td> <td>0       </td> <td>0.21       </td> <td>2.48        </td> <td>nan                </td>\n",
       "        </tr>\n",
       "        <tr>\n",
       "            <td>650 </td> <td>Frogger's Adventures: Temple of the Frog   </td> <td>GBA     </td> <td>nan </td> <td>Adventure</td> <td>Konami Digital Entertainment          </td> <td>2.15    </td> <td>0.18    </td> <td>0       </td> <td>0.07       </td> <td>2.39        </td> <td>nan                </td>\n",
       "        </tr>\n",
       "        <tr>\n",
       "            <td>653 </td> <td>LEGO Indiana Jones: The Original Adventures</td> <td>Wii     </td> <td>nan </td> <td>Action   </td> <td>LucasArts                             </td> <td>1.54    </td> <td>0.63    </td> <td>0       </td> <td>0.22       </td> <td>2.39        </td> <td>nan                </td>\n",
       "        </tr>\n",
       "        <tr>\n",
       "            <td>713 </td> <td>Call of Duty 3                             </td> <td>Wii     </td> <td>nan </td> <td>Shooter  </td> <td>Activision                            </td> <td>1.19    </td> <td>0.84    </td> <td>0       </td> <td>0.23       </td> <td>2.26        </td> <td>nan                </td>\n",
       "        </tr>\n",
       "        <tr>\n",
       "            <td>784 </td> <td>Rock Band                                  </td> <td>Wii     </td> <td>nan </td> <td>Misc     </td> <td>MTV Games                             </td> <td>1.35    </td> <td>0.56    </td> <td>0       </td> <td>0.2        </td> <td>2.11        </td> <td>nan                </td>\n",
       "        </tr>\n",
       "    </tbody>\n",
       "</table>\n",
       "<p>... (16588 rows omitted)</p>"
      ],
      "text/plain": [
       "Rank | Name                                        | Platform | Year | Genre     | Publisher                              | NA_Sales | EU_Sales | JP_Sales | Other_Sales | Global_Sales | Years Since Release\n",
       "180  | Madden NFL 2004                             | PS2      | nan  | Sports    | Electronic Arts                        | 4.26     | 0.26     | 0.01     | 0.71        | 5.23         | nan\n",
       "378  | FIFA Soccer 2004                            | PS2      | nan  | Sports    | Electronic Arts                        | 0.59     | 2.36     | 0.04     | 0.51        | 3.49         | nan\n",
       "432  | LEGO Batman: The Videogame                  | Wii      | nan  | Action    | Warner Bros. Interactive Entertainment | 1.86     | 1.02     | 0        | 0.29        | 3.17         | nan\n",
       "471  | wwe Smackdown vs. Raw 2006                  | PS2      | nan  | Fighting  | nan                                    | 1.57     | 1.02     | 0        | 0.41        | 3            | nan\n",
       "608  | Space Invaders                              | 2600     | nan  | Shooter   | Atari                                  | 2.36     | 0.14     | 0        | 0.03        | 2.53         | nan\n",
       "625  | Rock Band                                   | X360     | nan  | Misc      | Electronic Arts                        | 1.93     | 0.34     | 0        | 0.21        | 2.48         | nan\n",
       "650  | Frogger's Adventures: Temple of the Frog    | GBA      | nan  | Adventure | Konami Digital Entertainment           | 2.15     | 0.18     | 0        | 0.07        | 2.39         | nan\n",
       "653  | LEGO Indiana Jones: The Original Adventures | Wii      | nan  | Action    | LucasArts                              | 1.54     | 0.63     | 0        | 0.22        | 2.39         | nan\n",
       "713  | Call of Duty 3                              | Wii      | nan  | Shooter   | Activision                             | 1.19     | 0.84     | 0        | 0.23        | 2.26         | nan\n",
       "784  | Rock Band                                   | Wii      | nan  | Misc      | MTV Games                              | 1.35     | 0.56     | 0        | 0.2         | 2.11         | nan\n",
       "... (16588 rows omitted)"
      ]
     },
     "execution_count": 25,
     "metadata": {},
     "output_type": "execute_result"
    }
   ],
   "source": [
    "vgsales.sort('Years Since Release', descending=True)"
   ]
  },
  {
   "cell_type": "code",
   "execution_count": 26,
   "metadata": {},
   "outputs": [
    {
     "data": {
      "text/html": [
       "<table border=\"1\" class=\"dataframe\">\n",
       "    <thead>\n",
       "        <tr>\n",
       "            <th>bin</th> <th>Years Since Release count</th>\n",
       "        </tr>\n",
       "    </thead>\n",
       "    <tbody>\n",
       "        <tr>\n",
       "            <td>0   </td> <td>1                        </td>\n",
       "        </tr>\n",
       "        <tr>\n",
       "            <td>5   </td> <td>2089                     </td>\n",
       "        </tr>\n",
       "        <tr>\n",
       "            <td>10  </td> <td>5914                     </td>\n",
       "        </tr>\n",
       "        <tr>\n",
       "            <td>15  </td> <td>4689                     </td>\n",
       "        </tr>\n",
       "        <tr>\n",
       "            <td>20  </td> <td>2377                     </td>\n",
       "        </tr>\n",
       "        <tr>\n",
       "            <td>25  </td> <td>952                      </td>\n",
       "        </tr>\n",
       "        <tr>\n",
       "            <td>30  </td> <td>132                      </td>\n",
       "        </tr>\n",
       "        <tr>\n",
       "            <td>35  </td> <td>82                       </td>\n",
       "        </tr>\n",
       "        <tr>\n",
       "            <td>40  </td> <td>91                       </td>\n",
       "        </tr>\n",
       "        <tr>\n",
       "            <td>45  </td> <td>0                        </td>\n",
       "        </tr>\n",
       "    </tbody>\n",
       "</table>"
      ],
      "text/plain": [
       "bin  | Years Since Release count\n",
       "0    | 1\n",
       "5    | 2089\n",
       "10   | 5914\n",
       "15   | 4689\n",
       "20   | 2377\n",
       "25   | 952\n",
       "30   | 132\n",
       "35   | 82\n",
       "40   | 91\n",
       "45   | 0"
      ]
     },
     "execution_count": 26,
     "metadata": {},
     "output_type": "execute_result"
    }
   ],
   "source": [
    "vgsales.bin('Years Since Release', bins = np.arange(0, 50, 5))"
   ]
  },
  {
   "cell_type": "code",
   "execution_count": 27,
   "metadata": {},
   "outputs": [
    {
     "data": {
      "text/html": [
       "<table border=\"1\" class=\"dataframe\">\n",
       "    <thead>\n",
       "        <tr>\n",
       "            <th>bin</th> <th>Years Since Release count</th>\n",
       "        </tr>\n",
       "    </thead>\n",
       "    <tbody>\n",
       "        <tr>\n",
       "            <td>0   </td> <td>1                        </td>\n",
       "        </tr>\n",
       "        <tr>\n",
       "            <td>5   </td> <td>2089                     </td>\n",
       "        </tr>\n",
       "        <tr>\n",
       "            <td>10  </td> <td>5914                     </td>\n",
       "        </tr>\n",
       "        <tr>\n",
       "            <td>15  </td> <td>5518                     </td>\n",
       "        </tr>\n",
       "        <tr>\n",
       "            <td>20  </td> <td>0                        </td>\n",
       "        </tr>\n",
       "    </tbody>\n",
       "</table>"
      ],
      "text/plain": [
       "bin  | Years Since Release count\n",
       "0    | 1\n",
       "5    | 2089\n",
       "10   | 5914\n",
       "15   | 5518\n",
       "20   | 0"
      ]
     },
     "execution_count": 27,
     "metadata": {},
     "output_type": "execute_result"
    }
   ],
   "source": [
    "vgsales.bin('Years Since Release', bins = np.arange(0, 21, 5))"
   ]
  },
  {
   "cell_type": "code",
   "execution_count": 28,
   "metadata": {},
   "outputs": [
    {
     "data": {
      "text/plain": [
       "3634"
      ]
     },
     "execution_count": 28,
     "metadata": {},
     "output_type": "execute_result"
    }
   ],
   "source": [
    "vgsales.where('Years Since Release', are.above_or_equal_to(20)).num_rows"
   ]
  },
  {
   "cell_type": "markdown",
   "metadata": {},
   "source": [
    "## Histograms ##"
   ]
  },
  {
   "cell_type": "code",
   "execution_count": 30,
   "metadata": {},
   "outputs": [
    {
     "data": {
      "text/plain": [
       "array([ 0,  5, 10, 15, 20, 30, 43], dtype=int64)"
      ]
     },
     "execution_count": 30,
     "metadata": {},
     "output_type": "execute_result"
    }
   ],
   "source": [
    "my_bins"
   ]
  },
  {
   "cell_type": "code",
   "execution_count": 31,
   "metadata": {},
   "outputs": [
    {
     "data": {
      "text/html": [
       "<table border=\"1\" class=\"dataframe\">\n",
       "    <thead>\n",
       "        <tr>\n",
       "            <th>bin</th> <th>Years Since Release count</th> <th>Percent</th>\n",
       "        </tr>\n",
       "    </thead>\n",
       "    <tbody>\n",
       "        <tr>\n",
       "            <td>0   </td> <td>1                        </td> <td>0.00612482</td>\n",
       "        </tr>\n",
       "        <tr>\n",
       "            <td>5   </td> <td>2089                     </td> <td>12.7948   </td>\n",
       "        </tr>\n",
       "        <tr>\n",
       "            <td>10  </td> <td>5914                     </td> <td>36.2222   </td>\n",
       "        </tr>\n",
       "        <tr>\n",
       "            <td>15  </td> <td>4689                     </td> <td>28.7193   </td>\n",
       "        </tr>\n",
       "        <tr>\n",
       "            <td>20  </td> <td>3329                     </td> <td>20.3895   </td>\n",
       "        </tr>\n",
       "        <tr>\n",
       "            <td>30  </td> <td>305                      </td> <td>1.86807   </td>\n",
       "        </tr>\n",
       "        <tr>\n",
       "            <td>43  </td> <td>0                        </td> <td>0         </td>\n",
       "        </tr>\n",
       "    </tbody>\n",
       "</table>"
      ],
      "text/plain": [
       "bin  | Years Since Release count | Percent\n",
       "0    | 1                         | 0.00612482\n",
       "5    | 2089                      | 12.7948\n",
       "10   | 5914                      | 36.2222\n",
       "15   | 4689                      | 28.7193\n",
       "20   | 3329                      | 20.3895\n",
       "30   | 305                       | 1.86807\n",
       "43   | 0                         | 0"
      ]
     },
     "execution_count": 31,
     "metadata": {},
     "output_type": "execute_result"
    }
   ],
   "source": [
    "binned_data"
   ]
  },
  {
   "cell_type": "code",
   "execution_count": 32,
   "metadata": {},
   "outputs": [
    {
     "data": {
      "image/png": "[encoded data removed]",
      "text/plain": [
       "<Figure size 432x288 with 1 Axes>"
      ]
     },
     "metadata": {},
     "output_type": "display_data"
    }
   ],
   "source": [
    "# Let's make our first histogram!\n",
    "vgsales.hist('Years Since Release', bins = my_bins)"
   ]
  },
  {
   "cell_type": "code",
   "execution_count": 33,
   "metadata": {},
   "outputs": [
    {
     "data": {
      "image/png": "[encoded data removed]",
      "text/plain": [
       "<Figure size 432x288 with 1 Axes>"
      ]
     },
     "metadata": {},
     "output_type": "display_data"
    }
   ],
   "source": [
    "# Let's try equally spaced bins instead.\n",
    "vgsales.hist('Years Since Release', bins = np.arange(0, 45, 5))"
   ]
  },
  {
   "cell_type": "code",
   "execution_count": 34,
   "metadata": {},
   "outputs": [
    {
     "data": {
      "image/png": "[encoded data removed]",
      "text/plain": [
       "<Figure size 432x288 with 1 Axes>"
      ]
     },
     "metadata": {},
     "output_type": "display_data"
    }
   ],
   "source": [
    "# Let's try not specifying any bins!\n",
    "vgsales.hist('Years Since Release')"
   ]
  },
  {
   "cell_type": "code",
   "execution_count": 35,
   "metadata": {},
   "outputs": [],
   "source": [
    "# Add a column containing what percent of movies are in each bin\n",
    "binned_data = binned_data.with_column(\n",
    "    'Percent', 100*binned_data.column('Years Since Release count')/sum(binned_data.column('Years Since Release count')))"
   ]
  },
  {
   "cell_type": "code",
   "execution_count": 36,
   "metadata": {},
   "outputs": [
    {
     "data": {
      "text/html": [
       "<table border=\"1\" class=\"dataframe\">\n",
       "    <thead>\n",
       "        <tr>\n",
       "            <th>bin</th> <th>Years Since Release count</th> <th>Percent</th>\n",
       "        </tr>\n",
       "    </thead>\n",
       "    <tbody>\n",
       "        <tr>\n",
       "            <td>0   </td> <td>1                        </td> <td>0.00612482</td>\n",
       "        </tr>\n",
       "        <tr>\n",
       "            <td>5   </td> <td>2089                     </td> <td>12.7948   </td>\n",
       "        </tr>\n",
       "        <tr>\n",
       "            <td>10  </td> <td>5914                     </td> <td>36.2222   </td>\n",
       "        </tr>\n",
       "        <tr>\n",
       "            <td>15  </td> <td>4689                     </td> <td>28.7193   </td>\n",
       "        </tr>\n",
       "        <tr>\n",
       "            <td>20  </td> <td>3329                     </td> <td>20.3895   </td>\n",
       "        </tr>\n",
       "        <tr>\n",
       "            <td>30  </td> <td>305                      </td> <td>1.86807   </td>\n",
       "        </tr>\n",
       "        <tr>\n",
       "            <td>43  </td> <td>0                        </td> <td>0         </td>\n",
       "        </tr>\n",
       "    </tbody>\n",
       "</table>"
      ],
      "text/plain": [
       "bin  | Years Since Release count | Percent\n",
       "0    | 1                         | 0.00612482\n",
       "5    | 2089                      | 12.7948\n",
       "10   | 5914                      | 36.2222\n",
       "15   | 4689                      | 28.7193\n",
       "20   | 3329                      | 20.3895\n",
       "30   | 305                       | 1.86807\n",
       "43   | 0                         | 0"
      ]
     },
     "execution_count": 36,
     "metadata": {},
     "output_type": "execute_result"
    }
   ],
   "source": [
    "binned_data"
   ]
  },
  {
   "cell_type": "code",
   "execution_count": 37,
   "metadata": {},
   "outputs": [
    {
     "data": {
      "text/plain": [
       "100.0"
      ]
     },
     "execution_count": 37,
     "metadata": {},
     "output_type": "execute_result"
    }
   ],
   "source": [
    "sum(binned_data.column('Percent'))"
   ]
  },
  {
   "cell_type": "markdown",
   "metadata": {},
   "source": [
    "## Height ##\n",
    "\n",
    "### Question: What is the height of the [20, 30) bin?"
   ]
  },
  {
   "cell_type": "code",
   "execution_count": 38,
   "metadata": {},
   "outputs": [
    {
     "data": {
      "text/plain": [
       "20.389538800759478"
      ]
     },
     "execution_count": 38,
     "metadata": {},
     "output_type": "execute_result"
    }
   ],
   "source": [
    "# Step 1: Calculate % of games in the [20, 30) bin\n",
    "percent = binned_data.where('bin', 20).column('Percent').item(0)\n",
    "percent"
   ]
  },
  {
   "cell_type": "code",
   "execution_count": 39,
   "metadata": {},
   "outputs": [],
   "source": [
    "# Step 2: Calculate the width of the 20-30 bin\n",
    "width = 30 - 20"
   ]
  },
  {
   "cell_type": "code",
   "execution_count": 40,
   "metadata": {},
   "outputs": [
    {
     "data": {
      "text/plain": [
       "2.038953880075948"
      ]
     },
     "execution_count": 40,
     "metadata": {},
     "output_type": "execute_result"
    }
   ],
   "source": [
    "# Step 3: Area of rectangle = height * width\n",
    "#         --> height = percent / width\n",
    "height = percent / width\n",
    "height"
   ]
  },
  {
   "cell_type": "code",
   "execution_count": 41,
   "metadata": {},
   "outputs": [
    {
     "data": {
      "image/png": "[encoded data removed]",
      "text/plain": [
       "<Figure size 432x288 with 1 Axes>"
      ]
     },
     "metadata": {},
     "output_type": "display_data"
    }
   ],
   "source": [
    "vgsales.hist('Years Since Release', bins = my_bins)"
   ]
  },
  {
   "cell_type": "markdown",
   "metadata": {},
   "source": [
    "### What are the heights of the rest of the bins?"
   ]
  },
  {
   "cell_type": "code",
   "execution_count": 42,
   "metadata": {},
   "outputs": [],
   "source": [
    "# Get the bin lefts\n",
    "bin_lefts = binned_data.take(np.arange(binned_data.num_rows - 1))"
   ]
  },
  {
   "cell_type": "code",
   "execution_count": 43,
   "metadata": {},
   "outputs": [],
   "source": [
    "# Get the bin widths\n",
    "bin_widths = np.diff(binned_data.column('bin'))\n",
    "bin_lefts = bin_lefts.with_column('Width', bin_widths)"
   ]
  },
  {
   "cell_type": "code",
   "execution_count": 44,
   "metadata": {},
   "outputs": [],
   "source": [
    "# Get the bin heights\n",
    "bin_heights = bin_lefts.column('Percent') / bin_widths\n",
    "bin_lefts = bin_lefts.with_column('Height', bin_heights)"
   ]
  },
  {
   "cell_type": "code",
   "execution_count": 45,
   "metadata": {},
   "outputs": [
    {
     "data": {
      "text/html": [
       "<table border=\"1\" class=\"dataframe\">\n",
       "    <thead>\n",
       "        <tr>\n",
       "            <th>bin</th> <th>Years Since Release count</th> <th>Percent</th> <th>Width</th> <th>Height</th>\n",
       "        </tr>\n",
       "    </thead>\n",
       "    <tbody>\n",
       "        <tr>\n",
       "            <td>0   </td> <td>1                        </td> <td>0.00612482</td> <td>5    </td> <td>0.00122496</td>\n",
       "        </tr>\n",
       "        <tr>\n",
       "            <td>5   </td> <td>2089                     </td> <td>12.7948   </td> <td>5    </td> <td>2.55895   </td>\n",
       "        </tr>\n",
       "        <tr>\n",
       "            <td>10  </td> <td>5914                     </td> <td>36.2222   </td> <td>5    </td> <td>7.24444   </td>\n",
       "        </tr>\n",
       "        <tr>\n",
       "            <td>15  </td> <td>4689                     </td> <td>28.7193   </td> <td>5    </td> <td>5.74386   </td>\n",
       "        </tr>\n",
       "        <tr>\n",
       "            <td>20  </td> <td>3329                     </td> <td>20.3895   </td> <td>10   </td> <td>2.03895   </td>\n",
       "        </tr>\n",
       "        <tr>\n",
       "            <td>30  </td> <td>305                      </td> <td>1.86807   </td> <td>13   </td> <td>0.143698  </td>\n",
       "        </tr>\n",
       "    </tbody>\n",
       "</table>"
      ],
      "text/plain": [
       "bin  | Years Since Release count | Percent    | Width | Height\n",
       "0    | 1                         | 0.00612482 | 5     | 0.00122496\n",
       "5    | 2089                      | 12.7948    | 5     | 2.55895\n",
       "10   | 5914                      | 36.2222    | 5     | 7.24444\n",
       "15   | 4689                      | 28.7193    | 5     | 5.74386\n",
       "20   | 3329                      | 20.3895    | 10    | 2.03895\n",
       "30   | 305                       | 1.86807    | 13    | 0.143698"
      ]
     },
     "execution_count": 45,
     "metadata": {},
     "output_type": "execute_result"
    }
   ],
   "source": [
    "bin_lefts"
   ]
  },
  {
   "cell_type": "code",
   "execution_count": 46,
   "metadata": {},
   "outputs": [
    {
     "data": {
      "image/png": "[encoded data removed]",
      "text/plain": [
       "<Figure size 432x288 with 1 Axes>"
      ]
     },
     "metadata": {},
     "output_type": "display_data"
    }
   ],
   "source": [
    "vgsales.hist('Years Since Release', bins = my_bins)"
   ]
  },
  {
   "cell_type": "code",
   "execution_count": null,
   "metadata": {},
   "outputs": [],
   "source": []
  }
 ],
 "metadata": {
  "anaconda-cloud": {},
  "kernelspec": {
   "display_name": "PythonData",
   "language": "python",
   "name": "pythondata"
  },
  "language_info": {
   "codemirror_mode": {
    "name": "ipython",
    "version": 3
   },
   "file_extension": ".py",
   "mimetype": "text/x-python",
   "name": "python",
   "nbconvert_exporter": "python",
   "pygments_lexer": "ipython3",
   "version": "3.9.7"
  }
 },
 "nbformat": 4,
 "nbformat_minor": 4
}
