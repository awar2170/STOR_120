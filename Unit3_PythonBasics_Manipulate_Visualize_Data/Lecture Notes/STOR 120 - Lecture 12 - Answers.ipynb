{
 "cells": [
  {
   "cell_type": "code",
   "execution_count": 1,
   "metadata": {},
   "outputs": [],
   "source": [
    "from datascience import *\n",
    "import numpy as np\n",
    "\n",
    "%matplotlib inline\n",
    "import matplotlib.pyplot as plots\n",
    "plots.style.use('fivethirtyeight')\n",
    "\n",
    "import warnings\n",
    "warnings.filterwarnings(\"ignore\", category=np.VisibleDeprecationWarning)"
   ]
  },
  {
   "cell_type": "markdown",
   "metadata": {},
   "source": [
    "# Lecture 12 Answers #"
   ]
  },
  {
   "cell_type": "code",
   "execution_count": 2,
   "metadata": {},
   "outputs": [],
   "source": [
    "nba = Table.read_table('nba_salaries.csv')\n",
    "sky = Table.read_table('skyscrapers_v2.csv')\n",
    "billion = Table.read_table('billionaires.csv')"
   ]
  },
  {
   "cell_type": "markdown",
   "metadata": {},
   "source": [
    "### Question 1\n",
    "\n",
    "Construct a table of billionaires with United States citizenship, listed from highest net worth to lowest. The table should only include the name and net worth of the billionaires.\n",
    "\n",
    "How many billionaires have United States citizenship?"
   ]
  },
  {
   "cell_type": "code",
   "execution_count": 3,
   "metadata": {},
   "outputs": [
    {
     "data": {
      "text/html": [
       "<table border=\"1\" class=\"dataframe\">\n",
       "    <thead>\n",
       "        <tr>\n",
       "            <th>name</th> <th>net worth</th>\n",
       "        </tr>\n",
       "    </thead>\n",
       "    <tbody>\n",
       "        <tr>\n",
       "            <td>Jeff Bezos        </td> <td>115739645754</td>\n",
       "        </tr>\n",
       "        <tr>\n",
       "            <td>Bill Gates        </td> <td>115488591742</td>\n",
       "        </tr>\n",
       "        <tr>\n",
       "            <td>Warren Buffett    </td> <td>89408278188 </td>\n",
       "        </tr>\n",
       "        <tr>\n",
       "            <td>Mark Zuckerberg   </td> <td>83053011017 </td>\n",
       "        </tr>\n",
       "        <tr>\n",
       "            <td>Larry Page        </td> <td>69933009751 </td>\n",
       "        </tr>\n",
       "        <tr>\n",
       "            <td>Sergey Brin       </td> <td>67825250468 </td>\n",
       "        </tr>\n",
       "        <tr>\n",
       "            <td>Charles Koch      </td> <td>61046822719 </td>\n",
       "        </tr>\n",
       "        <tr>\n",
       "            <td>Julia Flesher Koch</td> <td>61038443719 </td>\n",
       "        </tr>\n",
       "        <tr>\n",
       "            <td>Steve Ballmer     </td> <td>60550361299 </td>\n",
       "        </tr>\n",
       "        <tr>\n",
       "            <td>Larry Ellison     </td> <td>60426508503 </td>\n",
       "        </tr>\n",
       "    </tbody>\n",
       "</table>\n",
       "<p>... (162 rows omitted)</p>"
      ],
      "text/plain": [
       "name               | net worth\n",
       "Jeff Bezos         | 115739645754\n",
       "Bill Gates         | 115488591742\n",
       "Warren Buffett     | 89408278188\n",
       "Mark Zuckerberg    | 83053011017\n",
       "Larry Page         | 69933009751\n",
       "Sergey Brin        | 67825250468\n",
       "Charles Koch       | 61046822719\n",
       "Julia Flesher Koch | 61038443719\n",
       "Steve Ballmer      | 60550361299\n",
       "Larry Ellison      | 60426508503\n",
       "... (162 rows omitted)"
      ]
     },
     "execution_count": 3,
     "metadata": {},
     "output_type": "execute_result"
    }
   ],
   "source": [
    "US_billion = billion.where('citizenship', 'United States'\n",
    "                          ).sort('net worth', descending=True\n",
    "                                ).select('name', 'net worth')\n",
    "US_billion"
   ]
  },
  {
   "cell_type": "code",
   "execution_count": 4,
   "metadata": {},
   "outputs": [
    {
     "data": {
      "text/plain": [
       "172"
      ]
     },
     "execution_count": 4,
     "metadata": {},
     "output_type": "execute_result"
    }
   ],
   "source": [
    "US_billion.num_rows"
   ]
  },
  {
   "cell_type": "markdown",
   "metadata": {},
   "source": [
    "### Question 2\n",
    "\n",
    "Add a column to the table from question 1 that lists the net worth in billions of dollars rather than dollars. Use this new column to construct a histogram for the net worth of billionaires with bins equal to 10 billion dollars. "
   ]
  },
  {
   "cell_type": "code",
   "execution_count": 5,
   "metadata": {},
   "outputs": [
    {
     "data": {
      "image/png": "[encoded data removed]",
      "text/plain": [
       "<Figure size 432x288 with 1 Axes>"
      ]
     },
     "metadata": {},
     "output_type": "display_data"
    }
   ],
   "source": [
    "US_billion = US_billion.with_column(\n",
    "    'net worth in billions', US_billion.column('net worth') / 1e9\n",
    ")\n",
    "\n",
    "US_billion.hist('net worth in billions', bins = np.arange(0, 130, 10))"
   ]
  },
  {
   "cell_type": "markdown",
   "metadata": {},
   "source": [
    "### Question 3\n",
    "\n",
    "Using the histogram from question 2, approximately what percentage of US billionaires have net worths of less than 10 billion dollars?"
   ]
  },
  {
   "cell_type": "code",
   "execution_count": 6,
   "metadata": {},
   "outputs": [
    {
     "data": {
      "text/plain": [
       "67.5"
      ]
     },
     "execution_count": 6,
     "metadata": {},
     "output_type": "execute_result"
    }
   ],
   "source": [
    "width = 10\n",
    "approx_height = 6.75\n",
    "\n",
    "Area = width * approx_height\n",
    "Area"
   ]
  },
  {
   "cell_type": "markdown",
   "metadata": {},
   "source": [
    "### Question 4\n",
    "\n",
    "What is the average net worth of billionaires with a net worth below 10 billion dollars, in billions of dollars?"
   ]
  },
  {
   "cell_type": "code",
   "execution_count": 7,
   "metadata": {},
   "outputs": [
    {
     "data": {
      "text/plain": [
       "6.371582804940829"
      ]
     },
     "execution_count": 7,
     "metadata": {},
     "output_type": "execute_result"
    }
   ],
   "source": [
    "np.mean(billion.where('net worth', are.below(10000000000)).column('net worth'))/1000000000"
   ]
  },
  {
   "cell_type": "markdown",
   "metadata": {},
   "source": [
    "### Question 5\n",
    "\n",
    "Construct a bar plot for the counts of billions for each citizenship, from highest count to lowest, showing only the top 10 citizenships."
   ]
  },
  {
   "cell_type": "code",
   "execution_count": 8,
   "metadata": {},
   "outputs": [
    {
     "data": {
      "image/png": "[encoded data removed]",
      "text/plain": [
       "<Figure size 432x360 with 1 Axes>"
      ]
     },
     "metadata": {},
     "output_type": "display_data"
    }
   ],
   "source": [
    "billion.group('citizenship'\n",
    "             ).sort('count', descending=True\n",
    "                   ).take(np.arange(0,10,1)\n",
    "                         ).barh('citizenship'\n",
    "                               )"
   ]
  },
  {
   "cell_type": "markdown",
   "metadata": {},
   "source": [
    "### Question 6"
   ]
  },
  {
   "cell_type": "markdown",
   "metadata": {},
   "source": [
    "Which NBA teams spent the most on their “starters” in 2015-2016?\n",
    "\n",
    "Assume the “starter” for a team & position is the player with the highest salary on that team in that position."
   ]
  },
  {
   "cell_type": "code",
   "execution_count": 16,
   "metadata": {},
   "outputs": [
    {
     "data": {
      "text/html": [
       "<table border=\"1\" class=\"dataframe\">\n",
       "    <thead>\n",
       "        <tr>\n",
       "            <th>TEAM</th> <th>'15-'16 SALARY</th>\n",
       "        </tr>\n",
       "    </thead>\n",
       "    <tbody>\n",
       "        <tr>\n",
       "            <td>Cleveland Cavaliers  </td> <td>82.3166       </td>\n",
       "        </tr>\n",
       "        <tr>\n",
       "            <td>Oklahoma City Thunder</td> <td>70.6988       </td>\n",
       "        </tr>\n",
       "        <tr>\n",
       "            <td>Miami Heat           </td> <td>67.1273       </td>\n",
       "        </tr>\n",
       "        <tr>\n",
       "            <td>San Antonio Spurs    </td> <td>67.034        </td>\n",
       "        </tr>\n",
       "        <tr>\n",
       "            <td>Golden State Warriors</td> <td>66.6431       </td>\n",
       "        </tr>\n",
       "    </tbody>\n",
       "</table>\n",
       "<p>... (25 rows omitted)</p>"
      ],
      "text/plain": [
       "<IPython.core.display.HTML object>"
      ]
     },
     "metadata": {},
     "output_type": "display_data"
    }
   ],
   "source": [
    "nba2 = nba.drop('PLAYER').group(['TEAM', 'POSITION'], np.max)\n",
    "nba3 = nba2.group('TEAM', np.sum).drop('POSITION sum')\n",
    "nba4 = nba3.relabeled(\"'15-'16 SALARY amax sum\", \"'15-'16 SALARY\").sort(\"'15-'16 SALARY\", descending=True)\n",
    "nba4.show(5)"
   ]
  },
  {
   "cell_type": "markdown",
   "metadata": {},
   "source": [
    "### Question 7\n",
    "\n",
    "Construct a scatter plot with the heights and years completed for the skyscrapers. Describe any trends in the data that you can see in the plot."
   ]
  },
  {
   "cell_type": "code",
   "execution_count": 10,
   "metadata": {},
   "outputs": [
    {
     "data": {
      "image/png": "[encoded data removed]",
      "text/plain": [
       "<Figure size 360x360 with 1 Axes>"
      ]
     },
     "metadata": {},
     "output_type": "display_data"
    }
   ],
   "source": [
    "sky.scatter('height', 'completed')"
   ]
  },
  {
   "cell_type": "markdown",
   "metadata": {},
   "source": [
    "More taller skyscrapers seem to be build as the data completed increases.\n",
    "\n",
    "Very few skyscapers were built during the time periods of World War I and World War II.\n",
    "\n",
    "Most skyscrapers appear to be below 100 meters in height."
   ]
  },
  {
   "cell_type": "markdown",
   "metadata": {},
   "source": [
    "### Question 8\n",
    "\n",
    "Define a function that converts a length in meters to feet. Convert the heights of the skyscrapers in the table (initially in meters) to feet in the table and relabel the column height in feet."
   ]
  },
  {
   "cell_type": "code",
   "execution_count": 11,
   "metadata": {},
   "outputs": [
    {
     "data": {
      "text/html": [
       "<table border=\"1\" class=\"dataframe\">\n",
       "    <thead>\n",
       "        <tr>\n",
       "            <th>name</th> <th>material</th> <th>city</th> <th>completed</th> <th>height in feet</th>\n",
       "        </tr>\n",
       "    </thead>\n",
       "    <tbody>\n",
       "        <tr>\n",
       "            <td>One World Trade Center           </td> <td>mixed/composite</td> <td>New York City</td> <td>2014     </td> <td>1775.92       </td>\n",
       "        </tr>\n",
       "        <tr>\n",
       "            <td>Willis Tower                     </td> <td>steel          </td> <td>Chicago      </td> <td>1974     </td> <td>1450.59       </td>\n",
       "        </tr>\n",
       "        <tr>\n",
       "            <td>432 Park Avenue                  </td> <td>concrete       </td> <td>New York City</td> <td>2015     </td> <td>1396          </td>\n",
       "        </tr>\n",
       "        <tr>\n",
       "            <td>Trump International Hotel & Tower</td> <td>concrete       </td> <td>Chicago      </td> <td>2009     </td> <td>1388.52       </td>\n",
       "        </tr>\n",
       "        <tr>\n",
       "            <td>Empire State Building            </td> <td>steel          </td> <td>New York City</td> <td>1931     </td> <td>1250          </td>\n",
       "        </tr>\n",
       "        <tr>\n",
       "            <td>Bank of America Tower            </td> <td>mixed/composite</td> <td>New York City</td> <td>2009     </td> <td>1200.13       </td>\n",
       "        </tr>\n",
       "        <tr>\n",
       "            <td>Stratosphere Tower               </td> <td>concrete       </td> <td>Las Vegas    </td> <td>1996     </td> <td>1149.02       </td>\n",
       "        </tr>\n",
       "        <tr>\n",
       "            <td>Aon Center                       </td> <td>steel          </td> <td>Chicago      </td> <td>1973     </td> <td>1136.02       </td>\n",
       "        </tr>\n",
       "        <tr>\n",
       "            <td>John Hancock Center              </td> <td>steel          </td> <td>Chicago      </td> <td>1969     </td> <td>1127.59       </td>\n",
       "        </tr>\n",
       "        <tr>\n",
       "            <td>Chrysler Building                </td> <td>steel          </td> <td>New York City</td> <td>1930     </td> <td>1046.26       </td>\n",
       "        </tr>\n",
       "    </tbody>\n",
       "</table>\n",
       "<p>... (1771 rows omitted)</p>"
      ],
      "text/plain": [
       "name                              | material        | city          | completed | height in feet\n",
       "One World Trade Center            | mixed/composite | New York City | 2014      | 1775.92\n",
       "Willis Tower                      | steel           | Chicago       | 1974      | 1450.59\n",
       "432 Park Avenue                   | concrete        | New York City | 2015      | 1396\n",
       "Trump International Hotel & Tower | concrete        | Chicago       | 2009      | 1388.52\n",
       "Empire State Building             | steel           | New York City | 1931      | 1250\n",
       "Bank of America Tower             | mixed/composite | New York City | 2009      | 1200.13\n",
       "Stratosphere Tower                | concrete        | Las Vegas     | 1996      | 1149.02\n",
       "Aon Center                        | steel           | Chicago       | 1973      | 1136.02\n",
       "John Hancock Center               | steel           | Chicago       | 1969      | 1127.59\n",
       "Chrysler Building                 | steel           | New York City | 1930      | 1046.26\n",
       "... (1771 rows omitted)"
      ]
     },
     "execution_count": 11,
     "metadata": {},
     "output_type": "execute_result"
    }
   ],
   "source": [
    "def convert_m_ft(meters):\n",
    "    return 3.28084 * meters\n",
    "\n",
    "sky.apply(convert_m_ft, 'height')\n",
    "sky = sky.with_column(\n",
    "    'height in feet', \n",
    "    sky.apply(convert_m_ft, 'height')\n",
    ").drop('height')\n",
    "\n",
    "sky    "
   ]
  },
  {
   "cell_type": "markdown",
   "metadata": {},
   "source": [
    "### Question 9\n",
    "For each city, what’s the tallest building for each material?"
   ]
  },
  {
   "cell_type": "code",
   "execution_count": 12,
   "metadata": {},
   "outputs": [
    {
     "data": {
      "text/html": [
       "<table border=\"1\" class=\"dataframe\">\n",
       "    <thead>\n",
       "        <tr>\n",
       "            <th>city</th> <th>material</th> <th>height in feet max</th>\n",
       "        </tr>\n",
       "    </thead>\n",
       "    <tbody>\n",
       "        <tr>\n",
       "            <td>Atlanta</td> <td>concrete       </td> <td>866.962           </td>\n",
       "        </tr>\n",
       "        <tr>\n",
       "            <td>Atlanta</td> <td>mixed/composite</td> <td>1022.97           </td>\n",
       "        </tr>\n",
       "        <tr>\n",
       "            <td>Atlanta</td> <td>steel          </td> <td>556.004           </td>\n",
       "        </tr>\n",
       "        <tr>\n",
       "            <td>Austin </td> <td>concrete       </td> <td>682.907           </td>\n",
       "        </tr>\n",
       "        <tr>\n",
       "            <td>Austin </td> <td>steel          </td> <td>307.087           </td>\n",
       "        </tr>\n",
       "    </tbody>\n",
       "</table>\n",
       "<p>... (86 rows omitted)</p>"
      ],
      "text/plain": [
       "<IPython.core.display.HTML object>"
      ]
     },
     "metadata": {},
     "output_type": "display_data"
    }
   ],
   "source": [
    "sky.select('material', 'city', 'height in feet'\n",
    "          ).group(['city', 'material'], max).show(5)"
   ]
  },
  {
   "cell_type": "markdown",
   "metadata": {},
   "source": [
    "### Question 10\n",
    "For each city, what’s the height difference (in feet) between the tallest steel building and the tallest concrete building?"
   ]
  },
  {
   "cell_type": "code",
   "execution_count": 13,
   "metadata": {},
   "outputs": [
    {
     "data": {
      "text/html": [
       "<table border=\"1\" class=\"dataframe\">\n",
       "    <thead>\n",
       "        <tr>\n",
       "            <th>city</th> <th>concrete</th> <th>mixed/composite</th> <th>steel</th>\n",
       "        </tr>\n",
       "    </thead>\n",
       "    <tbody>\n",
       "        <tr>\n",
       "            <td>Atlanta          </td> <td>866.962 </td> <td>1022.97        </td> <td>556.004</td>\n",
       "        </tr>\n",
       "        <tr>\n",
       "            <td>Austin           </td> <td>682.907 </td> <td>0              </td> <td>307.087</td>\n",
       "        </tr>\n",
       "        <tr>\n",
       "            <td>Baltimore        </td> <td>529.003 </td> <td>0              </td> <td>509.022</td>\n",
       "        </tr>\n",
       "        <tr>\n",
       "            <td>Boston           </td> <td>400     </td> <td>456.037        </td> <td>789.993</td>\n",
       "        </tr>\n",
       "        <tr>\n",
       "            <td>Charlotte        </td> <td>870.997 </td> <td>786.417        </td> <td>588.025</td>\n",
       "        </tr>\n",
       "        <tr>\n",
       "            <td>Chicago          </td> <td>1388.52 </td> <td>1007.02        </td> <td>1450.59</td>\n",
       "        </tr>\n",
       "        <tr>\n",
       "            <td>Cincinnati       </td> <td>410.105 </td> <td>664.993        </td> <td>574.147</td>\n",
       "        </tr>\n",
       "        <tr>\n",
       "            <td>Cleveland        </td> <td>410.105 </td> <td>947.014        </td> <td>708.005</td>\n",
       "        </tr>\n",
       "        <tr>\n",
       "            <td>Columbus         </td> <td>260.007 </td> <td>0              </td> <td>555.446</td>\n",
       "        </tr>\n",
       "        <tr>\n",
       "            <td>Dallas           </td> <td>579.003 </td> <td>920.997        </td> <td>886.024</td>\n",
       "        </tr>\n",
       "        <tr>\n",
       "            <td>Denver           </td> <td>638.944 </td> <td>697.999        </td> <td>714.009</td>\n",
       "        </tr>\n",
       "        <tr>\n",
       "            <td>Detroit          </td> <td>726.673 </td> <td>0              </td> <td>568.438</td>\n",
       "        </tr>\n",
       "        <tr>\n",
       "            <td>Honolulu         </td> <td>425.853 </td> <td>0              </td> <td>428.97 </td>\n",
       "        </tr>\n",
       "        <tr>\n",
       "            <td>Houston          </td> <td>714.009 </td> <td>1002           </td> <td>992.028</td>\n",
       "        </tr>\n",
       "        <tr>\n",
       "            <td>Indianapolis     </td> <td>420.505 </td> <td>0              </td> <td>701.017</td>\n",
       "        </tr>\n",
       "        <tr>\n",
       "            <td>Jersey City      </td> <td>532.021 </td> <td>0              </td> <td>781.004</td>\n",
       "        </tr>\n",
       "        <tr>\n",
       "            <td>Kansas City      </td> <td>622.999 </td> <td>0              </td> <td>481.004</td>\n",
       "        </tr>\n",
       "        <tr>\n",
       "            <td>Las Vegas        </td> <td>1149.02 </td> <td>641.995        </td> <td>540.026</td>\n",
       "        </tr>\n",
       "        <tr>\n",
       "            <td>Los Angeles      </td> <td>478.018 </td> <td>387.992        </td> <td>1018.01</td>\n",
       "        </tr>\n",
       "        <tr>\n",
       "            <td>Miami            </td> <td>788.747 </td> <td>763.78         </td> <td>483.99 </td>\n",
       "        </tr>\n",
       "        <tr>\n",
       "            <td>Miami Beach      </td> <td>559.022 </td> <td>0              </td> <td>0      </td>\n",
       "        </tr>\n",
       "        <tr>\n",
       "            <td>Milwaukee        </td> <td>446.194 </td> <td>0              </td> <td>601.017</td>\n",
       "        </tr>\n",
       "        <tr>\n",
       "            <td>Minneapolis      </td> <td>667.913 </td> <td>791.929        </td> <td>474.541</td>\n",
       "        </tr>\n",
       "        <tr>\n",
       "            <td>New York City    </td> <td>1396    </td> <td>1775.92        </td> <td>1250   </td>\n",
       "        </tr>\n",
       "        <tr>\n",
       "            <td>Philadelphia     </td> <td>518.012 </td> <td>973.524        </td> <td>945.013</td>\n",
       "        </tr>\n",
       "        <tr>\n",
       "            <td>Phoenix          </td> <td>407.152 </td> <td>374.016        </td> <td>483.005</td>\n",
       "        </tr>\n",
       "        <tr>\n",
       "            <td>Pittsburgh       </td> <td>292.979 </td> <td>564.304        </td> <td>841.011</td>\n",
       "        </tr>\n",
       "        <tr>\n",
       "            <td>Portland         </td> <td>509.022 </td> <td>417.979        </td> <td>545.997</td>\n",
       "        </tr>\n",
       "        <tr>\n",
       "            <td>Sacramento       </td> <td>350.984 </td> <td>379.987        </td> <td>402.231</td>\n",
       "        </tr>\n",
       "        <tr>\n",
       "            <td>Salt Lake City   </td> <td>377.001 </td> <td>0              </td> <td>422.014</td>\n",
       "        </tr>\n",
       "        <tr>\n",
       "            <td>San Diego        </td> <td>497.014 </td> <td>475            </td> <td>500    </td>\n",
       "        </tr>\n",
       "        <tr>\n",
       "            <td>San Francisco    </td> <td>645.013 </td> <td>853.018        </td> <td>779.003</td>\n",
       "        </tr>\n",
       "        <tr>\n",
       "            <td>Seattle          </td> <td>455.02  </td> <td>933.005        </td> <td>772.014</td>\n",
       "        </tr>\n",
       "        <tr>\n",
       "            <td>St. Louis        </td> <td>330.249 </td> <td>593.012        </td> <td>484.252</td>\n",
       "        </tr>\n",
       "        <tr>\n",
       "            <td>Sunny Isles Beach</td> <td>643.045 </td> <td>0              </td> <td>0      </td>\n",
       "        </tr>\n",
       "    </tbody>\n",
       "</table>"
      ],
      "text/plain": [
       "<IPython.core.display.HTML object>"
      ]
     },
     "metadata": {},
     "output_type": "display_data"
    }
   ],
   "source": [
    "sky_p = sky.pivot('material', 'city', 'height in feet', max)\n",
    "sky_p.show()"
   ]
  },
  {
   "cell_type": "code",
   "execution_count": 14,
   "metadata": {},
   "outputs": [
    {
     "data": {
      "text/html": [
       "<table border=\"1\" class=\"dataframe\">\n",
       "    <thead>\n",
       "        <tr>\n",
       "            <th>city</th> <th>concrete</th> <th>mixed/composite</th> <th>steel</th> <th>difference</th>\n",
       "        </tr>\n",
       "    </thead>\n",
       "    <tbody>\n",
       "        <tr>\n",
       "            <td>Atlanta  </td> <td>866.962 </td> <td>1022.97        </td> <td>556.004</td> <td>310.958   </td>\n",
       "        </tr>\n",
       "        <tr>\n",
       "            <td>Austin   </td> <td>682.907 </td> <td>0              </td> <td>307.087</td> <td>375.82    </td>\n",
       "        </tr>\n",
       "        <tr>\n",
       "            <td>Baltimore</td> <td>529.003 </td> <td>0              </td> <td>509.022</td> <td>19.9804   </td>\n",
       "        </tr>\n",
       "        <tr>\n",
       "            <td>Boston   </td> <td>400     </td> <td>456.037        </td> <td>789.993</td> <td>389.993   </td>\n",
       "        </tr>\n",
       "        <tr>\n",
       "            <td>Charlotte</td> <td>870.997 </td> <td>786.417        </td> <td>588.025</td> <td>282.973   </td>\n",
       "        </tr>\n",
       "    </tbody>\n",
       "</table>\n",
       "<p>... (30 rows omitted)</p>"
      ],
      "text/plain": [
       "<IPython.core.display.HTML object>"
      ]
     },
     "metadata": {},
     "output_type": "display_data"
    }
   ],
   "source": [
    "sky_p = sky_p.with_column(\n",
    "    'difference', \n",
    "    abs(sky_p.column('steel') - sky_p.column('concrete'))\n",
    ")\n",
    "sky_p.show(5)"
   ]
  },
  {
   "cell_type": "code",
   "execution_count": 15,
   "metadata": {},
   "outputs": [
    {
     "data": {
      "text/html": [
       "<table border=\"1\" class=\"dataframe\">\n",
       "    <thead>\n",
       "        <tr>\n",
       "            <th>city</th> <th>concrete</th> <th>mixed/composite</th> <th>steel</th> <th>difference</th>\n",
       "        </tr>\n",
       "    </thead>\n",
       "    <tbody>\n",
       "        <tr>\n",
       "            <td>Sunny Isles Beach</td> <td>643.045 </td> <td>0              </td> <td>0      </td> <td>643.045   </td>\n",
       "        </tr>\n",
       "        <tr>\n",
       "            <td>Las Vegas        </td> <td>1149.02 </td> <td>641.995        </td> <td>540.026</td> <td>608.99    </td>\n",
       "        </tr>\n",
       "        <tr>\n",
       "            <td>Miami Beach      </td> <td>559.022 </td> <td>0              </td> <td>0      </td> <td>559.022   </td>\n",
       "        </tr>\n",
       "        <tr>\n",
       "            <td>Pittsburgh       </td> <td>292.979 </td> <td>564.304        </td> <td>841.011</td> <td>548.031   </td>\n",
       "        </tr>\n",
       "        <tr>\n",
       "            <td>Los Angeles      </td> <td>478.018 </td> <td>387.992        </td> <td>1018.01</td> <td>539.993   </td>\n",
       "        </tr>\n",
       "        <tr>\n",
       "            <td>Philadelphia     </td> <td>518.012 </td> <td>973.524        </td> <td>945.013</td> <td>427.001   </td>\n",
       "        </tr>\n",
       "        <tr>\n",
       "            <td>Boston           </td> <td>400     </td> <td>456.037        </td> <td>789.993</td> <td>389.993   </td>\n",
       "        </tr>\n",
       "        <tr>\n",
       "            <td>Austin           </td> <td>682.907 </td> <td>0              </td> <td>307.087</td> <td>375.82    </td>\n",
       "        </tr>\n",
       "        <tr>\n",
       "            <td>Seattle          </td> <td>455.02  </td> <td>933.005        </td> <td>772.014</td> <td>316.995   </td>\n",
       "        </tr>\n",
       "        <tr>\n",
       "            <td>Atlanta          </td> <td>866.962 </td> <td>1022.97        </td> <td>556.004</td> <td>310.958   </td>\n",
       "        </tr>\n",
       "    </tbody>\n",
       "</table>\n",
       "<p>... (25 rows omitted)</p>"
      ],
      "text/plain": [
       "city              | concrete | mixed/composite | steel   | difference\n",
       "Sunny Isles Beach | 643.045  | 0               | 0       | 643.045\n",
       "Las Vegas         | 1149.02  | 641.995         | 540.026 | 608.99\n",
       "Miami Beach       | 559.022  | 0               | 0       | 559.022\n",
       "Pittsburgh        | 292.979  | 564.304         | 841.011 | 548.031\n",
       "Los Angeles       | 478.018  | 387.992         | 1018.01 | 539.993\n",
       "Philadelphia      | 518.012  | 973.524         | 945.013 | 427.001\n",
       "Boston            | 400      | 456.037         | 789.993 | 389.993\n",
       "Austin            | 682.907  | 0               | 307.087 | 375.82\n",
       "Seattle           | 455.02   | 933.005         | 772.014 | 316.995\n",
       "Atlanta           | 866.962  | 1022.97         | 556.004 | 310.958\n",
       "... (25 rows omitted)"
      ]
     },
     "execution_count": 15,
     "metadata": {},
     "output_type": "execute_result"
    }
   ],
   "source": [
    "sky_p.sort('difference', True)"
   ]
  }
 ],
 "metadata": {
  "kernelspec": {
   "display_name": "Python 3 (ipykernel)",
   "language": "python",
   "name": "python3"
  },
  "language_info": {
   "codemirror_mode": {
    "name": "ipython",
    "version": 3
   },
   "file_extension": ".py",
   "mimetype": "text/x-python",
   "name": "python",
   "nbconvert_exporter": "python",
   "pygments_lexer": "ipython3",
   "version": "3.9.7"
  }
 },
 "nbformat": 4,
 "nbformat_minor": 4
}
