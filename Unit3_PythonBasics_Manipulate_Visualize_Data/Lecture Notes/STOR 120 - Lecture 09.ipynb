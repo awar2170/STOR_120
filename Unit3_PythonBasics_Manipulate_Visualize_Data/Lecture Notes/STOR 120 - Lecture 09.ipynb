{
 "cells": [
  {
   "cell_type": "code",
   "execution_count": 5,
   "metadata": {},
   "outputs": [],
   "source": [
    "from datascience import *\n",
    "import numpy as np\n",
    "\n",
    "%matplotlib inline\n",
    "import matplotlib.pyplot as plots\n",
    "plots.style.use('fivethirtyeight')"
   ]
  },
  {
   "cell_type": "markdown",
   "metadata": {},
   "source": [
    "## Lecture 9 ##"
   ]
  },
  {
   "cell_type": "markdown",
   "metadata": {},
   "source": [
    "## Visualization Review: Sleep Study ##"
   ]
  },
  {
   "cell_type": "code",
   "execution_count": 6,
   "metadata": {},
   "outputs": [
    {
     "data": {
      "text/html": [
       "<table border=\"1\" class=\"dataframe\">\n",
       "    <thead>\n",
       "        <tr>\n",
       "            <th>Gender</th> <th>ClassYear</th> <th>LarkOwl</th> <th>NumEarlyClass</th> <th>EarlyClass</th> <th>GPA</th> <th>ClassesMissed</th> <th>CognitionZscore</th> <th>PoorSleepQuality</th> <th>DepressionScore</th> <th>AnxietyScore</th> <th>StressScore</th> <th>DepressionStatus</th> <th>AnxietyStatus</th> <th>Stress</th> <th>DASScore</th> <th>Happiness</th> <th>AlcoholUse</th> <th>Drinks</th> <th>WeekdayBed</th> <th>WeekdayRise</th> <th>WeekdaySleep</th> <th>WeekendBed</th> <th>WeekendRise</th> <th>WeekendSleep</th> <th>AverageSleep</th> <th>AllNighter</th>\n",
       "        </tr>\n",
       "    </thead>\n",
       "    <tbody>\n",
       "        <tr>\n",
       "            <td>0     </td> <td>4        </td> <td>Neither</td> <td>0            </td> <td>0         </td> <td>3.6 </td> <td>0            </td> <td>-0.26          </td> <td>4               </td> <td>4              </td> <td>3           </td> <td>8          </td> <td>normal          </td> <td>normal       </td> <td>normal</td> <td>15      </td> <td>28       </td> <td>Moderate  </td> <td>10    </td> <td>25.75     </td> <td>8.7        </td> <td>7.7         </td> <td>25.75     </td> <td>9.5        </td> <td>5.88        </td> <td>7.18        </td> <td>0         </td>\n",
       "        </tr>\n",
       "        <tr>\n",
       "            <td>0     </td> <td>4        </td> <td>Neither</td> <td>2            </td> <td>1         </td> <td>3.24</td> <td>0            </td> <td>1.39           </td> <td>6               </td> <td>1              </td> <td>0           </td> <td>3          </td> <td>normal          </td> <td>normal       </td> <td>normal</td> <td>4       </td> <td>25       </td> <td>Moderate  </td> <td>6     </td> <td>25.7      </td> <td>8.2        </td> <td>6.8         </td> <td>26        </td> <td>10         </td> <td>7.25        </td> <td>6.93        </td> <td>0         </td>\n",
       "        </tr>\n",
       "        <tr>\n",
       "            <td>0     </td> <td>4        </td> <td>Owl    </td> <td>0            </td> <td>0         </td> <td>2.97</td> <td>12           </td> <td>0.38           </td> <td>18              </td> <td>18             </td> <td>18          </td> <td>9          </td> <td>moderate        </td> <td>severe       </td> <td>normal</td> <td>45      </td> <td>17       </td> <td>Light     </td> <td>3     </td> <td>27.44     </td> <td>6.55       </td> <td>3           </td> <td>28        </td> <td>12.59      </td> <td>10.09       </td> <td>5.02        </td> <td>0         </td>\n",
       "        </tr>\n",
       "        <tr>\n",
       "            <td>0     </td> <td>1        </td> <td>Lark   </td> <td>5            </td> <td>1         </td> <td>3.76</td> <td>0            </td> <td>1.39           </td> <td>9               </td> <td>1              </td> <td>4           </td> <td>6          </td> <td>normal          </td> <td>normal       </td> <td>normal</td> <td>11      </td> <td>32       </td> <td>Light     </td> <td>2     </td> <td>23.5      </td> <td>7.17       </td> <td>6.77        </td> <td>27        </td> <td>8          </td> <td>7.25        </td> <td>6.9         </td> <td>0         </td>\n",
       "        </tr>\n",
       "        <tr>\n",
       "            <td>0     </td> <td>4        </td> <td>Owl    </td> <td>0            </td> <td>0         </td> <td>3.2 </td> <td>4            </td> <td>1.22           </td> <td>9               </td> <td>7              </td> <td>25          </td> <td>14         </td> <td>normal          </td> <td>severe       </td> <td>normal</td> <td>46      </td> <td>15       </td> <td>Moderate  </td> <td>4     </td> <td>25.9      </td> <td>8.67       </td> <td>6.09        </td> <td>23.75     </td> <td>9.5        </td> <td>7           </td> <td>6.35        </td> <td>0         </td>\n",
       "        </tr>\n",
       "    </tbody>\n",
       "</table>\n",
       "<p>... (248 rows omitted)</p>"
      ],
      "text/plain": [
       "<IPython.core.display.HTML object>"
      ]
     },
     "metadata": {},
     "output_type": "display_data"
    }
   ],
   "source": [
    "sleep = Table.read_table('../Datasets/SleepStudy.csv')\n",
    "sleep.show(5)"
   ]
  },
  {
   "cell_type": "markdown",
   "metadata": {},
   "source": [
    "### Scatter Plots"
   ]
  },
  {
   "cell_type": "code",
   "execution_count": 7,
   "metadata": {},
   "outputs": [
    {
     "data": {
      "image/png": "[encoded data removed]",
      "text/plain": [
       "<Figure size 360x360 with 1 Axes>"
      ]
     },
     "metadata": {},
     "output_type": "display_data"
    }
   ],
   "source": [
    "sleep.scatter('DASScore', 'PoorSleepQuality')"
   ]
  },
  {
   "cell_type": "markdown",
   "metadata": {},
   "source": [
    "### Bar Charts"
   ]
  },
  {
   "cell_type": "code",
   "execution_count": 8,
   "metadata": {},
   "outputs": [
    {
     "data": {
      "text/html": [
       "<table border=\"1\" class=\"dataframe\">\n",
       "    <thead>\n",
       "        <tr>\n",
       "            <th>AnxietyStatus</th> <th>count</th>\n",
       "        </tr>\n",
       "    </thead>\n",
       "    <tbody>\n",
       "        <tr>\n",
       "            <td>moderate     </td> <td>56   </td>\n",
       "        </tr>\n",
       "        <tr>\n",
       "            <td>normal       </td> <td>181  </td>\n",
       "        </tr>\n",
       "        <tr>\n",
       "            <td>severe       </td> <td>16   </td>\n",
       "        </tr>\n",
       "    </tbody>\n",
       "</table>"
      ],
      "text/plain": [
       "AnxietyStatus | count\n",
       "moderate      | 56\n",
       "normal        | 181\n",
       "severe        | 16"
      ]
     },
     "execution_count": 8,
     "metadata": {},
     "output_type": "execute_result"
    }
   ],
   "source": [
    "AnxietyStatus = sleep.group('AnxietyStatus')\n",
    "AnxietyStatus"
   ]
  },
  {
   "cell_type": "code",
   "execution_count": 9,
   "metadata": {},
   "outputs": [
    {
     "data": {
      "image/png": "[encoded data removed]",
      "text/plain": [
       "<Figure size 432x288 with 1 Axes>"
      ]
     },
     "metadata": {},
     "output_type": "display_data"
    }
   ],
   "source": [
    "AnxietyStatus.barh('AnxietyStatus')"
   ]
  },
  {
   "cell_type": "markdown",
   "metadata": {},
   "source": [
    "### Histograms"
   ]
  },
  {
   "cell_type": "code",
   "execution_count": 10,
   "metadata": {},
   "outputs": [
    {
     "data": {
      "image/png": "[encoded data removed]",
      "text/plain": [
       "<Figure size 432x288 with 1 Axes>"
      ]
     },
     "metadata": {},
     "output_type": "display_data"
    }
   ],
   "source": [
    "sleep.hist('Drinks')"
   ]
  },
  {
   "cell_type": "code",
   "execution_count": 11,
   "metadata": {},
   "outputs": [
    {
     "data": {
      "image/png": "[encoded data removed]",
      "text/plain": [
       "<Figure size 432x288 with 1 Axes>"
      ]
     },
     "metadata": {},
     "output_type": "display_data"
    }
   ],
   "source": [
    "sleep.hist('AverageSleep')"
   ]
  },
  {
   "cell_type": "code",
   "execution_count": 12,
   "metadata": {},
   "outputs": [
    {
     "data": {
      "text/plain": [
       "(4.95, 10.62)"
      ]
     },
     "execution_count": 12,
     "metadata": {},
     "output_type": "execute_result"
    }
   ],
   "source": [
    "min(sleep.column('AverageSleep')), max(sleep.column('AverageSleep'))"
   ]
  },
  {
   "cell_type": "code",
   "execution_count": 13,
   "metadata": {},
   "outputs": [],
   "source": [
    "sleep_bins = np.arange(4,11,0.5)"
   ]
  },
  {
   "cell_type": "code",
   "execution_count": 14,
   "metadata": {},
   "outputs": [
    {
     "data": {
      "image/png": "[encoded data removed]",
      "text/plain": [
       "<Figure size 432x288 with 1 Axes>"
      ]
     },
     "metadata": {},
     "output_type": "display_data"
    },
    {
     "data": {
      "image/png": "[encoded data removed]",
      "text/plain": [
       "<Figure size 432x288 with 1 Axes>"
      ]
     },
     "metadata": {},
     "output_type": "display_data"
    }
   ],
   "source": [
    "LarkSleep = sleep.where('LarkOwl', are.containing('Lark'))\n",
    "LarkSleep.hist('AverageSleep', bins=sleep_bins)\n",
    "plots.title('Early Bird');\n",
    "\n",
    "OwlSleep = sleep.where('LarkOwl', are.containing('Owl'))\n",
    "OwlSleep.hist('AverageSleep', bins=sleep_bins)\n",
    "plots.title('Night Owl');"
   ]
  },
  {
   "cell_type": "markdown",
   "metadata": {},
   "source": [
    "## Functions ##"
   ]
  },
  {
   "cell_type": "code",
   "execution_count": 15,
   "metadata": {},
   "outputs": [
    {
     "data": {
      "text/plain": [
       "7"
      ]
     },
     "execution_count": 15,
     "metadata": {},
     "output_type": "execute_result"
    }
   ],
   "source": [
    "max(5, 6, 7)"
   ]
  },
  {
   "cell_type": "code",
   "execution_count": 16,
   "metadata": {},
   "outputs": [],
   "source": [
    "def triple(x):\n",
    "    return 3 * x"
   ]
  },
  {
   "cell_type": "code",
   "execution_count": 17,
   "metadata": {},
   "outputs": [
    {
     "data": {
      "text/plain": [
       "9"
      ]
     },
     "execution_count": 17,
     "metadata": {},
     "output_type": "execute_result"
    }
   ],
   "source": [
    "triple(3)"
   ]
  },
  {
   "cell_type": "code",
   "execution_count": 18,
   "metadata": {},
   "outputs": [],
   "source": [
    "num = 4"
   ]
  },
  {
   "cell_type": "code",
   "execution_count": 19,
   "metadata": {},
   "outputs": [
    {
     "data": {
      "text/plain": [
       "12"
      ]
     },
     "execution_count": 19,
     "metadata": {},
     "output_type": "execute_result"
    }
   ],
   "source": [
    "triple(num)"
   ]
  },
  {
   "cell_type": "code",
   "execution_count": 20,
   "metadata": {},
   "outputs": [
    {
     "data": {
      "text/plain": [
       "60"
      ]
     },
     "execution_count": 20,
     "metadata": {},
     "output_type": "execute_result"
    }
   ],
   "source": [
    "triple(num * 5)"
   ]
  },
  {
   "cell_type": "markdown",
   "metadata": {},
   "source": [
    "### Note About Scopes"
   ]
  },
  {
   "cell_type": "code",
   "execution_count": null,
   "metadata": {},
   "outputs": [],
   "source": [
    "def multiple_of_y(x):\n",
    "    y = 5\n",
    "    return y * x"
   ]
  },
  {
   "cell_type": "code",
   "execution_count": null,
   "metadata": {},
   "outputs": [],
   "source": [
    "multiple_of_y(10)"
   ]
  },
  {
   "cell_type": "code",
   "execution_count": null,
   "metadata": {},
   "outputs": [],
   "source": [
    "def multiple_of_y(x):\n",
    "    y = 10\n",
    "    return y * x"
   ]
  },
  {
   "cell_type": "code",
   "execution_count": null,
   "metadata": {},
   "outputs": [],
   "source": [
    "multiple_of_y(10)"
   ]
  },
  {
   "cell_type": "code",
   "execution_count": null,
   "metadata": {},
   "outputs": [],
   "source": [
    "y"
   ]
  },
  {
   "cell_type": "markdown",
   "metadata": {},
   "source": [
    "### Type Agnostic"
   ]
  },
  {
   "cell_type": "code",
   "execution_count": null,
   "metadata": {},
   "outputs": [],
   "source": [
    "triple('ha')"
   ]
  },
  {
   "cell_type": "code",
   "execution_count": null,
   "metadata": {},
   "outputs": [],
   "source": [
    "triple(np.arange(10))"
   ]
  },
  {
   "cell_type": "markdown",
   "metadata": {},
   "source": [
    "### Questions"
   ]
  },
  {
   "cell_type": "code",
   "execution_count": null,
   "metadata": {},
   "outputs": [],
   "source": [
    "def f(s):\n",
    "    return np.round(s / sum(s) * 100, 2)"
   ]
  },
  {
   "cell_type": "code",
   "execution_count": null,
   "metadata": {},
   "outputs": [],
   "source": [
    "f(5)"
   ]
  },
  {
   "cell_type": "code",
   "execution_count": null,
   "metadata": {},
   "outputs": [],
   "source": [
    "f(5.0)"
   ]
  },
  {
   "cell_type": "code",
   "execution_count": null,
   "metadata": {},
   "outputs": [],
   "source": [
    "f('boo')"
   ]
  },
  {
   "cell_type": "code",
   "execution_count": null,
   "metadata": {},
   "outputs": [],
   "source": [
    "my_new_array = np.arange(5)\n",
    "f(my_new_array)"
   ]
  },
  {
   "cell_type": "code",
   "execution_count": null,
   "metadata": {},
   "outputs": [],
   "source": [
    "my_newer_array = np.arange(0, 100, 3)\n",
    "my_newer_array\n",
    "\n",
    "f(my_newer_array)"
   ]
  },
  {
   "cell_type": "code",
   "execution_count": null,
   "metadata": {},
   "outputs": [],
   "source": [
    "def percent_of_whole(s):\n",
    "    return np.round(s / sum(s) * 100, 2)"
   ]
  },
  {
   "cell_type": "code",
   "execution_count": null,
   "metadata": {},
   "outputs": [],
   "source": [
    "percent_of_whole(my_new_array)"
   ]
  },
  {
   "cell_type": "markdown",
   "metadata": {},
   "source": [
    "## Apply ##"
   ]
  },
  {
   "cell_type": "code",
   "execution_count": null,
   "metadata": {},
   "outputs": [],
   "source": [
    "My_States = Table().with_columns(\n",
    "    'State', make_array('CT', 'CA', 'NY'),\n",
    "    'Year Last Lived', make_array(2010, 2016, 2018)\n",
    ")\n",
    "My_States"
   ]
  },
  {
   "cell_type": "code",
   "execution_count": null,
   "metadata": {},
   "outputs": [],
   "source": [
    "def how_long_since_left(x):\n",
    "    return 2021 - x"
   ]
  },
  {
   "cell_type": "code",
   "execution_count": null,
   "metadata": {},
   "outputs": [],
   "source": [
    "how_long_since_left(2010)"
   ]
  },
  {
   "cell_type": "code",
   "execution_count": null,
   "metadata": {},
   "outputs": [],
   "source": [
    "how_long_since_left(2016)"
   ]
  },
  {
   "cell_type": "code",
   "execution_count": null,
   "metadata": {},
   "outputs": [],
   "source": [
    "My_States.apply(how_long_since_left, 'Year Last Lived')"
   ]
  },
  {
   "cell_type": "code",
   "execution_count": null,
   "metadata": {},
   "outputs": [],
   "source": [
    "sleep.show(5)"
   ]
  },
  {
   "cell_type": "code",
   "execution_count": null,
   "metadata": {},
   "outputs": [],
   "source": [
    "def Calculate_DAS(Stress, Anxiety, Depression):\n",
    "    return sum(make_array(Stress, Anxiety, Depression))"
   ]
  },
  {
   "cell_type": "code",
   "execution_count": null,
   "metadata": {},
   "outputs": [],
   "source": [
    "Calculate_DAS(4, 3, 8)"
   ]
  },
  {
   "cell_type": "code",
   "execution_count": null,
   "metadata": {},
   "outputs": [],
   "source": [
    "Calculate_DAS(\n",
    "    sleep.column('StressScore').item(0),\n",
    "    sleep.column('AnxietyScore').item(0),\n",
    "    sleep.column('DepressionScore').item(0)\n",
    ")"
   ]
  },
  {
   "cell_type": "code",
   "execution_count": null,
   "metadata": {},
   "outputs": [],
   "source": [
    "sleep.apply(Calculate_DAS, 'StressScore', 'AnxietyScore', 'DepressionScore')"
   ]
  },
  {
   "cell_type": "code",
   "execution_count": null,
   "metadata": {},
   "outputs": [],
   "source": [
    "sleep = sleep.with_column(\n",
    "    'DAS Calculation', sleep.apply(Calculate_DAS, 'StressScore', 'AnxietyScore', 'DepressionScore')\n",
    ")\n",
    "\n",
    "sleep"
   ]
  },
  {
   "cell_type": "code",
   "execution_count": null,
   "metadata": {},
   "outputs": [],
   "source": [
    "sleep.select('DASScore', 'DAS Calculation')"
   ]
  }
 ],
 "metadata": {
  "anaconda-cloud": {},
  "kernelspec": {
   "display_name": "Python 3 (ipykernel)",
   "language": "python",
   "name": "python3"
  },
  "language_info": {
   "codemirror_mode": {
    "name": "ipython",
    "version": 3
   },
   "file_extension": ".py",
   "mimetype": "text/x-python",
   "name": "python",
   "nbconvert_exporter": "python",
   "pygments_lexer": "ipython3",
   "version": "3.9.7"
  }
 },
 "nbformat": 4,
 "nbformat_minor": 4
}
