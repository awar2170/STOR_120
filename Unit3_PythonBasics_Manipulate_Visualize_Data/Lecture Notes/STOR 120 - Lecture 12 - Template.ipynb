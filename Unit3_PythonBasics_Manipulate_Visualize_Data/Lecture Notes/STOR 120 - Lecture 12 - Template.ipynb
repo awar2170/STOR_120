{
 "cells": [
  {
   "cell_type": "code",
   "execution_count": 53,
   "metadata": {},
   "outputs": [],
   "source": [
    "from datascience import *\n",
    "import numpy as np\n",
    "import pandas as pd\n",
    "\n",
    "%matplotlib inline\n",
    "import matplotlib.pyplot as plots\n",
    "plots.style.use('fivethirtyeight')"
   ]
  },
  {
   "cell_type": "markdown",
   "metadata": {},
   "source": [
    "# Lecture 12 #"
   ]
  },
  {
   "cell_type": "markdown",
   "metadata": {},
   "source": [
    "## Table Method Review"
   ]
  },
  {
   "cell_type": "code",
   "execution_count": 2,
   "metadata": {},
   "outputs": [
    {
     "data": {
      "text/html": [
       "<table border=\"1\" class=\"dataframe\">\n",
       "    <thead>\n",
       "        <tr>\n",
       "            <th>Gender</th> <th>ClassYear</th> <th>LarkOwl</th> <th>NumEarlyClass</th> <th>EarlyClass</th> <th>GPA</th> <th>ClassesMissed</th> <th>CognitionZscore</th> <th>PoorSleepQuality</th> <th>DepressionScore</th> <th>AnxietyScore</th> <th>StressScore</th> <th>DepressionStatus</th> <th>AnxietyStatus</th> <th>Stress</th> <th>DASScore</th> <th>Happiness</th> <th>AlcoholUse</th> <th>Drinks</th> <th>WeekdayBed</th> <th>WeekdayRise</th> <th>WeekdaySleep</th> <th>WeekendBed</th> <th>WeekendRise</th> <th>WeekendSleep</th> <th>AverageSleep</th> <th>AllNighter</th>\n",
       "        </tr>\n",
       "    </thead>\n",
       "    <tbody>\n",
       "        <tr>\n",
       "            <td>0     </td> <td>4        </td> <td>Neither</td> <td>0            </td> <td>0         </td> <td>3.6 </td> <td>0            </td> <td>-0.26          </td> <td>4               </td> <td>4              </td> <td>3           </td> <td>8          </td> <td>normal          </td> <td>normal       </td> <td>normal</td> <td>15      </td> <td>28       </td> <td>Moderate  </td> <td>10    </td> <td>25.75     </td> <td>8.7        </td> <td>7.7         </td> <td>25.75     </td> <td>9.5        </td> <td>5.88        </td> <td>7.18        </td> <td>0         </td>\n",
       "        </tr>\n",
       "        <tr>\n",
       "            <td>0     </td> <td>4        </td> <td>Neither</td> <td>2            </td> <td>1         </td> <td>3.24</td> <td>0            </td> <td>1.39           </td> <td>6               </td> <td>1              </td> <td>0           </td> <td>3          </td> <td>normal          </td> <td>normal       </td> <td>normal</td> <td>4       </td> <td>25       </td> <td>Moderate  </td> <td>6     </td> <td>25.7      </td> <td>8.2        </td> <td>6.8         </td> <td>26        </td> <td>10         </td> <td>7.25        </td> <td>6.93        </td> <td>0         </td>\n",
       "        </tr>\n",
       "        <tr>\n",
       "            <td>0     </td> <td>4        </td> <td>Owl    </td> <td>0            </td> <td>0         </td> <td>2.97</td> <td>12           </td> <td>0.38           </td> <td>18              </td> <td>18             </td> <td>18          </td> <td>9          </td> <td>moderate        </td> <td>severe       </td> <td>normal</td> <td>45      </td> <td>17       </td> <td>Light     </td> <td>3     </td> <td>27.44     </td> <td>6.55       </td> <td>3           </td> <td>28        </td> <td>12.59      </td> <td>10.09       </td> <td>5.02        </td> <td>0         </td>\n",
       "        </tr>\n",
       "        <tr>\n",
       "            <td>0     </td> <td>1        </td> <td>Lark   </td> <td>5            </td> <td>1         </td> <td>3.76</td> <td>0            </td> <td>1.39           </td> <td>9               </td> <td>1              </td> <td>4           </td> <td>6          </td> <td>normal          </td> <td>normal       </td> <td>normal</td> <td>11      </td> <td>32       </td> <td>Light     </td> <td>2     </td> <td>23.5      </td> <td>7.17       </td> <td>6.77        </td> <td>27        </td> <td>8          </td> <td>7.25        </td> <td>6.9         </td> <td>0         </td>\n",
       "        </tr>\n",
       "        <tr>\n",
       "            <td>0     </td> <td>4        </td> <td>Owl    </td> <td>0            </td> <td>0         </td> <td>3.2 </td> <td>4            </td> <td>1.22           </td> <td>9               </td> <td>7              </td> <td>25          </td> <td>14         </td> <td>normal          </td> <td>severe       </td> <td>normal</td> <td>46      </td> <td>15       </td> <td>Moderate  </td> <td>4     </td> <td>25.9      </td> <td>8.67       </td> <td>6.09        </td> <td>23.75     </td> <td>9.5        </td> <td>7           </td> <td>6.35        </td> <td>0         </td>\n",
       "        </tr>\n",
       "        <tr>\n",
       "            <td>1     </td> <td>4        </td> <td>Neither</td> <td>0            </td> <td>0         </td> <td>3.5 </td> <td>0            </td> <td>-0.04          </td> <td>6               </td> <td>14             </td> <td>8           </td> <td>28         </td> <td>moderate        </td> <td>moderate     </td> <td>high  </td> <td>50      </td> <td>22       </td> <td>Abstain   </td> <td>0     </td> <td>23.8      </td> <td>8.95       </td> <td>9.05        </td> <td>26        </td> <td>10.75      </td> <td>9           </td> <td>9.04        </td> <td>0         </td>\n",
       "        </tr>\n",
       "        <tr>\n",
       "            <td>1     </td> <td>2        </td> <td>Lark   </td> <td>2            </td> <td>1         </td> <td>3.35</td> <td>2            </td> <td>0.41           </td> <td>2               </td> <td>1              </td> <td>0           </td> <td>1          </td> <td>normal          </td> <td>normal       </td> <td>normal</td> <td>2       </td> <td>25       </td> <td>Moderate  </td> <td>6     </td> <td>25.35     </td> <td>8.48       </td> <td>7.73        </td> <td>25.63     </td> <td>10.13      </td> <td>7           </td> <td>7.52        </td> <td>1         </td>\n",
       "        </tr>\n",
       "        <tr>\n",
       "            <td>0     </td> <td>2        </td> <td>Lark   </td> <td>0            </td> <td>0         </td> <td>3   </td> <td>0            </td> <td>-0.59          </td> <td>10              </td> <td>2              </td> <td>2           </td> <td>3          </td> <td>normal          </td> <td>normal       </td> <td>normal</td> <td>7       </td> <td>29       </td> <td>Light     </td> <td>3     </td> <td>23.9      </td> <td>9.07       </td> <td>9.02        </td> <td>25.13     </td> <td>9.75       </td> <td>9           </td> <td>9.01        </td> <td>0         </td>\n",
       "        </tr>\n",
       "        <tr>\n",
       "            <td>0     </td> <td>1        </td> <td>Neither</td> <td>2            </td> <td>1         </td> <td>4   </td> <td>0            </td> <td>1.03           </td> <td>5               </td> <td>12             </td> <td>16          </td> <td>20         </td> <td>moderate        </td> <td>severe       </td> <td>high  </td> <td>48      </td> <td>29       </td> <td>Light     </td> <td>3     </td> <td>24.4      </td> <td>8.75       </td> <td>8.25        </td> <td>24        </td> <td>9          </td> <td>9.25        </td> <td>8.54        </td> <td>0         </td>\n",
       "        </tr>\n",
       "        <tr>\n",
       "            <td>0     </td> <td>4        </td> <td>Neither</td> <td>2            </td> <td>1         </td> <td>2.9 </td> <td>0            </td> <td>0.72           </td> <td>2               </td> <td>6              </td> <td>11          </td> <td>31         </td> <td>normal          </td> <td>moderate     </td> <td>high  </td> <td>48      </td> <td>30       </td> <td>Moderate  </td> <td>6     </td> <td>26.2      </td> <td>8          </td> <td>6.6         </td> <td>25.38     </td> <td>10.25      </td> <td>6.88        </td> <td>6.68        </td> <td>0         </td>\n",
       "        </tr>\n",
       "    </tbody>\n",
       "</table>\n",
       "<p>... (243 rows omitted)</p>"
      ],
      "text/plain": [
       "Gender | ClassYear | LarkOwl | NumEarlyClass | EarlyClass | GPA  | ClassesMissed | CognitionZscore | PoorSleepQuality | DepressionScore | AnxietyScore | StressScore | DepressionStatus | AnxietyStatus | Stress | DASScore | Happiness | AlcoholUse | Drinks | WeekdayBed | WeekdayRise | WeekdaySleep | WeekendBed | WeekendRise | WeekendSleep | AverageSleep | AllNighter\n",
       "0      | 4         | Neither | 0             | 0          | 3.6  | 0             | -0.26           | 4                | 4               | 3            | 8           | normal           | normal        | normal | 15       | 28        | Moderate   | 10     | 25.75      | 8.7         | 7.7          | 25.75      | 9.5         | 5.88         | 7.18         | 0\n",
       "0      | 4         | Neither | 2             | 1          | 3.24 | 0             | 1.39            | 6                | 1               | 0            | 3           | normal           | normal        | normal | 4        | 25        | Moderate   | 6      | 25.7       | 8.2         | 6.8          | 26         | 10          | 7.25         | 6.93         | 0\n",
       "0      | 4         | Owl     | 0             | 0          | 2.97 | 12            | 0.38            | 18               | 18              | 18           | 9           | moderate         | severe        | normal | 45       | 17        | Light      | 3      | 27.44      | 6.55        | 3            | 28         | 12.59       | 10.09        | 5.02         | 0\n",
       "0      | 1         | Lark    | 5             | 1          | 3.76 | 0             | 1.39            | 9                | 1               | 4            | 6           | normal           | normal        | normal | 11       | 32        | Light      | 2      | 23.5       | 7.17        | 6.77         | 27         | 8           | 7.25         | 6.9          | 0\n",
       "0      | 4         | Owl     | 0             | 0          | 3.2  | 4             | 1.22            | 9                | 7               | 25           | 14          | normal           | severe        | normal | 46       | 15        | Moderate   | 4      | 25.9       | 8.67        | 6.09         | 23.75      | 9.5         | 7            | 6.35         | 0\n",
       "1      | 4         | Neither | 0             | 0          | 3.5  | 0             | -0.04           | 6                | 14              | 8            | 28          | moderate         | moderate      | high   | 50       | 22        | Abstain    | 0      | 23.8       | 8.95        | 9.05         | 26         | 10.75       | 9            | 9.04         | 0\n",
       "1      | 2         | Lark    | 2             | 1          | 3.35 | 2             | 0.41            | 2                | 1               | 0            | 1           | normal           | normal        | normal | 2        | 25        | Moderate   | 6      | 25.35      | 8.48        | 7.73         | 25.63      | 10.13       | 7            | 7.52         | 1\n",
       "0      | 2         | Lark    | 0             | 0          | 3    | 0             | -0.59           | 10               | 2               | 2            | 3           | normal           | normal        | normal | 7        | 29        | Light      | 3      | 23.9       | 9.07        | 9.02         | 25.13      | 9.75        | 9            | 9.01         | 0\n",
       "0      | 1         | Neither | 2             | 1          | 4    | 0             | 1.03            | 5                | 12              | 16           | 20          | moderate         | severe        | high   | 48       | 29        | Light      | 3      | 24.4       | 8.75        | 8.25         | 24         | 9           | 9.25         | 8.54         | 0\n",
       "0      | 4         | Neither | 2             | 1          | 2.9  | 0             | 0.72            | 2                | 6               | 11           | 31          | normal           | moderate      | high   | 48       | 30        | Moderate   | 6      | 26.2       | 8           | 6.6          | 25.38      | 10.25       | 6.88         | 6.68         | 0\n",
       "... (243 rows omitted)"
      ]
     },
     "execution_count": 2,
     "metadata": {},
     "output_type": "execute_result"
    }
   ],
   "source": [
    "SleepStudy = Table.read_table('../Datasets/SleepStudy.csv')\n",
    "SleepStudy"
   ]
  },
  {
   "cell_type": "markdown",
   "metadata": {},
   "source": [
    "### Select or Drop Columns from a Table"
   ]
  },
  {
   "cell_type": "code",
   "execution_count": 3,
   "metadata": {},
   "outputs": [
    {
     "data": {
      "text/html": [
       "<table border=\"1\" class=\"dataframe\">\n",
       "    <thead>\n",
       "        <tr>\n",
       "            <th>GPA</th>\n",
       "        </tr>\n",
       "    </thead>\n",
       "    <tbody>\n",
       "        <tr>\n",
       "            <td>3.6 </td>\n",
       "        </tr>\n",
       "        <tr>\n",
       "            <td>3.24</td>\n",
       "        </tr>\n",
       "        <tr>\n",
       "            <td>2.97</td>\n",
       "        </tr>\n",
       "        <tr>\n",
       "            <td>3.76</td>\n",
       "        </tr>\n",
       "        <tr>\n",
       "            <td>3.2 </td>\n",
       "        </tr>\n",
       "        <tr>\n",
       "            <td>3.5 </td>\n",
       "        </tr>\n",
       "        <tr>\n",
       "            <td>3.35</td>\n",
       "        </tr>\n",
       "        <tr>\n",
       "            <td>3   </td>\n",
       "        </tr>\n",
       "        <tr>\n",
       "            <td>4   </td>\n",
       "        </tr>\n",
       "        <tr>\n",
       "            <td>2.9 </td>\n",
       "        </tr>\n",
       "    </tbody>\n",
       "</table>\n",
       "<p>... (243 rows omitted)</p>"
      ],
      "text/plain": [
       "GPA\n",
       "3.6\n",
       "3.24\n",
       "2.97\n",
       "3.76\n",
       "3.2\n",
       "3.5\n",
       "3.35\n",
       "3\n",
       "4\n",
       "2.9\n",
       "... (243 rows omitted)"
      ]
     },
     "execution_count": 3,
     "metadata": {},
     "output_type": "execute_result"
    }
   ],
   "source": [
    "SleepStudy.select('GPA')"
   ]
  },
  {
   "cell_type": "code",
   "execution_count": 4,
   "metadata": {},
   "outputs": [
    {
     "data": {
      "text/html": [
       "<table border=\"1\" class=\"dataframe\">\n",
       "    <thead>\n",
       "        <tr>\n",
       "            <th>GPA</th>\n",
       "        </tr>\n",
       "    </thead>\n",
       "    <tbody>\n",
       "        <tr>\n",
       "            <td>3.6 </td>\n",
       "        </tr>\n",
       "        <tr>\n",
       "            <td>3.24</td>\n",
       "        </tr>\n",
       "        <tr>\n",
       "            <td>2.97</td>\n",
       "        </tr>\n",
       "        <tr>\n",
       "            <td>3.76</td>\n",
       "        </tr>\n",
       "        <tr>\n",
       "            <td>3.2 </td>\n",
       "        </tr>\n",
       "        <tr>\n",
       "            <td>3.5 </td>\n",
       "        </tr>\n",
       "        <tr>\n",
       "            <td>3.35</td>\n",
       "        </tr>\n",
       "        <tr>\n",
       "            <td>3   </td>\n",
       "        </tr>\n",
       "        <tr>\n",
       "            <td>4   </td>\n",
       "        </tr>\n",
       "        <tr>\n",
       "            <td>2.9 </td>\n",
       "        </tr>\n",
       "    </tbody>\n",
       "</table>\n",
       "<p>... (243 rows omitted)</p>"
      ],
      "text/plain": [
       "GPA\n",
       "3.6\n",
       "3.24\n",
       "2.97\n",
       "3.76\n",
       "3.2\n",
       "3.5\n",
       "3.35\n",
       "3\n",
       "4\n",
       "2.9\n",
       "... (243 rows omitted)"
      ]
     },
     "execution_count": 4,
     "metadata": {},
     "output_type": "execute_result"
    }
   ],
   "source": [
    "SleepStudy.select(5)"
   ]
  },
  {
   "cell_type": "code",
   "execution_count": 5,
   "metadata": {},
   "outputs": [
    {
     "data": {
      "text/html": [
       "<table border=\"1\" class=\"dataframe\">\n",
       "    <thead>\n",
       "        <tr>\n",
       "            <th>Gender</th> <th>ClassYear</th> <th>LarkOwl</th> <th>NumEarlyClass</th> <th>EarlyClass</th> <th>ClassesMissed</th> <th>CognitionZscore</th> <th>PoorSleepQuality</th> <th>DepressionScore</th> <th>AnxietyScore</th> <th>StressScore</th> <th>DepressionStatus</th> <th>AnxietyStatus</th> <th>Stress</th> <th>DASScore</th> <th>Happiness</th> <th>AlcoholUse</th> <th>Drinks</th> <th>WeekdayBed</th> <th>WeekdayRise</th> <th>WeekdaySleep</th> <th>WeekendBed</th> <th>WeekendRise</th> <th>WeekendSleep</th> <th>AverageSleep</th> <th>AllNighter</th>\n",
       "        </tr>\n",
       "    </thead>\n",
       "    <tbody>\n",
       "        <tr>\n",
       "            <td>0     </td> <td>4        </td> <td>Neither</td> <td>0            </td> <td>0         </td> <td>0            </td> <td>-0.26          </td> <td>4               </td> <td>4              </td> <td>3           </td> <td>8          </td> <td>normal          </td> <td>normal       </td> <td>normal</td> <td>15      </td> <td>28       </td> <td>Moderate  </td> <td>10    </td> <td>25.75     </td> <td>8.7        </td> <td>7.7         </td> <td>25.75     </td> <td>9.5        </td> <td>5.88        </td> <td>7.18        </td> <td>0         </td>\n",
       "        </tr>\n",
       "        <tr>\n",
       "            <td>0     </td> <td>4        </td> <td>Neither</td> <td>2            </td> <td>1         </td> <td>0            </td> <td>1.39           </td> <td>6               </td> <td>1              </td> <td>0           </td> <td>3          </td> <td>normal          </td> <td>normal       </td> <td>normal</td> <td>4       </td> <td>25       </td> <td>Moderate  </td> <td>6     </td> <td>25.7      </td> <td>8.2        </td> <td>6.8         </td> <td>26        </td> <td>10         </td> <td>7.25        </td> <td>6.93        </td> <td>0         </td>\n",
       "        </tr>\n",
       "        <tr>\n",
       "            <td>0     </td> <td>4        </td> <td>Owl    </td> <td>0            </td> <td>0         </td> <td>12           </td> <td>0.38           </td> <td>18              </td> <td>18             </td> <td>18          </td> <td>9          </td> <td>moderate        </td> <td>severe       </td> <td>normal</td> <td>45      </td> <td>17       </td> <td>Light     </td> <td>3     </td> <td>27.44     </td> <td>6.55       </td> <td>3           </td> <td>28        </td> <td>12.59      </td> <td>10.09       </td> <td>5.02        </td> <td>0         </td>\n",
       "        </tr>\n",
       "        <tr>\n",
       "            <td>0     </td> <td>1        </td> <td>Lark   </td> <td>5            </td> <td>1         </td> <td>0            </td> <td>1.39           </td> <td>9               </td> <td>1              </td> <td>4           </td> <td>6          </td> <td>normal          </td> <td>normal       </td> <td>normal</td> <td>11      </td> <td>32       </td> <td>Light     </td> <td>2     </td> <td>23.5      </td> <td>7.17       </td> <td>6.77        </td> <td>27        </td> <td>8          </td> <td>7.25        </td> <td>6.9         </td> <td>0         </td>\n",
       "        </tr>\n",
       "        <tr>\n",
       "            <td>0     </td> <td>4        </td> <td>Owl    </td> <td>0            </td> <td>0         </td> <td>4            </td> <td>1.22           </td> <td>9               </td> <td>7              </td> <td>25          </td> <td>14         </td> <td>normal          </td> <td>severe       </td> <td>normal</td> <td>46      </td> <td>15       </td> <td>Moderate  </td> <td>4     </td> <td>25.9      </td> <td>8.67       </td> <td>6.09        </td> <td>23.75     </td> <td>9.5        </td> <td>7           </td> <td>6.35        </td> <td>0         </td>\n",
       "        </tr>\n",
       "        <tr>\n",
       "            <td>1     </td> <td>4        </td> <td>Neither</td> <td>0            </td> <td>0         </td> <td>0            </td> <td>-0.04          </td> <td>6               </td> <td>14             </td> <td>8           </td> <td>28         </td> <td>moderate        </td> <td>moderate     </td> <td>high  </td> <td>50      </td> <td>22       </td> <td>Abstain   </td> <td>0     </td> <td>23.8      </td> <td>8.95       </td> <td>9.05        </td> <td>26        </td> <td>10.75      </td> <td>9           </td> <td>9.04        </td> <td>0         </td>\n",
       "        </tr>\n",
       "        <tr>\n",
       "            <td>1     </td> <td>2        </td> <td>Lark   </td> <td>2            </td> <td>1         </td> <td>2            </td> <td>0.41           </td> <td>2               </td> <td>1              </td> <td>0           </td> <td>1          </td> <td>normal          </td> <td>normal       </td> <td>normal</td> <td>2       </td> <td>25       </td> <td>Moderate  </td> <td>6     </td> <td>25.35     </td> <td>8.48       </td> <td>7.73        </td> <td>25.63     </td> <td>10.13      </td> <td>7           </td> <td>7.52        </td> <td>1         </td>\n",
       "        </tr>\n",
       "        <tr>\n",
       "            <td>0     </td> <td>2        </td> <td>Lark   </td> <td>0            </td> <td>0         </td> <td>0            </td> <td>-0.59          </td> <td>10              </td> <td>2              </td> <td>2           </td> <td>3          </td> <td>normal          </td> <td>normal       </td> <td>normal</td> <td>7       </td> <td>29       </td> <td>Light     </td> <td>3     </td> <td>23.9      </td> <td>9.07       </td> <td>9.02        </td> <td>25.13     </td> <td>9.75       </td> <td>9           </td> <td>9.01        </td> <td>0         </td>\n",
       "        </tr>\n",
       "        <tr>\n",
       "            <td>0     </td> <td>1        </td> <td>Neither</td> <td>2            </td> <td>1         </td> <td>0            </td> <td>1.03           </td> <td>5               </td> <td>12             </td> <td>16          </td> <td>20         </td> <td>moderate        </td> <td>severe       </td> <td>high  </td> <td>48      </td> <td>29       </td> <td>Light     </td> <td>3     </td> <td>24.4      </td> <td>8.75       </td> <td>8.25        </td> <td>24        </td> <td>9          </td> <td>9.25        </td> <td>8.54        </td> <td>0         </td>\n",
       "        </tr>\n",
       "        <tr>\n",
       "            <td>0     </td> <td>4        </td> <td>Neither</td> <td>2            </td> <td>1         </td> <td>0            </td> <td>0.72           </td> <td>2               </td> <td>6              </td> <td>11          </td> <td>31         </td> <td>normal          </td> <td>moderate     </td> <td>high  </td> <td>48      </td> <td>30       </td> <td>Moderate  </td> <td>6     </td> <td>26.2      </td> <td>8          </td> <td>6.6         </td> <td>25.38     </td> <td>10.25      </td> <td>6.88        </td> <td>6.68        </td> <td>0         </td>\n",
       "        </tr>\n",
       "    </tbody>\n",
       "</table>\n",
       "<p>... (243 rows omitted)</p>"
      ],
      "text/plain": [
       "Gender | ClassYear | LarkOwl | NumEarlyClass | EarlyClass | ClassesMissed | CognitionZscore | PoorSleepQuality | DepressionScore | AnxietyScore | StressScore | DepressionStatus | AnxietyStatus | Stress | DASScore | Happiness | AlcoholUse | Drinks | WeekdayBed | WeekdayRise | WeekdaySleep | WeekendBed | WeekendRise | WeekendSleep | AverageSleep | AllNighter\n",
       "0      | 4         | Neither | 0             | 0          | 0             | -0.26           | 4                | 4               | 3            | 8           | normal           | normal        | normal | 15       | 28        | Moderate   | 10     | 25.75      | 8.7         | 7.7          | 25.75      | 9.5         | 5.88         | 7.18         | 0\n",
       "0      | 4         | Neither | 2             | 1          | 0             | 1.39            | 6                | 1               | 0            | 3           | normal           | normal        | normal | 4        | 25        | Moderate   | 6      | 25.7       | 8.2         | 6.8          | 26         | 10          | 7.25         | 6.93         | 0\n",
       "0      | 4         | Owl     | 0             | 0          | 12            | 0.38            | 18               | 18              | 18           | 9           | moderate         | severe        | normal | 45       | 17        | Light      | 3      | 27.44      | 6.55        | 3            | 28         | 12.59       | 10.09        | 5.02         | 0\n",
       "0      | 1         | Lark    | 5             | 1          | 0             | 1.39            | 9                | 1               | 4            | 6           | normal           | normal        | normal | 11       | 32        | Light      | 2      | 23.5       | 7.17        | 6.77         | 27         | 8           | 7.25         | 6.9          | 0\n",
       "0      | 4         | Owl     | 0             | 0          | 4             | 1.22            | 9                | 7               | 25           | 14          | normal           | severe        | normal | 46       | 15        | Moderate   | 4      | 25.9       | 8.67        | 6.09         | 23.75      | 9.5         | 7            | 6.35         | 0\n",
       "1      | 4         | Neither | 0             | 0          | 0             | -0.04           | 6                | 14              | 8            | 28          | moderate         | moderate      | high   | 50       | 22        | Abstain    | 0      | 23.8       | 8.95        | 9.05         | 26         | 10.75       | 9            | 9.04         | 0\n",
       "1      | 2         | Lark    | 2             | 1          | 2             | 0.41            | 2                | 1               | 0            | 1           | normal           | normal        | normal | 2        | 25        | Moderate   | 6      | 25.35      | 8.48        | 7.73         | 25.63      | 10.13       | 7            | 7.52         | 1\n",
       "0      | 2         | Lark    | 0             | 0          | 0             | -0.59           | 10               | 2               | 2            | 3           | normal           | normal        | normal | 7        | 29        | Light      | 3      | 23.9       | 9.07        | 9.02         | 25.13      | 9.75        | 9            | 9.01         | 0\n",
       "0      | 1         | Neither | 2             | 1          | 0             | 1.03            | 5                | 12              | 16           | 20          | moderate         | severe        | high   | 48       | 29        | Light      | 3      | 24.4       | 8.75        | 8.25         | 24         | 9           | 9.25         | 8.54         | 0\n",
       "0      | 4         | Neither | 2             | 1          | 0             | 0.72            | 2                | 6               | 11           | 31          | normal           | moderate      | high   | 48       | 30        | Moderate   | 6      | 26.2       | 8           | 6.6          | 25.38      | 10.25       | 6.88         | 6.68         | 0\n",
       "... (243 rows omitted)"
      ]
     },
     "execution_count": 5,
     "metadata": {},
     "output_type": "execute_result"
    }
   ],
   "source": [
    "SleepStudy.drop('GPA')"
   ]
  },
  {
   "cell_type": "code",
   "execution_count": 6,
   "metadata": {},
   "outputs": [
    {
     "data": {
      "text/html": [
       "<table border=\"1\" class=\"dataframe\">\n",
       "    <thead>\n",
       "        <tr>\n",
       "            <th>Gender</th> <th>ClassYear</th> <th>LarkOwl</th> <th>NumEarlyClass</th> <th>EarlyClass</th> <th>ClassesMissed</th> <th>CognitionZscore</th> <th>PoorSleepQuality</th> <th>DepressionScore</th> <th>AnxietyScore</th> <th>StressScore</th> <th>DepressionStatus</th> <th>AnxietyStatus</th> <th>Stress</th> <th>DASScore</th> <th>Happiness</th> <th>AlcoholUse</th> <th>Drinks</th> <th>WeekdayBed</th> <th>WeekdayRise</th> <th>WeekdaySleep</th> <th>WeekendBed</th> <th>WeekendRise</th> <th>WeekendSleep</th> <th>AverageSleep</th> <th>AllNighter</th>\n",
       "        </tr>\n",
       "    </thead>\n",
       "    <tbody>\n",
       "        <tr>\n",
       "            <td>0     </td> <td>4        </td> <td>Neither</td> <td>0            </td> <td>0         </td> <td>0            </td> <td>-0.26          </td> <td>4               </td> <td>4              </td> <td>3           </td> <td>8          </td> <td>normal          </td> <td>normal       </td> <td>normal</td> <td>15      </td> <td>28       </td> <td>Moderate  </td> <td>10    </td> <td>25.75     </td> <td>8.7        </td> <td>7.7         </td> <td>25.75     </td> <td>9.5        </td> <td>5.88        </td> <td>7.18        </td> <td>0         </td>\n",
       "        </tr>\n",
       "        <tr>\n",
       "            <td>0     </td> <td>4        </td> <td>Neither</td> <td>2            </td> <td>1         </td> <td>0            </td> <td>1.39           </td> <td>6               </td> <td>1              </td> <td>0           </td> <td>3          </td> <td>normal          </td> <td>normal       </td> <td>normal</td> <td>4       </td> <td>25       </td> <td>Moderate  </td> <td>6     </td> <td>25.7      </td> <td>8.2        </td> <td>6.8         </td> <td>26        </td> <td>10         </td> <td>7.25        </td> <td>6.93        </td> <td>0         </td>\n",
       "        </tr>\n",
       "        <tr>\n",
       "            <td>0     </td> <td>4        </td> <td>Owl    </td> <td>0            </td> <td>0         </td> <td>12           </td> <td>0.38           </td> <td>18              </td> <td>18             </td> <td>18          </td> <td>9          </td> <td>moderate        </td> <td>severe       </td> <td>normal</td> <td>45      </td> <td>17       </td> <td>Light     </td> <td>3     </td> <td>27.44     </td> <td>6.55       </td> <td>3           </td> <td>28        </td> <td>12.59      </td> <td>10.09       </td> <td>5.02        </td> <td>0         </td>\n",
       "        </tr>\n",
       "        <tr>\n",
       "            <td>0     </td> <td>1        </td> <td>Lark   </td> <td>5            </td> <td>1         </td> <td>0            </td> <td>1.39           </td> <td>9               </td> <td>1              </td> <td>4           </td> <td>6          </td> <td>normal          </td> <td>normal       </td> <td>normal</td> <td>11      </td> <td>32       </td> <td>Light     </td> <td>2     </td> <td>23.5      </td> <td>7.17       </td> <td>6.77        </td> <td>27        </td> <td>8          </td> <td>7.25        </td> <td>6.9         </td> <td>0         </td>\n",
       "        </tr>\n",
       "        <tr>\n",
       "            <td>0     </td> <td>4        </td> <td>Owl    </td> <td>0            </td> <td>0         </td> <td>4            </td> <td>1.22           </td> <td>9               </td> <td>7              </td> <td>25          </td> <td>14         </td> <td>normal          </td> <td>severe       </td> <td>normal</td> <td>46      </td> <td>15       </td> <td>Moderate  </td> <td>4     </td> <td>25.9      </td> <td>8.67       </td> <td>6.09        </td> <td>23.75     </td> <td>9.5        </td> <td>7           </td> <td>6.35        </td> <td>0         </td>\n",
       "        </tr>\n",
       "        <tr>\n",
       "            <td>1     </td> <td>4        </td> <td>Neither</td> <td>0            </td> <td>0         </td> <td>0            </td> <td>-0.04          </td> <td>6               </td> <td>14             </td> <td>8           </td> <td>28         </td> <td>moderate        </td> <td>moderate     </td> <td>high  </td> <td>50      </td> <td>22       </td> <td>Abstain   </td> <td>0     </td> <td>23.8      </td> <td>8.95       </td> <td>9.05        </td> <td>26        </td> <td>10.75      </td> <td>9           </td> <td>9.04        </td> <td>0         </td>\n",
       "        </tr>\n",
       "        <tr>\n",
       "            <td>1     </td> <td>2        </td> <td>Lark   </td> <td>2            </td> <td>1         </td> <td>2            </td> <td>0.41           </td> <td>2               </td> <td>1              </td> <td>0           </td> <td>1          </td> <td>normal          </td> <td>normal       </td> <td>normal</td> <td>2       </td> <td>25       </td> <td>Moderate  </td> <td>6     </td> <td>25.35     </td> <td>8.48       </td> <td>7.73        </td> <td>25.63     </td> <td>10.13      </td> <td>7           </td> <td>7.52        </td> <td>1         </td>\n",
       "        </tr>\n",
       "        <tr>\n",
       "            <td>0     </td> <td>2        </td> <td>Lark   </td> <td>0            </td> <td>0         </td> <td>0            </td> <td>-0.59          </td> <td>10              </td> <td>2              </td> <td>2           </td> <td>3          </td> <td>normal          </td> <td>normal       </td> <td>normal</td> <td>7       </td> <td>29       </td> <td>Light     </td> <td>3     </td> <td>23.9      </td> <td>9.07       </td> <td>9.02        </td> <td>25.13     </td> <td>9.75       </td> <td>9           </td> <td>9.01        </td> <td>0         </td>\n",
       "        </tr>\n",
       "        <tr>\n",
       "            <td>0     </td> <td>1        </td> <td>Neither</td> <td>2            </td> <td>1         </td> <td>0            </td> <td>1.03           </td> <td>5               </td> <td>12             </td> <td>16          </td> <td>20         </td> <td>moderate        </td> <td>severe       </td> <td>high  </td> <td>48      </td> <td>29       </td> <td>Light     </td> <td>3     </td> <td>24.4      </td> <td>8.75       </td> <td>8.25        </td> <td>24        </td> <td>9          </td> <td>9.25        </td> <td>8.54        </td> <td>0         </td>\n",
       "        </tr>\n",
       "        <tr>\n",
       "            <td>0     </td> <td>4        </td> <td>Neither</td> <td>2            </td> <td>1         </td> <td>0            </td> <td>0.72           </td> <td>2               </td> <td>6              </td> <td>11          </td> <td>31         </td> <td>normal          </td> <td>moderate     </td> <td>high  </td> <td>48      </td> <td>30       </td> <td>Moderate  </td> <td>6     </td> <td>26.2      </td> <td>8          </td> <td>6.6         </td> <td>25.38     </td> <td>10.25      </td> <td>6.88        </td> <td>6.68        </td> <td>0         </td>\n",
       "        </tr>\n",
       "    </tbody>\n",
       "</table>\n",
       "<p>... (243 rows omitted)</p>"
      ],
      "text/plain": [
       "Gender | ClassYear | LarkOwl | NumEarlyClass | EarlyClass | ClassesMissed | CognitionZscore | PoorSleepQuality | DepressionScore | AnxietyScore | StressScore | DepressionStatus | AnxietyStatus | Stress | DASScore | Happiness | AlcoholUse | Drinks | WeekdayBed | WeekdayRise | WeekdaySleep | WeekendBed | WeekendRise | WeekendSleep | AverageSleep | AllNighter\n",
       "0      | 4         | Neither | 0             | 0          | 0             | -0.26           | 4                | 4               | 3            | 8           | normal           | normal        | normal | 15       | 28        | Moderate   | 10     | 25.75      | 8.7         | 7.7          | 25.75      | 9.5         | 5.88         | 7.18         | 0\n",
       "0      | 4         | Neither | 2             | 1          | 0             | 1.39            | 6                | 1               | 0            | 3           | normal           | normal        | normal | 4        | 25        | Moderate   | 6      | 25.7       | 8.2         | 6.8          | 26         | 10          | 7.25         | 6.93         | 0\n",
       "0      | 4         | Owl     | 0             | 0          | 12            | 0.38            | 18               | 18              | 18           | 9           | moderate         | severe        | normal | 45       | 17        | Light      | 3      | 27.44      | 6.55        | 3            | 28         | 12.59       | 10.09        | 5.02         | 0\n",
       "0      | 1         | Lark    | 5             | 1          | 0             | 1.39            | 9                | 1               | 4            | 6           | normal           | normal        | normal | 11       | 32        | Light      | 2      | 23.5       | 7.17        | 6.77         | 27         | 8           | 7.25         | 6.9          | 0\n",
       "0      | 4         | Owl     | 0             | 0          | 4             | 1.22            | 9                | 7               | 25           | 14          | normal           | severe        | normal | 46       | 15        | Moderate   | 4      | 25.9       | 8.67        | 6.09         | 23.75      | 9.5         | 7            | 6.35         | 0\n",
       "1      | 4         | Neither | 0             | 0          | 0             | -0.04           | 6                | 14              | 8            | 28          | moderate         | moderate      | high   | 50       | 22        | Abstain    | 0      | 23.8       | 8.95        | 9.05         | 26         | 10.75       | 9            | 9.04         | 0\n",
       "1      | 2         | Lark    | 2             | 1          | 2             | 0.41            | 2                | 1               | 0            | 1           | normal           | normal        | normal | 2        | 25        | Moderate   | 6      | 25.35      | 8.48        | 7.73         | 25.63      | 10.13       | 7            | 7.52         | 1\n",
       "0      | 2         | Lark    | 0             | 0          | 0             | -0.59           | 10               | 2               | 2            | 3           | normal           | normal        | normal | 7        | 29        | Light      | 3      | 23.9       | 9.07        | 9.02         | 25.13      | 9.75        | 9            | 9.01         | 0\n",
       "0      | 1         | Neither | 2             | 1          | 0             | 1.03            | 5                | 12              | 16           | 20          | moderate         | severe        | high   | 48       | 29        | Light      | 3      | 24.4       | 8.75        | 8.25         | 24         | 9           | 9.25         | 8.54         | 0\n",
       "0      | 4         | Neither | 2             | 1          | 0             | 0.72            | 2                | 6               | 11           | 31          | normal           | moderate      | high   | 48       | 30        | Moderate   | 6      | 26.2       | 8           | 6.6          | 25.38      | 10.25       | 6.88         | 6.68         | 0\n",
       "... (243 rows omitted)"
      ]
     },
     "execution_count": 6,
     "metadata": {},
     "output_type": "execute_result"
    }
   ],
   "source": [
    "SleepStudy.drop(5)"
   ]
  },
  {
   "cell_type": "markdown",
   "metadata": {},
   "source": [
    "### Take or Exclude Rows from a Table"
   ]
  },
  {
   "cell_type": "code",
   "execution_count": 7,
   "metadata": {},
   "outputs": [
    {
     "data": {
      "text/html": [
       "<table border=\"1\" class=\"dataframe\">\n",
       "    <thead>\n",
       "        <tr>\n",
       "            <th>Gender</th> <th>ClassYear</th> <th>LarkOwl</th> <th>NumEarlyClass</th> <th>EarlyClass</th> <th>GPA</th> <th>ClassesMissed</th> <th>CognitionZscore</th> <th>PoorSleepQuality</th> <th>DepressionScore</th> <th>AnxietyScore</th> <th>StressScore</th> <th>DepressionStatus</th> <th>AnxietyStatus</th> <th>Stress</th> <th>DASScore</th> <th>Happiness</th> <th>AlcoholUse</th> <th>Drinks</th> <th>WeekdayBed</th> <th>WeekdayRise</th> <th>WeekdaySleep</th> <th>WeekendBed</th> <th>WeekendRise</th> <th>WeekendSleep</th> <th>AverageSleep</th> <th>AllNighter</th>\n",
       "        </tr>\n",
       "    </thead>\n",
       "    <tbody>\n",
       "        <tr>\n",
       "            <td>0     </td> <td>4        </td> <td>Neither</td> <td>0            </td> <td>0         </td> <td>3.6 </td> <td>0            </td> <td>-0.26          </td> <td>4               </td> <td>4              </td> <td>3           </td> <td>8          </td> <td>normal          </td> <td>normal       </td> <td>normal</td> <td>15      </td> <td>28       </td> <td>Moderate  </td> <td>10    </td> <td>25.75     </td> <td>8.7        </td> <td>7.7         </td> <td>25.75     </td> <td>9.5        </td> <td>5.88        </td> <td>7.18        </td> <td>0         </td>\n",
       "        </tr>\n",
       "    </tbody>\n",
       "</table>"
      ],
      "text/plain": [
       "Gender | ClassYear | LarkOwl | NumEarlyClass | EarlyClass | GPA  | ClassesMissed | CognitionZscore | PoorSleepQuality | DepressionScore | AnxietyScore | StressScore | DepressionStatus | AnxietyStatus | Stress | DASScore | Happiness | AlcoholUse | Drinks | WeekdayBed | WeekdayRise | WeekdaySleep | WeekendBed | WeekendRise | WeekendSleep | AverageSleep | AllNighter\n",
       "0      | 4         | Neither | 0             | 0          | 3.6  | 0             | -0.26           | 4                | 4               | 3            | 8           | normal           | normal        | normal | 15       | 28        | Moderate   | 10     | 25.75      | 8.7         | 7.7          | 25.75      | 9.5         | 5.88         | 7.18         | 0"
      ]
     },
     "execution_count": 7,
     "metadata": {},
     "output_type": "execute_result"
    }
   ],
   "source": [
    "SleepStudy.take(0)"
   ]
  },
  {
   "cell_type": "code",
   "execution_count": 8,
   "metadata": {},
   "outputs": [
    {
     "data": {
      "text/html": [
       "<table border=\"1\" class=\"dataframe\">\n",
       "    <thead>\n",
       "        <tr>\n",
       "            <th>Gender</th> <th>ClassYear</th> <th>LarkOwl</th> <th>NumEarlyClass</th> <th>EarlyClass</th> <th>GPA</th> <th>ClassesMissed</th> <th>CognitionZscore</th> <th>PoorSleepQuality</th> <th>DepressionScore</th> <th>AnxietyScore</th> <th>StressScore</th> <th>DepressionStatus</th> <th>AnxietyStatus</th> <th>Stress</th> <th>DASScore</th> <th>Happiness</th> <th>AlcoholUse</th> <th>Drinks</th> <th>WeekdayBed</th> <th>WeekdayRise</th> <th>WeekdaySleep</th> <th>WeekendBed</th> <th>WeekendRise</th> <th>WeekendSleep</th> <th>AverageSleep</th> <th>AllNighter</th>\n",
       "        </tr>\n",
       "    </thead>\n",
       "    <tbody>\n",
       "        <tr>\n",
       "            <td>0     </td> <td>4        </td> <td>Neither</td> <td>0            </td> <td>0         </td> <td>3.6 </td> <td>0            </td> <td>-0.26          </td> <td>4               </td> <td>4              </td> <td>3           </td> <td>8          </td> <td>normal          </td> <td>normal       </td> <td>normal</td> <td>15      </td> <td>28       </td> <td>Moderate  </td> <td>10    </td> <td>25.75     </td> <td>8.7        </td> <td>7.7         </td> <td>25.75     </td> <td>9.5        </td> <td>5.88        </td> <td>7.18        </td> <td>0         </td>\n",
       "        </tr>\n",
       "        <tr>\n",
       "            <td>0     </td> <td>4        </td> <td>Neither</td> <td>2            </td> <td>1         </td> <td>3.24</td> <td>0            </td> <td>1.39           </td> <td>6               </td> <td>1              </td> <td>0           </td> <td>3          </td> <td>normal          </td> <td>normal       </td> <td>normal</td> <td>4       </td> <td>25       </td> <td>Moderate  </td> <td>6     </td> <td>25.7      </td> <td>8.2        </td> <td>6.8         </td> <td>26        </td> <td>10         </td> <td>7.25        </td> <td>6.93        </td> <td>0         </td>\n",
       "        </tr>\n",
       "        <tr>\n",
       "            <td>0     </td> <td>4        </td> <td>Owl    </td> <td>0            </td> <td>0         </td> <td>2.97</td> <td>12           </td> <td>0.38           </td> <td>18              </td> <td>18             </td> <td>18          </td> <td>9          </td> <td>moderate        </td> <td>severe       </td> <td>normal</td> <td>45      </td> <td>17       </td> <td>Light     </td> <td>3     </td> <td>27.44     </td> <td>6.55       </td> <td>3           </td> <td>28        </td> <td>12.59      </td> <td>10.09       </td> <td>5.02        </td> <td>0         </td>\n",
       "        </tr>\n",
       "        <tr>\n",
       "            <td>0     </td> <td>1        </td> <td>Lark   </td> <td>5            </td> <td>1         </td> <td>3.76</td> <td>0            </td> <td>1.39           </td> <td>9               </td> <td>1              </td> <td>4           </td> <td>6          </td> <td>normal          </td> <td>normal       </td> <td>normal</td> <td>11      </td> <td>32       </td> <td>Light     </td> <td>2     </td> <td>23.5      </td> <td>7.17       </td> <td>6.77        </td> <td>27        </td> <td>8          </td> <td>7.25        </td> <td>6.9         </td> <td>0         </td>\n",
       "        </tr>\n",
       "        <tr>\n",
       "            <td>0     </td> <td>4        </td> <td>Owl    </td> <td>0            </td> <td>0         </td> <td>3.2 </td> <td>4            </td> <td>1.22           </td> <td>9               </td> <td>7              </td> <td>25          </td> <td>14         </td> <td>normal          </td> <td>severe       </td> <td>normal</td> <td>46      </td> <td>15       </td> <td>Moderate  </td> <td>4     </td> <td>25.9      </td> <td>8.67       </td> <td>6.09        </td> <td>23.75     </td> <td>9.5        </td> <td>7           </td> <td>6.35        </td> <td>0         </td>\n",
       "        </tr>\n",
       "        <tr>\n",
       "            <td>1     </td> <td>4        </td> <td>Neither</td> <td>0            </td> <td>0         </td> <td>3.5 </td> <td>0            </td> <td>-0.04          </td> <td>6               </td> <td>14             </td> <td>8           </td> <td>28         </td> <td>moderate        </td> <td>moderate     </td> <td>high  </td> <td>50      </td> <td>22       </td> <td>Abstain   </td> <td>0     </td> <td>23.8      </td> <td>8.95       </td> <td>9.05        </td> <td>26        </td> <td>10.75      </td> <td>9           </td> <td>9.04        </td> <td>0         </td>\n",
       "        </tr>\n",
       "        <tr>\n",
       "            <td>1     </td> <td>2        </td> <td>Lark   </td> <td>2            </td> <td>1         </td> <td>3.35</td> <td>2            </td> <td>0.41           </td> <td>2               </td> <td>1              </td> <td>0           </td> <td>1          </td> <td>normal          </td> <td>normal       </td> <td>normal</td> <td>2       </td> <td>25       </td> <td>Moderate  </td> <td>6     </td> <td>25.35     </td> <td>8.48       </td> <td>7.73        </td> <td>25.63     </td> <td>10.13      </td> <td>7           </td> <td>7.52        </td> <td>1         </td>\n",
       "        </tr>\n",
       "        <tr>\n",
       "            <td>0     </td> <td>2        </td> <td>Lark   </td> <td>0            </td> <td>0         </td> <td>3   </td> <td>0            </td> <td>-0.59          </td> <td>10              </td> <td>2              </td> <td>2           </td> <td>3          </td> <td>normal          </td> <td>normal       </td> <td>normal</td> <td>7       </td> <td>29       </td> <td>Light     </td> <td>3     </td> <td>23.9      </td> <td>9.07       </td> <td>9.02        </td> <td>25.13     </td> <td>9.75       </td> <td>9           </td> <td>9.01        </td> <td>0         </td>\n",
       "        </tr>\n",
       "        <tr>\n",
       "            <td>0     </td> <td>1        </td> <td>Neither</td> <td>2            </td> <td>1         </td> <td>4   </td> <td>0            </td> <td>1.03           </td> <td>5               </td> <td>12             </td> <td>16          </td> <td>20         </td> <td>moderate        </td> <td>severe       </td> <td>high  </td> <td>48      </td> <td>29       </td> <td>Light     </td> <td>3     </td> <td>24.4      </td> <td>8.75       </td> <td>8.25        </td> <td>24        </td> <td>9          </td> <td>9.25        </td> <td>8.54        </td> <td>0         </td>\n",
       "        </tr>\n",
       "        <tr>\n",
       "            <td>0     </td> <td>4        </td> <td>Neither</td> <td>2            </td> <td>1         </td> <td>2.9 </td> <td>0            </td> <td>0.72           </td> <td>2               </td> <td>6              </td> <td>11          </td> <td>31         </td> <td>normal          </td> <td>moderate     </td> <td>high  </td> <td>48      </td> <td>30       </td> <td>Moderate  </td> <td>6     </td> <td>26.2      </td> <td>8          </td> <td>6.6         </td> <td>25.38     </td> <td>10.25      </td> <td>6.88        </td> <td>6.68        </td> <td>0         </td>\n",
       "        </tr>\n",
       "    </tbody>\n",
       "</table>"
      ],
      "text/plain": [
       "Gender | ClassYear | LarkOwl | NumEarlyClass | EarlyClass | GPA  | ClassesMissed | CognitionZscore | PoorSleepQuality | DepressionScore | AnxietyScore | StressScore | DepressionStatus | AnxietyStatus | Stress | DASScore | Happiness | AlcoholUse | Drinks | WeekdayBed | WeekdayRise | WeekdaySleep | WeekendBed | WeekendRise | WeekendSleep | AverageSleep | AllNighter\n",
       "0      | 4         | Neither | 0             | 0          | 3.6  | 0             | -0.26           | 4                | 4               | 3            | 8           | normal           | normal        | normal | 15       | 28        | Moderate   | 10     | 25.75      | 8.7         | 7.7          | 25.75      | 9.5         | 5.88         | 7.18         | 0\n",
       "0      | 4         | Neither | 2             | 1          | 3.24 | 0             | 1.39            | 6                | 1               | 0            | 3           | normal           | normal        | normal | 4        | 25        | Moderate   | 6      | 25.7       | 8.2         | 6.8          | 26         | 10          | 7.25         | 6.93         | 0\n",
       "0      | 4         | Owl     | 0             | 0          | 2.97 | 12            | 0.38            | 18               | 18              | 18           | 9           | moderate         | severe        | normal | 45       | 17        | Light      | 3      | 27.44      | 6.55        | 3            | 28         | 12.59       | 10.09        | 5.02         | 0\n",
       "0      | 1         | Lark    | 5             | 1          | 3.76 | 0             | 1.39            | 9                | 1               | 4            | 6           | normal           | normal        | normal | 11       | 32        | Light      | 2      | 23.5       | 7.17        | 6.77         | 27         | 8           | 7.25         | 6.9          | 0\n",
       "0      | 4         | Owl     | 0             | 0          | 3.2  | 4             | 1.22            | 9                | 7               | 25           | 14          | normal           | severe        | normal | 46       | 15        | Moderate   | 4      | 25.9       | 8.67        | 6.09         | 23.75      | 9.5         | 7            | 6.35         | 0\n",
       "1      | 4         | Neither | 0             | 0          | 3.5  | 0             | -0.04           | 6                | 14              | 8            | 28          | moderate         | moderate      | high   | 50       | 22        | Abstain    | 0      | 23.8       | 8.95        | 9.05         | 26         | 10.75       | 9            | 9.04         | 0\n",
       "1      | 2         | Lark    | 2             | 1          | 3.35 | 2             | 0.41            | 2                | 1               | 0            | 1           | normal           | normal        | normal | 2        | 25        | Moderate   | 6      | 25.35      | 8.48        | 7.73         | 25.63      | 10.13       | 7            | 7.52         | 1\n",
       "0      | 2         | Lark    | 0             | 0          | 3    | 0             | -0.59           | 10               | 2               | 2            | 3           | normal           | normal        | normal | 7        | 29        | Light      | 3      | 23.9       | 9.07        | 9.02         | 25.13      | 9.75        | 9            | 9.01         | 0\n",
       "0      | 1         | Neither | 2             | 1          | 4    | 0             | 1.03            | 5                | 12              | 16           | 20          | moderate         | severe        | high   | 48       | 29        | Light      | 3      | 24.4       | 8.75        | 8.25         | 24         | 9           | 9.25         | 8.54         | 0\n",
       "0      | 4         | Neither | 2             | 1          | 2.9  | 0             | 0.72            | 2                | 6               | 11           | 31          | normal           | moderate      | high   | 48       | 30        | Moderate   | 6      | 26.2       | 8           | 6.6          | 25.38      | 10.25       | 6.88         | 6.68         | 0"
      ]
     },
     "execution_count": 8,
     "metadata": {},
     "output_type": "execute_result"
    }
   ],
   "source": [
    "SleepStudy.take(np.arange(0,10,1))"
   ]
  },
  {
   "cell_type": "code",
   "execution_count": 9,
   "metadata": {},
   "outputs": [
    {
     "data": {
      "text/html": [
       "<table border=\"1\" class=\"dataframe\">\n",
       "    <thead>\n",
       "        <tr>\n",
       "            <th>Gender</th> <th>ClassYear</th> <th>LarkOwl</th> <th>NumEarlyClass</th> <th>EarlyClass</th> <th>GPA</th> <th>ClassesMissed</th> <th>CognitionZscore</th> <th>PoorSleepQuality</th> <th>DepressionScore</th> <th>AnxietyScore</th> <th>StressScore</th> <th>DepressionStatus</th> <th>AnxietyStatus</th> <th>Stress</th> <th>DASScore</th> <th>Happiness</th> <th>AlcoholUse</th> <th>Drinks</th> <th>WeekdayBed</th> <th>WeekdayRise</th> <th>WeekdaySleep</th> <th>WeekendBed</th> <th>WeekendRise</th> <th>WeekendSleep</th> <th>AverageSleep</th> <th>AllNighter</th>\n",
       "        </tr>\n",
       "    </thead>\n",
       "    <tbody>\n",
       "        <tr>\n",
       "            <td>1     </td> <td>4        </td> <td>Neither</td> <td>0            </td> <td>0         </td> <td>3.5 </td> <td>0            </td> <td>-0.04          </td> <td>6               </td> <td>14             </td> <td>8           </td> <td>28         </td> <td>moderate        </td> <td>moderate     </td> <td>high  </td> <td>50      </td> <td>22       </td> <td>Abstain   </td> <td>0     </td> <td>23.8      </td> <td>8.95       </td> <td>9.05        </td> <td>26        </td> <td>10.75      </td> <td>9           </td> <td>9.04        </td> <td>0         </td>\n",
       "        </tr>\n",
       "        <tr>\n",
       "            <td>1     </td> <td>2        </td> <td>Lark   </td> <td>2            </td> <td>1         </td> <td>3.35</td> <td>2            </td> <td>0.41           </td> <td>2               </td> <td>1              </td> <td>0           </td> <td>1          </td> <td>normal          </td> <td>normal       </td> <td>normal</td> <td>2       </td> <td>25       </td> <td>Moderate  </td> <td>6     </td> <td>25.35     </td> <td>8.48       </td> <td>7.73        </td> <td>25.63     </td> <td>10.13      </td> <td>7           </td> <td>7.52        </td> <td>1         </td>\n",
       "        </tr>\n",
       "        <tr>\n",
       "            <td>0     </td> <td>2        </td> <td>Lark   </td> <td>0            </td> <td>0         </td> <td>3   </td> <td>0            </td> <td>-0.59          </td> <td>10              </td> <td>2              </td> <td>2           </td> <td>3          </td> <td>normal          </td> <td>normal       </td> <td>normal</td> <td>7       </td> <td>29       </td> <td>Light     </td> <td>3     </td> <td>23.9      </td> <td>9.07       </td> <td>9.02        </td> <td>25.13     </td> <td>9.75       </td> <td>9           </td> <td>9.01        </td> <td>0         </td>\n",
       "        </tr>\n",
       "        <tr>\n",
       "            <td>0     </td> <td>1        </td> <td>Neither</td> <td>2            </td> <td>1         </td> <td>4   </td> <td>0            </td> <td>1.03           </td> <td>5               </td> <td>12             </td> <td>16          </td> <td>20         </td> <td>moderate        </td> <td>severe       </td> <td>high  </td> <td>48      </td> <td>29       </td> <td>Light     </td> <td>3     </td> <td>24.4      </td> <td>8.75       </td> <td>8.25        </td> <td>24        </td> <td>9          </td> <td>9.25        </td> <td>8.54        </td> <td>0         </td>\n",
       "        </tr>\n",
       "        <tr>\n",
       "            <td>0     </td> <td>4        </td> <td>Neither</td> <td>2            </td> <td>1         </td> <td>2.9 </td> <td>0            </td> <td>0.72           </td> <td>2               </td> <td>6              </td> <td>11          </td> <td>31         </td> <td>normal          </td> <td>moderate     </td> <td>high  </td> <td>48      </td> <td>30       </td> <td>Moderate  </td> <td>6     </td> <td>26.2      </td> <td>8          </td> <td>6.6         </td> <td>25.38     </td> <td>10.25      </td> <td>6.88        </td> <td>6.68        </td> <td>0         </td>\n",
       "        </tr>\n",
       "        <tr>\n",
       "            <td>1     </td> <td>2        </td> <td>Neither</td> <td>1            </td> <td>1         </td> <td>3.7 </td> <td>0            </td> <td>0.06           </td> <td>11              </td> <td>2              </td> <td>12          </td> <td>13         </td> <td>normal          </td> <td>moderate     </td> <td>normal</td> <td>27      </td> <td>14       </td> <td>Moderate  </td> <td>10    </td> <td>25        </td> <td>8.53       </td> <td>8.23        </td> <td>25.25     </td> <td>10.75      </td> <td>7.75        </td> <td>8.09        </td> <td>0         </td>\n",
       "        </tr>\n",
       "        <tr>\n",
       "            <td>1     </td> <td>2        </td> <td>Neither</td> <td>0            </td> <td>0         </td> <td>3   </td> <td>0            </td> <td>-0.47          </td> <td>8               </td> <td>2              </td> <td>8           </td> <td>11         </td> <td>normal          </td> <td>moderate     </td> <td>normal</td> <td>21      </td> <td>24       </td> <td>Moderate  </td> <td>10    </td> <td>25.3      </td> <td>9.8        </td> <td>8.4         </td> <td>26.5      </td> <td>10.75      </td> <td>8.5         </td> <td>8.43        </td> <td>0         </td>\n",
       "        </tr>\n",
       "        <tr>\n",
       "            <td>0     </td> <td>1        </td> <td>Neither</td> <td>4            </td> <td>1         </td> <td>3.3 </td> <td>0            </td> <td>-0.14          </td> <td>3               </td> <td>10             </td> <td>13          </td> <td>18         </td> <td>moderate        </td> <td>moderate     </td> <td>high  </td> <td>41      </td> <td>21       </td> <td>Moderate  </td> <td>4     </td> <td>25.92     </td> <td>7.97       </td> <td>6.34        </td> <td>26.29     </td> <td>11.25      </td> <td>8.25        </td> <td>6.89        </td> <td>0         </td>\n",
       "        </tr>\n",
       "        <tr>\n",
       "            <td>1     </td> <td>3        </td> <td>Neither</td> <td>2            </td> <td>1         </td> <td>3.3 </td> <td>6            </td> <td>0.04           </td> <td>7               </td> <td>3              </td> <td>3           </td> <td>2          </td> <td>normal          </td> <td>normal       </td> <td>normal</td> <td>8       </td> <td>20       </td> <td>Light     </td> <td>5     </td> <td>25.6      </td> <td>8.73       </td> <td>7.03        </td> <td>27.25     </td> <td>11.5       </td> <td>8.5         </td> <td>7.45        </td> <td>0         </td>\n",
       "        </tr>\n",
       "        <tr>\n",
       "            <td>0     </td> <td>3        </td> <td>Neither</td> <td>5            </td> <td>1         </td> <td>3.5 </td> <td>1            </td> <td>-0.4           </td> <td>4               </td> <td>2              </td> <td>0           </td> <td>3          </td> <td>normal          </td> <td>normal       </td> <td>normal</td> <td>5       </td> <td>28       </td> <td>Abstain   </td> <td>0     </td> <td>22.9      </td> <td>6.9        </td> <td>8.4         </td> <td>22.25     </td> <td>9.5        </td> <td>10.25       </td> <td>8.93        </td> <td>0         </td>\n",
       "        </tr>\n",
       "    </tbody>\n",
       "</table>\n",
       "<p>... (238 rows omitted)</p>"
      ],
      "text/plain": [
       "Gender | ClassYear | LarkOwl | NumEarlyClass | EarlyClass | GPA  | ClassesMissed | CognitionZscore | PoorSleepQuality | DepressionScore | AnxietyScore | StressScore | DepressionStatus | AnxietyStatus | Stress | DASScore | Happiness | AlcoholUse | Drinks | WeekdayBed | WeekdayRise | WeekdaySleep | WeekendBed | WeekendRise | WeekendSleep | AverageSleep | AllNighter\n",
       "1      | 4         | Neither | 0             | 0          | 3.5  | 0             | -0.04           | 6                | 14              | 8            | 28          | moderate         | moderate      | high   | 50       | 22        | Abstain    | 0      | 23.8       | 8.95        | 9.05         | 26         | 10.75       | 9            | 9.04         | 0\n",
       "1      | 2         | Lark    | 2             | 1          | 3.35 | 2             | 0.41            | 2                | 1               | 0            | 1           | normal           | normal        | normal | 2        | 25        | Moderate   | 6      | 25.35      | 8.48        | 7.73         | 25.63      | 10.13       | 7            | 7.52         | 1\n",
       "0      | 2         | Lark    | 0             | 0          | 3    | 0             | -0.59           | 10               | 2               | 2            | 3           | normal           | normal        | normal | 7        | 29        | Light      | 3      | 23.9       | 9.07        | 9.02         | 25.13      | 9.75        | 9            | 9.01         | 0\n",
       "0      | 1         | Neither | 2             | 1          | 4    | 0             | 1.03            | 5                | 12              | 16           | 20          | moderate         | severe        | high   | 48       | 29        | Light      | 3      | 24.4       | 8.75        | 8.25         | 24         | 9           | 9.25         | 8.54         | 0\n",
       "0      | 4         | Neither | 2             | 1          | 2.9  | 0             | 0.72            | 2                | 6               | 11           | 31          | normal           | moderate      | high   | 48       | 30        | Moderate   | 6      | 26.2       | 8           | 6.6          | 25.38      | 10.25       | 6.88         | 6.68         | 0\n",
       "1      | 2         | Neither | 1             | 1          | 3.7  | 0             | 0.06            | 11               | 2               | 12           | 13          | normal           | moderate      | normal | 27       | 14        | Moderate   | 10     | 25         | 8.53        | 8.23         | 25.25      | 10.75       | 7.75         | 8.09         | 0\n",
       "1      | 2         | Neither | 0             | 0          | 3    | 0             | -0.47           | 8                | 2               | 8            | 11          | normal           | moderate      | normal | 21       | 24        | Moderate   | 10     | 25.3       | 9.8         | 8.4          | 26.5       | 10.75       | 8.5          | 8.43         | 0\n",
       "0      | 1         | Neither | 4             | 1          | 3.3  | 0             | -0.14           | 3                | 10              | 13           | 18          | moderate         | moderate      | high   | 41       | 21        | Moderate   | 4      | 25.92      | 7.97        | 6.34         | 26.29      | 11.25       | 8.25         | 6.89         | 0\n",
       "1      | 3         | Neither | 2             | 1          | 3.3  | 6             | 0.04            | 7                | 3               | 3            | 2           | normal           | normal        | normal | 8        | 20        | Light      | 5      | 25.6       | 8.73        | 7.03         | 27.25      | 11.5        | 8.5          | 7.45         | 0\n",
       "0      | 3         | Neither | 5             | 1          | 3.5  | 1             | -0.4            | 4                | 2               | 0            | 3           | normal           | normal        | normal | 5        | 28        | Abstain    | 0      | 22.9       | 6.9         | 8.4          | 22.25      | 9.5         | 10.25        | 8.93         | 0\n",
       "... (238 rows omitted)"
      ]
     },
     "execution_count": 9,
     "metadata": {},
     "output_type": "execute_result"
    }
   ],
   "source": [
    "SleepStudy.exclude(make_array(0, 1, 2, 3, 4))"
   ]
  },
  {
   "cell_type": "markdown",
   "metadata": {},
   "source": [
    "### Sorting a Table"
   ]
  },
  {
   "cell_type": "code",
   "execution_count": 10,
   "metadata": {},
   "outputs": [
    {
     "data": {
      "text/html": [
       "<table border=\"1\" class=\"dataframe\">\n",
       "    <thead>\n",
       "        <tr>\n",
       "            <th>Gender</th> <th>ClassYear</th> <th>LarkOwl</th> <th>NumEarlyClass</th> <th>EarlyClass</th> <th>GPA</th> <th>ClassesMissed</th> <th>CognitionZscore</th> <th>PoorSleepQuality</th> <th>DepressionScore</th> <th>AnxietyScore</th> <th>StressScore</th> <th>DepressionStatus</th> <th>AnxietyStatus</th> <th>Stress</th> <th>DASScore</th> <th>Happiness</th> <th>AlcoholUse</th> <th>Drinks</th> <th>WeekdayBed</th> <th>WeekdayRise</th> <th>WeekdaySleep</th> <th>WeekendBed</th> <th>WeekendRise</th> <th>WeekendSleep</th> <th>AverageSleep</th> <th>AllNighter</th>\n",
       "        </tr>\n",
       "    </thead>\n",
       "    <tbody>\n",
       "        <tr>\n",
       "            <td>0     </td> <td>1        </td> <td>Lark   </td> <td>5            </td> <td>1         </td> <td>3.76</td> <td>0            </td> <td>1.39           </td> <td>9               </td> <td>1              </td> <td>4           </td> <td>6          </td> <td>normal          </td> <td>normal       </td> <td>normal</td> <td>11      </td> <td>32       </td> <td>Light     </td> <td>2     </td> <td>23.5      </td> <td>7.17       </td> <td>6.77        </td> <td>27        </td> <td>8          </td> <td>7.25        </td> <td>6.9         </td> <td>0         </td>\n",
       "        </tr>\n",
       "        <tr>\n",
       "            <td>0     </td> <td>1        </td> <td>Neither</td> <td>2            </td> <td>1         </td> <td>4   </td> <td>0            </td> <td>1.03           </td> <td>5               </td> <td>12             </td> <td>16          </td> <td>20         </td> <td>moderate        </td> <td>severe       </td> <td>high  </td> <td>48      </td> <td>29       </td> <td>Light     </td> <td>3     </td> <td>24.4      </td> <td>8.75       </td> <td>8.25        </td> <td>24        </td> <td>9          </td> <td>9.25        </td> <td>8.54        </td> <td>0         </td>\n",
       "        </tr>\n",
       "        <tr>\n",
       "            <td>0     </td> <td>1        </td> <td>Neither</td> <td>4            </td> <td>1         </td> <td>3.3 </td> <td>0            </td> <td>-0.14          </td> <td>3               </td> <td>10             </td> <td>13          </td> <td>18         </td> <td>moderate        </td> <td>moderate     </td> <td>high  </td> <td>41      </td> <td>21       </td> <td>Moderate  </td> <td>4     </td> <td>25.92     </td> <td>7.97       </td> <td>6.34        </td> <td>26.29     </td> <td>11.25      </td> <td>8.25        </td> <td>6.89        </td> <td>0         </td>\n",
       "        </tr>\n",
       "        <tr>\n",
       "            <td>0     </td> <td>1        </td> <td>Neither</td> <td>0            </td> <td>0         </td> <td>3   </td> <td>5            </td> <td>-0.31          </td> <td>6               </td> <td>5              </td> <td>0           </td> <td>6          </td> <td>normal          </td> <td>normal       </td> <td>normal</td> <td>11      </td> <td>27       </td> <td>Light     </td> <td>3     </td> <td>24.6      </td> <td>9.2        </td> <td>9.3         </td> <td>23.75     </td> <td>11.75      </td> <td>10.25       </td> <td>9.57        </td> <td>0         </td>\n",
       "        </tr>\n",
       "        <tr>\n",
       "            <td>0     </td> <td>1        </td> <td>Neither</td> <td>3            </td> <td>1         </td> <td>4   </td> <td>0            </td> <td>0.01           </td> <td>5               </td> <td>8              </td> <td>3           </td> <td>10         </td> <td>normal          </td> <td>normal       </td> <td>normal</td> <td>21      </td> <td>15       </td> <td>Light     </td> <td>1     </td> <td>22.9      </td> <td>8.3        </td> <td>9.4         </td> <td>27.25     </td> <td>11.5       </td> <td>8.25        </td> <td>9.07        </td> <td>0         </td>\n",
       "        </tr>\n",
       "        <tr>\n",
       "            <td>0     </td> <td>1        </td> <td>Neither</td> <td>5            </td> <td>1         </td> <td>3.5 </td> <td>1            </td> <td>0.06           </td> <td>6               </td> <td>2              </td> <td>1           </td> <td>4          </td> <td>normal          </td> <td>normal       </td> <td>normal</td> <td>7       </td> <td>27       </td> <td>Light     </td> <td>3     </td> <td>25.8      </td> <td>7.75       </td> <td>6.45        </td> <td>25.5      </td> <td>10.88      </td> <td>8.13        </td> <td>6.93        </td> <td>0         </td>\n",
       "        </tr>\n",
       "        <tr>\n",
       "            <td>0     </td> <td>1        </td> <td>Neither</td> <td>3            </td> <td>1         </td> <td>3.2 </td> <td>0            </td> <td>0.62           </td> <td>2               </td> <td>6              </td> <td>4           </td> <td>2          </td> <td>normal          </td> <td>normal       </td> <td>normal</td> <td>12      </td> <td>25       </td> <td>Light     </td> <td>1     </td> <td>24.6      </td> <td>8.67       </td> <td>8.17        </td> <td>26.5      </td> <td>11.5       </td> <td>8.75        </td> <td>8.33        </td> <td>0         </td>\n",
       "        </tr>\n",
       "        <tr>\n",
       "            <td>0     </td> <td>1        </td> <td>Lark   </td> <td>3            </td> <td>1         </td> <td>3.25</td> <td>5            </td> <td>-0.28          </td> <td>4               </td> <td>4              </td> <td>8           </td> <td>14         </td> <td>normal          </td> <td>moderate     </td> <td>normal</td> <td>26      </td> <td>30       </td> <td>Moderate  </td> <td>4     </td> <td>22.83     </td> <td>9.38       </td> <td>10.48       </td> <td>26.25     </td> <td>9.75       </td> <td>7.67        </td> <td>9.68        </td> <td>0         </td>\n",
       "        </tr>\n",
       "        <tr>\n",
       "            <td>1     </td> <td>1        </td> <td>Neither</td> <td>2            </td> <td>1         </td> <td>3.25</td> <td>2            </td> <td>-0.48          </td> <td>7               </td> <td>7              </td> <td>6           </td> <td>7          </td> <td>normal          </td> <td>normal       </td> <td>normal</td> <td>20      </td> <td>31       </td> <td>Light     </td> <td>3     </td> <td>23.3      </td> <td>8.4        </td> <td>8.8         </td> <td>25.5      </td> <td>10         </td> <td>9.25        </td> <td>8.93        </td> <td>0         </td>\n",
       "        </tr>\n",
       "        <tr>\n",
       "            <td>0     </td> <td>1        </td> <td>Neither</td> <td>2            </td> <td>1         </td> <td>2.9 </td> <td>0            </td> <td>0.07           </td> <td>8               </td> <td>5              </td> <td>6           </td> <td>11         </td> <td>normal          </td> <td>normal       </td> <td>normal</td> <td>22      </td> <td>24       </td> <td>Light     </td> <td>5     </td> <td>24.9      </td> <td>9.15       </td> <td>8.25        </td> <td>26.5      </td> <td>11.3       </td> <td>9           </td> <td>8.46        </td> <td>0         </td>\n",
       "        </tr>\n",
       "    </tbody>\n",
       "</table>\n",
       "<p>... (243 rows omitted)</p>"
      ],
      "text/plain": [
       "Gender | ClassYear | LarkOwl | NumEarlyClass | EarlyClass | GPA  | ClassesMissed | CognitionZscore | PoorSleepQuality | DepressionScore | AnxietyScore | StressScore | DepressionStatus | AnxietyStatus | Stress | DASScore | Happiness | AlcoholUse | Drinks | WeekdayBed | WeekdayRise | WeekdaySleep | WeekendBed | WeekendRise | WeekendSleep | AverageSleep | AllNighter\n",
       "0      | 1         | Lark    | 5             | 1          | 3.76 | 0             | 1.39            | 9                | 1               | 4            | 6           | normal           | normal        | normal | 11       | 32        | Light      | 2      | 23.5       | 7.17        | 6.77         | 27         | 8           | 7.25         | 6.9          | 0\n",
       "0      | 1         | Neither | 2             | 1          | 4    | 0             | 1.03            | 5                | 12              | 16           | 20          | moderate         | severe        | high   | 48       | 29        | Light      | 3      | 24.4       | 8.75        | 8.25         | 24         | 9           | 9.25         | 8.54         | 0\n",
       "0      | 1         | Neither | 4             | 1          | 3.3  | 0             | -0.14           | 3                | 10              | 13           | 18          | moderate         | moderate      | high   | 41       | 21        | Moderate   | 4      | 25.92      | 7.97        | 6.34         | 26.29      | 11.25       | 8.25         | 6.89         | 0\n",
       "0      | 1         | Neither | 0             | 0          | 3    | 5             | -0.31           | 6                | 5               | 0            | 6           | normal           | normal        | normal | 11       | 27        | Light      | 3      | 24.6       | 9.2         | 9.3          | 23.75      | 11.75       | 10.25        | 9.57         | 0\n",
       "0      | 1         | Neither | 3             | 1          | 4    | 0             | 0.01            | 5                | 8               | 3            | 10          | normal           | normal        | normal | 21       | 15        | Light      | 1      | 22.9       | 8.3         | 9.4          | 27.25      | 11.5        | 8.25         | 9.07         | 0\n",
       "0      | 1         | Neither | 5             | 1          | 3.5  | 1             | 0.06            | 6                | 2               | 1            | 4           | normal           | normal        | normal | 7        | 27        | Light      | 3      | 25.8       | 7.75        | 6.45         | 25.5       | 10.88       | 8.13         | 6.93         | 0\n",
       "0      | 1         | Neither | 3             | 1          | 3.2  | 0             | 0.62            | 2                | 6               | 4            | 2           | normal           | normal        | normal | 12       | 25        | Light      | 1      | 24.6       | 8.67        | 8.17         | 26.5       | 11.5        | 8.75         | 8.33         | 0\n",
       "0      | 1         | Lark    | 3             | 1          | 3.25 | 5             | -0.28           | 4                | 4               | 8            | 14          | normal           | moderate      | normal | 26       | 30        | Moderate   | 4      | 22.83      | 9.38        | 10.48        | 26.25      | 9.75        | 7.67         | 9.68         | 0\n",
       "1      | 1         | Neither | 2             | 1          | 3.25 | 2             | -0.48           | 7                | 7               | 6            | 7           | normal           | normal        | normal | 20       | 31        | Light      | 3      | 23.3       | 8.4         | 8.8          | 25.5       | 10          | 9.25         | 8.93         | 0\n",
       "0      | 1         | Neither | 2             | 1          | 2.9  | 0             | 0.07            | 8                | 5               | 6            | 11          | normal           | normal        | normal | 22       | 24        | Light      | 5      | 24.9       | 9.15        | 8.25         | 26.5       | 11.3        | 9            | 8.46         | 0\n",
       "... (243 rows omitted)"
      ]
     },
     "execution_count": 10,
     "metadata": {},
     "output_type": "execute_result"
    }
   ],
   "source": [
    "SleepStudy.sort('ClassYear')"
   ]
  },
  {
   "cell_type": "code",
   "execution_count": 11,
   "metadata": {},
   "outputs": [
    {
     "data": {
      "text/html": [
       "<table border=\"1\" class=\"dataframe\">\n",
       "    <thead>\n",
       "        <tr>\n",
       "            <th>Gender</th> <th>ClassYear</th> <th>LarkOwl</th> <th>NumEarlyClass</th> <th>EarlyClass</th> <th>GPA</th> <th>ClassesMissed</th> <th>CognitionZscore</th> <th>PoorSleepQuality</th> <th>DepressionScore</th> <th>AnxietyScore</th> <th>StressScore</th> <th>DepressionStatus</th> <th>AnxietyStatus</th> <th>Stress</th> <th>DASScore</th> <th>Happiness</th> <th>AlcoholUse</th> <th>Drinks</th> <th>WeekdayBed</th> <th>WeekdayRise</th> <th>WeekdaySleep</th> <th>WeekendBed</th> <th>WeekendRise</th> <th>WeekendSleep</th> <th>AverageSleep</th> <th>AllNighter</th>\n",
       "        </tr>\n",
       "    </thead>\n",
       "    <tbody>\n",
       "        <tr>\n",
       "            <td>0     </td> <td>4        </td> <td>Neither</td> <td>0            </td> <td>0         </td> <td>3.6 </td> <td>0            </td> <td>-0.26          </td> <td>4               </td> <td>4              </td> <td>3           </td> <td>8          </td> <td>normal          </td> <td>normal       </td> <td>normal</td> <td>15      </td> <td>28       </td> <td>Moderate  </td> <td>10    </td> <td>25.75     </td> <td>8.7        </td> <td>7.7         </td> <td>25.75     </td> <td>9.5        </td> <td>5.88        </td> <td>7.18        </td> <td>0         </td>\n",
       "        </tr>\n",
       "        <tr>\n",
       "            <td>0     </td> <td>4        </td> <td>Neither</td> <td>2            </td> <td>1         </td> <td>3.24</td> <td>0            </td> <td>1.39           </td> <td>6               </td> <td>1              </td> <td>0           </td> <td>3          </td> <td>normal          </td> <td>normal       </td> <td>normal</td> <td>4       </td> <td>25       </td> <td>Moderate  </td> <td>6     </td> <td>25.7      </td> <td>8.2        </td> <td>6.8         </td> <td>26        </td> <td>10         </td> <td>7.25        </td> <td>6.93        </td> <td>0         </td>\n",
       "        </tr>\n",
       "        <tr>\n",
       "            <td>0     </td> <td>4        </td> <td>Owl    </td> <td>0            </td> <td>0         </td> <td>2.97</td> <td>12           </td> <td>0.38           </td> <td>18              </td> <td>18             </td> <td>18          </td> <td>9          </td> <td>moderate        </td> <td>severe       </td> <td>normal</td> <td>45      </td> <td>17       </td> <td>Light     </td> <td>3     </td> <td>27.44     </td> <td>6.55       </td> <td>3           </td> <td>28        </td> <td>12.59      </td> <td>10.09       </td> <td>5.02        </td> <td>0         </td>\n",
       "        </tr>\n",
       "        <tr>\n",
       "            <td>0     </td> <td>4        </td> <td>Owl    </td> <td>0            </td> <td>0         </td> <td>3.2 </td> <td>4            </td> <td>1.22           </td> <td>9               </td> <td>7              </td> <td>25          </td> <td>14         </td> <td>normal          </td> <td>severe       </td> <td>normal</td> <td>46      </td> <td>15       </td> <td>Moderate  </td> <td>4     </td> <td>25.9      </td> <td>8.67       </td> <td>6.09        </td> <td>23.75     </td> <td>9.5        </td> <td>7           </td> <td>6.35        </td> <td>0         </td>\n",
       "        </tr>\n",
       "        <tr>\n",
       "            <td>1     </td> <td>4        </td> <td>Neither</td> <td>0            </td> <td>0         </td> <td>3.5 </td> <td>0            </td> <td>-0.04          </td> <td>6               </td> <td>14             </td> <td>8           </td> <td>28         </td> <td>moderate        </td> <td>moderate     </td> <td>high  </td> <td>50      </td> <td>22       </td> <td>Abstain   </td> <td>0     </td> <td>23.8      </td> <td>8.95       </td> <td>9.05        </td> <td>26        </td> <td>10.75      </td> <td>9           </td> <td>9.04        </td> <td>0         </td>\n",
       "        </tr>\n",
       "        <tr>\n",
       "            <td>0     </td> <td>4        </td> <td>Neither</td> <td>2            </td> <td>1         </td> <td>2.9 </td> <td>0            </td> <td>0.72           </td> <td>2               </td> <td>6              </td> <td>11          </td> <td>31         </td> <td>normal          </td> <td>moderate     </td> <td>high  </td> <td>48      </td> <td>30       </td> <td>Moderate  </td> <td>6     </td> <td>26.2      </td> <td>8          </td> <td>6.6         </td> <td>25.38     </td> <td>10.25      </td> <td>6.88        </td> <td>6.68        </td> <td>0         </td>\n",
       "        </tr>\n",
       "        <tr>\n",
       "            <td>0     </td> <td>4        </td> <td>Neither</td> <td>2            </td> <td>1         </td> <td>2.9 </td> <td>0            </td> <td>-0.04          </td> <td>8               </td> <td>18             </td> <td>12          </td> <td>26         </td> <td>moderate        </td> <td>moderate     </td> <td>high  </td> <td>56      </td> <td>17       </td> <td>Moderate  </td> <td>5     </td> <td>24.4      </td> <td>8.6        </td> <td>8.4         </td> <td>25.5      </td> <td>11         </td> <td>9           </td> <td>8.57        </td> <td>0         </td>\n",
       "        </tr>\n",
       "        <tr>\n",
       "            <td>0     </td> <td>4        </td> <td>Neither</td> <td>2            </td> <td>1         </td> <td>3.4 </td> <td>3            </td> <td>0.78           </td> <td>9               </td> <td>4              </td> <td>5           </td> <td>9          </td> <td>normal          </td> <td>normal       </td> <td>normal</td> <td>18      </td> <td>27       </td> <td>Light     </td> <td>3     </td> <td>23.9      </td> <td>7.8        </td> <td>8           </td> <td>25.25     </td> <td>10         </td> <td>7           </td> <td>7.71        </td> <td>0         </td>\n",
       "        </tr>\n",
       "        <tr>\n",
       "            <td>0     </td> <td>4        </td> <td>Neither</td> <td>2            </td> <td>1         </td> <td>3   </td> <td>2            </td> <td>-0.86          </td> <td>6               </td> <td>7              </td> <td>8           </td> <td>14         </td> <td>normal          </td> <td>moderate     </td> <td>normal</td> <td>29      </td> <td>25       </td> <td>Moderate  </td> <td>5     </td> <td>25        </td> <td>8.6        </td> <td>8.1         </td> <td>25.5      </td> <td>8.5        </td> <td>5.75        </td> <td>7.43        </td> <td>0         </td>\n",
       "        </tr>\n",
       "        <tr>\n",
       "            <td>0     </td> <td>4        </td> <td>Neither</td> <td>3            </td> <td>1         </td> <td>2.8 </td> <td>0            </td> <td>-1.27          </td> <td>3               </td> <td>4              </td> <td>1           </td> <td>2          </td> <td>normal          </td> <td>normal       </td> <td>normal</td> <td>7       </td> <td>18       </td> <td>Light     </td> <td>6     </td> <td>23.8      </td> <td>8.1        </td> <td>8.4         </td> <td>25.25     </td> <td>10.75      </td> <td>9.25        </td> <td>8.64        </td> <td>0         </td>\n",
       "        </tr>\n",
       "    </tbody>\n",
       "</table>\n",
       "<p>... (243 rows omitted)</p>"
      ],
      "text/plain": [
       "Gender | ClassYear | LarkOwl | NumEarlyClass | EarlyClass | GPA  | ClassesMissed | CognitionZscore | PoorSleepQuality | DepressionScore | AnxietyScore | StressScore | DepressionStatus | AnxietyStatus | Stress | DASScore | Happiness | AlcoholUse | Drinks | WeekdayBed | WeekdayRise | WeekdaySleep | WeekendBed | WeekendRise | WeekendSleep | AverageSleep | AllNighter\n",
       "0      | 4         | Neither | 0             | 0          | 3.6  | 0             | -0.26           | 4                | 4               | 3            | 8           | normal           | normal        | normal | 15       | 28        | Moderate   | 10     | 25.75      | 8.7         | 7.7          | 25.75      | 9.5         | 5.88         | 7.18         | 0\n",
       "0      | 4         | Neither | 2             | 1          | 3.24 | 0             | 1.39            | 6                | 1               | 0            | 3           | normal           | normal        | normal | 4        | 25        | Moderate   | 6      | 25.7       | 8.2         | 6.8          | 26         | 10          | 7.25         | 6.93         | 0\n",
       "0      | 4         | Owl     | 0             | 0          | 2.97 | 12            | 0.38            | 18               | 18              | 18           | 9           | moderate         | severe        | normal | 45       | 17        | Light      | 3      | 27.44      | 6.55        | 3            | 28         | 12.59       | 10.09        | 5.02         | 0\n",
       "0      | 4         | Owl     | 0             | 0          | 3.2  | 4             | 1.22            | 9                | 7               | 25           | 14          | normal           | severe        | normal | 46       | 15        | Moderate   | 4      | 25.9       | 8.67        | 6.09         | 23.75      | 9.5         | 7            | 6.35         | 0\n",
       "1      | 4         | Neither | 0             | 0          | 3.5  | 0             | -0.04           | 6                | 14              | 8            | 28          | moderate         | moderate      | high   | 50       | 22        | Abstain    | 0      | 23.8       | 8.95        | 9.05         | 26         | 10.75       | 9            | 9.04         | 0\n",
       "0      | 4         | Neither | 2             | 1          | 2.9  | 0             | 0.72            | 2                | 6               | 11           | 31          | normal           | moderate      | high   | 48       | 30        | Moderate   | 6      | 26.2       | 8           | 6.6          | 25.38      | 10.25       | 6.88         | 6.68         | 0\n",
       "0      | 4         | Neither | 2             | 1          | 2.9  | 0             | -0.04           | 8                | 18              | 12           | 26          | moderate         | moderate      | high   | 56       | 17        | Moderate   | 5      | 24.4       | 8.6         | 8.4          | 25.5       | 11          | 9            | 8.57         | 0\n",
       "0      | 4         | Neither | 2             | 1          | 3.4  | 3             | 0.78            | 9                | 4               | 5            | 9           | normal           | normal        | normal | 18       | 27        | Light      | 3      | 23.9       | 7.8         | 8            | 25.25      | 10          | 7            | 7.71         | 0\n",
       "0      | 4         | Neither | 2             | 1          | 3    | 2             | -0.86           | 6                | 7               | 8            | 14          | normal           | moderate      | normal | 29       | 25        | Moderate   | 5      | 25         | 8.6         | 8.1          | 25.5       | 8.5         | 5.75         | 7.43         | 0\n",
       "0      | 4         | Neither | 3             | 1          | 2.8  | 0             | -1.27           | 3                | 4               | 1            | 2           | normal           | normal        | normal | 7        | 18        | Light      | 6      | 23.8       | 8.1         | 8.4          | 25.25      | 10.75       | 9.25         | 8.64         | 0\n",
       "... (243 rows omitted)"
      ]
     },
     "execution_count": 11,
     "metadata": {},
     "output_type": "execute_result"
    }
   ],
   "source": [
    "SleepStudy.sort('ClassYear', descending = True)"
   ]
  },
  {
   "cell_type": "code",
   "execution_count": 12,
   "metadata": {},
   "outputs": [
    {
     "data": {
      "text/html": [
       "<table border=\"1\" class=\"dataframe\">\n",
       "    <thead>\n",
       "        <tr>\n",
       "            <th>Gender</th> <th>ClassYear</th> <th>LarkOwl</th> <th>NumEarlyClass</th> <th>EarlyClass</th> <th>GPA</th> <th>ClassesMissed</th> <th>CognitionZscore</th> <th>PoorSleepQuality</th> <th>DepressionScore</th> <th>AnxietyScore</th> <th>StressScore</th> <th>DepressionStatus</th> <th>AnxietyStatus</th> <th>Stress</th> <th>DASScore</th> <th>Happiness</th> <th>AlcoholUse</th> <th>Drinks</th> <th>WeekdayBed</th> <th>WeekdayRise</th> <th>WeekdaySleep</th> <th>WeekendBed</th> <th>WeekendRise</th> <th>WeekendSleep</th> <th>AverageSleep</th> <th>AllNighter</th>\n",
       "        </tr>\n",
       "    </thead>\n",
       "    <tbody>\n",
       "        <tr>\n",
       "            <td>0     </td> <td>4        </td> <td>Neither</td> <td>0            </td> <td>0         </td> <td>3.6 </td> <td>0            </td> <td>-0.26          </td> <td>4               </td> <td>4              </td> <td>3           </td> <td>8          </td> <td>normal          </td> <td>normal       </td> <td>normal</td> <td>15      </td> <td>28       </td> <td>Moderate  </td> <td>10    </td> <td>25.75     </td> <td>8.7        </td> <td>7.7         </td> <td>25.75     </td> <td>9.5        </td> <td>5.88        </td> <td>7.18        </td> <td>0         </td>\n",
       "        </tr>\n",
       "        <tr>\n",
       "            <td>0     </td> <td>4        </td> <td>Neither</td> <td>2            </td> <td>1         </td> <td>3.24</td> <td>0            </td> <td>1.39           </td> <td>6               </td> <td>1              </td> <td>0           </td> <td>3          </td> <td>normal          </td> <td>normal       </td> <td>normal</td> <td>4       </td> <td>25       </td> <td>Moderate  </td> <td>6     </td> <td>25.7      </td> <td>8.2        </td> <td>6.8         </td> <td>26        </td> <td>10         </td> <td>7.25        </td> <td>6.93        </td> <td>0         </td>\n",
       "        </tr>\n",
       "        <tr>\n",
       "            <td>0     </td> <td>4        </td> <td>Owl    </td> <td>0            </td> <td>0         </td> <td>2.97</td> <td>12           </td> <td>0.38           </td> <td>18              </td> <td>18             </td> <td>18          </td> <td>9          </td> <td>moderate        </td> <td>severe       </td> <td>normal</td> <td>45      </td> <td>17       </td> <td>Light     </td> <td>3     </td> <td>27.44     </td> <td>6.55       </td> <td>3           </td> <td>28        </td> <td>12.59      </td> <td>10.09       </td> <td>5.02        </td> <td>0         </td>\n",
       "        </tr>\n",
       "        <tr>\n",
       "            <td>0     </td> <td>4        </td> <td>Owl    </td> <td>0            </td> <td>0         </td> <td>3.2 </td> <td>4            </td> <td>1.22           </td> <td>9               </td> <td>7              </td> <td>25          </td> <td>14         </td> <td>normal          </td> <td>severe       </td> <td>normal</td> <td>46      </td> <td>15       </td> <td>Moderate  </td> <td>4     </td> <td>25.9      </td> <td>8.67       </td> <td>6.09        </td> <td>23.75     </td> <td>9.5        </td> <td>7           </td> <td>6.35        </td> <td>0         </td>\n",
       "        </tr>\n",
       "        <tr>\n",
       "            <td>1     </td> <td>4        </td> <td>Neither</td> <td>0            </td> <td>0         </td> <td>3.5 </td> <td>0            </td> <td>-0.04          </td> <td>6               </td> <td>14             </td> <td>8           </td> <td>28         </td> <td>moderate        </td> <td>moderate     </td> <td>high  </td> <td>50      </td> <td>22       </td> <td>Abstain   </td> <td>0     </td> <td>23.8      </td> <td>8.95       </td> <td>9.05        </td> <td>26        </td> <td>10.75      </td> <td>9           </td> <td>9.04        </td> <td>0         </td>\n",
       "        </tr>\n",
       "        <tr>\n",
       "            <td>0     </td> <td>4        </td> <td>Neither</td> <td>2            </td> <td>1         </td> <td>2.9 </td> <td>0            </td> <td>0.72           </td> <td>2               </td> <td>6              </td> <td>11          </td> <td>31         </td> <td>normal          </td> <td>moderate     </td> <td>high  </td> <td>48      </td> <td>30       </td> <td>Moderate  </td> <td>6     </td> <td>26.2      </td> <td>8          </td> <td>6.6         </td> <td>25.38     </td> <td>10.25      </td> <td>6.88        </td> <td>6.68        </td> <td>0         </td>\n",
       "        </tr>\n",
       "        <tr>\n",
       "            <td>0     </td> <td>4        </td> <td>Neither</td> <td>2            </td> <td>1         </td> <td>2.9 </td> <td>0            </td> <td>-0.04          </td> <td>8               </td> <td>18             </td> <td>12          </td> <td>26         </td> <td>moderate        </td> <td>moderate     </td> <td>high  </td> <td>56      </td> <td>17       </td> <td>Moderate  </td> <td>5     </td> <td>24.4      </td> <td>8.6        </td> <td>8.4         </td> <td>25.5      </td> <td>11         </td> <td>9           </td> <td>8.57        </td> <td>0         </td>\n",
       "        </tr>\n",
       "        <tr>\n",
       "            <td>0     </td> <td>4        </td> <td>Neither</td> <td>2            </td> <td>1         </td> <td>3.4 </td> <td>3            </td> <td>0.78           </td> <td>9               </td> <td>4              </td> <td>5           </td> <td>9          </td> <td>normal          </td> <td>normal       </td> <td>normal</td> <td>18      </td> <td>27       </td> <td>Light     </td> <td>3     </td> <td>23.9      </td> <td>7.8        </td> <td>8           </td> <td>25.25     </td> <td>10         </td> <td>7           </td> <td>7.71        </td> <td>0         </td>\n",
       "        </tr>\n",
       "        <tr>\n",
       "            <td>0     </td> <td>4        </td> <td>Neither</td> <td>2            </td> <td>1         </td> <td>3   </td> <td>2            </td> <td>-0.86          </td> <td>6               </td> <td>7              </td> <td>8           </td> <td>14         </td> <td>normal          </td> <td>moderate     </td> <td>normal</td> <td>29      </td> <td>25       </td> <td>Moderate  </td> <td>5     </td> <td>25        </td> <td>8.6        </td> <td>8.1         </td> <td>25.5      </td> <td>8.5        </td> <td>5.75        </td> <td>7.43        </td> <td>0         </td>\n",
       "        </tr>\n",
       "        <tr>\n",
       "            <td>0     </td> <td>4        </td> <td>Neither</td> <td>3            </td> <td>1         </td> <td>2.8 </td> <td>0            </td> <td>-1.27          </td> <td>3               </td> <td>4              </td> <td>1           </td> <td>2          </td> <td>normal          </td> <td>normal       </td> <td>normal</td> <td>7       </td> <td>18       </td> <td>Light     </td> <td>6     </td> <td>23.8      </td> <td>8.1        </td> <td>8.4         </td> <td>25.25     </td> <td>10.75      </td> <td>9.25        </td> <td>8.64        </td> <td>0         </td>\n",
       "        </tr>\n",
       "    </tbody>\n",
       "</table>\n",
       "<p>... (243 rows omitted)</p>"
      ],
      "text/plain": [
       "Gender | ClassYear | LarkOwl | NumEarlyClass | EarlyClass | GPA  | ClassesMissed | CognitionZscore | PoorSleepQuality | DepressionScore | AnxietyScore | StressScore | DepressionStatus | AnxietyStatus | Stress | DASScore | Happiness | AlcoholUse | Drinks | WeekdayBed | WeekdayRise | WeekdaySleep | WeekendBed | WeekendRise | WeekendSleep | AverageSleep | AllNighter\n",
       "0      | 4         | Neither | 0             | 0          | 3.6  | 0             | -0.26           | 4                | 4               | 3            | 8           | normal           | normal        | normal | 15       | 28        | Moderate   | 10     | 25.75      | 8.7         | 7.7          | 25.75      | 9.5         | 5.88         | 7.18         | 0\n",
       "0      | 4         | Neither | 2             | 1          | 3.24 | 0             | 1.39            | 6                | 1               | 0            | 3           | normal           | normal        | normal | 4        | 25        | Moderate   | 6      | 25.7       | 8.2         | 6.8          | 26         | 10          | 7.25         | 6.93         | 0\n",
       "0      | 4         | Owl     | 0             | 0          | 2.97 | 12            | 0.38            | 18               | 18              | 18           | 9           | moderate         | severe        | normal | 45       | 17        | Light      | 3      | 27.44      | 6.55        | 3            | 28         | 12.59       | 10.09        | 5.02         | 0\n",
       "0      | 4         | Owl     | 0             | 0          | 3.2  | 4             | 1.22            | 9                | 7               | 25           | 14          | normal           | severe        | normal | 46       | 15        | Moderate   | 4      | 25.9       | 8.67        | 6.09         | 23.75      | 9.5         | 7            | 6.35         | 0\n",
       "1      | 4         | Neither | 0             | 0          | 3.5  | 0             | -0.04           | 6                | 14              | 8            | 28          | moderate         | moderate      | high   | 50       | 22        | Abstain    | 0      | 23.8       | 8.95        | 9.05         | 26         | 10.75       | 9            | 9.04         | 0\n",
       "0      | 4         | Neither | 2             | 1          | 2.9  | 0             | 0.72            | 2                | 6               | 11           | 31          | normal           | moderate      | high   | 48       | 30        | Moderate   | 6      | 26.2       | 8           | 6.6          | 25.38      | 10.25       | 6.88         | 6.68         | 0\n",
       "0      | 4         | Neither | 2             | 1          | 2.9  | 0             | -0.04           | 8                | 18              | 12           | 26          | moderate         | moderate      | high   | 56       | 17        | Moderate   | 5      | 24.4       | 8.6         | 8.4          | 25.5       | 11          | 9            | 8.57         | 0\n",
       "0      | 4         | Neither | 2             | 1          | 3.4  | 3             | 0.78            | 9                | 4               | 5            | 9           | normal           | normal        | normal | 18       | 27        | Light      | 3      | 23.9       | 7.8         | 8            | 25.25      | 10          | 7            | 7.71         | 0\n",
       "0      | 4         | Neither | 2             | 1          | 3    | 2             | -0.86           | 6                | 7               | 8            | 14          | normal           | moderate      | normal | 29       | 25        | Moderate   | 5      | 25         | 8.6         | 8.1          | 25.5       | 8.5         | 5.75         | 7.43         | 0\n",
       "0      | 4         | Neither | 3             | 1          | 2.8  | 0             | -1.27           | 3                | 4               | 1            | 2           | normal           | normal        | normal | 7        | 18        | Light      | 6      | 23.8       | 8.1         | 8.4          | 25.25      | 10.75       | 9.25         | 8.64         | 0\n",
       "... (243 rows omitted)"
      ]
     },
     "execution_count": 12,
     "metadata": {},
     "output_type": "execute_result"
    }
   ],
   "source": [
    "SleepStudy.sort('ClassYear', descending = True, distinct=False)"
   ]
  },
  {
   "cell_type": "code",
   "execution_count": 13,
   "metadata": {},
   "outputs": [
    {
     "data": {
      "text/html": [
       "<table border=\"1\" class=\"dataframe\">\n",
       "    <thead>\n",
       "        <tr>\n",
       "            <th>Gender</th> <th>ClassYear</th> <th>LarkOwl</th> <th>NumEarlyClass</th> <th>EarlyClass</th> <th>GPA</th> <th>ClassesMissed</th> <th>CognitionZscore</th> <th>PoorSleepQuality</th> <th>DepressionScore</th> <th>AnxietyScore</th> <th>StressScore</th> <th>DepressionStatus</th> <th>AnxietyStatus</th> <th>Stress</th> <th>DASScore</th> <th>Happiness</th> <th>AlcoholUse</th> <th>Drinks</th> <th>WeekdayBed</th> <th>WeekdayRise</th> <th>WeekdaySleep</th> <th>WeekendBed</th> <th>WeekendRise</th> <th>WeekendSleep</th> <th>AverageSleep</th> <th>AllNighter</th>\n",
       "        </tr>\n",
       "    </thead>\n",
       "    <tbody>\n",
       "        <tr>\n",
       "            <td>0     </td> <td>4        </td> <td>Neither</td> <td>0            </td> <td>0         </td> <td>3.6 </td> <td>0            </td> <td>-0.26          </td> <td>4               </td> <td>4              </td> <td>3           </td> <td>8          </td> <td>normal          </td> <td>normal       </td> <td>normal</td> <td>15      </td> <td>28       </td> <td>Moderate  </td> <td>10    </td> <td>25.75     </td> <td>8.7        </td> <td>7.7         </td> <td>25.75     </td> <td>9.5        </td> <td>5.88        </td> <td>7.18        </td> <td>0         </td>\n",
       "        </tr>\n",
       "        <tr>\n",
       "            <td>1     </td> <td>3        </td> <td>Neither</td> <td>2            </td> <td>1         </td> <td>3.3 </td> <td>6            </td> <td>0.04           </td> <td>7               </td> <td>3              </td> <td>3           </td> <td>2          </td> <td>normal          </td> <td>normal       </td> <td>normal</td> <td>8       </td> <td>20       </td> <td>Light     </td> <td>5     </td> <td>25.6      </td> <td>8.73       </td> <td>7.03        </td> <td>27.25     </td> <td>11.5       </td> <td>8.5         </td> <td>7.45        </td> <td>0         </td>\n",
       "        </tr>\n",
       "        <tr>\n",
       "            <td>1     </td> <td>2        </td> <td>Lark   </td> <td>2            </td> <td>1         </td> <td>3.35</td> <td>2            </td> <td>0.41           </td> <td>2               </td> <td>1              </td> <td>0           </td> <td>1          </td> <td>normal          </td> <td>normal       </td> <td>normal</td> <td>2       </td> <td>25       </td> <td>Moderate  </td> <td>6     </td> <td>25.35     </td> <td>8.48       </td> <td>7.73        </td> <td>25.63     </td> <td>10.13      </td> <td>7           </td> <td>7.52        </td> <td>1         </td>\n",
       "        </tr>\n",
       "        <tr>\n",
       "            <td>0     </td> <td>1        </td> <td>Lark   </td> <td>5            </td> <td>1         </td> <td>3.76</td> <td>0            </td> <td>1.39           </td> <td>9               </td> <td>1              </td> <td>4           </td> <td>6          </td> <td>normal          </td> <td>normal       </td> <td>normal</td> <td>11      </td> <td>32       </td> <td>Light     </td> <td>2     </td> <td>23.5      </td> <td>7.17       </td> <td>6.77        </td> <td>27        </td> <td>8          </td> <td>7.25        </td> <td>6.9         </td> <td>0         </td>\n",
       "        </tr>\n",
       "    </tbody>\n",
       "</table>"
      ],
      "text/plain": [
       "Gender | ClassYear | LarkOwl | NumEarlyClass | EarlyClass | GPA  | ClassesMissed | CognitionZscore | PoorSleepQuality | DepressionScore | AnxietyScore | StressScore | DepressionStatus | AnxietyStatus | Stress | DASScore | Happiness | AlcoholUse | Drinks | WeekdayBed | WeekdayRise | WeekdaySleep | WeekendBed | WeekendRise | WeekendSleep | AverageSleep | AllNighter\n",
       "0      | 4         | Neither | 0             | 0          | 3.6  | 0             | -0.26           | 4                | 4               | 3            | 8           | normal           | normal        | normal | 15       | 28        | Moderate   | 10     | 25.75      | 8.7         | 7.7          | 25.75      | 9.5         | 5.88         | 7.18         | 0\n",
       "1      | 3         | Neither | 2             | 1          | 3.3  | 6             | 0.04            | 7                | 3               | 3            | 2           | normal           | normal        | normal | 8        | 20        | Light      | 5      | 25.6       | 8.73        | 7.03         | 27.25      | 11.5        | 8.5          | 7.45         | 0\n",
       "1      | 2         | Lark    | 2             | 1          | 3.35 | 2             | 0.41            | 2                | 1               | 0            | 1           | normal           | normal        | normal | 2        | 25        | Moderate   | 6      | 25.35      | 8.48        | 7.73         | 25.63      | 10.13       | 7            | 7.52         | 1\n",
       "0      | 1         | Lark    | 5             | 1          | 3.76 | 0             | 1.39            | 9                | 1               | 4            | 6           | normal           | normal        | normal | 11       | 32        | Light      | 2      | 23.5       | 7.17        | 6.77         | 27         | 8           | 7.25         | 6.9          | 0"
      ]
     },
     "execution_count": 13,
     "metadata": {},
     "output_type": "execute_result"
    }
   ],
   "source": [
    "SleepStudy.sort('ClassYear', descending = True, distinct=True)"
   ]
  },
  {
   "cell_type": "markdown",
   "metadata": {},
   "source": [
    "### Selecting rows where a condition is met in a Column"
   ]
  },
  {
   "cell_type": "code",
   "execution_count": 14,
   "metadata": {},
   "outputs": [
    {
     "data": {
      "text/html": [
       "<table border=\"1\" class=\"dataframe\">\n",
       "    <thead>\n",
       "        <tr>\n",
       "            <th>Gender</th> <th>ClassYear</th> <th>LarkOwl</th> <th>NumEarlyClass</th> <th>EarlyClass</th> <th>GPA</th> <th>ClassesMissed</th> <th>CognitionZscore</th> <th>PoorSleepQuality</th> <th>DepressionScore</th> <th>AnxietyScore</th> <th>StressScore</th> <th>DepressionStatus</th> <th>AnxietyStatus</th> <th>Stress</th> <th>DASScore</th> <th>Happiness</th> <th>AlcoholUse</th> <th>Drinks</th> <th>WeekdayBed</th> <th>WeekdayRise</th> <th>WeekdaySleep</th> <th>WeekendBed</th> <th>WeekendRise</th> <th>WeekendSleep</th> <th>AverageSleep</th> <th>AllNighter</th>\n",
       "        </tr>\n",
       "    </thead>\n",
       "    <tbody>\n",
       "        <tr>\n",
       "            <td>0     </td> <td>4        </td> <td>Neither</td> <td>0            </td> <td>0         </td> <td>3.6 </td> <td>0            </td> <td>-0.26          </td> <td>4               </td> <td>4              </td> <td>3           </td> <td>8          </td> <td>normal          </td> <td>normal       </td> <td>normal</td> <td>15      </td> <td>28       </td> <td>Moderate  </td> <td>10    </td> <td>25.75     </td> <td>8.7        </td> <td>7.7         </td> <td>25.75     </td> <td>9.5        </td> <td>5.88        </td> <td>7.18        </td> <td>0         </td>\n",
       "        </tr>\n",
       "        <tr>\n",
       "            <td>0     </td> <td>4        </td> <td>Neither</td> <td>2            </td> <td>1         </td> <td>3.24</td> <td>0            </td> <td>1.39           </td> <td>6               </td> <td>1              </td> <td>0           </td> <td>3          </td> <td>normal          </td> <td>normal       </td> <td>normal</td> <td>4       </td> <td>25       </td> <td>Moderate  </td> <td>6     </td> <td>25.7      </td> <td>8.2        </td> <td>6.8         </td> <td>26        </td> <td>10         </td> <td>7.25        </td> <td>6.93        </td> <td>0         </td>\n",
       "        </tr>\n",
       "        <tr>\n",
       "            <td>0     </td> <td>4        </td> <td>Owl    </td> <td>0            </td> <td>0         </td> <td>2.97</td> <td>12           </td> <td>0.38           </td> <td>18              </td> <td>18             </td> <td>18          </td> <td>9          </td> <td>moderate        </td> <td>severe       </td> <td>normal</td> <td>45      </td> <td>17       </td> <td>Light     </td> <td>3     </td> <td>27.44     </td> <td>6.55       </td> <td>3           </td> <td>28        </td> <td>12.59      </td> <td>10.09       </td> <td>5.02        </td> <td>0         </td>\n",
       "        </tr>\n",
       "        <tr>\n",
       "            <td>0     </td> <td>4        </td> <td>Owl    </td> <td>0            </td> <td>0         </td> <td>3.2 </td> <td>4            </td> <td>1.22           </td> <td>9               </td> <td>7              </td> <td>25          </td> <td>14         </td> <td>normal          </td> <td>severe       </td> <td>normal</td> <td>46      </td> <td>15       </td> <td>Moderate  </td> <td>4     </td> <td>25.9      </td> <td>8.67       </td> <td>6.09        </td> <td>23.75     </td> <td>9.5        </td> <td>7           </td> <td>6.35        </td> <td>0         </td>\n",
       "        </tr>\n",
       "        <tr>\n",
       "            <td>1     </td> <td>4        </td> <td>Neither</td> <td>0            </td> <td>0         </td> <td>3.5 </td> <td>0            </td> <td>-0.04          </td> <td>6               </td> <td>14             </td> <td>8           </td> <td>28         </td> <td>moderate        </td> <td>moderate     </td> <td>high  </td> <td>50      </td> <td>22       </td> <td>Abstain   </td> <td>0     </td> <td>23.8      </td> <td>8.95       </td> <td>9.05        </td> <td>26        </td> <td>10.75      </td> <td>9           </td> <td>9.04        </td> <td>0         </td>\n",
       "        </tr>\n",
       "        <tr>\n",
       "            <td>0     </td> <td>4        </td> <td>Neither</td> <td>2            </td> <td>1         </td> <td>2.9 </td> <td>0            </td> <td>0.72           </td> <td>2               </td> <td>6              </td> <td>11          </td> <td>31         </td> <td>normal          </td> <td>moderate     </td> <td>high  </td> <td>48      </td> <td>30       </td> <td>Moderate  </td> <td>6     </td> <td>26.2      </td> <td>8          </td> <td>6.6         </td> <td>25.38     </td> <td>10.25      </td> <td>6.88        </td> <td>6.68        </td> <td>0         </td>\n",
       "        </tr>\n",
       "        <tr>\n",
       "            <td>0     </td> <td>4        </td> <td>Neither</td> <td>2            </td> <td>1         </td> <td>2.9 </td> <td>0            </td> <td>-0.04          </td> <td>8               </td> <td>18             </td> <td>12          </td> <td>26         </td> <td>moderate        </td> <td>moderate     </td> <td>high  </td> <td>56      </td> <td>17       </td> <td>Moderate  </td> <td>5     </td> <td>24.4      </td> <td>8.6        </td> <td>8.4         </td> <td>25.5      </td> <td>11         </td> <td>9           </td> <td>8.57        </td> <td>0         </td>\n",
       "        </tr>\n",
       "        <tr>\n",
       "            <td>0     </td> <td>4        </td> <td>Neither</td> <td>2            </td> <td>1         </td> <td>3.4 </td> <td>3            </td> <td>0.78           </td> <td>9               </td> <td>4              </td> <td>5           </td> <td>9          </td> <td>normal          </td> <td>normal       </td> <td>normal</td> <td>18      </td> <td>27       </td> <td>Light     </td> <td>3     </td> <td>23.9      </td> <td>7.8        </td> <td>8           </td> <td>25.25     </td> <td>10         </td> <td>7           </td> <td>7.71        </td> <td>0         </td>\n",
       "        </tr>\n",
       "        <tr>\n",
       "            <td>0     </td> <td>4        </td> <td>Neither</td> <td>2            </td> <td>1         </td> <td>3   </td> <td>2            </td> <td>-0.86          </td> <td>6               </td> <td>7              </td> <td>8           </td> <td>14         </td> <td>normal          </td> <td>moderate     </td> <td>normal</td> <td>29      </td> <td>25       </td> <td>Moderate  </td> <td>5     </td> <td>25        </td> <td>8.6        </td> <td>8.1         </td> <td>25.5      </td> <td>8.5        </td> <td>5.75        </td> <td>7.43        </td> <td>0         </td>\n",
       "        </tr>\n",
       "        <tr>\n",
       "            <td>0     </td> <td>4        </td> <td>Neither</td> <td>3            </td> <td>1         </td> <td>2.8 </td> <td>0            </td> <td>-1.27          </td> <td>3               </td> <td>4              </td> <td>1           </td> <td>2          </td> <td>normal          </td> <td>normal       </td> <td>normal</td> <td>7       </td> <td>18       </td> <td>Light     </td> <td>6     </td> <td>23.8      </td> <td>8.1        </td> <td>8.4         </td> <td>25.25     </td> <td>10.75      </td> <td>9.25        </td> <td>8.64        </td> <td>0         </td>\n",
       "        </tr>\n",
       "    </tbody>\n",
       "</table>\n",
       "<p>... (47 rows omitted)</p>"
      ],
      "text/plain": [
       "Gender | ClassYear | LarkOwl | NumEarlyClass | EarlyClass | GPA  | ClassesMissed | CognitionZscore | PoorSleepQuality | DepressionScore | AnxietyScore | StressScore | DepressionStatus | AnxietyStatus | Stress | DASScore | Happiness | AlcoholUse | Drinks | WeekdayBed | WeekdayRise | WeekdaySleep | WeekendBed | WeekendRise | WeekendSleep | AverageSleep | AllNighter\n",
       "0      | 4         | Neither | 0             | 0          | 3.6  | 0             | -0.26           | 4                | 4               | 3            | 8           | normal           | normal        | normal | 15       | 28        | Moderate   | 10     | 25.75      | 8.7         | 7.7          | 25.75      | 9.5         | 5.88         | 7.18         | 0\n",
       "0      | 4         | Neither | 2             | 1          | 3.24 | 0             | 1.39            | 6                | 1               | 0            | 3           | normal           | normal        | normal | 4        | 25        | Moderate   | 6      | 25.7       | 8.2         | 6.8          | 26         | 10          | 7.25         | 6.93         | 0\n",
       "0      | 4         | Owl     | 0             | 0          | 2.97 | 12            | 0.38            | 18               | 18              | 18           | 9           | moderate         | severe        | normal | 45       | 17        | Light      | 3      | 27.44      | 6.55        | 3            | 28         | 12.59       | 10.09        | 5.02         | 0\n",
       "0      | 4         | Owl     | 0             | 0          | 3.2  | 4             | 1.22            | 9                | 7               | 25           | 14          | normal           | severe        | normal | 46       | 15        | Moderate   | 4      | 25.9       | 8.67        | 6.09         | 23.75      | 9.5         | 7            | 6.35         | 0\n",
       "1      | 4         | Neither | 0             | 0          | 3.5  | 0             | -0.04           | 6                | 14              | 8            | 28          | moderate         | moderate      | high   | 50       | 22        | Abstain    | 0      | 23.8       | 8.95        | 9.05         | 26         | 10.75       | 9            | 9.04         | 0\n",
       "0      | 4         | Neither | 2             | 1          | 2.9  | 0             | 0.72            | 2                | 6               | 11           | 31          | normal           | moderate      | high   | 48       | 30        | Moderate   | 6      | 26.2       | 8           | 6.6          | 25.38      | 10.25       | 6.88         | 6.68         | 0\n",
       "0      | 4         | Neither | 2             | 1          | 2.9  | 0             | -0.04           | 8                | 18              | 12           | 26          | moderate         | moderate      | high   | 56       | 17        | Moderate   | 5      | 24.4       | 8.6         | 8.4          | 25.5       | 11          | 9            | 8.57         | 0\n",
       "0      | 4         | Neither | 2             | 1          | 3.4  | 3             | 0.78            | 9                | 4               | 5            | 9           | normal           | normal        | normal | 18       | 27        | Light      | 3      | 23.9       | 7.8         | 8            | 25.25      | 10          | 7            | 7.71         | 0\n",
       "0      | 4         | Neither | 2             | 1          | 3    | 2             | -0.86           | 6                | 7               | 8            | 14          | normal           | moderate      | normal | 29       | 25        | Moderate   | 5      | 25         | 8.6         | 8.1          | 25.5       | 8.5         | 5.75         | 7.43         | 0\n",
       "0      | 4         | Neither | 3             | 1          | 2.8  | 0             | -1.27           | 3                | 4               | 1            | 2           | normal           | normal        | normal | 7        | 18        | Light      | 6      | 23.8       | 8.1         | 8.4          | 25.25      | 10.75       | 9.25         | 8.64         | 0\n",
       "... (47 rows omitted)"
      ]
     },
     "execution_count": 14,
     "metadata": {},
     "output_type": "execute_result"
    }
   ],
   "source": [
    "SleepStudy.where('ClassYear', are.equal_to(4))"
   ]
  },
  {
   "cell_type": "code",
   "execution_count": 15,
   "metadata": {},
   "outputs": [
    {
     "data": {
      "text/html": [
       "<table border=\"1\" class=\"dataframe\">\n",
       "    <thead>\n",
       "        <tr>\n",
       "            <th>Gender</th> <th>ClassYear</th> <th>LarkOwl</th> <th>NumEarlyClass</th> <th>EarlyClass</th> <th>GPA</th> <th>ClassesMissed</th> <th>CognitionZscore</th> <th>PoorSleepQuality</th> <th>DepressionScore</th> <th>AnxietyScore</th> <th>StressScore</th> <th>DepressionStatus</th> <th>AnxietyStatus</th> <th>Stress</th> <th>DASScore</th> <th>Happiness</th> <th>AlcoholUse</th> <th>Drinks</th> <th>WeekdayBed</th> <th>WeekdayRise</th> <th>WeekdaySleep</th> <th>WeekendBed</th> <th>WeekendRise</th> <th>WeekendSleep</th> <th>AverageSleep</th> <th>AllNighter</th>\n",
       "        </tr>\n",
       "    </thead>\n",
       "    <tbody>\n",
       "        <tr>\n",
       "            <td>0     </td> <td>4        </td> <td>Owl    </td> <td>0            </td> <td>0         </td> <td>2.97</td> <td>12           </td> <td>0.38           </td> <td>18              </td> <td>18             </td> <td>18          </td> <td>9          </td> <td>moderate        </td> <td>severe       </td> <td>normal</td> <td>45      </td> <td>17       </td> <td>Light     </td> <td>3     </td> <td>27.44     </td> <td>6.55       </td> <td>3           </td> <td>28        </td> <td>12.59      </td> <td>10.09       </td> <td>5.02        </td> <td>0         </td>\n",
       "        </tr>\n",
       "        <tr>\n",
       "            <td>0     </td> <td>4        </td> <td>Owl    </td> <td>0            </td> <td>0         </td> <td>3.2 </td> <td>4            </td> <td>1.22           </td> <td>9               </td> <td>7              </td> <td>25          </td> <td>14         </td> <td>normal          </td> <td>severe       </td> <td>normal</td> <td>46      </td> <td>15       </td> <td>Moderate  </td> <td>4     </td> <td>25.9      </td> <td>8.67       </td> <td>6.09        </td> <td>23.75     </td> <td>9.5        </td> <td>7           </td> <td>6.35        </td> <td>0         </td>\n",
       "        </tr>\n",
       "        <tr>\n",
       "            <td>1     </td> <td>3        </td> <td>Owl    </td> <td>3            </td> <td>1         </td> <td>2.8 </td> <td>20           </td> <td>-0.57          </td> <td>15              </td> <td>6              </td> <td>5           </td> <td>10         </td> <td>normal          </td> <td>normal       </td> <td>normal</td> <td>21      </td> <td>19       </td> <td>Moderate  </td> <td>7     </td> <td>25.25     </td> <td>8.12       </td> <td>7.2         </td> <td>25.67     </td> <td>10.5       </td> <td>8           </td> <td>7.43        </td> <td>0         </td>\n",
       "        </tr>\n",
       "        <tr>\n",
       "            <td>1     </td> <td>2        </td> <td>Owl    </td> <td>0            </td> <td>0         </td> <td>3.07</td> <td>20           </td> <td>-0.62          </td> <td>9               </td> <td>23             </td> <td>5           </td> <td>16         </td> <td>severe          </td> <td>normal       </td> <td>high  </td> <td>44      </td> <td>24       </td> <td>Abstain   </td> <td>0     </td> <td>24.7      </td> <td>11.02      </td> <td>10.32       </td> <td>27.5      </td> <td>12.25      </td> <td>8.75        </td> <td>9.87        </td> <td>0         </td>\n",
       "        </tr>\n",
       "        <tr>\n",
       "            <td>1     </td> <td>2        </td> <td>Owl    </td> <td>4            </td> <td>1         </td> <td>3   </td> <td>10           </td> <td>0.16           </td> <td>5               </td> <td>14             </td> <td>13          </td> <td>14         </td> <td>moderate        </td> <td>moderate     </td> <td>normal</td> <td>41      </td> <td>28       </td> <td>Moderate  </td> <td>8     </td> <td>24.4      </td> <td>7.95       </td> <td>8.45        </td> <td>24        </td> <td>11.75      </td> <td>9.5         </td> <td>8.75        </td> <td>0         </td>\n",
       "        </tr>\n",
       "        <tr>\n",
       "            <td>1     </td> <td>3        </td> <td>Owl    </td> <td>0            </td> <td>0         </td> <td>3.5 </td> <td>2            </td> <td>0.47           </td> <td>6               </td> <td>9              </td> <td>5           </td> <td>19         </td> <td>normal          </td> <td>normal       </td> <td>high  </td> <td>33      </td> <td>24       </td> <td>Moderate  </td> <td>9     </td> <td>24.95     </td> <td>8.86       </td> <td>7.97        </td> <td>27        </td> <td>11.63      </td> <td>9.13        </td> <td>8.3         </td> <td>0         </td>\n",
       "        </tr>\n",
       "        <tr>\n",
       "            <td>1     </td> <td>1        </td> <td>Owl    </td> <td>1            </td> <td>1         </td> <td>3.4 </td> <td>2            </td> <td>0.04           </td> <td>8               </td> <td>2              </td> <td>2           </td> <td>3          </td> <td>normal          </td> <td>normal       </td> <td>normal</td> <td>7       </td> <td>30       </td> <td>Moderate  </td> <td>5     </td> <td>26.8      </td> <td>8.8        </td> <td>6.2         </td> <td>28.5      </td> <td>10.75      </td> <td>5.75        </td> <td>6.07        </td> <td>1         </td>\n",
       "        </tr>\n",
       "        <tr>\n",
       "            <td>0     </td> <td>2        </td> <td>Owl    </td> <td>0            </td> <td>0         </td> <td>3.4 </td> <td>2            </td> <td>0.53           </td> <td>11              </td> <td>25             </td> <td>10          </td> <td>24         </td> <td>severe          </td> <td>moderate     </td> <td>high  </td> <td>59      </td> <td>16       </td> <td>Moderate  </td> <td>5     </td> <td>25.2      </td> <td>10.37      </td> <td>9.97        </td> <td>27.25     </td> <td>11.5       </td> <td>6.25        </td> <td>8.9         </td> <td>1         </td>\n",
       "        </tr>\n",
       "        <tr>\n",
       "            <td>0     </td> <td>3        </td> <td>Owl    </td> <td>3            </td> <td>1         </td> <td>3.67</td> <td>14           </td> <td>-0.02          </td> <td>9               </td> <td>5              </td> <td>9           </td> <td>12         </td> <td>normal          </td> <td>moderate     </td> <td>normal</td> <td>26      </td> <td>32       </td> <td>Abstain   </td> <td>0     </td> <td>25.6      </td> <td>8.17       </td> <td>5.87        </td> <td>28.25     </td> <td>9.25       </td> <td>6.75        </td> <td>6.12        </td> <td>0         </td>\n",
       "        </tr>\n",
       "        <tr>\n",
       "            <td>0     </td> <td>2        </td> <td>Owl    </td> <td>2            </td> <td>1         </td> <td>2   </td> <td>1            </td> <td>0.48           </td> <td>4               </td> <td>8              </td> <td>2           </td> <td>0          </td> <td>normal          </td> <td>normal       </td> <td>normal</td> <td>10      </td> <td>22       </td> <td>Abstain   </td> <td>0     </td> <td>23.1      </td> <td>9.13       </td> <td>10.23       </td> <td>24.5      </td> <td>12         </td> <td>11          </td> <td>10.45       </td> <td>0         </td>\n",
       "        </tr>\n",
       "    </tbody>\n",
       "</table>\n",
       "<p>... (39 rows omitted)</p>"
      ],
      "text/plain": [
       "Gender | ClassYear | LarkOwl | NumEarlyClass | EarlyClass | GPA  | ClassesMissed | CognitionZscore | PoorSleepQuality | DepressionScore | AnxietyScore | StressScore | DepressionStatus | AnxietyStatus | Stress | DASScore | Happiness | AlcoholUse | Drinks | WeekdayBed | WeekdayRise | WeekdaySleep | WeekendBed | WeekendRise | WeekendSleep | AverageSleep | AllNighter\n",
       "0      | 4         | Owl     | 0             | 0          | 2.97 | 12            | 0.38            | 18               | 18              | 18           | 9           | moderate         | severe        | normal | 45       | 17        | Light      | 3      | 27.44      | 6.55        | 3            | 28         | 12.59       | 10.09        | 5.02         | 0\n",
       "0      | 4         | Owl     | 0             | 0          | 3.2  | 4             | 1.22            | 9                | 7               | 25           | 14          | normal           | severe        | normal | 46       | 15        | Moderate   | 4      | 25.9       | 8.67        | 6.09         | 23.75      | 9.5         | 7            | 6.35         | 0\n",
       "1      | 3         | Owl     | 3             | 1          | 2.8  | 20            | -0.57           | 15               | 6               | 5            | 10          | normal           | normal        | normal | 21       | 19        | Moderate   | 7      | 25.25      | 8.12        | 7.2          | 25.67      | 10.5        | 8            | 7.43         | 0\n",
       "1      | 2         | Owl     | 0             | 0          | 3.07 | 20            | -0.62           | 9                | 23              | 5            | 16          | severe           | normal        | high   | 44       | 24        | Abstain    | 0      | 24.7       | 11.02       | 10.32        | 27.5       | 12.25       | 8.75         | 9.87         | 0\n",
       "1      | 2         | Owl     | 4             | 1          | 3    | 10            | 0.16            | 5                | 14              | 13           | 14          | moderate         | moderate      | normal | 41       | 28        | Moderate   | 8      | 24.4       | 7.95        | 8.45         | 24         | 11.75       | 9.5          | 8.75         | 0\n",
       "1      | 3         | Owl     | 0             | 0          | 3.5  | 2             | 0.47            | 6                | 9               | 5            | 19          | normal           | normal        | high   | 33       | 24        | Moderate   | 9      | 24.95      | 8.86        | 7.97         | 27         | 11.63       | 9.13         | 8.3          | 0\n",
       "1      | 1         | Owl     | 1             | 1          | 3.4  | 2             | 0.04            | 8                | 2               | 2            | 3           | normal           | normal        | normal | 7        | 30        | Moderate   | 5      | 26.8       | 8.8         | 6.2          | 28.5       | 10.75       | 5.75         | 6.07         | 1\n",
       "0      | 2         | Owl     | 0             | 0          | 3.4  | 2             | 0.53            | 11               | 25              | 10           | 24          | severe           | moderate      | high   | 59       | 16        | Moderate   | 5      | 25.2       | 10.37       | 9.97         | 27.25      | 11.5        | 6.25         | 8.9          | 1\n",
       "0      | 3         | Owl     | 3             | 1          | 3.67 | 14            | -0.02           | 9                | 5               | 9            | 12          | normal           | moderate      | normal | 26       | 32        | Abstain    | 0      | 25.6       | 8.17        | 5.87         | 28.25      | 9.25        | 6.75         | 6.12         | 0\n",
       "0      | 2         | Owl     | 2             | 1          | 2    | 1             | 0.48            | 4                | 8               | 2            | 0           | normal           | normal        | normal | 10       | 22        | Abstain    | 0      | 23.1       | 9.13        | 10.23        | 24.5       | 12          | 11           | 10.45        | 0\n",
       "... (39 rows omitted)"
      ]
     },
     "execution_count": 15,
     "metadata": {},
     "output_type": "execute_result"
    }
   ],
   "source": [
    "SleepStudy.where('LarkOwl', 'Owl')"
   ]
  },
  {
   "cell_type": "code",
   "execution_count": 16,
   "metadata": {},
   "outputs": [
    {
     "data": {
      "text/html": [
       "<table border=\"1\" class=\"dataframe\">\n",
       "    <thead>\n",
       "        <tr>\n",
       "            <th>Gender</th> <th>ClassYear</th> <th>LarkOwl</th> <th>NumEarlyClass</th> <th>EarlyClass</th> <th>GPA</th> <th>ClassesMissed</th> <th>CognitionZscore</th> <th>PoorSleepQuality</th> <th>DepressionScore</th> <th>AnxietyScore</th> <th>StressScore</th> <th>DepressionStatus</th> <th>AnxietyStatus</th> <th>Stress</th> <th>DASScore</th> <th>Happiness</th> <th>AlcoholUse</th> <th>Drinks</th> <th>WeekdayBed</th> <th>WeekdayRise</th> <th>WeekdaySleep</th> <th>WeekendBed</th> <th>WeekendRise</th> <th>WeekendSleep</th> <th>AverageSleep</th> <th>AllNighter</th>\n",
       "        </tr>\n",
       "    </thead>\n",
       "    <tbody>\n",
       "        <tr>\n",
       "            <td>0     </td> <td>4        </td> <td>Neither</td> <td>0            </td> <td>0         </td> <td>3.6 </td> <td>0            </td> <td>-0.26          </td> <td>4               </td> <td>4              </td> <td>3           </td> <td>8          </td> <td>normal          </td> <td>normal       </td> <td>normal</td> <td>15      </td> <td>28       </td> <td>Moderate  </td> <td>10    </td> <td>25.75     </td> <td>8.7        </td> <td>7.7         </td> <td>25.75     </td> <td>9.5        </td> <td>5.88        </td> <td>7.18        </td> <td>0         </td>\n",
       "        </tr>\n",
       "        <tr>\n",
       "            <td>0     </td> <td>4        </td> <td>Neither</td> <td>2            </td> <td>1         </td> <td>3.24</td> <td>0            </td> <td>1.39           </td> <td>6               </td> <td>1              </td> <td>0           </td> <td>3          </td> <td>normal          </td> <td>normal       </td> <td>normal</td> <td>4       </td> <td>25       </td> <td>Moderate  </td> <td>6     </td> <td>25.7      </td> <td>8.2        </td> <td>6.8         </td> <td>26        </td> <td>10         </td> <td>7.25        </td> <td>6.93        </td> <td>0         </td>\n",
       "        </tr>\n",
       "        <tr>\n",
       "            <td>0     </td> <td>1        </td> <td>Lark   </td> <td>5            </td> <td>1         </td> <td>3.76</td> <td>0            </td> <td>1.39           </td> <td>9               </td> <td>1              </td> <td>4           </td> <td>6          </td> <td>normal          </td> <td>normal       </td> <td>normal</td> <td>11      </td> <td>32       </td> <td>Light     </td> <td>2     </td> <td>23.5      </td> <td>7.17       </td> <td>6.77        </td> <td>27        </td> <td>8          </td> <td>7.25        </td> <td>6.9         </td> <td>0         </td>\n",
       "        </tr>\n",
       "        <tr>\n",
       "            <td>0     </td> <td>4        </td> <td>Owl    </td> <td>0            </td> <td>0         </td> <td>3.2 </td> <td>4            </td> <td>1.22           </td> <td>9               </td> <td>7              </td> <td>25          </td> <td>14         </td> <td>normal          </td> <td>severe       </td> <td>normal</td> <td>46      </td> <td>15       </td> <td>Moderate  </td> <td>4     </td> <td>25.9      </td> <td>8.67       </td> <td>6.09        </td> <td>23.75     </td> <td>9.5        </td> <td>7           </td> <td>6.35        </td> <td>0         </td>\n",
       "        </tr>\n",
       "        <tr>\n",
       "            <td>1     </td> <td>4        </td> <td>Neither</td> <td>0            </td> <td>0         </td> <td>3.5 </td> <td>0            </td> <td>-0.04          </td> <td>6               </td> <td>14             </td> <td>8           </td> <td>28         </td> <td>moderate        </td> <td>moderate     </td> <td>high  </td> <td>50      </td> <td>22       </td> <td>Abstain   </td> <td>0     </td> <td>23.8      </td> <td>8.95       </td> <td>9.05        </td> <td>26        </td> <td>10.75      </td> <td>9           </td> <td>9.04        </td> <td>0         </td>\n",
       "        </tr>\n",
       "        <tr>\n",
       "            <td>1     </td> <td>2        </td> <td>Lark   </td> <td>2            </td> <td>1         </td> <td>3.35</td> <td>2            </td> <td>0.41           </td> <td>2               </td> <td>1              </td> <td>0           </td> <td>1          </td> <td>normal          </td> <td>normal       </td> <td>normal</td> <td>2       </td> <td>25       </td> <td>Moderate  </td> <td>6     </td> <td>25.35     </td> <td>8.48       </td> <td>7.73        </td> <td>25.63     </td> <td>10.13      </td> <td>7           </td> <td>7.52        </td> <td>1         </td>\n",
       "        </tr>\n",
       "        <tr>\n",
       "            <td>0     </td> <td>2        </td> <td>Lark   </td> <td>0            </td> <td>0         </td> <td>3   </td> <td>0            </td> <td>-0.59          </td> <td>10              </td> <td>2              </td> <td>2           </td> <td>3          </td> <td>normal          </td> <td>normal       </td> <td>normal</td> <td>7       </td> <td>29       </td> <td>Light     </td> <td>3     </td> <td>23.9      </td> <td>9.07       </td> <td>9.02        </td> <td>25.13     </td> <td>9.75       </td> <td>9           </td> <td>9.01        </td> <td>0         </td>\n",
       "        </tr>\n",
       "        <tr>\n",
       "            <td>0     </td> <td>1        </td> <td>Neither</td> <td>2            </td> <td>1         </td> <td>4   </td> <td>0            </td> <td>1.03           </td> <td>5               </td> <td>12             </td> <td>16          </td> <td>20         </td> <td>moderate        </td> <td>severe       </td> <td>high  </td> <td>48      </td> <td>29       </td> <td>Light     </td> <td>3     </td> <td>24.4      </td> <td>8.75       </td> <td>8.25        </td> <td>24        </td> <td>9          </td> <td>9.25        </td> <td>8.54        </td> <td>0         </td>\n",
       "        </tr>\n",
       "        <tr>\n",
       "            <td>1     </td> <td>2        </td> <td>Neither</td> <td>1            </td> <td>1         </td> <td>3.7 </td> <td>0            </td> <td>0.06           </td> <td>11              </td> <td>2              </td> <td>12          </td> <td>13         </td> <td>normal          </td> <td>moderate     </td> <td>normal</td> <td>27      </td> <td>14       </td> <td>Moderate  </td> <td>10    </td> <td>25        </td> <td>8.53       </td> <td>8.23        </td> <td>25.25     </td> <td>10.75      </td> <td>7.75        </td> <td>8.09        </td> <td>0         </td>\n",
       "        </tr>\n",
       "        <tr>\n",
       "            <td>1     </td> <td>2        </td> <td>Neither</td> <td>0            </td> <td>0         </td> <td>3   </td> <td>0            </td> <td>-0.47          </td> <td>8               </td> <td>2              </td> <td>8           </td> <td>11         </td> <td>normal          </td> <td>moderate     </td> <td>normal</td> <td>21      </td> <td>24       </td> <td>Moderate  </td> <td>10    </td> <td>25.3      </td> <td>9.8        </td> <td>8.4         </td> <td>26.5      </td> <td>10.75      </td> <td>8.5         </td> <td>8.43        </td> <td>0         </td>\n",
       "        </tr>\n",
       "    </tbody>\n",
       "</table>\n",
       "<p>... (191 rows omitted)</p>"
      ],
      "text/plain": [
       "Gender | ClassYear | LarkOwl | NumEarlyClass | EarlyClass | GPA  | ClassesMissed | CognitionZscore | PoorSleepQuality | DepressionScore | AnxietyScore | StressScore | DepressionStatus | AnxietyStatus | Stress | DASScore | Happiness | AlcoholUse | Drinks | WeekdayBed | WeekdayRise | WeekdaySleep | WeekendBed | WeekendRise | WeekendSleep | AverageSleep | AllNighter\n",
       "0      | 4         | Neither | 0             | 0          | 3.6  | 0             | -0.26           | 4                | 4               | 3            | 8           | normal           | normal        | normal | 15       | 28        | Moderate   | 10     | 25.75      | 8.7         | 7.7          | 25.75      | 9.5         | 5.88         | 7.18         | 0\n",
       "0      | 4         | Neither | 2             | 1          | 3.24 | 0             | 1.39            | 6                | 1               | 0            | 3           | normal           | normal        | normal | 4        | 25        | Moderate   | 6      | 25.7       | 8.2         | 6.8          | 26         | 10          | 7.25         | 6.93         | 0\n",
       "0      | 1         | Lark    | 5             | 1          | 3.76 | 0             | 1.39            | 9                | 1               | 4            | 6           | normal           | normal        | normal | 11       | 32        | Light      | 2      | 23.5       | 7.17        | 6.77         | 27         | 8           | 7.25         | 6.9          | 0\n",
       "0      | 4         | Owl     | 0             | 0          | 3.2  | 4             | 1.22            | 9                | 7               | 25           | 14          | normal           | severe        | normal | 46       | 15        | Moderate   | 4      | 25.9       | 8.67        | 6.09         | 23.75      | 9.5         | 7            | 6.35         | 0\n",
       "1      | 4         | Neither | 0             | 0          | 3.5  | 0             | -0.04           | 6                | 14              | 8            | 28          | moderate         | moderate      | high   | 50       | 22        | Abstain    | 0      | 23.8       | 8.95        | 9.05         | 26         | 10.75       | 9            | 9.04         | 0\n",
       "1      | 2         | Lark    | 2             | 1          | 3.35 | 2             | 0.41            | 2                | 1               | 0            | 1           | normal           | normal        | normal | 2        | 25        | Moderate   | 6      | 25.35      | 8.48        | 7.73         | 25.63      | 10.13       | 7            | 7.52         | 1\n",
       "0      | 2         | Lark    | 0             | 0          | 3    | 0             | -0.59           | 10               | 2               | 2            | 3           | normal           | normal        | normal | 7        | 29        | Light      | 3      | 23.9       | 9.07        | 9.02         | 25.13      | 9.75        | 9            | 9.01         | 0\n",
       "0      | 1         | Neither | 2             | 1          | 4    | 0             | 1.03            | 5                | 12              | 16           | 20          | moderate         | severe        | high   | 48       | 29        | Light      | 3      | 24.4       | 8.75        | 8.25         | 24         | 9           | 9.25         | 8.54         | 0\n",
       "1      | 2         | Neither | 1             | 1          | 3.7  | 0             | 0.06            | 11               | 2               | 12           | 13          | normal           | moderate      | normal | 27       | 14        | Moderate   | 10     | 25         | 8.53        | 8.23         | 25.25      | 10.75       | 7.75         | 8.09         | 0\n",
       "1      | 2         | Neither | 0             | 0          | 3    | 0             | -0.47           | 8                | 2               | 8            | 11          | normal           | moderate      | normal | 21       | 24        | Moderate   | 10     | 25.3       | 9.8         | 8.4          | 26.5       | 10.75       | 8.5          | 8.43         | 0\n",
       "... (191 rows omitted)"
      ]
     },
     "execution_count": 16,
     "metadata": {},
     "output_type": "execute_result"
    }
   ],
   "source": [
    "SleepStudy.where('GPA', are.above(2.99))"
   ]
  },
  {
   "cell_type": "code",
   "execution_count": 17,
   "metadata": {},
   "outputs": [
    {
     "data": {
      "text/html": [
       "<table border=\"1\" class=\"dataframe\">\n",
       "    <thead>\n",
       "        <tr>\n",
       "            <th>Gender</th> <th>ClassYear</th> <th>LarkOwl</th> <th>NumEarlyClass</th> <th>EarlyClass</th> <th>GPA</th> <th>ClassesMissed</th> <th>CognitionZscore</th> <th>PoorSleepQuality</th> <th>DepressionScore</th> <th>AnxietyScore</th> <th>StressScore</th> <th>DepressionStatus</th> <th>AnxietyStatus</th> <th>Stress</th> <th>DASScore</th> <th>Happiness</th> <th>AlcoholUse</th> <th>Drinks</th> <th>WeekdayBed</th> <th>WeekdayRise</th> <th>WeekdaySleep</th> <th>WeekendBed</th> <th>WeekendRise</th> <th>WeekendSleep</th> <th>AverageSleep</th> <th>AllNighter</th>\n",
       "        </tr>\n",
       "    </thead>\n",
       "    <tbody>\n",
       "        <tr>\n",
       "            <td>0     </td> <td>4        </td> <td>Owl    </td> <td>0            </td> <td>0         </td> <td>2.97</td> <td>12           </td> <td>0.38           </td> <td>18              </td> <td>18             </td> <td>18          </td> <td>9          </td> <td>moderate        </td> <td>severe       </td> <td>normal</td> <td>45      </td> <td>17       </td> <td>Light     </td> <td>3     </td> <td>27.44     </td> <td>6.55       </td> <td>3           </td> <td>28        </td> <td>12.59      </td> <td>10.09       </td> <td>5.02        </td> <td>0         </td>\n",
       "        </tr>\n",
       "        <tr>\n",
       "            <td>1     </td> <td>1        </td> <td>Neither</td> <td>1            </td> <td>1         </td> <td>3.4 </td> <td>1            </td> <td>1.37           </td> <td>10              </td> <td>4              </td> <td>8           </td> <td>8          </td> <td>normal          </td> <td>moderate     </td> <td>normal</td> <td>20      </td> <td>28       </td> <td>Abstain   </td> <td>0     </td> <td>27        </td> <td>8.23       </td> <td>4.79        </td> <td>26.5      </td> <td>10.25      </td> <td>8.25        </td> <td>5.78        </td> <td>1         </td>\n",
       "        </tr>\n",
       "        <tr>\n",
       "            <td>0     </td> <td>2        </td> <td>Owl    </td> <td>2            </td> <td>1         </td> <td>3.12</td> <td>15           </td> <td>-1.45          </td> <td>11              </td> <td>8              </td> <td>20          </td> <td>13         </td> <td>normal          </td> <td>severe       </td> <td>normal</td> <td>41      </td> <td>30       </td> <td>Abstain   </td> <td>0     </td> <td>27.67     </td> <td>10.52      </td> <td>3.63        </td> <td>27.5      </td> <td>12.25      </td> <td>8.25        </td> <td>4.95        </td> <td>1         </td>\n",
       "        </tr>\n",
       "        <tr>\n",
       "            <td>1     </td> <td>2        </td> <td>Neither</td> <td>5            </td> <td>1         </td> <td>3.5 </td> <td>2            </td> <td>0.26           </td> <td>5               </td> <td>5              </td> <td>12          </td> <td>22         </td> <td>normal          </td> <td>moderate     </td> <td>high  </td> <td>39      </td> <td>28       </td> <td>Abstain   </td> <td>0     </td> <td>26.5      </td> <td>7.7        </td> <td>4.3         </td> <td>26        </td> <td>11.5       </td> <td>10          </td> <td>5.93        </td> <td>1         </td>\n",
       "        </tr>\n",
       "        <tr>\n",
       "            <td>0     </td> <td>4        </td> <td>Neither</td> <td>2            </td> <td>1         </td> <td>3.8 </td> <td>4            </td> <td>0.49           </td> <td>9               </td> <td>14             </td> <td>1           </td> <td>13         </td> <td>moderate        </td> <td>normal       </td> <td>normal</td> <td>28      </td> <td>19       </td> <td>Light     </td> <td>4     </td> <td>25.7      </td> <td>8.75       </td> <td>4.45        </td> <td>26.5      </td> <td>11         </td> <td>9           </td> <td>5.75        </td> <td>0         </td>\n",
       "        </tr>\n",
       "        <tr>\n",
       "            <td>1     </td> <td>2        </td> <td>Lark   </td> <td>3            </td> <td>1         </td> <td>3.24</td> <td>6            </td> <td>-0.29          </td> <td>5               </td> <td>4              </td> <td>11          </td> <td>16         </td> <td>normal          </td> <td>moderate     </td> <td>high  </td> <td>31      </td> <td>0        </td> <td>Moderate  </td> <td>12    </td> <td>26.8      </td> <td>8.45       </td> <td>5.95        </td> <td>25.5      </td> <td>8.25       </td> <td>6           </td> <td>5.96        </td> <td>1         </td>\n",
       "        </tr>\n",
       "        <tr>\n",
       "            <td>0     </td> <td>2        </td> <td>Neither</td> <td>3            </td> <td>1         </td> <td>3.5 </td> <td>0            </td> <td>-0.72          </td> <td>6               </td> <td>2              </td> <td>4           </td> <td>8          </td> <td>normal          </td> <td>normal       </td> <td>normal</td> <td>14      </td> <td>30       </td> <td>Light     </td> <td>2     </td> <td>26.3      </td> <td>7.35       </td> <td>5.35        </td> <td>26        </td> <td>9.13       </td> <td>6.38        </td> <td>5.64        </td> <td>0         </td>\n",
       "        </tr>\n",
       "    </tbody>\n",
       "</table>"
      ],
      "text/plain": [
       "Gender | ClassYear | LarkOwl | NumEarlyClass | EarlyClass | GPA  | ClassesMissed | CognitionZscore | PoorSleepQuality | DepressionScore | AnxietyScore | StressScore | DepressionStatus | AnxietyStatus | Stress | DASScore | Happiness | AlcoholUse | Drinks | WeekdayBed | WeekdayRise | WeekdaySleep | WeekendBed | WeekendRise | WeekendSleep | AverageSleep | AllNighter\n",
       "0      | 4         | Owl     | 0             | 0          | 2.97 | 12            | 0.38            | 18               | 18              | 18           | 9           | moderate         | severe        | normal | 45       | 17        | Light      | 3      | 27.44      | 6.55        | 3            | 28         | 12.59       | 10.09        | 5.02         | 0\n",
       "1      | 1         | Neither | 1             | 1          | 3.4  | 1             | 1.37            | 10               | 4               | 8            | 8           | normal           | moderate      | normal | 20       | 28        | Abstain    | 0      | 27         | 8.23        | 4.79         | 26.5       | 10.25       | 8.25         | 5.78         | 1\n",
       "0      | 2         | Owl     | 2             | 1          | 3.12 | 15            | -1.45           | 11               | 8               | 20           | 13          | normal           | severe        | normal | 41       | 30        | Abstain    | 0      | 27.67      | 10.52       | 3.63         | 27.5       | 12.25       | 8.25         | 4.95         | 1\n",
       "1      | 2         | Neither | 5             | 1          | 3.5  | 2             | 0.26            | 5                | 5               | 12           | 22          | normal           | moderate      | high   | 39       | 28        | Abstain    | 0      | 26.5       | 7.7         | 4.3          | 26         | 11.5        | 10           | 5.93         | 1\n",
       "0      | 4         | Neither | 2             | 1          | 3.8  | 4             | 0.49            | 9                | 14              | 1            | 13          | moderate         | normal        | normal | 28       | 19        | Light      | 4      | 25.7       | 8.75        | 4.45         | 26.5       | 11          | 9            | 5.75         | 0\n",
       "1      | 2         | Lark    | 3             | 1          | 3.24 | 6             | -0.29           | 5                | 4               | 11           | 16          | normal           | moderate      | high   | 31       | 0         | Moderate   | 12     | 26.8       | 8.45        | 5.95         | 25.5       | 8.25        | 6            | 5.96         | 1\n",
       "0      | 2         | Neither | 3             | 1          | 3.5  | 0             | -0.72           | 6                | 2               | 4            | 8           | normal           | normal        | normal | 14       | 30        | Light      | 2      | 26.3       | 7.35        | 5.35         | 26         | 9.13        | 6.38         | 5.64         | 0"
      ]
     },
     "execution_count": 17,
     "metadata": {},
     "output_type": "execute_result"
    }
   ],
   "source": [
    "SleepStudy.where('AverageSleep', are.below(6))"
   ]
  },
  {
   "cell_type": "code",
   "execution_count": 18,
   "metadata": {},
   "outputs": [
    {
     "data": {
      "text/html": [
       "<table border=\"1\" class=\"dataframe\">\n",
       "    <thead>\n",
       "        <tr>\n",
       "            <th>Gender</th> <th>ClassYear</th> <th>LarkOwl</th> <th>NumEarlyClass</th> <th>EarlyClass</th> <th>GPA</th> <th>ClassesMissed</th> <th>CognitionZscore</th> <th>PoorSleepQuality</th> <th>DepressionScore</th> <th>AnxietyScore</th> <th>StressScore</th> <th>DepressionStatus</th> <th>AnxietyStatus</th> <th>Stress</th> <th>DASScore</th> <th>Happiness</th> <th>AlcoholUse</th> <th>Drinks</th> <th>WeekdayBed</th> <th>WeekdayRise</th> <th>WeekdaySleep</th> <th>WeekendBed</th> <th>WeekendRise</th> <th>WeekendSleep</th> <th>AverageSleep</th> <th>AllNighter</th>\n",
       "        </tr>\n",
       "    </thead>\n",
       "    <tbody>\n",
       "        <tr>\n",
       "            <td>0     </td> <td>4        </td> <td>Neither</td> <td>0            </td> <td>0         </td> <td>3.6 </td> <td>0            </td> <td>-0.26          </td> <td>4               </td> <td>4              </td> <td>3           </td> <td>8          </td> <td>normal          </td> <td>normal       </td> <td>normal</td> <td>15      </td> <td>28       </td> <td>Moderate  </td> <td>10    </td> <td>25.75     </td> <td>8.7        </td> <td>7.7         </td> <td>25.75     </td> <td>9.5        </td> <td>5.88        </td> <td>7.18        </td> <td>0         </td>\n",
       "        </tr>\n",
       "        <tr>\n",
       "            <td>1     </td> <td>2        </td> <td>Lark   </td> <td>2            </td> <td>1         </td> <td>3.35</td> <td>2            </td> <td>0.41           </td> <td>2               </td> <td>1              </td> <td>0           </td> <td>1          </td> <td>normal          </td> <td>normal       </td> <td>normal</td> <td>2       </td> <td>25       </td> <td>Moderate  </td> <td>6     </td> <td>25.35     </td> <td>8.48       </td> <td>7.73        </td> <td>25.63     </td> <td>10.13      </td> <td>7           </td> <td>7.52        </td> <td>1         </td>\n",
       "        </tr>\n",
       "        <tr>\n",
       "            <td>0     </td> <td>1        </td> <td>Neither</td> <td>2            </td> <td>1         </td> <td>4   </td> <td>0            </td> <td>1.03           </td> <td>5               </td> <td>12             </td> <td>16          </td> <td>20         </td> <td>moderate        </td> <td>severe       </td> <td>high  </td> <td>48      </td> <td>29       </td> <td>Light     </td> <td>3     </td> <td>24.4      </td> <td>8.75       </td> <td>8.25        </td> <td>24        </td> <td>9          </td> <td>9.25        </td> <td>8.54        </td> <td>0         </td>\n",
       "        </tr>\n",
       "        <tr>\n",
       "            <td>1     </td> <td>2        </td> <td>Neither</td> <td>1            </td> <td>1         </td> <td>3.7 </td> <td>0            </td> <td>0.06           </td> <td>11              </td> <td>2              </td> <td>12          </td> <td>13         </td> <td>normal          </td> <td>moderate     </td> <td>normal</td> <td>27      </td> <td>14       </td> <td>Moderate  </td> <td>10    </td> <td>25        </td> <td>8.53       </td> <td>8.23        </td> <td>25.25     </td> <td>10.75      </td> <td>7.75        </td> <td>8.09        </td> <td>0         </td>\n",
       "        </tr>\n",
       "        <tr>\n",
       "            <td>1     </td> <td>2        </td> <td>Neither</td> <td>0            </td> <td>0         </td> <td>3   </td> <td>0            </td> <td>-0.47          </td> <td>8               </td> <td>2              </td> <td>8           </td> <td>11         </td> <td>normal          </td> <td>moderate     </td> <td>normal</td> <td>21      </td> <td>24       </td> <td>Moderate  </td> <td>10    </td> <td>25.3      </td> <td>9.8        </td> <td>8.4         </td> <td>26.5      </td> <td>10.75      </td> <td>8.5         </td> <td>8.43        </td> <td>0         </td>\n",
       "        </tr>\n",
       "        <tr>\n",
       "            <td>1     </td> <td>3        </td> <td>Neither</td> <td>2            </td> <td>1         </td> <td>3.3 </td> <td>6            </td> <td>0.04           </td> <td>7               </td> <td>3              </td> <td>3           </td> <td>2          </td> <td>normal          </td> <td>normal       </td> <td>normal</td> <td>8       </td> <td>20       </td> <td>Light     </td> <td>5     </td> <td>25.6      </td> <td>8.73       </td> <td>7.03        </td> <td>27.25     </td> <td>11.5       </td> <td>8.5         </td> <td>7.45        </td> <td>0         </td>\n",
       "        </tr>\n",
       "        <tr>\n",
       "            <td>0     </td> <td>3        </td> <td>Neither</td> <td>5            </td> <td>1         </td> <td>3.5 </td> <td>1            </td> <td>-0.4           </td> <td>4               </td> <td>2              </td> <td>0           </td> <td>3          </td> <td>normal          </td> <td>normal       </td> <td>normal</td> <td>5       </td> <td>28       </td> <td>Abstain   </td> <td>0     </td> <td>22.9      </td> <td>6.9        </td> <td>8.4         </td> <td>22.25     </td> <td>9.5        </td> <td>10.25       </td> <td>8.93        </td> <td>0         </td>\n",
       "        </tr>\n",
       "        <tr>\n",
       "            <td>0     </td> <td>3        </td> <td>Lark   </td> <td>0            </td> <td>0         </td> <td>3.4 </td> <td>0            </td> <td>0.4            </td> <td>4               </td> <td>3              </td> <td>1           </td> <td>11         </td> <td>normal          </td> <td>normal       </td> <td>normal</td> <td>15      </td> <td>23       </td> <td>Light     </td> <td>2     </td> <td>24        </td> <td>8.77       </td> <td>8.67        </td> <td>25.25     </td> <td>10.5       </td> <td>9.5         </td> <td>8.9         </td> <td>0         </td>\n",
       "        </tr>\n",
       "        <tr>\n",
       "            <td>0     </td> <td>2        </td> <td>Neither</td> <td>2            </td> <td>1         </td> <td>2.8 </td> <td>5            </td> <td>-0.8           </td> <td>8               </td> <td>16             </td> <td>7           </td> <td>21         </td> <td>moderate        </td> <td>normal       </td> <td>high  </td> <td>44      </td> <td>25       </td> <td>Moderate  </td> <td>4     </td> <td>22.9      </td> <td>6.85       </td> <td>8.25        </td> <td>23.75     </td> <td>9.09       </td> <td>8.59        </td> <td>8.34        </td> <td>0         </td>\n",
       "        </tr>\n",
       "        <tr>\n",
       "            <td>1     </td> <td>2        </td> <td>Lark   </td> <td>5            </td> <td>1         </td> <td>3   </td> <td>0            </td> <td>-1.18          </td> <td>8               </td> <td>23             </td> <td>12          </td> <td>20         </td> <td>severe          </td> <td>moderate     </td> <td>high  </td> <td>55      </td> <td>24       </td> <td>Heavy     </td> <td>12    </td> <td>24        </td> <td>7.9        </td> <td>8.5         </td> <td>25.5      </td> <td>10.5       </td> <td>7.5         </td> <td>8.22        </td> <td>0         </td>\n",
       "        </tr>\n",
       "    </tbody>\n",
       "</table>\n",
       "<p>... (174 rows omitted)</p>"
      ],
      "text/plain": [
       "Gender | ClassYear | LarkOwl | NumEarlyClass | EarlyClass | GPA  | ClassesMissed | CognitionZscore | PoorSleepQuality | DepressionScore | AnxietyScore | StressScore | DepressionStatus | AnxietyStatus | Stress | DASScore | Happiness | AlcoholUse | Drinks | WeekdayBed | WeekdayRise | WeekdaySleep | WeekendBed | WeekendRise | WeekendSleep | AverageSleep | AllNighter\n",
       "0      | 4         | Neither | 0             | 0          | 3.6  | 0             | -0.26           | 4                | 4               | 3            | 8           | normal           | normal        | normal | 15       | 28        | Moderate   | 10     | 25.75      | 8.7         | 7.7          | 25.75      | 9.5         | 5.88         | 7.18         | 0\n",
       "1      | 2         | Lark    | 2             | 1          | 3.35 | 2             | 0.41            | 2                | 1               | 0            | 1           | normal           | normal        | normal | 2        | 25        | Moderate   | 6      | 25.35      | 8.48        | 7.73         | 25.63      | 10.13       | 7            | 7.52         | 1\n",
       "0      | 1         | Neither | 2             | 1          | 4    | 0             | 1.03            | 5                | 12              | 16           | 20          | moderate         | severe        | high   | 48       | 29        | Light      | 3      | 24.4       | 8.75        | 8.25         | 24         | 9           | 9.25         | 8.54         | 0\n",
       "1      | 2         | Neither | 1             | 1          | 3.7  | 0             | 0.06            | 11               | 2               | 12           | 13          | normal           | moderate      | normal | 27       | 14        | Moderate   | 10     | 25         | 8.53        | 8.23         | 25.25      | 10.75       | 7.75         | 8.09         | 0\n",
       "1      | 2         | Neither | 0             | 0          | 3    | 0             | -0.47           | 8                | 2               | 8            | 11          | normal           | moderate      | normal | 21       | 24        | Moderate   | 10     | 25.3       | 9.8         | 8.4          | 26.5       | 10.75       | 8.5          | 8.43         | 0\n",
       "1      | 3         | Neither | 2             | 1          | 3.3  | 6             | 0.04            | 7                | 3               | 3            | 2           | normal           | normal        | normal | 8        | 20        | Light      | 5      | 25.6       | 8.73        | 7.03         | 27.25      | 11.5        | 8.5          | 7.45         | 0\n",
       "0      | 3         | Neither | 5             | 1          | 3.5  | 1             | -0.4            | 4                | 2               | 0            | 3           | normal           | normal        | normal | 5        | 28        | Abstain    | 0      | 22.9       | 6.9         | 8.4          | 22.25      | 9.5         | 10.25        | 8.93         | 0\n",
       "0      | 3         | Lark    | 0             | 0          | 3.4  | 0             | 0.4             | 4                | 3               | 1            | 11          | normal           | normal        | normal | 15       | 23        | Light      | 2      | 24         | 8.77        | 8.67         | 25.25      | 10.5        | 9.5          | 8.9          | 0\n",
       "0      | 2         | Neither | 2             | 1          | 2.8  | 5             | -0.8            | 8                | 16              | 7            | 21          | moderate         | normal        | high   | 44       | 25        | Moderate   | 4      | 22.9       | 6.85        | 8.25         | 23.75      | 9.09        | 8.59         | 8.34         | 0\n",
       "1      | 2         | Lark    | 5             | 1          | 3    | 0             | -1.18           | 8                | 23              | 12           | 20          | severe           | moderate      | high   | 55       | 24        | Heavy      | 12     | 24         | 7.9         | 8.5          | 25.5       | 10.5        | 7.5          | 8.22         | 0\n",
       "... (174 rows omitted)"
      ]
     },
     "execution_count": 18,
     "metadata": {},
     "output_type": "execute_result"
    }
   ],
   "source": [
    "SleepStudy.where('AverageSleep', are.between(7,9))"
   ]
  },
  {
   "cell_type": "markdown",
   "metadata": {},
   "source": [
    "### Create and add a column or columns to a Table"
   ]
  },
  {
   "cell_type": "code",
   "execution_count": 19,
   "metadata": {},
   "outputs": [
    {
     "data": {
      "text/html": [
       "<table border=\"1\" class=\"dataframe\">\n",
       "    <thead>\n",
       "        <tr>\n",
       "            <th>Count by 1</th>\n",
       "        </tr>\n",
       "    </thead>\n",
       "    <tbody>\n",
       "        <tr>\n",
       "            <td>1         </td>\n",
       "        </tr>\n",
       "        <tr>\n",
       "            <td>2         </td>\n",
       "        </tr>\n",
       "        <tr>\n",
       "            <td>3         </td>\n",
       "        </tr>\n",
       "        <tr>\n",
       "            <td>4         </td>\n",
       "        </tr>\n",
       "        <tr>\n",
       "            <td>5         </td>\n",
       "        </tr>\n",
       "        <tr>\n",
       "            <td>6         </td>\n",
       "        </tr>\n",
       "        <tr>\n",
       "            <td>7         </td>\n",
       "        </tr>\n",
       "        <tr>\n",
       "            <td>8         </td>\n",
       "        </tr>\n",
       "        <tr>\n",
       "            <td>9         </td>\n",
       "        </tr>\n",
       "        <tr>\n",
       "            <td>10        </td>\n",
       "        </tr>\n",
       "    </tbody>\n",
       "</table>"
      ],
      "text/plain": [
       "Count by 1\n",
       "1\n",
       "2\n",
       "3\n",
       "4\n",
       "5\n",
       "6\n",
       "7\n",
       "8\n",
       "9\n",
       "10"
      ]
     },
     "execution_count": 19,
     "metadata": {},
     "output_type": "execute_result"
    }
   ],
   "source": [
    "First_Multiples = Table().with_column('Count by 1', np.arange(1, 11, 1))\n",
    "First_Multiples"
   ]
  },
  {
   "cell_type": "code",
   "execution_count": 20,
   "metadata": {},
   "outputs": [
    {
     "data": {
      "text/html": [
       "<table border=\"1\" class=\"dataframe\">\n",
       "    <thead>\n",
       "        <tr>\n",
       "            <th>Count by 1</th> <th>Count by 2</th> <th>Count by 3</th>\n",
       "        </tr>\n",
       "    </thead>\n",
       "    <tbody>\n",
       "        <tr>\n",
       "            <td>1         </td> <td>2         </td> <td>3         </td>\n",
       "        </tr>\n",
       "        <tr>\n",
       "            <td>2         </td> <td>4         </td> <td>6         </td>\n",
       "        </tr>\n",
       "        <tr>\n",
       "            <td>3         </td> <td>6         </td> <td>9         </td>\n",
       "        </tr>\n",
       "        <tr>\n",
       "            <td>4         </td> <td>8         </td> <td>12        </td>\n",
       "        </tr>\n",
       "        <tr>\n",
       "            <td>5         </td> <td>10        </td> <td>15        </td>\n",
       "        </tr>\n",
       "        <tr>\n",
       "            <td>6         </td> <td>12        </td> <td>18        </td>\n",
       "        </tr>\n",
       "        <tr>\n",
       "            <td>7         </td> <td>14        </td> <td>21        </td>\n",
       "        </tr>\n",
       "        <tr>\n",
       "            <td>8         </td> <td>16        </td> <td>24        </td>\n",
       "        </tr>\n",
       "        <tr>\n",
       "            <td>9         </td> <td>18        </td> <td>27        </td>\n",
       "        </tr>\n",
       "        <tr>\n",
       "            <td>10        </td> <td>20        </td> <td>30        </td>\n",
       "        </tr>\n",
       "    </tbody>\n",
       "</table>"
      ],
      "text/plain": [
       "Count by 1 | Count by 2 | Count by 3\n",
       "1          | 2          | 3\n",
       "2          | 4          | 6\n",
       "3          | 6          | 9\n",
       "4          | 8          | 12\n",
       "5          | 10         | 15\n",
       "6          | 12         | 18\n",
       "7          | 14         | 21\n",
       "8          | 16         | 24\n",
       "9          | 18         | 27\n",
       "10         | 20         | 30"
      ]
     },
     "execution_count": 20,
     "metadata": {},
     "output_type": "execute_result"
    }
   ],
   "source": [
    "First_Multiples = First_Multiples.with_columns(\n",
    "    'Count by 2', np.arange(2, 22, 2),\n",
    "    'Count by 3', np.arange(3, 33, 3)\n",
    ")\n",
    "\n",
    "First_Multiples"
   ]
  },
  {
   "cell_type": "markdown",
   "metadata": {},
   "source": [
    "### Use columns of Tables"
   ]
  },
  {
   "cell_type": "code",
   "execution_count": 21,
   "metadata": {},
   "outputs": [
    {
     "data": {
      "text/plain": [
       "3.243794466403162"
      ]
     },
     "execution_count": 21,
     "metadata": {},
     "output_type": "execute_result"
    }
   ],
   "source": [
    "SleepStudy.column('GPA').mean()"
   ]
  },
  {
   "cell_type": "code",
   "execution_count": 22,
   "metadata": {},
   "outputs": [
    {
     "data": {
      "text/plain": [
       "array([ 7.18      ,  6.92857143,  5.02571429,  6.90714286,  6.35      ,\n",
       "        9.03571429,  7.52142857,  9.01428571,  8.53571429,  6.68      ,\n",
       "        8.09285714,  8.42857143,  6.88571429,  7.45      ,  8.92857143,\n",
       "        8.90714286,  8.34714286,  8.21428571,  8.39285714,  7.42857143,\n",
       "        7.28571429,  8.57285714,  9.38571429,  9.57142857,  8.00142857,\n",
       "        9.87142857,  8.75      ,  8.57142857,  7.71428571,  7.42857143,\n",
       "        8.32142857,  9.07142857,  8.64285714,  9.05714286,  7.14428571,\n",
       "        7.78714286,  6.93      ,  8.33571429,  9.67714286,  8.42857143,\n",
       "        7.82142857,  7.92857143,  7.97857143,  8.92857143,  8.46428571,\n",
       "        8.30142857,  8.60714286,  6.14285714,  6.07142857,  6.39      ,\n",
       "        8.36142857,  7.67857143,  8.27285714,  9.07142857,  6.14428571,\n",
       "        5.77857143,  8.90714286,  7.05142857,  8.28571429,  6.28571429,\n",
       "        7.96428571,  8.15714286,  7.23571429,  7.13      ,  6.12142857,\n",
       "        9.28571429, 10.45      ,  7.98      ,  9.14285714,  8.66428571,\n",
       "        7.84714286,  8.44428571,  7.90714286,  7.95857143,  8.72857143,\n",
       "        8.21428571,  8.07142857,  8.23571429,  7.59285714,  8.93571429,\n",
       "        8.10714286,  8.22857143,  8.42142857,  9.04857143,  4.95      ,\n",
       "        6.00142857,  9.18714286,  7.21428571,  8.80714286,  6.82142857,\n",
       "        9.64285714,  7.28571429,  8.43      ,  8.17857143,  7.        ,\n",
       "        9.        ,  7.87142857,  7.46428571,  8.85714286,  7.64285714,\n",
       "        8.10714286,  6.5       ,  6.51571429,  7.83714286,  7.63142857,\n",
       "        8.48714286,  9.96428571,  9.80714286,  7.93      ,  7.05      ,\n",
       "        7.60714286,  7.84285714,  8.52571429,  8.58571429,  6.35714286,\n",
       "        8.53571429,  7.21142857,  7.64285714,  7.05      ,  8.        ,\n",
       "        7.25      ,  9.25      ,  7.71428571,  8.2       ,  7.59285714,\n",
       "        7.40714286,  7.81142857,  9.15428571,  8.71428571,  5.92857143,\n",
       "        7.53571429,  7.72857143,  7.67142857,  7.17857143,  8.67857143,\n",
       "        7.87857143,  6.        ,  7.39285714,  7.87142857,  5.75      ,\n",
       "        9.32285714,  6.77857143,  6.42857143,  9.        ,  9.19285714,\n",
       "        7.99857143,  6.35714286,  7.26142857,  7.52571429,  7.64285714,\n",
       "        8.89285714,  7.83571429,  7.03571429,  8.        ,  8.78571429,\n",
       "        8.16428571,  8.17857143,  9.84285714,  7.89285714,  7.50142857,\n",
       "        8.21857143,  8.71428571,  8.92857143,  6.92857143,  7.78571429,\n",
       "        8.21428571,  8.28571429,  7.29714286,  7.86142857,  8.17857143,\n",
       "        7.75      ,  7.96428571,  7.64285714,  6.51428571,  9.87142857,\n",
       "        7.85714286,  6.69      , 10.62142857,  7.11571429,  8.03571429,\n",
       "        8.60714286,  6.57142857,  8.42857143,  8.75      ,  8.28571429,\n",
       "        7.32142857,  8.48714286,  7.57285714,  7.42857143,  8.87857143,\n",
       "        7.42857143,  7.5       ,  6.19142857,  5.96428571,  7.52142857,\n",
       "        8.07142857,  7.97857143,  8.80857143,  8.82142857,  9.05      ,\n",
       "        7.62857143,  8.75      ,  6.42857143,  7.92857143,  9.60714286,\n",
       "        8.41857143,  7.37857143,  8.19285714,  8.24      ,  8.46142857,\n",
       "        8.90714286,  7.92857143,  6.96428571,  7.93      ,  8.39428571,\n",
       "        8.57142857,  8.22857143,  9.11285714,  8.42857143,  7.67857143,\n",
       "        8.35714286,  7.90714286,  8.27142857,  7.94285714,  8.68428571,\n",
       "        7.44285714,  7.23571429,  8.21428571,  9.64285714,  9.21428571,\n",
       "        7.28571429,  5.64428571,  7.25142857,  8.60714286,  7.        ,\n",
       "        7.14285714,  8.26428571,  7.97857143,  7.75      ,  8.26142857,\n",
       "       10.        ,  8.75142857,  8.85714286,  8.24142857,  6.5       ,\n",
       "        8.53571429,  8.38      ,  7.60714286,  7.55      ,  9.16428571,\n",
       "        8.07142857,  8.55      ,  8.82285714])"
      ]
     },
     "execution_count": 22,
     "metadata": {},
     "output_type": "execute_result"
    }
   ],
   "source": [
    "(2/7) * SleepStudy.column('WeekendSleep') + (5/7) * SleepStudy.column('WeekdaySleep')"
   ]
  },
  {
   "cell_type": "code",
   "execution_count": 23,
   "metadata": {},
   "outputs": [],
   "source": [
    "def Average_Sleep(WeekendSleep, WeekdaySleep):\n",
    "    return (2/7) * WeekendSleep + (5/7) * WeekdaySleep"
   ]
  },
  {
   "cell_type": "code",
   "execution_count": 24,
   "metadata": {},
   "outputs": [
    {
     "data": {
      "text/plain": [
       "8.142857142857142"
      ]
     },
     "execution_count": 24,
     "metadata": {},
     "output_type": "execute_result"
    }
   ],
   "source": [
    "Average_Sleep(6, 9)"
   ]
  },
  {
   "cell_type": "code",
   "execution_count": 25,
   "metadata": {},
   "outputs": [
    {
     "data": {
      "text/plain": [
       "array([ 7.18      ,  6.92857143,  5.02571429,  6.90714286,  6.35      ,\n",
       "        9.03571429,  7.52142857,  9.01428571,  8.53571429,  6.68      ,\n",
       "        8.09285714,  8.42857143,  6.88571429,  7.45      ,  8.92857143,\n",
       "        8.90714286,  8.34714286,  8.21428571,  8.39285714,  7.42857143,\n",
       "        7.28571429,  8.57285714,  9.38571429,  9.57142857,  8.00142857,\n",
       "        9.87142857,  8.75      ,  8.57142857,  7.71428571,  7.42857143,\n",
       "        8.32142857,  9.07142857,  8.64285714,  9.05714286,  7.14428571,\n",
       "        7.78714286,  6.93      ,  8.33571429,  9.67714286,  8.42857143,\n",
       "        7.82142857,  7.92857143,  7.97857143,  8.92857143,  8.46428571,\n",
       "        8.30142857,  8.60714286,  6.14285714,  6.07142857,  6.39      ,\n",
       "        8.36142857,  7.67857143,  8.27285714,  9.07142857,  6.14428571,\n",
       "        5.77857143,  8.90714286,  7.05142857,  8.28571429,  6.28571429,\n",
       "        7.96428571,  8.15714286,  7.23571429,  7.13      ,  6.12142857,\n",
       "        9.28571429, 10.45      ,  7.98      ,  9.14285714,  8.66428571,\n",
       "        7.84714286,  8.44428571,  7.90714286,  7.95857143,  8.72857143,\n",
       "        8.21428571,  8.07142857,  8.23571429,  7.59285714,  8.93571429,\n",
       "        8.10714286,  8.22857143,  8.42142857,  9.04857143,  4.95      ,\n",
       "        6.00142857,  9.18714286,  7.21428571,  8.80714286,  6.82142857,\n",
       "        9.64285714,  7.28571429,  8.43      ,  8.17857143,  7.        ,\n",
       "        9.        ,  7.87142857,  7.46428571,  8.85714286,  7.64285714,\n",
       "        8.10714286,  6.5       ,  6.51571429,  7.83714286,  7.63142857,\n",
       "        8.48714286,  9.96428571,  9.80714286,  7.93      ,  7.05      ,\n",
       "        7.60714286,  7.84285714,  8.52571429,  8.58571429,  6.35714286,\n",
       "        8.53571429,  7.21142857,  7.64285714,  7.05      ,  8.        ,\n",
       "        7.25      ,  9.25      ,  7.71428571,  8.2       ,  7.59285714,\n",
       "        7.40714286,  7.81142857,  9.15428571,  8.71428571,  5.92857143,\n",
       "        7.53571429,  7.72857143,  7.67142857,  7.17857143,  8.67857143,\n",
       "        7.87857143,  6.        ,  7.39285714,  7.87142857,  5.75      ,\n",
       "        9.32285714,  6.77857143,  6.42857143,  9.        ,  9.19285714,\n",
       "        7.99857143,  6.35714286,  7.26142857,  7.52571429,  7.64285714,\n",
       "        8.89285714,  7.83571429,  7.03571429,  8.        ,  8.78571429,\n",
       "        8.16428571,  8.17857143,  9.84285714,  7.89285714,  7.50142857,\n",
       "        8.21857143,  8.71428571,  8.92857143,  6.92857143,  7.78571429,\n",
       "        8.21428571,  8.28571429,  7.29714286,  7.86142857,  8.17857143,\n",
       "        7.75      ,  7.96428571,  7.64285714,  6.51428571,  9.87142857,\n",
       "        7.85714286,  6.69      , 10.62142857,  7.11571429,  8.03571429,\n",
       "        8.60714286,  6.57142857,  8.42857143,  8.75      ,  8.28571429,\n",
       "        7.32142857,  8.48714286,  7.57285714,  7.42857143,  8.87857143,\n",
       "        7.42857143,  7.5       ,  6.19142857,  5.96428571,  7.52142857,\n",
       "        8.07142857,  7.97857143,  8.80857143,  8.82142857,  9.05      ,\n",
       "        7.62857143,  8.75      ,  6.42857143,  7.92857143,  9.60714286,\n",
       "        8.41857143,  7.37857143,  8.19285714,  8.24      ,  8.46142857,\n",
       "        8.90714286,  7.92857143,  6.96428571,  7.93      ,  8.39428571,\n",
       "        8.57142857,  8.22857143,  9.11285714,  8.42857143,  7.67857143,\n",
       "        8.35714286,  7.90714286,  8.27142857,  7.94285714,  8.68428571,\n",
       "        7.44285714,  7.23571429,  8.21428571,  9.64285714,  9.21428571,\n",
       "        7.28571429,  5.64428571,  7.25142857,  8.60714286,  7.        ,\n",
       "        7.14285714,  8.26428571,  7.97857143,  7.75      ,  8.26142857,\n",
       "       10.        ,  8.75142857,  8.85714286,  8.24142857,  6.5       ,\n",
       "        8.53571429,  8.38      ,  7.60714286,  7.55      ,  9.16428571,\n",
       "        8.07142857,  8.55      ,  8.82285714])"
      ]
     },
     "execution_count": 25,
     "metadata": {},
     "output_type": "execute_result"
    }
   ],
   "source": [
    "SleepStudy.apply(Average_Sleep, 'WeekendSleep', 'WeekdaySleep')"
   ]
  },
  {
   "cell_type": "markdown",
   "metadata": {},
   "source": [
    "### Group Tables"
   ]
  },
  {
   "cell_type": "code",
   "execution_count": 26,
   "metadata": {},
   "outputs": [
    {
     "data": {
      "text/html": [
       "<table border=\"1\" class=\"dataframe\">\n",
       "    <thead>\n",
       "        <tr>\n",
       "            <th>ClassYear</th> <th>count</th>\n",
       "        </tr>\n",
       "    </thead>\n",
       "    <tbody>\n",
       "        <tr>\n",
       "            <td>1        </td> <td>47   </td>\n",
       "        </tr>\n",
       "        <tr>\n",
       "            <td>2        </td> <td>95   </td>\n",
       "        </tr>\n",
       "        <tr>\n",
       "            <td>3        </td> <td>54   </td>\n",
       "        </tr>\n",
       "        <tr>\n",
       "            <td>4        </td> <td>57   </td>\n",
       "        </tr>\n",
       "    </tbody>\n",
       "</table>"
      ],
      "text/plain": [
       "ClassYear | count\n",
       "1         | 47\n",
       "2         | 95\n",
       "3         | 54\n",
       "4         | 57"
      ]
     },
     "execution_count": 26,
     "metadata": {},
     "output_type": "execute_result"
    }
   ],
   "source": [
    "SleepStudy.group('ClassYear')"
   ]
  },
  {
   "cell_type": "code",
   "execution_count": 27,
   "metadata": {},
   "outputs": [
    {
     "data": {
      "text/html": [
       "<table border=\"1\" class=\"dataframe\">\n",
       "    <thead>\n",
       "        <tr>\n",
       "            <th>ClassYear</th> <th>Gender max</th> <th>LarkOwl max</th> <th>NumEarlyClass max</th> <th>EarlyClass max</th> <th>GPA max</th> <th>ClassesMissed max</th> <th>CognitionZscore max</th> <th>PoorSleepQuality max</th> <th>DepressionScore max</th> <th>AnxietyScore max</th> <th>StressScore max</th> <th>DepressionStatus max</th> <th>AnxietyStatus max</th> <th>Stress max</th> <th>DASScore max</th> <th>Happiness max</th> <th>AlcoholUse max</th> <th>Drinks max</th> <th>WeekdayBed max</th> <th>WeekdayRise max</th> <th>WeekdaySleep max</th> <th>WeekendBed max</th> <th>WeekendRise max</th> <th>WeekendSleep max</th> <th>AverageSleep max</th> <th>AllNighter max</th>\n",
       "        </tr>\n",
       "    </thead>\n",
       "    <tbody>\n",
       "        <tr>\n",
       "            <td>1        </td> <td>1         </td> <td>Owl        </td> <td>5                </td> <td>1             </td> <td>4      </td> <td>8                </td> <td>1.96               </td> <td>11                  </td> <td>35                 </td> <td>16              </td> <td>25             </td> <td>severe              </td> <td>severe           </td> <td>normal    </td> <td>49          </td> <td>34           </td> <td>Moderate      </td> <td>12        </td> <td>27            </td> <td>10.03          </td> <td>10.48           </td> <td>29            </td> <td>13.27          </td> <td>10.75           </td> <td>9.85            </td> <td>1             </td>\n",
       "        </tr>\n",
       "        <tr>\n",
       "            <td>2        </td> <td>1         </td> <td>Owl        </td> <td>5                </td> <td>1             </td> <td>3.78   </td> <td>20               </td> <td>1.77               </td> <td>15                  </td> <td>25                 </td> <td>26              </td> <td>36             </td> <td>severe              </td> <td>severe           </td> <td>normal    </td> <td>67          </td> <td>35           </td> <td>Moderate      </td> <td>24        </td> <td>27.67         </td> <td>11.02          </td> <td>10.97           </td> <td>28.5          </td> <td>14             </td> <td>11              </td> <td>10.62           </td> <td>1             </td>\n",
       "        </tr>\n",
       "        <tr>\n",
       "            <td>3        </td> <td>1         </td> <td>Owl        </td> <td>5                </td> <td>1             </td> <td>3.9    </td> <td>20               </td> <td>1.41               </td> <td>15                  </td> <td>26                 </td> <td>22              </td> <td>37             </td> <td>severe              </td> <td>severe           </td> <td>normal    </td> <td>82          </td> <td>35           </td> <td>Moderate      </td> <td>20        </td> <td>29.1          </td> <td>12.02          </td> <td>10.9            </td> <td>30.25         </td> <td>15             </td> <td>11.5            </td> <td>9.96            </td> <td>1             </td>\n",
       "        </tr>\n",
       "        <tr>\n",
       "            <td>4        </td> <td>1         </td> <td>Owl        </td> <td>4                </td> <td>1             </td> <td>3.93   </td> <td>14               </td> <td>1.89               </td> <td>18                  </td> <td>28                 </td> <td>25              </td> <td>31             </td> <td>severe              </td> <td>severe           </td> <td>normal    </td> <td>74          </td> <td>35           </td> <td>Moderate      </td> <td>20        </td> <td>27.44         </td> <td>11             </td> <td>9.57            </td> <td>28            </td> <td>13             </td> <td>12.75           </td> <td>9.61            </td> <td>1             </td>\n",
       "        </tr>\n",
       "    </tbody>\n",
       "</table>"
      ],
      "text/plain": [
       "ClassYear | Gender max | LarkOwl max | NumEarlyClass max | EarlyClass max | GPA max | ClassesMissed max | CognitionZscore max | PoorSleepQuality max | DepressionScore max | AnxietyScore max | StressScore max | DepressionStatus max | AnxietyStatus max | Stress max | DASScore max | Happiness max | AlcoholUse max | Drinks max | WeekdayBed max | WeekdayRise max | WeekdaySleep max | WeekendBed max | WeekendRise max | WeekendSleep max | AverageSleep max | AllNighter max\n",
       "1         | 1          | Owl         | 5                 | 1              | 4       | 8                 | 1.96                | 11                   | 35                  | 16               | 25              | severe               | severe            | normal     | 49           | 34            | Moderate       | 12         | 27             | 10.03           | 10.48            | 29             | 13.27           | 10.75            | 9.85             | 1\n",
       "2         | 1          | Owl         | 5                 | 1              | 3.78    | 20                | 1.77                | 15                   | 25                  | 26               | 36              | severe               | severe            | normal     | 67           | 35            | Moderate       | 24         | 27.67          | 11.02           | 10.97            | 28.5           | 14              | 11               | 10.62            | 1\n",
       "3         | 1          | Owl         | 5                 | 1              | 3.9     | 20                | 1.41                | 15                   | 26                  | 22               | 37              | severe               | severe            | normal     | 82           | 35            | Moderate       | 20         | 29.1           | 12.02           | 10.9             | 30.25          | 15              | 11.5             | 9.96             | 1\n",
       "4         | 1          | Owl         | 4                 | 1              | 3.93    | 14                | 1.89                | 18                   | 28                  | 25               | 31              | severe               | severe            | normal     | 74           | 35            | Moderate       | 20         | 27.44          | 11              | 9.57             | 28             | 13              | 12.75            | 9.61             | 1"
      ]
     },
     "execution_count": 27,
     "metadata": {},
     "output_type": "execute_result"
    }
   ],
   "source": [
    "SleepStudy.group('ClassYear', max)"
   ]
  },
  {
   "cell_type": "code",
   "execution_count": 28,
   "metadata": {},
   "outputs": [
    {
     "name": "stderr",
     "output_type": "stream",
     "text": [
      "C:\\Users\\Alyssa\\anaconda3\\envs\\PythonData\\lib\\site-packages\\datascience\\tables.py:920: VisibleDeprecationWarning: Creating an ndarray from ragged nested sequences (which is a list-or-tuple of lists-or-tuples-or ndarrays with different lengths or shapes) is deprecated. If you meant to do this, you must specify 'dtype=object' when creating the ndarray.\n",
      "  values = np.array(tuple(values))\n"
     ]
    },
    {
     "data": {
      "text/html": [
       "<table border=\"1\" class=\"dataframe\">\n",
       "    <thead>\n",
       "        <tr>\n",
       "            <th>ClassYear</th> <th>EarlyClass</th> <th>count</th>\n",
       "        </tr>\n",
       "    </thead>\n",
       "    <tbody>\n",
       "        <tr>\n",
       "            <td>1        </td> <td>0         </td> <td>8    </td>\n",
       "        </tr>\n",
       "        <tr>\n",
       "            <td>1        </td> <td>1         </td> <td>39   </td>\n",
       "        </tr>\n",
       "        <tr>\n",
       "            <td>2        </td> <td>0         </td> <td>31   </td>\n",
       "        </tr>\n",
       "        <tr>\n",
       "            <td>2        </td> <td>1         </td> <td>64   </td>\n",
       "        </tr>\n",
       "        <tr>\n",
       "            <td>3        </td> <td>0         </td> <td>21   </td>\n",
       "        </tr>\n",
       "        <tr>\n",
       "            <td>3        </td> <td>1         </td> <td>33   </td>\n",
       "        </tr>\n",
       "        <tr>\n",
       "            <td>4        </td> <td>0         </td> <td>25   </td>\n",
       "        </tr>\n",
       "        <tr>\n",
       "            <td>4        </td> <td>1         </td> <td>32   </td>\n",
       "        </tr>\n",
       "    </tbody>\n",
       "</table>"
      ],
      "text/plain": [
       "ClassYear | EarlyClass | count\n",
       "1         | 0          | 8\n",
       "1         | 1          | 39\n",
       "2         | 0          | 31\n",
       "2         | 1          | 64\n",
       "3         | 0          | 21\n",
       "3         | 1          | 33\n",
       "4         | 0          | 25\n",
       "4         | 1          | 32"
      ]
     },
     "execution_count": 28,
     "metadata": {},
     "output_type": "execute_result"
    }
   ],
   "source": [
    "SleepStudy.group(['ClassYear', 'EarlyClass'])"
   ]
  },
  {
   "cell_type": "code",
   "execution_count": 29,
   "metadata": {},
   "outputs": [
    {
     "data": {
      "text/html": [
       "<table border=\"1\" class=\"dataframe\">\n",
       "    <thead>\n",
       "        <tr>\n",
       "            <th>EarlyClass</th> <th>1</th> <th>2</th> <th>3</th> <th>4</th>\n",
       "        </tr>\n",
       "    </thead>\n",
       "    <tbody>\n",
       "        <tr>\n",
       "            <td>0         </td> <td>8   </td> <td>31  </td> <td>21  </td> <td>25  </td>\n",
       "        </tr>\n",
       "        <tr>\n",
       "            <td>1         </td> <td>39  </td> <td>64  </td> <td>33  </td> <td>32  </td>\n",
       "        </tr>\n",
       "    </tbody>\n",
       "</table>"
      ],
      "text/plain": [
       "EarlyClass | 1    | 2    | 3    | 4\n",
       "0          | 8    | 31   | 21   | 25\n",
       "1          | 39   | 64   | 33   | 32"
      ]
     },
     "execution_count": 29,
     "metadata": {},
     "output_type": "execute_result"
    }
   ],
   "source": [
    "SleepStudy.pivot('ClassYear', 'EarlyClass')"
   ]
  },
  {
   "cell_type": "code",
   "execution_count": 30,
   "metadata": {},
   "outputs": [
    {
     "data": {
      "text/html": [
       "<table border=\"1\" class=\"dataframe\">\n",
       "    <thead>\n",
       "        <tr>\n",
       "            <th>EarlyClass</th> <th>1</th> <th>2</th> <th>3</th> <th>4</th>\n",
       "        </tr>\n",
       "    </thead>\n",
       "    <tbody>\n",
       "        <tr>\n",
       "            <td>0         </td> <td>3.4375 </td> <td>3.09484</td> <td>3.15857</td> <td>3.2848</td>\n",
       "        </tr>\n",
       "        <tr>\n",
       "            <td>1         </td> <td>3.54641</td> <td>3.14344</td> <td>3.24909</td> <td>3.19  </td>\n",
       "        </tr>\n",
       "    </tbody>\n",
       "</table>"
      ],
      "text/plain": [
       "EarlyClass | 1       | 2       | 3       | 4\n",
       "0          | 3.4375  | 3.09484 | 3.15857 | 3.2848\n",
       "1          | 3.54641 | 3.14344 | 3.24909 | 3.19"
      ]
     },
     "execution_count": 30,
     "metadata": {},
     "output_type": "execute_result"
    }
   ],
   "source": [
    "SleepStudy.pivot('ClassYear', 'EarlyClass', values = 'GPA', collect = np.average)"
   ]
  },
  {
   "cell_type": "markdown",
   "metadata": {},
   "source": [
    "## Visualization Review"
   ]
  },
  {
   "cell_type": "markdown",
   "metadata": {},
   "source": [
    "### Line Plot"
   ]
  },
  {
   "cell_type": "code",
   "execution_count": 31,
   "metadata": {},
   "outputs": [
    {
     "data": {
      "text/html": [
       "<table border=\"1\" class=\"dataframe\">\n",
       "    <thead>\n",
       "        <tr>\n",
       "            <th>Semester</th> <th>GPA</th>\n",
       "        </tr>\n",
       "    </thead>\n",
       "    <tbody>\n",
       "        <tr>\n",
       "            <td>1       </td> <td>3.5 </td>\n",
       "        </tr>\n",
       "        <tr>\n",
       "            <td>2       </td> <td>3.6 </td>\n",
       "        </tr>\n",
       "        <tr>\n",
       "            <td>3       </td> <td>3.3 </td>\n",
       "        </tr>\n",
       "        <tr>\n",
       "            <td>4       </td> <td>2.7 </td>\n",
       "        </tr>\n",
       "        <tr>\n",
       "            <td>5       </td> <td>2.3 </td>\n",
       "        </tr>\n",
       "        <tr>\n",
       "            <td>6       </td> <td>2.4 </td>\n",
       "        </tr>\n",
       "        <tr>\n",
       "            <td>7       </td> <td>3.3 </td>\n",
       "        </tr>\n",
       "        <tr>\n",
       "            <td>8       </td> <td>3.25</td>\n",
       "        </tr>\n",
       "    </tbody>\n",
       "</table>"
      ],
      "text/plain": [
       "Semester | GPA\n",
       "1        | 3.5\n",
       "2        | 3.6\n",
       "3        | 3.3\n",
       "4        | 2.7\n",
       "5        | 2.3\n",
       "6        | 2.4\n",
       "7        | 3.3\n",
       "8        | 3.25"
      ]
     },
     "execution_count": 31,
     "metadata": {},
     "output_type": "execute_result"
    }
   ],
   "source": [
    "gpa_by_semester = Table().with_columns(\n",
    "    'Semester', np.arange(1, 9, 1),\n",
    "    'GPA', make_array(3.5, 3.6, 3.3, 2.7, 2.3, 2.4, 3.3, 3.25)\n",
    ")\n",
    "\n",
    "gpa_by_semester"
   ]
  },
  {
   "cell_type": "code",
   "execution_count": 32,
   "metadata": {},
   "outputs": [
    {
     "data": {
      "image/png": "[encoded data removed]",
      "text/plain": [
       "<Figure size 432x432 with 1 Axes>"
      ]
     },
     "metadata": {},
     "output_type": "display_data"
    }
   ],
   "source": [
    "gpa_by_semester.plot('Semester', 'GPA')"
   ]
  },
  {
   "cell_type": "markdown",
   "metadata": {},
   "source": [
    "### Scatter Plots"
   ]
  },
  {
   "cell_type": "code",
   "execution_count": 33,
   "metadata": {},
   "outputs": [
    {
     "data": {
      "image/png": "[encoded data removed]",
      "text/plain": [
       "<Figure size 360x360 with 1 Axes>"
      ]
     },
     "metadata": {},
     "output_type": "display_data"
    }
   ],
   "source": [
    "SleepStudy.scatter('AverageSleep', 'Happiness')"
   ]
  },
  {
   "cell_type": "markdown",
   "metadata": {},
   "source": [
    "### Bar Charts"
   ]
  },
  {
   "cell_type": "code",
   "execution_count": 34,
   "metadata": {},
   "outputs": [
    {
     "data": {
      "text/html": [
       "<table border=\"1\" class=\"dataframe\">\n",
       "    <thead>\n",
       "        <tr>\n",
       "            <th>AlcoholUse</th> <th>count</th>\n",
       "        </tr>\n",
       "    </thead>\n",
       "    <tbody>\n",
       "        <tr>\n",
       "            <td>Abstain   </td> <td>34   </td>\n",
       "        </tr>\n",
       "        <tr>\n",
       "            <td>Heavy     </td> <td>16   </td>\n",
       "        </tr>\n",
       "        <tr>\n",
       "            <td>Light     </td> <td>83   </td>\n",
       "        </tr>\n",
       "        <tr>\n",
       "            <td>Moderate  </td> <td>120  </td>\n",
       "        </tr>\n",
       "    </tbody>\n",
       "</table>"
      ],
      "text/plain": [
       "AlcoholUse | count\n",
       "Abstain    | 34\n",
       "Heavy      | 16\n",
       "Light      | 83\n",
       "Moderate   | 120"
      ]
     },
     "execution_count": 34,
     "metadata": {},
     "output_type": "execute_result"
    }
   ],
   "source": [
    "Alcohol_Use_Counts = SleepStudy.select('AlcoholUse').group('AlcoholUse')\n",
    "Alcohol_Use_Counts"
   ]
  },
  {
   "cell_type": "code",
   "execution_count": 35,
   "metadata": {},
   "outputs": [
    {
     "data": {
      "text/html": [
       "<table border=\"1\" class=\"dataframe\">\n",
       "    <thead>\n",
       "        <tr>\n",
       "            <th>AlcoholUse</th> <th>count</th>\n",
       "        </tr>\n",
       "    </thead>\n",
       "    <tbody>\n",
       "        <tr>\n",
       "            <td>Abstain   </td> <td>34   </td>\n",
       "        </tr>\n",
       "        <tr>\n",
       "            <td>Light     </td> <td>83   </td>\n",
       "        </tr>\n",
       "        <tr>\n",
       "            <td>Moderate  </td> <td>120  </td>\n",
       "        </tr>\n",
       "        <tr>\n",
       "            <td>Heavy     </td> <td>16   </td>\n",
       "        </tr>\n",
       "    </tbody>\n",
       "</table>"
      ],
      "text/plain": [
       "AlcoholUse | count\n",
       "Abstain    | 34\n",
       "Light      | 83\n",
       "Moderate   | 120\n",
       "Heavy      | 16"
      ]
     },
     "execution_count": 35,
     "metadata": {},
     "output_type": "execute_result"
    }
   ],
   "source": [
    "Alcohol_Use_Counts = Alcohol_Use_Counts.take(0, 2, 3, 1)\n",
    "Alcohol_Use_Counts"
   ]
  },
  {
   "cell_type": "code",
   "execution_count": 36,
   "metadata": {},
   "outputs": [
    {
     "data": {
      "image/png": "[encoded data removed]",
      "text/plain": [
       "<Figure size 432x288 with 1 Axes>"
      ]
     },
     "metadata": {},
     "output_type": "display_data"
    }
   ],
   "source": [
    "Alcohol_Use_Counts.barh('AlcoholUse')"
   ]
  },
  {
   "cell_type": "markdown",
   "metadata": {},
   "source": [
    "### Histograms"
   ]
  },
  {
   "cell_type": "code",
   "execution_count": 37,
   "metadata": {},
   "outputs": [
    {
     "data": {
      "text/plain": [
       "35"
      ]
     },
     "execution_count": 37,
     "metadata": {},
     "output_type": "execute_result"
    },
    {
     "data": {
      "image/png": "[encoded data removed]",
      "text/plain": [
       "<Figure size 432x288 with 1 Axes>"
      ]
     },
     "metadata": {},
     "output_type": "display_data"
    }
   ],
   "source": [
    "SleepStudy.hist('DepressionScore')\n",
    "\n",
    "max(SleepStudy.column('DepressionScore'))"
   ]
  },
  {
   "cell_type": "code",
   "execution_count": 38,
   "metadata": {},
   "outputs": [
    {
     "data": {
      "image/png": "[encoded data removed]",
      "text/plain": [
       "<Figure size 432x288 with 1 Axes>"
      ]
     },
     "metadata": {},
     "output_type": "display_data"
    }
   ],
   "source": [
    "SleepStudy.hist('DepressionScore', bins = np.arange(0, 41, 5))"
   ]
  },
  {
   "cell_type": "markdown",
   "metadata": {},
   "source": [
    "## Review Questions"
   ]
  },
  {
   "cell_type": "code",
   "execution_count": 40,
   "metadata": {},
   "outputs": [],
   "source": [
    "nba = Table.read_table('../Datasets/nba_salaries.csv')\n",
    "sky = Table.read_table('../Datasets/skyscrapers_v2.csv')\n",
    "billion = Table.read_table('../Datasets/billionaires.csv')"
   ]
  },
  {
   "cell_type": "markdown",
   "metadata": {},
   "source": [
    "### Question 1\n",
    "\n",
    "Construct a table of billionaires with United States citizenship, listed from highest net worth to lowest. The table should only include the name and net worth of the billionaires.\n",
    "\n",
    "How many billionaires have United States citizenship? 172 billionaries have US citizenship"
   ]
  },
  {
   "cell_type": "code",
   "execution_count": 73,
   "metadata": {},
   "outputs": [],
   "source": [
    "billion_df = pd.read_csv('../Datasets/billionaires.csv')\n",
    "filtered_billion_df = billion_df[billion[\"citizenship\"] == \"United States\"].sort_values(\"net worth\", ascending = False)"
   ]
  },
  {
   "cell_type": "code",
   "execution_count": 72,
   "metadata": {},
   "outputs": [],
   "source": [
    "# This is if it is a table\n",
    "filtered_billion = billion.where(\"citizenship\", are.equal_to(\"United States\")).sort(\"net worth\", descending = True)"
   ]
  },
  {
   "cell_type": "code",
   "execution_count": 75,
   "metadata": {},
   "outputs": [
    {
     "name": "stdout",
     "output_type": "stream",
     "text": [
      "<class 'pandas.core.frame.DataFrame'>\n",
      "Int64Index: 172 entries, 0 to 498\n",
      "Data columns (total 4 columns):\n",
      " #   Column       Non-Null Count  Dtype \n",
      "---  ------       --------------  ----- \n",
      " 0   name         172 non-null    object\n",
      " 1   net worth    172 non-null    int64 \n",
      " 2   citizenship  172 non-null    object\n",
      " 3   industry     172 non-null    object\n",
      "dtypes: int64(1), object(3)\n",
      "memory usage: 6.7+ KB\n"
     ]
    }
   ],
   "source": [
    "# We are now working with the dataframe instead of the table \n",
    "filtered_billion_df.info()"
   ]
  },
  {
   "cell_type": "markdown",
   "metadata": {},
   "source": [
    "### Question 2\n",
    "\n",
    "Add a column to the table from question 1 that lists the net worth in billions of dollars rather than dollars. Use this new column to construct a histogram for the net worth of billionaires with bins equal to 10 billion dollars. "
   ]
  },
  {
   "cell_type": "code",
   "execution_count": 86,
   "metadata": {},
   "outputs": [
    {
     "ename": "AttributeError",
     "evalue": "'DataFrame' object has no attribute 'AsTable'",
     "output_type": "error",
     "traceback": [
      "\u001b[1;31m---------------------------------------------------------------------------\u001b[0m",
      "\u001b[1;31mAttributeError\u001b[0m                            Traceback (most recent call last)",
      "\u001b[1;32m~\\AppData\\Local\\Temp/ipykernel_3296/2567041503.py\u001b[0m in \u001b[0;36m<module>\u001b[1;34m\u001b[0m\n\u001b[0;32m      3\u001b[0m \u001b[1;31m#filtered_billion_df[\"billions\"]\u001b[0m\u001b[1;33m\u001b[0m\u001b[1;33m\u001b[0m\u001b[0m\n\u001b[0;32m      4\u001b[0m \u001b[1;33m\u001b[0m\u001b[0m\n\u001b[1;32m----> 5\u001b[1;33m \u001b[0mfiltered_billion_df\u001b[0m\u001b[1;33m.\u001b[0m\u001b[0mAsTable\u001b[0m\u001b[1;33m\u001b[0m\u001b[1;33m\u001b[0m\u001b[0m\n\u001b[0m",
      "\u001b[1;32m~\\anaconda3\\envs\\PythonData\\lib\\site-packages\\pandas\\core\\generic.py\u001b[0m in \u001b[0;36m__getattr__\u001b[1;34m(self, name)\u001b[0m\n\u001b[0;32m   5485\u001b[0m         ):\n\u001b[0;32m   5486\u001b[0m             \u001b[1;32mreturn\u001b[0m \u001b[0mself\u001b[0m\u001b[1;33m[\u001b[0m\u001b[0mname\u001b[0m\u001b[1;33m]\u001b[0m\u001b[1;33m\u001b[0m\u001b[1;33m\u001b[0m\u001b[0m\n\u001b[1;32m-> 5487\u001b[1;33m         \u001b[1;32mreturn\u001b[0m \u001b[0mobject\u001b[0m\u001b[1;33m.\u001b[0m\u001b[0m__getattribute__\u001b[0m\u001b[1;33m(\u001b[0m\u001b[0mself\u001b[0m\u001b[1;33m,\u001b[0m \u001b[0mname\u001b[0m\u001b[1;33m)\u001b[0m\u001b[1;33m\u001b[0m\u001b[1;33m\u001b[0m\u001b[0m\n\u001b[0m\u001b[0;32m   5488\u001b[0m \u001b[1;33m\u001b[0m\u001b[0m\n\u001b[0;32m   5489\u001b[0m     \u001b[1;32mdef\u001b[0m \u001b[0m__setattr__\u001b[0m\u001b[1;33m(\u001b[0m\u001b[0mself\u001b[0m\u001b[1;33m,\u001b[0m \u001b[0mname\u001b[0m\u001b[1;33m:\u001b[0m \u001b[0mstr\u001b[0m\u001b[1;33m,\u001b[0m \u001b[0mvalue\u001b[0m\u001b[1;33m)\u001b[0m \u001b[1;33m->\u001b[0m \u001b[1;32mNone\u001b[0m\u001b[1;33m:\u001b[0m\u001b[1;33m\u001b[0m\u001b[1;33m\u001b[0m\u001b[0m\n",
      "\u001b[1;31mAttributeError\u001b[0m: 'DataFrame' object has no attribute 'AsTable'"
     ]
    }
   ],
   "source": [
    "my_bins = np.arange(0,115739645756, 10000000000)\n",
    "# filtered_billion_df_b = filtered_billion_df.bin('Billions Bin', bins = my_bins)\n",
    "#filtered_billion_df[\"billions\"]\n",
    "\n",
    "# filtered_billion_df.AsTable\n",
    "\n",
    "# Goal: Find a way to bin as a dataframe or do it as a table"
   ]
  },
  {
   "cell_type": "markdown",
   "metadata": {},
   "source": [
    "### Question 3\n",
    "\n",
    "Using the histogram from question 2, approximately what percentage of US billionaires have net worths of less than 10 billion dollars?"
   ]
  },
  {
   "cell_type": "markdown",
   "metadata": {},
   "source": [
    "### Question 4\n",
    "\n",
    "What is the average net worth of billionaires with a net worth below 10 billion dollars, in billions of dollars?"
   ]
  },
  {
   "cell_type": "markdown",
   "metadata": {},
   "source": [
    "### Question 5\n",
    "\n",
    "Construct a bar plot for the counts of billionaires for each citizenship, from highest count to lowest, showing only the top 10 citizenships."
   ]
  },
  {
   "cell_type": "markdown",
   "metadata": {},
   "source": [
    "### Question 6"
   ]
  },
  {
   "cell_type": "markdown",
   "metadata": {},
   "source": [
    "Which NBA teams spent the most on their “starters” in 2015-2016?\n",
    "\n",
    "Assume the “starter” for a team & position is the player with the highest salary on that team in that position."
   ]
  },
  {
   "cell_type": "markdown",
   "metadata": {},
   "source": [
    "### Question 7\n",
    "\n",
    "Construct a scatter plot with the heights and years completed for the skyscrapers. Describe any trneds in the data that you can see in the plot."
   ]
  },
  {
   "cell_type": "markdown",
   "metadata": {},
   "source": [
    "### Question 8\n",
    "\n",
    "Define a function that converts a length in meters to feet. Convert the heights of the skyscrapers in the table (initially in meters) to feet in the table and relabel the column height in feet."
   ]
  },
  {
   "cell_type": "markdown",
   "metadata": {},
   "source": [
    "### Question 9\n",
    "For each city, what’s the tallest building for each material?"
   ]
  },
  {
   "cell_type": "markdown",
   "metadata": {},
   "source": [
    "### Question 10\n",
    "For each city, what’s the height difference (in feet) between the tallest steel building and the tallest concrete building?"
   ]
  }
 ],
 "metadata": {
  "kernelspec": {
   "display_name": "PythonData",
   "language": "python",
   "name": "pythondata"
  },
  "language_info": {
   "codemirror_mode": {
    "name": "ipython",
    "version": 3
   },
   "file_extension": ".py",
   "mimetype": "text/x-python",
   "name": "python",
   "nbconvert_exporter": "python",
   "pygments_lexer": "ipython3",
   "version": "3.9.7"
  }
 },
 "nbformat": 4,
 "nbformat_minor": 4
}
