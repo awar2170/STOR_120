{
 "cells": [
  {
   "cell_type": "code",
   "execution_count": 1,
   "metadata": {},
   "outputs": [],
   "source": [
    "from datascience import *\n",
    "import numpy as np\n",
    "\n",
    "%matplotlib inline\n",
    "import matplotlib.pyplot as plots\n",
    "plots.style.use('fivethirtyeight')"
   ]
  },
  {
   "cell_type": "markdown",
   "metadata": {},
   "source": [
    "## Simulation"
   ]
  },
  {
   "cell_type": "markdown",
   "metadata": {},
   "source": [
    "Let's play a game: we each roll a die. \n",
    "\n",
    "If my number is bigger: you pay me a dollar.\n",
    "\n",
    "If they're the same: we do nothing.\n",
    "\n",
    "If your number is bigger: I pay you a dollar."
   ]
  },
  {
   "cell_type": "markdown",
   "metadata": {},
   "source": [
    "Steps:\n",
    "1. Find a way to simulate two dice rolls.\n",
    "2. Compute how much money we win/lose based on the result.\n",
    "3. Do steps 1 and 2 10,000 times."
   ]
  },
  {
   "cell_type": "markdown",
   "metadata": {},
   "source": [
    "## Probability Distributions ##"
   ]
  },
  {
   "cell_type": "code",
   "execution_count": 2,
   "metadata": {},
   "outputs": [
    {
     "data": {
      "image/png": "[encoded data removed]",
      "text/plain": [
       "<Figure size 432x288 with 1 Axes>"
      ]
     },
     "metadata": {},
     "output_type": "display_data"
    }
   ],
   "source": [
    "dice_game_prob = Table().with_columns(\n",
    "    'My winnings', make_array(-1, 0, 1),\n",
    "    'Probability', make_array(15/36, 6/36, 15/36)\n",
    ")\n",
    "\n",
    "dice_game_prob.barh('My winnings')"
   ]
  },
  {
   "cell_type": "markdown",
   "metadata": {},
   "source": [
    "## Empirical Distributions ##"
   ]
  },
  {
   "cell_type": "code",
   "execution_count": 3,
   "metadata": {},
   "outputs": [],
   "source": [
    "def one_round(my_roll, your_roll):\n",
    "    if my_roll > your_roll:\n",
    "        return 1\n",
    "    elif your_roll > my_roll:\n",
    "        return -1\n",
    "    elif your_roll == my_roll:\n",
    "        return 0\n",
    "\n",
    "die_faces = np.arange(1, 7)\n",
    "\n",
    "def simulate_one_round():\n",
    "    my_roll = np.random.choice(die_faces)\n",
    "    your_roll = np.random.choice(die_faces)\n",
    "    return one_round(my_roll, your_roll)"
   ]
  },
  {
   "cell_type": "code",
   "execution_count": 4,
   "metadata": {},
   "outputs": [
    {
     "data": {
      "image/png": "[encoded data removed]",
      "text/plain": [
       "<Figure size 432x288 with 1 Axes>"
      ]
     },
     "metadata": {},
     "output_type": "display_data"
    }
   ],
   "source": [
    "game_outcomes = make_array()\n",
    "\n",
    "for i in np.arange(10000):\n",
    "    game_outcomes = np.append(game_outcomes, simulate_one_round())\n",
    "    \n",
    "results = Table().with_column('My winnings', game_outcomes)\n",
    "\n",
    "results.group('My winnings').barh('My winnings')"
   ]
  },
  {
   "cell_type": "markdown",
   "metadata": {},
   "source": [
    "## Law of Large Numbers ##"
   ]
  },
  {
   "cell_type": "code",
   "execution_count": null,
   "metadata": {},
   "outputs": [],
   "source": [
    "game_outcomes = make_array()\n",
    "\n",
    "for i in np.arange(10):\n",
    "    game_outcomes = np.append(game_outcomes, simulate_one_round())\n",
    "    \n",
    "results = Table().with_column('My winnings', game_outcomes)\n",
    "\n",
    "results.group('My winnings').barh('My winnings')\n",
    "dice_game_prob.barh('My winnings')"
   ]
  },
  {
   "cell_type": "code",
   "execution_count": null,
   "metadata": {},
   "outputs": [],
   "source": [
    "game_outcomes = make_array()\n",
    "\n",
    "for i in np.arange(100):\n",
    "    game_outcomes = np.append(game_outcomes, simulate_one_round())\n",
    "    \n",
    "results = Table().with_column('My winnings', game_outcomes)\n",
    "\n",
    "results.group('My winnings').barh('My winnings')\n",
    "dice_game_prob.barh('My winnings')"
   ]
  },
  {
   "cell_type": "code",
   "execution_count": null,
   "metadata": {},
   "outputs": [],
   "source": [
    "game_outcomes = make_array()\n",
    "\n",
    "for i in np.arange(1000):\n",
    "    game_outcomes = np.append(game_outcomes, simulate_one_round())\n",
    "    \n",
    "results = Table().with_column('My winnings', game_outcomes)\n",
    "\n",
    "results.group('My winnings').barh('My winnings')\n",
    "dice_game_prob.barh('My winnings')"
   ]
  },
  {
   "cell_type": "code",
   "execution_count": null,
   "metadata": {},
   "outputs": [],
   "source": [
    "game_outcomes = make_array()\n",
    "\n",
    "for i in np.arange(10000):\n",
    "    game_outcomes = np.append(game_outcomes, simulate_one_round())\n",
    "    \n",
    "results = Table().with_column('My winnings', game_outcomes)\n",
    "\n",
    "results.group('My winnings').barh('My winnings')\n",
    "dice_game_prob.barh('My winnings')"
   ]
  },
  {
   "cell_type": "markdown",
   "metadata": {},
   "source": [
    "## Random Sampling ##"
   ]
  },
  {
   "cell_type": "code",
   "execution_count": null,
   "metadata": {},
   "outputs": [],
   "source": [
    "music = Table.read_table('music.csv')\n",
    "music = music.with_column('Row', np.arange(music.num_rows)).move_to_start('Row')\n",
    "music"
   ]
  },
  {
   "cell_type": "code",
   "execution_count": null,
   "metadata": {},
   "outputs": [],
   "source": [
    "music.where('genre', 'Rap') "
   ]
  },
  {
   "cell_type": "code",
   "execution_count": null,
   "metadata": {},
   "outputs": [],
   "source": [
    "music.take(make_array(34, 6321, 10040))"
   ]
  },
  {
   "cell_type": "code",
   "execution_count": null,
   "metadata": {},
   "outputs": [],
   "source": [
    "music.take(np.arange(0, music.num_rows, 1000))"
   ]
  },
  {
   "cell_type": "code",
   "execution_count": null,
   "metadata": {},
   "outputs": [],
   "source": [
    "start = np.random.choice(np.arange(1000))\n",
    "systematic_sample = music.take(np.arange(start, music.num_rows, 1000))\n",
    "systematic_sample"
   ]
  },
  {
   "cell_type": "markdown",
   "metadata": {},
   "source": [
    "## Large Random Samples ##"
   ]
  },
  {
   "cell_type": "code",
   "execution_count": null,
   "metadata": {},
   "outputs": [],
   "source": [
    "music.hist('duration')"
   ]
  },
  {
   "cell_type": "code",
   "execution_count": null,
   "metadata": {},
   "outputs": [],
   "source": [
    "music_bins = np.arange(0, 800, 25)\n",
    "music.hist('duration', bins=music_bins)"
   ]
  },
  {
   "cell_type": "code",
   "execution_count": null,
   "metadata": {},
   "outputs": [],
   "source": [
    "min(music.column('duration'))"
   ]
  },
  {
   "cell_type": "code",
   "execution_count": null,
   "metadata": {},
   "outputs": [],
   "source": [
    "max(music.column('duration'))"
   ]
  },
  {
   "cell_type": "code",
   "execution_count": null,
   "metadata": {},
   "outputs": [],
   "source": [
    "np.average(music.column('duration'))"
   ]
  },
  {
   "cell_type": "code",
   "execution_count": null,
   "metadata": {},
   "outputs": [],
   "source": [
    "music.sample(10).hist('duration', bins = music_bins)"
   ]
  },
  {
   "cell_type": "code",
   "execution_count": null,
   "metadata": {},
   "outputs": [],
   "source": [
    "music.sample(1000).hist('duration', bins = music_bins)"
   ]
  },
  {
   "cell_type": "markdown",
   "metadata": {},
   "source": [
    "## Simulating Statistics ##"
   ]
  },
  {
   "cell_type": "code",
   "execution_count": null,
   "metadata": {},
   "outputs": [],
   "source": [
    "np.median(music.column('duration'))"
   ]
  },
  {
   "cell_type": "code",
   "execution_count": null,
   "metadata": {},
   "outputs": [],
   "source": [
    "np.median(music.sample(10).column('duration'))"
   ]
  },
  {
   "cell_type": "code",
   "execution_count": null,
   "metadata": {},
   "outputs": [],
   "source": [
    "def sample_median(size):\n",
    "    return np.median(music.sample(size).column('duration'))"
   ]
  },
  {
   "cell_type": "code",
   "execution_count": null,
   "metadata": {},
   "outputs": [],
   "source": [
    "sample_median(10)"
   ]
  },
  {
   "cell_type": "code",
   "execution_count": null,
   "metadata": {},
   "outputs": [],
   "source": [
    "sample_medians_array = make_array()\n",
    "\n",
    "for i in np.arange(1000):\n",
    "    new_median = sample_median(10)\n",
    "    sample_medians_array = np.append(sample_medians_array, new_median)"
   ]
  },
  {
   "cell_type": "code",
   "execution_count": null,
   "metadata": {},
   "outputs": [],
   "source": [
    "Table().with_column(\n",
    "    'Sample medians', sample_medians_array\n",
    ").hist(bins = np.arange(120,350, 10))"
   ]
  },
  {
   "cell_type": "code",
   "execution_count": null,
   "metadata": {},
   "outputs": [],
   "source": [
    "sample_medians_array = make_array()\n",
    "\n",
    "for i in np.arange(1000):\n",
    "    new_median = sample_median(1000)\n",
    "    sample_medians_array = np.append(sample_medians_array, new_median)"
   ]
  },
  {
   "cell_type": "code",
   "execution_count": null,
   "metadata": {},
   "outputs": [],
   "source": [
    "Table().with_column(\n",
    "    'Sample medians', sample_medians_array\n",
    ").hist(bins = np.arange(120,350, 10))"
   ]
  },
  {
   "cell_type": "code",
   "execution_count": null,
   "metadata": {},
   "outputs": [],
   "source": [
    "Table().with_column(\n",
    "    'Sample medians', sample_medians_array\n",
    ").hist(bins = np.arange(220,240, 1))"
   ]
  }
 ],
 "metadata": {
  "anaconda-cloud": {},
  "kernelspec": {
   "display_name": "Python 3 (ipykernel)",
   "language": "python",
   "name": "python3"
  },
  "language_info": {
   "codemirror_mode": {
    "name": "ipython",
    "version": 3
   },
   "file_extension": ".py",
   "mimetype": "text/x-python",
   "name": "python",
   "nbconvert_exporter": "python",
   "pygments_lexer": "ipython3",
   "version": "3.9.7"
  }
 },
 "nbformat": 4,
 "nbformat_minor": 4
}
