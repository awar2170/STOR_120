{
 "cells": [
  {
   "cell_type": "markdown",
   "metadata": {},
   "source": [
    "# STOR 120 - Homework 6: Probability, Simulation, Estimation, and Assessing Models"
   ]
  },
  {
   "cell_type": "markdown",
   "metadata": {},
   "source": [
    "**Reading**: \n",
    "* [Randomness](https://www.inferentialthinking.com/chapters/09/Randomness.html) \n",
    "* [Sampling and Empirical Distributions](https://www.inferentialthinking.com/chapters/10/Sampling_and_Empirical_Distributions.html)\n",
    "* [Testing Hypotheses](https://www.inferentialthinking.com/chapters/11/Testing_Hypotheses.html)"
   ]
  },
  {
   "cell_type": "markdown",
   "metadata": {},
   "source": [
    "Please complete this notebook by filling in the cells provided. Before you begin, execute the following cell. \n",
    "\n",
    "Directly sharing answers is not okay, but discussing problems with the course staff or with other students is encouraged.\n",
    "\n",
    "For all problems that you must write out explanations and sentences for, you **must** provide your answer in the designated space. Moreover, throughout this homework and all future ones, please be sure to not re-assign variables throughout the notebook! For example, if you use `max_temperature` in your answer to one question, do not reassign it later on."
   ]
  },
  {
   "cell_type": "code",
   "execution_count": null,
   "metadata": {},
   "outputs": [],
   "source": [
    "# Don't change this cell; just run it. \n",
    "\n",
    "import numpy as np\n",
    "from datascience import *\n",
    "\n",
    "# These lines do some fancy plotting magic.\n",
    "import matplotlib\n",
    "%matplotlib inline\n",
    "import matplotlib.pyplot as plt\n",
    "plt.style.use('fivethirtyeight')\n",
    "import warnings\n",
    "warnings.simplefilter('ignore', FutureWarning)"
   ]
  },
  {
   "cell_type": "markdown",
   "metadata": {},
   "source": [
    "## 1. Probability\n"
   ]
  },
  {
   "cell_type": "markdown",
   "metadata": {},
   "source": [
    "We will be testing some probability concepts that were introduced in lecture. For all of the following problems, we will introduce a problem statement and give you a proposed answer. You must assign the provided variable to one of the following three integers, depending on whether the proposed answer is too low, correct, or too high. \n",
    "\n",
    "1. Assign the variable to 1 if you believe our proposed answer is too low.\n",
    "2. Assign the variable to 2 if you believe our proposed answer is correct.\n",
    "3. Assign the variable to 3 if you believe our proposed answer is too high.\n",
    "\n",
    "\n",
    "You are more than welcome to create more cells across this notebook to use for arithmetic operations "
   ]
  },
  {
   "cell_type": "markdown",
   "metadata": {},
   "source": [
    "**Question 1.** [Pass the Pigs](https://en.wikipedia.org/wiki/Pass_the_Pigs) is a dice game using asymmetrical throwing dice (shaped like pigs). Each turn involves one player throwing two model pigs, each of which has a dot on one side. The player gains or loses points based on the way the pigs land. Each turn lasts until the player throwing either rolls the pigs in a way that wipes out their current turn score, wipes out their total game score, or decides to stop their turn, add their turn score to their total score and pass the pigs to the next player. The winner is the first player to reach a predetermined total score. When rolling one pig there are six outcomes with the following (approximate) probabilities:\n",
    "\n",
    "Position       | Probability | Description\n",
    "---------------|-------------|-------------------------------------------------\n",
    "Side (no dot)  | 0.3490      | The pig is lying on its side without a dot\n",
    "Side (dot)     | 0.3020      | The pig is lying on its side with a dot\n",
    "Razorback      | 0.2240      | The pig is lying on its back\n",
    "Trotter        | 0.0880      | The pig is standing upright\n",
    "Snouter        | 0.0300      | The pig is leaning on its snout\n",
    "Leaning Jowler | 0.0061      | Jowler - The pig is resting on its snout and ear\n",
    "\n",
    "You roll one pig 10 times. What is the chance of getting 10 Razorbacks?\n",
    "\n",
    "Our proposed answer: $$\\left({0.2240}\\right)^{10}$$\n",
    "\n",
    "Assign `ten_razorbackss` to either 1, 2, or 3 depending on if you think our answer is too low, correct, or too high\n",
    "\n",
    "<!--\n",
    "BEGIN QUESTION\n",
    "name: q1_1\n",
    "manual: false\n",
    "-->"
   ]
  },
  {
   "cell_type": "code",
   "execution_count": null,
   "metadata": {},
   "outputs": [],
   "source": [
    "ten_razorbacks = ...\n",
    "ten_razorbacks"
   ]
  },
  {
   "cell_type": "markdown",
   "metadata": {},
   "source": [
    "**Question 2.** Take the same problem set-up as before, rolling one pig 10 times. What is the chance that in your 10 rolls the only positions that you roll are (some combination of) `Side (no dot)` and `Side (dot)`?\n",
    "\n",
    "Our proposed answer: $$(0.3490)^{10} + (0.3020)^{10}$$\n",
    "\n",
    "Assign `only_sides` to either 1, 2, or 3. \n",
    "\n",
    "<!--\n",
    "BEGIN QUESTION\n",
    "name: q1_2\n",
    "manual: false\n",
    "-->"
   ]
  },
  {
   "cell_type": "code",
   "execution_count": null,
   "metadata": {},
   "outputs": [],
   "source": [
    "only_sides = ...\n",
    "only_sides"
   ]
  },
  {
   "cell_type": "markdown",
   "metadata": {},
   "source": [
    "**Question 3.** Assume we are picking a lottery ticket. We must choose three distinct numbers from 1 to 1000 and write them on a ticket. Next, someone picks three numbers one by one from a bowl with numbers from 1 to 1000 each time without putting the previous number back in. We win if our numbers are all called in order. \n",
    "\n",
    "If we decide to play the game and pick our numbers as 12, 140, and 890, what is the chance that we **do not** win? \n",
    "\n",
    "Our proposed answer: $$1 - \\left(\\frac{3}{1000}\\right)^3$$\n",
    "\n",
    "Assign `lottery` to either 1, 2, or 3. \n",
    "\n",
    "<!--\n",
    "BEGIN QUESTION\n",
    "name: q1_3\n",
    "manual: false\n",
    "-->"
   ]
  },
  {
   "cell_type": "code",
   "execution_count": null,
   "metadata": {},
   "outputs": [],
   "source": [
    "lottery = ..."
   ]
  },
  {
   "cell_type": "markdown",
   "metadata": {},
   "source": [
    "**Question 4.** Assume we have two lists, list A and list B. List A contains the numbers [20,10,30], while list B contains the numbers [10,30,20,40,30]. We choose one number from list A randomly and one number from list B randomly. What is the chance that the number we chose from list B is larger than the number we drew from list A?\n",
    "\n",
    "Our proposed solution: $$2/3$$\n",
    "\n",
    "Assign `list_chances` to either 1, 2, or 3. \n",
    "\n",
    "*Hint: Consider the different possible ways that the items in List B can be greater than items in List A. Try working out your thoughts with a pencil and paper, what do you think the correct solutions will be close to?*\n",
    "\n",
    "<!--\n",
    "BEGIN QUESTION\n",
    "name: q1_4\n",
    "manual: false\n",
    "-->"
   ]
  },
  {
   "cell_type": "code",
   "execution_count": null,
   "metadata": {},
   "outputs": [],
   "source": [
    "list_chances = ..."
   ]
  },
  {
   "cell_type": "markdown",
   "metadata": {
    "tags": []
   },
   "source": [
    "## 2. Monkeys Typing Shakespeare\n",
    "##### (...or at least the string `STOR120!`)"
   ]
  },
  {
   "cell_type": "markdown",
   "metadata": {},
   "source": [
    "A monkey is banging repeatedly on the keys of a typewriter. Each time, the monkey is equally likely to hit any of the 26 lowercase letters of the English alphabet, 26 uppercase letters of the English alphabet, any number between 0-9 (inclusive), the space bar, and the following punctuation: `.`, `?`, `!` `,`, regardless of what it has hit before. There are no other keys on the keyboard.  \n",
    "\n",
    "This question is inspired by a mathematical theorem called the Infinite monkey theorem (<https://en.wikipedia.org/wiki/Infinite_monkey_theorem>), which postulates that if you put a monkey in the situation described above for an infinite time, they will eventually type out all of Shakespeare’s works.\n",
    "\n",
    "**Question 1.** Suppose the monkey hits the keyboard 8 times.  Compute the chance that the monkey types the sequence `STOR120!`.  (Call this `STOR120_em_chance`.) Use algebra and type in an arithmetic equation that Python can evalute.\n",
    "\n",
    "<!--\n",
    "BEGIN QUESTION\n",
    "name: q2_1\n",
    "manual: false\n",
    "-->"
   ]
  },
  {
   "cell_type": "code",
   "execution_count": null,
   "metadata": {},
   "outputs": [],
   "source": [
    "STOR120_em_chance = ...\n",
    "STOR120_em_chance"
   ]
  },
  {
   "cell_type": "markdown",
   "metadata": {},
   "source": [
    "**Question 2.** Write a function called `simulate_key_strike`.  It should take **no arguments**, and it should return a random one-character string that is equally likely to be any of the 26 lower-case English letters, 26 upper-case English letters, any number between 0-9 (inclusive), the space bar, or the following punctuation: `.`, `?`, `!` `,`.\n",
    "\n",
    "<!--\n",
    "BEGIN QUESTION\n",
    "name: q2_2\n",
    "manual: false\n",
    "-->"
   ]
  },
  {
   "cell_type": "code",
   "execution_count": null,
   "metadata": {},
   "outputs": [],
   "source": [
    "# We have provided the code below to compute a list called keys,\n",
    "# containing all the lower-case English letters, upper-case English letters, \n",
    "# the digits 0-9 (inclusive), blank sapce, and the given punctuation\n",
    "\n",
    "import string\n",
    "keys = list(string.ascii_letters + string.digits + ' ' + '.' + '?' + '!' + ',')\n",
    "\n",
    "def simulate_key_strike():\n",
    "    \"\"\"Simulates one random key strike.\"\"\"\n",
    "    ...\n",
    "\n",
    "# An example call to your function:\n",
    "simulate_key_strike()"
   ]
  },
  {
   "cell_type": "markdown",
   "metadata": {
    "editable": false
   },
   "source": [
    "**Question 3.** Write a function called `simulate_several_key_strikes`.  It should take one argument: an integer specifying the number of key strikes to simulate. It should return a string containing that many characters, each one obtained from simulating a key strike by the monkey.\n",
    "\n",
    "*Hint:* If you make a list or array of the simulated key strikes called `key_strikes_array`, you can convert that to a string by calling `\"\".join(key_strikes_array)`\n",
    "\n",
    "<!--\n",
    "BEGIN QUESTION\n",
    "name: q2_3\n",
    "manual: false\n",
    "-->"
   ]
  },
  {
   "cell_type": "code",
   "execution_count": null,
   "metadata": {},
   "outputs": [],
   "source": [
    "def simulate_several_key_strikes(num_strikes):\n",
    "    ...\n",
    "\n",
    "# An example call to your function:\n",
    "simulate_several_key_strikes(8)"
   ]
  },
  {
   "cell_type": "markdown",
   "metadata": {},
   "source": [
    "**Question 4.** Call `simulate_several_key_strikes` 5000 times, each time simulating the monkey striking 8 keys.  Compute the proportion of times the monkey types `STOR120!`, calling that proportion `data_proportion`.\n",
    "\n",
    "<!--\n",
    "BEGIN QUESTION\n",
    "name: q2_4\n",
    "manual: false\n",
    "-->"
   ]
  },
  {
   "cell_type": "code",
   "execution_count": null,
   "metadata": {},
   "outputs": [],
   "source": [
    "...\n",
    "data_proportion"
   ]
  },
  {
   "cell_type": "markdown",
   "metadata": {},
   "source": [
    "**Question 5.** Check the value your simulation computed for `data_proportion`.  Is your simulation a good way to estimate the chance that the monkey types `\"STOR120!\"` in 8 strikes (the answer to question 1)?  Why or why not?\n",
    "\n",
    "<!--\n",
    "BEGIN QUESTION\n",
    "name: q2_5\n",
    "manual: true\n",
    "-->\n",
    "<!-- EXPORT TO PDF -->"
   ]
  },
  {
   "cell_type": "markdown",
   "metadata": {
    "export_pdf": true,
    "manual_grade": true,
    "manual_problem_id": "monkeys_5"
   },
   "source": [
    "*Write your answer here, replacing this text.*"
   ]
  },
  {
   "cell_type": "markdown",
   "metadata": {},
   "source": [
    "**Question 6.** Compute the chance that the monkey types  `!` at least once in the 8 strikes.  Call it `em_chance`. Use algebra and type in an arithmetic equation that Python can evalute. \n",
    "\n",
    "<!--\n",
    "BEGIN QUESTION\n",
    "name: q2_6\n",
    "manual: false\n",
    "-->"
   ]
  },
  {
   "cell_type": "code",
   "execution_count": null,
   "metadata": {},
   "outputs": [],
   "source": [
    "em_chance = ...\n",
    "em_chance"
   ]
  },
  {
   "cell_type": "markdown",
   "metadata": {},
   "source": [
    "**Question 7.** Do you think that a computer simulation is more or less effective to estimate `em_chance` compared to when we tried to estimate `STOR120_em_chance` this way? Why or why not? (You don't need to write a simulation, but it is an interesting exercise.)\n",
    "\n",
    "<!--\n",
    "BEGIN QUESTION\n",
    "name: q2_7\n",
    "manual: true\n",
    "-->\n",
    "<!-- EXPORT TO PDF -->"
   ]
  },
  {
   "cell_type": "markdown",
   "metadata": {
    "export_pdf": true,
    "manual_grade": true,
    "manual_problem_id": "monkeys_7"
   },
   "source": [
    "*Write your answer here, replacing this text.*"
   ]
  },
  {
   "cell_type": "markdown",
   "metadata": {},
   "source": [
    "## 3. Sampling Basketball Players\n"
   ]
  },
  {
   "cell_type": "markdown",
   "metadata": {},
   "source": [
    "This exercise uses salary data and game statistics for basketball players from the 2019-2020 NBA season. The data was collected from [Basketball-Reference](http://www.basketball-reference.com).\n",
    "\n",
    "Run the next cell to load the two datasets."
   ]
  },
  {
   "cell_type": "code",
   "execution_count": null,
   "metadata": {},
   "outputs": [],
   "source": [
    "player_data2 = Table.read_table('player_data2.csv')\n",
    "salary_data2 = Table.read_table('salary_data2.csv')\n",
    "player_data2.show(3)\n",
    "salary_data2.show(3)"
   ]
  },
  {
   "cell_type": "markdown",
   "metadata": {},
   "source": [
    "**Question 1.** We would like to relate players' game statistics to their salaries.  Construct a table called `full_data2` that includes one row for each player who is listed in both `player_data2` and `salary_data2`.  It should include all the columns from `player_data2` and `salary_data2`, except the `\"Name\"` column.\n",
    "\n",
    "<!--\n",
    "BEGIN QUESTION\n",
    "name: q3_1\n",
    "manual: false\n",
    "-->"
   ]
  },
  {
   "cell_type": "code",
   "execution_count": null,
   "metadata": {
    "scrolled": true
   },
   "outputs": [],
   "source": [
    "full_data2 = ...\n",
    "full_data2"
   ]
  },
  {
   "cell_type": "markdown",
   "metadata": {},
   "source": [
    "Basketball teams would like to hire players who perform well but don't command high salaries.  From this perspective, a very crude measure of a player's *value* to their team is the number of 3 pointers and free throws the player scored in a season for every **\\$100000 of salary** (*Note*: the `Salary` column is in dollars, not hundreds of thousands of dollars). For example, Al Horford scored an average of 5.2 points for 3 pointers and free throws combined, and has a salary of **\\$28 million.** This is equivalent to 280 hundreds of thousands of dollars, so his value is $\\frac{5.2}{280}$. The formula is:\n",
    "\n",
    "$$\\frac{\\text{\"PTS\"} - 2 * \\text{\"2P\"}}{\\text{\"Salary\"}\\ / \\ 100000}$$\n",
    "\n",
    "**Question 2.** Create a table called `full_data2_with_value` that's a copy of `full_data2`, with an extra column called `\"Value\"` containing each player's value (according to our crude measure).  Then make a histogram of players' values.  **Specify bins that make the histogram informative.** \n",
    "\n",
    "*Just so you know:* Informative histograms contain a majority of the data and **exclude outliers**\n",
    "\n",
    "<!--\n",
    "BEGIN QUESTION\n",
    "name: q3_2\n",
    "manual: true\n",
    "-->\n",
    "<!-- EXPORT TO PDF -->"
   ]
  },
  {
   "cell_type": "code",
   "execution_count": null,
   "metadata": {
    "export_pdf": true,
    "manual_grade": true,
    "manual_problem_id": "sampling_players_2"
   },
   "outputs": [],
   "source": [
    "bins = np.arange(0, 0.7, .1) # Use this provided bins when you make your histogram\n",
    "full_data2_with_value = ...\n",
    "..."
   ]
  },
  {
   "cell_type": "markdown",
   "metadata": {},
   "source": [
    "Now suppose we weren't able to find out every player's salary (perhaps it was too costly to interview each player).  Instead, we have gathered a *simple random sample* of 50 players' salaries.  The cell below loads those data."
   ]
  },
  {
   "cell_type": "code",
   "execution_count": null,
   "metadata": {
    "scrolled": true
   },
   "outputs": [],
   "source": [
    "sample_salary_data2 = Table.read_table(\"sample_salary_data2.csv\")\n",
    "sample_salary_data2.show(3)"
   ]
  },
  {
   "cell_type": "markdown",
   "metadata": {},
   "source": [
    "**Question 3.** Make a histogram of the values of the players in `sample_salary_data2`, using the same method for measuring value we used in question 2. Make sure to specify the units again in the histogram as stated in the previous problem. **Use the same bins, too.**  \n",
    "\n",
    "*Hint:* This will take several steps.\n",
    "\n",
    "<!--\n",
    "BEGIN QUESTION\n",
    "name: q3_3\n",
    "manual: true\n",
    "-->\n",
    "<!-- EXPORT TO PDF -->"
   ]
  },
  {
   "cell_type": "code",
   "execution_count": null,
   "metadata": {
    "export_pdf": true
   },
   "outputs": [],
   "source": [
    "sample_data2 = player_data2.join('Player', sample_salary_data2, 'Name')\n",
    "sample_data2_with_value = ...\n",
    "..."
   ]
  },
  {
   "cell_type": "markdown",
   "metadata": {},
   "source": [
    "## 4. Earthquakes\n"
   ]
  },
  {
   "cell_type": "markdown",
   "metadata": {},
   "source": [
    "The next cell loads a table containing information about **every earthquake with a magnitude above 5** in 2021 (smaller earthquakes are generally not felt, only recorded by very sensitive equipment), compiled by the US Geological Survey. (source: https://earthquake.usgs.gov/earthquakes/search/)"
   ]
  },
  {
   "cell_type": "code",
   "execution_count": null,
   "metadata": {
    "ExecuteTime": {
     "end_time": "2018-02-17T03:01:37.654915Z",
     "start_time": "2018-02-17T03:01:37.599746Z"
    }
   },
   "outputs": [],
   "source": [
    "earthquakes = Table().read_table('earthquakes_2021.csv').select(['time', 'mag', 'place'])\n",
    "earthquakes"
   ]
  },
  {
   "cell_type": "markdown",
   "metadata": {},
   "source": [
    "If we were studying all human-detectable 2021 earthquakes and had access to the above data, we’d be in good shape - however, if the USGS didn’t publish the full data, we could still learn something about earthquakes from just a smaller subsample. If we gathered our sample correctly, we could use that subsample to get an idea about the distribution of magnitudes (above 5, of course) throughout the year!\n",
    "\n",
    "In the following lines of code, we take two different samples from the earthquake table, and calculate the mean of the magnitudes of these earthquakes."
   ]
  },
  {
   "cell_type": "code",
   "execution_count": null,
   "metadata": {
    "editable": false
   },
   "outputs": [],
   "source": [
    "sample1 = earthquakes.sort('mag', descending = True).take(np.arange(100))\n",
    "sample1_magnitude_mean = np.mean(sample1.column('mag'))\n",
    "sample2 = earthquakes.take(np.arange(100))\n",
    "sample2_magnitude_mean = np.mean(sample2.column('mag'))\n",
    "[sample1_magnitude_mean, sample2_magnitude_mean]"
   ]
  },
  {
   "cell_type": "markdown",
   "metadata": {
    "editable": false
   },
   "source": [
    "**Question 1.**  Are these samples representative of the population of earthquakes in the original table (that is, the should we expect the mean to be close to the population mean)? \n",
    "\n",
    "*Hint:* Consider the ordering of the `earthquakes` table. \n",
    "\n",
    "<!--\n",
    "BEGIN QUESTION\n",
    "name: q4_1\n",
    "manual: true\n",
    "-->\n",
    "<!-- EXPORT TO PDF -->"
   ]
  },
  {
   "cell_type": "markdown",
   "metadata": {
    "export_pdf": true,
    "manual_problem_id": "earthquakes_1"
   },
   "source": [
    "*Write your answer here, replacing this text.*"
   ]
  },
  {
   "cell_type": "markdown",
   "metadata": {},
   "source": [
    "**Question 2.** Write code to produce a sample of size 250 that is representative of the population. Then, take the mean of the magnitudes of the earthquakes in this sample. Assign these to `representative_sample` and `representative_mean` respectively. \n",
    "\n",
    "*Hint:* In class, we learned what kind of samples should be used to properly represent the population.\n",
    "\n",
    "\n",
    "<!--\n",
    "BEGIN QUESTION\n",
    "name: q4_2\n",
    "manual: false\n",
    "-->"
   ]
  },
  {
   "cell_type": "code",
   "execution_count": null,
   "metadata": {
    "ExecuteTime": {
     "end_time": "2018-02-17T03:01:37.677950Z",
     "start_time": "2018-02-17T03:01:37.667925Z"
    }
   },
   "outputs": [],
   "source": [
    "representative_sample = ...\n",
    "representative_mean = ...\n",
    "representative_mean"
   ]
  },
  {
   "cell_type": "markdown",
   "metadata": {},
   "source": [
    "**Question 3.** Suppose we want to figure out what the biggest magnitude earthquake was in 2021, but we only have our representative sample of 250. Let’s see if trying to find the biggest magnitude in the population from a random sample of 250 is a reasonable idea!\n",
    "\n",
    "Write code that takes many random samples from the `earthquakes` table and finds the maximum of each sample. You should take a random sample of size 250 and do this 5000 times. Assign the array of maximum magnitudes you find to `maximums`.\n",
    "\n",
    "<!--\n",
    "BEGIN QUESTION\n",
    "name: q4_3\n",
    "manual: false\n",
    "-->"
   ]
  },
  {
   "cell_type": "code",
   "execution_count": null,
   "metadata": {
    "ExecuteTime": {
     "end_time": "2018-02-17T03:01:44.666538Z",
     "start_time": "2018-02-17T03:01:37.708032Z"
    }
   },
   "outputs": [],
   "source": [
    "maximums = ...\n",
    "for i in np.arange(5000): \n",
    "    ..."
   ]
  },
  {
   "cell_type": "code",
   "execution_count": null,
   "metadata": {},
   "outputs": [],
   "source": [
    "#Histogram of your maximums\n",
    "Table().with_column('Largest magnitude in sample', maximums).hist('Largest magnitude in sample', bins = np.arange(6, 9.1, 0.1)) "
   ]
  },
  {
   "cell_type": "markdown",
   "metadata": {},
   "source": [
    "**Question 4.** Now find the magnitude of the actual strongest earthquake in 2021 (not the maximum of a sample). This will help us determine whether a random sample of size 250 is likely to help you determine the largest magnitude earthquake in the population.\n",
    "\n",
    "<!--\n",
    "BEGIN QUESTION\n",
    "name: q4_4\n",
    "manual: false\n",
    "-->"
   ]
  },
  {
   "cell_type": "code",
   "execution_count": null,
   "metadata": {
    "ExecuteTime": {
     "end_time": "2018-02-17T03:01:44.696619Z",
     "start_time": "2018-02-17T03:01:44.689602Z"
    }
   },
   "outputs": [],
   "source": [
    "strongest_earthquake_magnitude = ...\n",
    "strongest_earthquake_magnitude"
   ]
  },
  {
   "cell_type": "markdown",
   "metadata": {},
   "source": [
    "**Question 5.** \n",
    "Explain whether you believe you can accurately use a sample size of 250 to determine the maximum. What is one problem with using the maximum as your estimator? Use the histogram above to help answer. \n",
    "\n",
    "<!--\n",
    "BEGIN QUESTION\n",
    "name: q4_5\n",
    "manual: true\n",
    "-->\n",
    "<!-- EXPORT TO PDF -->"
   ]
  },
  {
   "cell_type": "markdown",
   "metadata": {
    "export_pdf": true,
    "manual_problem_id": "earthquakes_4"
   },
   "source": [
    "*Write your answer here, replacing this text.*"
   ]
  },
  {
   "cell_type": "markdown",
   "metadata": {},
   "source": [
    "## 5. Assessing Jade's Models\n",
    "#### Games with Jade"
   ]
  },
  {
   "cell_type": "markdown",
   "metadata": {},
   "source": [
    "Our friend Jade comes over and asks us to play a game with her. The game works like this: \n",
    "\n",
    "> We will draw randomly with replacement from a simplified 24 card deck with 4 types of *good* cards (A, J, Q, K), and 2 types of *bad* cards (9, 10). for each type of card, there are 4 cards in the deck, with one in each suit (\"♠︎\", \"♣︎\", \"♥︎\", or \"♦︎\"). We draw cards with replacement 24 times, and if the number of *bad* cards is greater than or equal to 8, we lose.\n",
    "> \n",
    "> Otherwise, Jade wins.\n",
    "\n",
    "We play the game once and we lose, observing 14 total *bad* cards. We are angry and accuse Jade of cheating! Jade is adamant, however, that the deck is fair.\n",
    "\n",
    "Jade's model claims that there is an equal chance of getting any of the cards (9♠︎, 10♠︎, J♠︎, Q♠︎, K♠︎, A♠︎, 9♣︎, 10♣︎, J♣︎, Q♣︎, K♣︎, A♣︎, 9♥︎, 10♥︎, J♥︎, Q♥︎, K♥︎, A♥︎, 9♦︎, 10♦︎, J♦︎, Q♦︎, K♦︎, A♦︎), but we do not believe her. We believe that the deck is clearly rigged, with *bad* cards (9♠︎, 10♠︎, 9♣︎, 10♣︎, 9♥︎, 10♥︎, 9♦︎, 10♦︎) being more likely than the remaining cards."
   ]
  },
  {
   "cell_type": "markdown",
   "metadata": {},
   "source": [
    "#### Question 1\n",
    "Assign `deck_model_probabilities` to a two-item array containing the chance of drawing a *good* card as the first element, and the chance of drawing a *bad* card as the second element under Jade's model. Since we're working with probabilities, make sure your values are between 0 and 1. \n",
    "\n",
    "<!--\n",
    "BEGIN QUESTION\n",
    "name: q5_1\n",
    "manual: false\n",
    "-->"
   ]
  },
  {
   "cell_type": "code",
   "execution_count": null,
   "metadata": {},
   "outputs": [],
   "source": [
    "deck_model_probabilities = ...\n",
    "deck_model_probabilities"
   ]
  },
  {
   "cell_type": "markdown",
   "metadata": {},
   "source": [
    "**Question 2**\n",
    "\n",
    "We believe Jade's model is incorrect. In particular, we believe there to be a larger chance of getting a *bad* card. Which of the following statistics can we use during our simulation to test between the model and our alternative? Assign `statistic_choice` to the correct answer. \n",
    "\n",
    "1. The actual number of *bad* cards we get in 24 draws\n",
    "2. The distance (absolute value) between the actual number of *bad* cards in 24 draws and the expected number of *bad* cards in 24 draws (8)\n",
    "3. The expected number of *bad* cards in 24 draws (8)\n",
    "\n",
    "\n",
    "<!--\n",
    "BEGIN QUESTION\n",
    "name: q5_2\n",
    "manual: false\n",
    "-->"
   ]
  },
  {
   "cell_type": "code",
   "execution_count": null,
   "metadata": {},
   "outputs": [],
   "source": [
    "statistic_choice = ...\n",
    "statistic_choice"
   ]
  },
  {
   "cell_type": "markdown",
   "metadata": {},
   "source": [
    "#### Question 3\n",
    "\n",
    "Define the function `deck_simulation_and_statistic`, which, given a sample size and an array of model proportions (like the one you created in Question 1), returns the number of *bad* cards in one simulation of drawing a card under the model specified in `model_proportions`. \n",
    "\n",
    "*Hint:* Think about how you can use the function `sample_proportions`. \n",
    "\n",
    "<!--\n",
    "BEGIN QUESTION\n",
    "name: q5_3\n",
    "manual: false\n",
    "-->"
   ]
  },
  {
   "cell_type": "code",
   "execution_count": null,
   "metadata": {},
   "outputs": [],
   "source": [
    "def deck_simulation_and_statistic(sample_size, model_proportions):\n",
    "    ...\n",
    "\n",
    "deck_simulation_and_statistic(24, deck_model_probabilities)"
   ]
  },
  {
   "cell_type": "markdown",
   "metadata": {},
   "source": [
    "**Question 4** \n",
    "\n",
    "Use your function from above to simulate the drawing of 24 cards 5000 times under the proportions that you specified in Question 1. Keep track of all of your statistics in `deck_statistics`. \n",
    "\n",
    "<!--\n",
    "BEGIN QUESTION\n",
    "name: q5_4\n",
    "manual: false\n",
    "-->"
   ]
  },
  {
   "cell_type": "code",
   "execution_count": null,
   "metadata": {},
   "outputs": [],
   "source": [
    "repetitions = 5000 \n",
    "...\n",
    "\n",
    "deck_statistics"
   ]
  },
  {
   "cell_type": "markdown",
   "metadata": {},
   "source": [
    "Let’s take a look at the distribution of simulated statistics."
   ]
  },
  {
   "cell_type": "code",
   "execution_count": null,
   "metadata": {},
   "outputs": [],
   "source": [
    "#Draw a distribution of statistics \n",
    "Table().with_column('Deck Statistics', deck_statistics).hist(bins = np.arange(-0.5, 25, 1)"
   ]
  },
  {
   "cell_type": "markdown",
   "metadata": {
    "editable": false
   },
   "source": [
    "#### Question 5\n",
    "Given your observed value, do you believe that Jade's model is reasonable, or is our alternative more likely? Explain your answer using the distribution drawn in the previous problem. \n",
    "\n",
    "<!--\n",
    "BEGIN QUESTION\n",
    "name: q5_5\n",
    "manual: true\n",
    "-->\n",
    "<!-- EXPORT TO PDF -->"
   ]
  },
  {
   "cell_type": "markdown",
   "metadata": {
    "export_pdf": true,
    "manual_problem_id": "dice_and_coins_5"
   },
   "source": [
    "*Write your answer here, replacing this text.*"
   ]
  }
 ],
 "metadata": {
  "kernelspec": {
   "display_name": "Python 3",
   "language": "python",
   "name": "python3"
  },
  "language_info": {
   "codemirror_mode": {
    "name": "ipython",
    "version": 3
   },
   "file_extension": ".py",
   "mimetype": "text/x-python",
   "name": "python",
   "nbconvert_exporter": "python",
   "pygments_lexer": "ipython3",
   "version": "3.8.5"
  }
 },
 "nbformat": 4,
 "nbformat_minor": 4
}
