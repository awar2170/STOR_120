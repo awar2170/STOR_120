{
 "cells": [
  {
   "cell_type": "markdown",
   "metadata": {},
   "source": [
    "# Homework 5: Applying Functions and Iteration"
   ]
  },
  {
   "cell_type": "markdown",
   "metadata": {},
   "source": [
    "Please complete this notebook by filling in the cells provided. Before you begin, execute the following cell. \n",
    "\n",
    "**Throughout this homework and all future ones, please be sure to not re-assign variables throughout the notebook! For example, if you use `max_temperature` in your answer to one question, do not reassign it later on. Moreover, please be sure to only put your written answers in the provided cells.**"
   ]
  },
  {
   "cell_type": "code",
   "execution_count": 1,
   "metadata": {},
   "outputs": [],
   "source": [
    "# Don't change this cell; just run it. \n",
    "\n",
    "import numpy as np\n",
    "from datascience import *\n",
    "\n",
    "# These lines do some fancy plotting magic.\n",
    "import matplotlib\n",
    "%matplotlib inline\n",
    "import matplotlib.pyplot as plt\n",
    "plt.style.use('fivethirtyeight')\n",
    "import warnings\n",
    "warnings.simplefilter('ignore', FutureWarning)"
   ]
  },
  {
   "cell_type": "code",
   "execution_count": 22,
   "metadata": {},
   "outputs": [],
   "source": [
    "import pandas as pd"
   ]
  },
  {
   "cell_type": "markdown",
   "metadata": {},
   "source": [
    "## 1. UNC Football\n"
   ]
  },
  {
   "cell_type": "markdown",
   "metadata": {},
   "source": [
    "You will analyze how well the UNC football team performed in the 2019-2021 seasons. A football game is divided into four quarters. If the game is tied after the 4th quarter, the game goes into overtime. The number of points UNC scored in each quarter and overtime (if needed), and the number of points their opponent scored in each quarter and overtime (if needed) are stored in a table called `UNC_fb.csv`."
   ]
  },
  {
   "cell_type": "code",
   "execution_count": 46,
   "metadata": {},
   "outputs": [
    {
     "data": {
      "text/html": [
       "<table border=\"1\" class=\"dataframe\">\n",
       "    <thead>\n",
       "        <tr>\n",
       "            <th>Year</th> <th>Opponent</th> <th>UNC 1Q</th> <th>UNC 2Q</th> <th>UNC 3Q</th> <th>UNC 4Q</th> <th>UNC OT</th> <th>Opp 1Q</th> <th>Opp 2Q</th> <th>Opp 3Q</th> <th>Opp 4Q</th> <th>Opp OT</th>\n",
       "        </tr>\n",
       "    </thead>\n",
       "    <tbody>\n",
       "        <tr>\n",
       "            <td>2019</td> <td>South Carolina</td> <td>3     </td> <td>3     </td> <td>3     </td> <td>15    </td> <td>0     </td> <td>10    </td> <td>3     </td> <td>7     </td> <td>0     </td> <td>0     </td>\n",
       "        </tr>\n",
       "        <tr>\n",
       "            <td>2019</td> <td>Miami FL      </td> <td>17    </td> <td>0     </td> <td>3     </td> <td>8     </td> <td>0     </td> <td>3     </td> <td>10    </td> <td>6     </td> <td>6     </td> <td>0     </td>\n",
       "        </tr>\n",
       "        <tr>\n",
       "            <td>2019</td> <td>Wake Forest   </td> <td>0     </td> <td>0     </td> <td>3     </td> <td>15    </td> <td>0     </td> <td>7     </td> <td>14    </td> <td>0     </td> <td>3     </td> <td>0     </td>\n",
       "        </tr>\n",
       "        <tr>\n",
       "            <td>2019</td> <td>App State     </td> <td>7     </td> <td>10    </td> <td>7     </td> <td>7     </td> <td>0     </td> <td>13    </td> <td>14    </td> <td>7     </td> <td>0     </td> <td>0     </td>\n",
       "        </tr>\n",
       "        <tr>\n",
       "            <td>2019</td> <td>Clemson       </td> <td>7     </td> <td>7     </td> <td>0     </td> <td>6     </td> <td>0     </td> <td>0     </td> <td>14    </td> <td>0     </td> <td>7     </td> <td>0     </td>\n",
       "        </tr>\n",
       "        <tr>\n",
       "            <td>2019</td> <td>Georgia Tech  </td> <td>3     </td> <td>14    </td> <td>0     </td> <td>21    </td> <td>0     </td> <td>0     </td> <td>0     </td> <td>7     </td> <td>15    </td> <td>0     </td>\n",
       "        </tr>\n",
       "        <tr>\n",
       "            <td>2019</td> <td>Virgina Tech  </td> <td>10    </td> <td>7     </td> <td>7     </td> <td>7     </td> <td>10    </td> <td>7     </td> <td>14    </td> <td>0     </td> <td>10    </td> <td>12    </td>\n",
       "        </tr>\n",
       "        <tr>\n",
       "            <td>2019</td> <td>Duke          </td> <td>7     </td> <td>0     </td> <td>10    </td> <td>3     </td> <td>0     </td> <td>3     </td> <td>0     </td> <td>14    </td> <td>0     </td> <td>0     </td>\n",
       "        </tr>\n",
       "        <tr>\n",
       "            <td>2019</td> <td>Virginia      </td> <td>3     </td> <td>14    </td> <td>14    </td> <td>0     </td> <td>0     </td> <td>7     </td> <td>10    </td> <td>21    </td> <td>0     </td> <td>0     </td>\n",
       "        </tr>\n",
       "        <tr>\n",
       "            <td>2019</td> <td>Pittsburgh    </td> <td>7     </td> <td>3     </td> <td>0     </td> <td>17    </td> <td>0     </td> <td>3     </td> <td>14    </td> <td>7     </td> <td>3     </td> <td>7     </td>\n",
       "        </tr>\n",
       "    </tbody>\n",
       "</table>\n",
       "<p>... (28 rows omitted)</p>"
      ],
      "text/plain": [
       "Year | Opponent       | UNC 1Q | UNC 2Q | UNC 3Q | UNC 4Q | UNC OT | Opp 1Q | Opp 2Q | Opp 3Q | Opp 4Q | Opp OT\n",
       "2019 | South Carolina | 3      | 3      | 3      | 15     | 0      | 10     | 3      | 7      | 0      | 0\n",
       "2019 | Miami FL       | 17     | 0      | 3      | 8      | 0      | 3      | 10     | 6      | 6      | 0\n",
       "2019 | Wake Forest    | 0      | 0      | 3      | 15     | 0      | 7      | 14     | 0      | 3      | 0\n",
       "2019 | App State      | 7      | 10     | 7      | 7      | 0      | 13     | 14     | 7      | 0      | 0\n",
       "2019 | Clemson        | 7      | 7      | 0      | 6      | 0      | 0      | 14     | 0      | 7      | 0\n",
       "2019 | Georgia Tech   | 3      | 14     | 0      | 21     | 0      | 0      | 0      | 7      | 15     | 0\n",
       "2019 | Virgina Tech   | 10     | 7      | 7      | 7      | 10     | 7      | 14     | 0      | 10     | 12\n",
       "2019 | Duke           | 7      | 0      | 10     | 3      | 0      | 3      | 0      | 14     | 0      | 0\n",
       "2019 | Virginia       | 3      | 14     | 14     | 0      | 0      | 7      | 10     | 21     | 0      | 0\n",
       "2019 | Pittsburgh     | 7      | 3      | 0      | 17     | 0      | 3      | 14     | 7      | 3      | 7\n",
       "... (28 rows omitted)"
      ]
     },
     "execution_count": 46,
     "metadata": {},
     "output_type": "execute_result"
    }
   ],
   "source": [
    "# Just run this cell\n",
    "# Read in the UNC_fb csv file\n",
    "games = Table().read_table(\"../Datasets/UNC_fb.csv\")\n",
    "games"
   ]
  },
  {
   "cell_type": "markdown",
   "metadata": {},
   "source": [
    "Let's start by finding the total points each team scored in a game.\n",
    "\n",
    "**Question 1.** Write a function called `sum_scores`.  It should take five arguments, where each argument is the team's score for that quarter or overtime. It should return the team's total score for that game.\n",
    "\n",
    "\n",
    "<!--\n",
    "BEGIN QUESTION\n",
    "name: q1_1\n",
    "manual: false\n",
    "-->"
   ]
  },
  {
   "cell_type": "code",
   "execution_count": 7,
   "metadata": {},
   "outputs": [
    {
     "data": {
      "text/plain": [
       "24"
      ]
     },
     "execution_count": 7,
     "metadata": {},
     "output_type": "execute_result"
    }
   ],
   "source": [
    "def sum_scores(Q1, Q2, Q3, Q4, Q5):\n",
    "    '''Returns the total score calculated by adding up the score of each quarter and overtime'''\n",
    "    return Q1 + Q2 + Q3 + Q4 + Q5\n",
    "\n",
    "sum_scores(14, 7, 3, 0, 0) #DO NOT CHANGE THIS LINE"
   ]
  },
  {
   "cell_type": "markdown",
   "metadata": {},
   "source": [
    "**Question 2.** Create a new table `final_scores` with four columns in this *specific* order: `Year`, `Opponent`, `UNC Score`, `Opponent Score`. You will have to create the `UNC Score` and `Opponent Score` columns. Use the function `sum_scores` you just defined in the previous question for this problem.\n",
    "\n",
    "*Hint:* If you want to apply a function that takes in multiple arguments, you can pass multiple column names as arguments in `tbl.apply()`. The column values will be passed into the corresponding arguments of the function.\n",
    "\n",
    "*Tip:* If you’re running into issues creating final_scores, check that `UNC_scores` and `opponent_scores` output what you want. \n",
    "\n",
    "\n",
    "<!--\n",
    "BEGIN QUESTION\n",
    "name: q1_2\n",
    "manual: false\n",
    "-->"
   ]
  },
  {
   "cell_type": "code",
   "execution_count": 47,
   "metadata": {},
   "outputs": [],
   "source": [
    "UNC_scores = games[\"UNC 1Q\"] + games[\"UNC 2Q\"] + games[\"UNC 3Q\"] + games[\"UNC 4Q\"] + games[\"UNC OT\"]\n",
    "opponent_scores = games[\"Opp 1Q\"] + games[\"Opp 2Q\"] + games[\"Opp 3Q\"] + games[\"Opp 4Q\"] + games[\"Opp OT\"]\n",
    "final_scores = {\"Year\": games[\"Year\"], \"Opponent\": games[\"Opponent\"], \"UNC Score\": UNC_scores, \"Opponent Score\": opponent_scores}\n",
    "final_scores = pd.DataFrame(final_scores)"
   ]
  },
  {
   "cell_type": "markdown",
   "metadata": {},
   "source": [
    "We can get specific row objects from a table. You can use `tbl.row(n)` to get the `n`th row of a table. `row.item(\"column_name\")` will allow you to select the element that corresponds to `column_name` in a particular row. Here's an example:"
   ]
  },
  {
   "cell_type": "code",
   "execution_count": 27,
   "metadata": {},
   "outputs": [
    {
     "data": {
      "text/plain": [
       "Row(Year=2019, Opponent='Mercer', UNC 1Q=21, UNC 2Q=21, UNC 3Q=14, UNC 4Q=0, UNC OT=0, Opp 1Q=0, Opp 2Q=0, Opp 3Q=0, Opp 4Q=7, Opp OT=0)"
      ]
     },
     "execution_count": 27,
     "metadata": {},
     "output_type": "execute_result"
    }
   ],
   "source": [
    "# Just run this cell\n",
    "games.row(10)"
   ]
  },
  {
   "cell_type": "code",
   "execution_count": 28,
   "metadata": {},
   "outputs": [
    {
     "data": {
      "text/plain": [
       "21"
      ]
     },
     "execution_count": 28,
     "metadata": {},
     "output_type": "execute_result"
    }
   ],
   "source": [
    "# Just run this cell\n",
    "games.row(10).item(\"UNC 1Q\")"
   ]
  },
  {
   "cell_type": "markdown",
   "metadata": {},
   "source": [
    "**Question 3.** We want to see for a particular game whether or not UNC won. Write a function called `did_UNC_win`.  It should take one argument: a row object from the `final_scores` table. It should return either `True` if UNC's score was greater than the Opponent's score, and `False` otherwise.\n",
    "\n",
    "\n",
    "<!--\n",
    "BEGIN QUESTION\n",
    "name: q1_3\n",
    "manual: false\n",
    "-->"
   ]
  },
  {
   "cell_type": "code",
   "execution_count": 51,
   "metadata": {},
   "outputs": [],
   "source": [
    "def did_UNC_win(row):\n",
    "    return final_scores[\"UNC Score\"][row] > final_scores[\"Opponent Score\"][row] "
   ]
  },
  {
   "cell_type": "code",
   "execution_count": 52,
   "metadata": {},
   "outputs": [
    {
     "data": {
      "text/plain": [
       "38"
      ]
     },
     "execution_count": 52,
     "metadata": {},
     "output_type": "execute_result"
    }
   ],
   "source": [
    "len(final_scores)"
   ]
  },
  {
   "cell_type": "code",
   "execution_count": 54,
   "metadata": {},
   "outputs": [],
   "source": [
    "length = np.arange(0,38,1)\n",
    "uncwin = [] \n",
    "for x in length: \n",
    "    uncwin.append(did_UNC_win(x))"
   ]
  },
  {
   "cell_type": "code",
   "execution_count": 56,
   "metadata": {},
   "outputs": [
    {
     "data": {
      "text/plain": [
       "21"
      ]
     },
     "execution_count": 56,
     "metadata": {},
     "output_type": "execute_result"
    }
   ],
   "source": [
    "sum(uncwin)"
   ]
  },
  {
   "cell_type": "markdown",
   "metadata": {},
   "source": [
    "**Question 4.** You want to see how UNC did against every opponent during the 2021 season. Using the `final_scores` table, assign `results` to an array of `True` and `False` values that correspond to whether or not UNC won during the 2019 - 2021 seasons. Add the `results` array to the `final_scores` table, and assign this to `final_scores_with_results`. Then, respectively assign the number of wins and losses UNC had in 2021 to `UNC_wins_2021` and `UNC_losses_2021`.\n",
    "\n",
    "*Hint*: When you only pass a function name and no column labels through `tbl.apply()`, the function gets applied to every row in `tbl`\n",
    "\n",
    "\n",
    "<!--\n",
    "BEGIN QUESTION\n",
    "name: q1_4\n",
    "manual: false\n",
    "-->"
   ]
  },
  {
   "cell_type": "code",
   "execution_count": 59,
   "metadata": {},
   "outputs": [
    {
     "name": "stdout",
     "output_type": "stream",
     "text": [
      "In the 2021 season, UNC won 21 games and lost 17 games. Go Tar Heels!\n"
     ]
    }
   ],
   "source": [
    "results = uncwin\n",
    "final_scores[\"Results\"] = uncwin\n",
    "final_scores_with_results = final_scores\n",
    "UNC_wins_2021 = sum(uncwin)\n",
    "UNC_losses_2021 = len(final_scores) - sum(uncwin)\n",
    "\n",
    "# Don't delete or edit the following line:\n",
    "print(f\"In the 2021 season, UNC won {UNC_wins_2021} games and lost {UNC_losses_2021} games. Go Tar Heels!\")"
   ]
  },
  {
   "cell_type": "markdown",
   "metadata": {},
   "source": [
    "## 2. Unrolling Loops"
   ]
  },
  {
   "cell_type": "markdown",
   "metadata": {},
   "source": [
    "\"Unrolling\" a `for` loop means to manually write out all the code that it executes.  The result is code that does the same thing as the loop, but without the structure of the loop.  For example, for the following loop:\n",
    "\n",
    "    for num in np.arange(3):\n",
    "        print(\"The number is\", num)\n",
    "\n",
    "The unrolled version would look like this:\n",
    "\n",
    "    print(\"The number is\", 0)\n",
    "    print(\"The number is\", 1)\n",
    "    print(\"The number is\", 2)\n",
    "\n",
    "\n",
    "Unrolling a `for` loop is a great way to understand what the loop is doing during each step. In this exercise, you'll practice unrolling `for` loops.\n",
    "\n",
    "\n",
    "In each question below, write code that does the same thing as the given code, but with any `for` loops unrolled.  It's a good idea to run both your answer and the original code to verify that they do the same thing.  (Of course, if the code does something random, you'll get a different random outcome than the original code!)\n",
    "\n",
    "First, run the cell below to load data that will be used in a few questions.  It's a table with 52 rows, one for each type of card in a deck of playing cards.  A playing card has a \"suit\" (\"♠︎\", \"♣︎\", \"♥︎\", or \"♦︎\") and a \"rank\" (2 through 10, J, Q, K, or A).  There are 4 suits and 13 ranks, so there are $4 \\times 13 = 52$ different cards."
   ]
  },
  {
   "cell_type": "code",
   "execution_count": null,
   "metadata": {},
   "outputs": [],
   "source": [
    "deck = Table.read_table(\"deck.csv\")\n",
    "deck"
   ]
  },
  {
   "cell_type": "markdown",
   "metadata": {},
   "source": [
    "**Question 1.** Unroll the code below.\n",
    "\n",
    "*Hint:* `np.random.randint` returns a random integer between 0 (inclusive) and the value that's passed in (exclusive).\n",
    "\n",
    "<!--\n",
    "BEGIN QUESTION\n",
    "name: q2_1\n",
    "manual: false\n",
    "-->"
   ]
  },
  {
   "cell_type": "code",
   "execution_count": null,
   "metadata": {},
   "outputs": [],
   "source": [
    "# This table will hold the cards in a randomly-drawn hand of\n",
    "# 5 cards.  We simulate cards being drawn as follows: We draw\n",
    "# a card at random from the deck, make a copy of it, put the\n",
    "# copy in our hand, and put the card back in the deck.  That\n",
    "# means we might draw the same card multiple times, which is\n",
    "# different from a normal draw in most card games.\n",
    "hand = Table().with_columns(\"Rank\", make_array(), \"Suit\", make_array())\n",
    "for suit in np.arange(5):\n",
    "    card = deck.row(np.random.randint(deck.num_rows))\n",
    "    hand = hand.with_row(card)\n",
    "hand"
   ]
  },
  {
   "cell_type": "code",
   "execution_count": null,
   "metadata": {
    "for_assignment_type": "solution"
   },
   "outputs": [],
   "source": [
    "hand = Table().with_columns(\"Rank\", make_array(), \"Suit\", make_array())\n",
    "..."
   ]
  },
  {
   "cell_type": "markdown",
   "metadata": {},
   "source": [
    "**Question 2.** Unroll the code below.\n",
    "<!--\n",
    "BEGIN QUESTION\n",
    "name: q2_2\n",
    "manual: false\n",
    "-->"
   ]
  },
  {
   "cell_type": "code",
   "execution_count": 1,
   "metadata": {},
   "outputs": [
    {
     "ename": "NameError",
     "evalue": "name 'np' is not defined",
     "output_type": "error",
     "traceback": [
      "\u001b[1;31m---------------------------------------------------------------------------\u001b[0m",
      "\u001b[1;31mNameError\u001b[0m                                 Traceback (most recent call last)",
      "\u001b[1;32m~\\AppData\\Local\\Temp/ipykernel_19928/4032531968.py\u001b[0m in \u001b[0;36m<module>\u001b[1;34m\u001b[0m\n\u001b[1;32m----> 1\u001b[1;33m \u001b[1;32mfor\u001b[0m \u001b[0mjoke_iteration\u001b[0m \u001b[1;32min\u001b[0m \u001b[0mnp\u001b[0m\u001b[1;33m.\u001b[0m\u001b[0marange\u001b[0m\u001b[1;33m(\u001b[0m\u001b[1;36m4\u001b[0m\u001b[1;33m)\u001b[0m\u001b[1;33m:\u001b[0m\u001b[1;33m\u001b[0m\u001b[1;33m\u001b[0m\u001b[0m\n\u001b[0m\u001b[0;32m      2\u001b[0m     \u001b[0mprint\u001b[0m\u001b[1;33m(\u001b[0m\u001b[1;34m\"Knock, knock.\"\u001b[0m\u001b[1;33m)\u001b[0m\u001b[1;33m\u001b[0m\u001b[1;33m\u001b[0m\u001b[0m\n\u001b[0;32m      3\u001b[0m     \u001b[0mprint\u001b[0m\u001b[1;33m(\u001b[0m\u001b[1;34m\"Who's there?\"\u001b[0m\u001b[1;33m)\u001b[0m\u001b[1;33m\u001b[0m\u001b[1;33m\u001b[0m\u001b[0m\n\u001b[0;32m      4\u001b[0m     \u001b[0mprint\u001b[0m\u001b[1;33m(\u001b[0m\u001b[1;34m\"Banana.\"\u001b[0m\u001b[1;33m)\u001b[0m\u001b[1;33m\u001b[0m\u001b[1;33m\u001b[0m\u001b[0m\n\u001b[0;32m      5\u001b[0m     \u001b[0mprint\u001b[0m\u001b[1;33m(\u001b[0m\u001b[1;34m\"Banana who?\"\u001b[0m\u001b[1;33m)\u001b[0m\u001b[1;33m\u001b[0m\u001b[1;33m\u001b[0m\u001b[0m\n",
      "\u001b[1;31mNameError\u001b[0m: name 'np' is not defined"
     ]
    }
   ],
   "source": [
    "for joke_iteration in np.arange(4):\n",
    "    print(\"Knock, knock.\")\n",
    "    print(\"Who's there?\")\n",
    "    print(\"Banana.\")\n",
    "    print(\"Banana who?\")\n",
    "print(\"Knock, knock.\")\n",
    "print(\"Who's there?\")\n",
    "print(\"Orange.\")\n",
    "print(\"Orange who?\")\n",
    "print(\"Orange you glad I didn't say banana?\")"
   ]
  },
  {
   "cell_type": "code",
   "execution_count": null,
   "metadata": {
    "for_assignment_type": "solution"
   },
   "outputs": [],
   "source": [
    "..."
   ]
  }
 ],
 "metadata": {
  "kernelspec": {
   "display_name": "PythonData",
   "language": "python",
   "name": "pythondata"
  },
  "language_info": {
   "codemirror_mode": {
    "name": "ipython",
    "version": 3
   },
   "file_extension": ".py",
   "mimetype": "text/x-python",
   "name": "python",
   "nbconvert_exporter": "python",
   "pygments_lexer": "ipython3",
   "version": "3.9.7"
  }
 },
 "nbformat": 4,
 "nbformat_minor": 4
}
