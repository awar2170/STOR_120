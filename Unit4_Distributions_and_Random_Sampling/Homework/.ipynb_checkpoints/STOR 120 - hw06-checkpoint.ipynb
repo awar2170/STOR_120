{
 "cells": [
  {
   "cell_type": "markdown",
   "metadata": {},
   "source": [
    "# STOR 120 - Homework 6: Probability, Simulation, Estimation, and Assessing Models"
   ]
  },
  {
   "cell_type": "markdown",
   "metadata": {},
   "source": [
    "**Reading**: \n",
    "* [Randomness](https://www.inferentialthinking.com/chapters/09/Randomness.html) \n",
    "* [Sampling and Empirical Distributions](https://www.inferentialthinking.com/chapters/10/Sampling_and_Empirical_Distributions.html)\n",
    "* [Testing Hypotheses](https://www.inferentialthinking.com/chapters/11/Testing_Hypotheses.html)"
   ]
  },
  {
   "cell_type": "markdown",
   "metadata": {},
   "source": [
    "Please complete this notebook by filling in the cells provided. Before you begin, execute the following cell. \n",
    "\n",
    "Directly sharing answers is not okay, but discussing problems with the course staff or with other students is encouraged.\n",
    "\n",
    "For all problems that you must write out explanations and sentences for, you **must** provide your answer in the designated space. Moreover, throughout this homework and all future ones, please be sure to not re-assign variables throughout the notebook! For example, if you use `max_temperature` in your answer to one question, do not reassign it later on."
   ]
  },
  {
   "cell_type": "code",
   "execution_count": 1,
   "metadata": {},
   "outputs": [],
   "source": [
    "# Don't change this cell; just run it. \n",
    "\n",
    "import numpy as np\n",
    "from datascience import *\n",
    "\n",
    "# These lines do some fancy plotting magic.\n",
    "import matplotlib\n",
    "%matplotlib inline\n",
    "import matplotlib.pyplot as plt\n",
    "plt.style.use('fivethirtyeight')\n",
    "import warnings\n",
    "import random\n",
    "warnings.simplefilter('ignore', FutureWarning)"
   ]
  },
  {
   "cell_type": "markdown",
   "metadata": {},
   "source": [
    "## 1. Probability\n"
   ]
  },
  {
   "cell_type": "markdown",
   "metadata": {},
   "source": [
    "We will be testing some probability concepts that were introduced in lecture. For all of the following problems, we will introduce a problem statement and give you a proposed answer. You must assign the provided variable to one of the following three integers, depending on whether the proposed answer is too low, correct, or too high. \n",
    "\n",
    "1. Assign the variable to 1 if you believe our proposed answer is too low.\n",
    "2. Assign the variable to 2 if you believe our proposed answer is correct.\n",
    "3. Assign the variable to 3 if you believe our proposed answer is too high.\n",
    "\n",
    "\n",
    "You are more than welcome to create more cells across this notebook to use for arithmetic operations "
   ]
  },
  {
   "cell_type": "markdown",
   "metadata": {},
   "source": [
    "**Question 1.** [Pass the Pigs](https://en.wikipedia.org/wiki/Pass_the_Pigs) is a dice game using asymmetrical throwing dice (shaped like pigs). Each turn involves one player throwing two model pigs, each of which has a dot on one side. The player gains or loses points based on the way the pigs land. Each turn lasts until the player throwing either rolls the pigs in a way that wipes out their current turn score, wipes out their total game score, or decides to stop their turn, add their turn score to their total score and pass the pigs to the next player. The winner is the first player to reach a predetermined total score. When rolling one pig there are six outcomes with the following (approximate) probabilities:\n",
    "\n",
    "Position       | Probability | Description\n",
    "---------------|-------------|-------------------------------------------------\n",
    "Side (no dot)  | 0.3490      | The pig is lying on its side without a dot\n",
    "Side (dot)     | 0.3020      | The pig is lying on its side with a dot\n",
    "Razorback      | 0.2240      | The pig is lying on its back\n",
    "Trotter        | 0.0880      | The pig is standing upright\n",
    "Snouter        | 0.0300      | The pig is leaning on its snout\n",
    "Leaning Jowler | 0.0061      | Jowler - The pig is resting on its snout and ear\n",
    "\n",
    "You roll one pig 10 times. What is the chance of getting 10 Razorbacks?\n",
    "\n",
    "Our proposed answer: $$\\left({0.2240}\\right)^{10}$$\n",
    "\n",
    "Assign `ten_razorbackss` to either 1, 2, or 3 depending on if you think our answer is too low, correct, or too high\n",
    "\n",
    "<!--\n",
    "BEGIN QUESTION\n",
    "name: q1_1\n",
    "manual: false\n",
    "-->"
   ]
  },
  {
   "cell_type": "code",
   "execution_count": 2,
   "metadata": {},
   "outputs": [
    {
     "data": {
      "text/plain": [
       "2"
      ]
     },
     "execution_count": 2,
     "metadata": {},
     "output_type": "execute_result"
    }
   ],
   "source": [
    "ten_razorbacks = 2\n",
    "ten_razorbacks"
   ]
  },
  {
   "cell_type": "markdown",
   "metadata": {},
   "source": [
    "**Question 2.** Take the same problem set-up as before, rolling one pig 10 times. What is the chance that in your 10 rolls the only positions that you roll are (some combination of) `Side (no dot)` and `Side (dot)`?\n",
    "\n",
    "Our proposed answer: $$(0.3490)^{10} + (0.3020)^{10}$$\n",
    "\n",
    "Assign `only_sides` to either 1, 2, or 3. \n",
    "\n",
    "<!--\n",
    "BEGIN QUESTION\n",
    "name: q1_2\n",
    "manual: false\n",
    "-->"
   ]
  },
  {
   "cell_type": "code",
   "execution_count": 3,
   "metadata": {},
   "outputs": [
    {
     "data": {
      "text/plain": [
       "3"
      ]
     },
     "execution_count": 3,
     "metadata": {},
     "output_type": "execute_result"
    }
   ],
   "source": [
    "only_sides = 3\n",
    "only_sides"
   ]
  },
  {
   "cell_type": "markdown",
   "metadata": {},
   "source": [
    "**Question 3.** Assume we are picking a lottery ticket. We must choose three distinct numbers from 1 to 1000 and write them on a ticket. Next, someone picks three numbers one by one from a bowl with numbers from 1 to 1000 each time without putting the previous number back in. We win if our numbers are all called in order. \n",
    "\n",
    "If we decide to play the game and pick our numbers as 12, 140, and 890, what is the chance that we **do not** win? \n",
    "\n",
    "Our proposed answer: $$1 - \\left(\\frac{3}{1000}\\right)^3$$\n",
    "\n",
    "Assign `lottery` to either 1, 2, or 3. \n",
    "\n",
    "<!--\n",
    "BEGIN QUESTION\n",
    "name: q1_3\n",
    "manual: false\n",
    "-->"
   ]
  },
  {
   "cell_type": "code",
   "execution_count": 4,
   "metadata": {},
   "outputs": [],
   "source": [
    "lottery = 1 # It's pretty close, but it's technically different; see math below "
   ]
  },
  {
   "cell_type": "code",
   "execution_count": 5,
   "metadata": {},
   "outputs": [
    {
     "name": "stdout",
     "output_type": "stream",
     "text": [
      "0.999999998996993\n"
     ]
    },
    {
     "data": {
      "text/plain": [
       "0.999999973"
      ]
     },
     "execution_count": 5,
     "metadata": {},
     "output_type": "execute_result"
    }
   ],
   "source": [
    "lottery2 = 1-((1/1000)*(1/999)*(1/998))\n",
    "print(lottery2) \n",
    "\n",
    "lott_prop = 1-((3/1000)**3)\n",
    "lott_prop"
   ]
  },
  {
   "cell_type": "markdown",
   "metadata": {},
   "source": [
    "**Question 4.** Assume we have two lists, list A and list B. List A contains the numbers [20,10,30], while list B contains the numbers [10,30,20,40,30]. We choose one number from list A randomly and one number from list B randomly. What is the chance that the number we chose from list B is larger than the number we drew from list A?\n",
    "\n",
    "Our proposed solution: $$2/3$$\n",
    "\n",
    "Assign `list_chances` to either 1, 2, or 3. \n",
    "\n",
    "*Hint: Consider the different possible ways that the items in List B can be greater than items in List A. Try working out your thoughts with a pencil and paper, what do you think the correct solutions will be close to?*\n",
    "\n",
    "<!--\n",
    "BEGIN QUESTION\n",
    "name: q1_4\n",
    "manual: false\n",
    "-->"
   ]
  },
  {
   "cell_type": "code",
   "execution_count": 6,
   "metadata": {},
   "outputs": [],
   "source": [
    "list_chances = 3"
   ]
  },
  {
   "cell_type": "code",
   "execution_count": 7,
   "metadata": {},
   "outputs": [
    {
     "name": "stdout",
     "output_type": "stream",
     "text": [
      "10\n",
      "10\n"
     ]
    }
   ],
   "source": [
    "A_list = [20,10,30]\n",
    "B_list = [10,30,20,40,30]\n",
    "print(np.random.choice(A_list)) \n",
    "print(np.random.choice(B_list))"
   ]
  },
  {
   "cell_type": "code",
   "execution_count": 8,
   "metadata": {},
   "outputs": [
    {
     "name": "stdout",
     "output_type": "stream",
     "text": [
      "0.6666666666666666\n"
     ]
    },
    {
     "data": {
      "text/plain": [
       "0.5333333333333333"
      ]
     },
     "execution_count": 8,
     "metadata": {},
     "output_type": "execute_result"
    }
   ],
   "source": [
    "print(2/3)\n",
    "8/15 \n",
    "# TO get this value, I created a \"Truth Table Matrix\" where I assigned 1 \n",
    "# for when list_B was greater than list_A, then \n",
    "# I tallied the ones over the total number of cells in the matrix"
   ]
  },
  {
   "cell_type": "markdown",
   "metadata": {
    "tags": []
   },
   "source": [
    "## 2. Monkeys Typing Shakespeare\n",
    "##### (...or at least the string `STOR120!`)"
   ]
  },
  {
   "cell_type": "markdown",
   "metadata": {},
   "source": [
    "A monkey is banging repeatedly on the keys of a typewriter. Each time, the monkey is equally likely to hit any of the 26 lowercase letters of the English alphabet, 26 uppercase letters of the English alphabet, any number between 0-9 (inclusive), the space bar, and the following punctuation: `.`, `?`, `!` `,`, regardless of what it has hit before. There are no other keys on the keyboard.  \n",
    "\n",
    "This question is inspired by a mathematical theorem called the Infinite monkey theorem (<https://en.wikipedia.org/wiki/Infinite_monkey_theorem>), which postulates that if you put a monkey in the situation described above for an infinite time, they will eventually type out all of Shakespeare’s works.\n",
    "\n",
    "**Question 1.** Suppose the monkey hits the keyboard 8 times.  Compute the chance that the monkey types the sequence `STOR120!`.  (Call this `STOR120_em_chance`.) Use algebra and type in an arithmetic equation that Python can evalute.\n",
    "\n",
    "<!--\n",
    "BEGIN QUESTION\n",
    "name: q2_1\n",
    "manual: false\n",
    "-->"
   ]
  },
  {
   "cell_type": "code",
   "execution_count": 9,
   "metadata": {},
   "outputs": [
    {
     "data": {
      "text/plain": [
       "1.2523598797807186e-13"
      ]
     },
     "execution_count": 9,
     "metadata": {},
     "output_type": "execute_result"
    }
   ],
   "source": [
    "STOR120_em_chance = (1/41)**8\n",
    "STOR120_em_chance"
   ]
  },
  {
   "cell_type": "markdown",
   "metadata": {},
   "source": [
    "**Question 2.** Write a function called `simulate_key_strike`.  It should take **no arguments**, and it should return a random one-character string that is equally likely to be any of the 26 lower-case English letters, 26 upper-case English letters, any number between 0-9 (inclusive), the space bar, or the following punctuation: `.`, `?`, `!` `,`.\n",
    "\n",
    "<!--\n",
    "BEGIN QUESTION\n",
    "name: q2_2\n",
    "manual: false\n",
    "-->"
   ]
  },
  {
   "cell_type": "code",
   "execution_count": 10,
   "metadata": {},
   "outputs": [
    {
     "data": {
      "text/plain": [
       "'z'"
      ]
     },
     "execution_count": 10,
     "metadata": {},
     "output_type": "execute_result"
    }
   ],
   "source": [
    "# We have provided the code below to compute a list called keys,\n",
    "# containing all the lower-case English letters, upper-case English letters, \n",
    "# the digits 0-9 (inclusive), blank sapce, and the given punctuation\n",
    "\n",
    "import string\n",
    "keys = list(string.ascii_letters + string.digits + ' ' + '.' + '?' + '!' + ',')\n",
    "\n",
    "def simulate_key_strike():\n",
    "    \"\"\"Simulates one random key strike.\"\"\"\n",
    "    return np.random.choice(keys)\n",
    "\n",
    "# An example call to your function:\n",
    "simulate_key_strike()"
   ]
  },
  {
   "cell_type": "markdown",
   "metadata": {
    "editable": false
   },
   "source": [
    "**Question 3.** Write a function called `simulate_several_key_strikes`.  It should take one argument: an integer specifying the number of key strikes to simulate. It should return a string containing that many characters, each one obtained from simulating a key strike by the monkey.\n",
    "\n",
    "*Hint:* If you make a list or array of the simulated key strikes called `key_strikes_array`, you can convert that to a string by calling `\"\".join(key_strikes_array)`\n",
    "\n",
    "<!--\n",
    "BEGIN QUESTION\n",
    "name: q2_3\n",
    "manual: false\n",
    "-->"
   ]
  },
  {
   "cell_type": "code",
   "execution_count": 11,
   "metadata": {},
   "outputs": [
    {
     "data": {
      "text/plain": [
       "['u', 'y', 'j', 'y', '6', 'w', 'B', 'd']"
      ]
     },
     "execution_count": 11,
     "metadata": {},
     "output_type": "execute_result"
    }
   ],
   "source": [
    "def simulate_several_key_strikes(num_strikes):\n",
    "    \n",
    "    values = [] \n",
    "    \n",
    "    for x in np.arange(0,num_strikes, 1): \n",
    "        values.append(simulate_key_strike())\n",
    "    \n",
    "    return values\n",
    "\n",
    "# An example call to your function:\n",
    "simulate_several_key_strikes(8)"
   ]
  },
  {
   "cell_type": "markdown",
   "metadata": {},
   "source": [
    "**Question 4.** Call `simulate_several_key_strikes` 5000 times, each time simulating the monkey striking 8 keys.  Compute the proportion of times the monkey types `STOR120!`, calling that proportion `data_proportion`.\n",
    "\n",
    "<!--\n",
    "BEGIN QUESTION\n",
    "name: q2_4\n",
    "manual: false\n",
    "-->"
   ]
  },
  {
   "cell_type": "code",
   "execution_count": 12,
   "metadata": {},
   "outputs": [
    {
     "data": {
      "text/plain": [
       "0"
      ]
     },
     "execution_count": 12,
     "metadata": {},
     "output_type": "execute_result"
    }
   ],
   "source": [
    "value_strikes = []\n",
    "\n",
    "for x in np.arange(0,5000, 1):\n",
    "    value_strikes.append(simulate_several_key_strikes(8))\n",
    "    \n",
    "stor_120_typed_correctly = []\n",
    "\n",
    "for x in np.arange(0, len(value_strikes), 1):\n",
    "    if value_strikes[x] == ['S', 'T', 'O', 'R', '1', '2', '0', '!']: \n",
    "        stor_120_typed_correctly.append(True)\n",
    "    else: \n",
    "        stor_120_typed_correctly.append(False)\n",
    "        \n",
    "sum(stor_120_typed_correctly)"
   ]
  },
  {
   "cell_type": "code",
   "execution_count": 13,
   "metadata": {},
   "outputs": [],
   "source": [
    "# This code below shows me that my code above works \n",
    "\n",
    "# value_strikes = [['S', 'T', 'O', 'R', '1', '2', '0', '!'], ['S', 'x', 'O', 'R', '1', '2', '0', '!'], ['S', 'T', 'O', 'R', '1', '2', '0', '!']]\n",
    "\n",
    "# stor_120_typed_correctly = []\n",
    "\n",
    "# for x in np.arange(0, len(value_strikes), 1):\n",
    "#     if value_strikes[x] == ['S', 'T', 'O', 'R', '1', '2', '0', '!']: \n",
    "#         stor_120_typed_correctly.append(True)\n",
    "#     else: \n",
    "#         stor_120_typed_correctly.append(False)\n",
    "                   \n",
    "    \n",
    "# print(stor_120_typed_correctly)\n",
    "# sum(stor_120_typed_correctly)"
   ]
  },
  {
   "cell_type": "code",
   "execution_count": 14,
   "metadata": {},
   "outputs": [
    {
     "data": {
      "text/plain": [
       "0.0"
      ]
     },
     "execution_count": 14,
     "metadata": {},
     "output_type": "execute_result"
    }
   ],
   "source": [
    "data_proportion = sum(stor_120_typed_correctly)/5000\n",
    "data_proportion"
   ]
  },
  {
   "cell_type": "markdown",
   "metadata": {},
   "source": [
    "**Question 5.** Check the value your simulation computed for `data_proportion`.  Is your simulation a good way to estimate the chance that the monkey types `\"STOR120!\"` in 8 strikes (the answer to question 1)?  Why or why not?\n",
    "\n",
    "<!--\n",
    "BEGIN QUESTION\n",
    "name: q2_5\n",
    "manual: true\n",
    "-->\n",
    "<!-- EXPORT TO PDF -->"
   ]
  },
  {
   "cell_type": "markdown",
   "metadata": {
    "export_pdf": true,
    "manual_grade": true,
    "manual_problem_id": "monkeys_5"
   },
   "source": [
    "*Write your answer here, replacing this text.*"
   ]
  },
  {
   "cell_type": "markdown",
   "metadata": {},
   "source": [
    "**Question 6.** Compute the chance that the monkey types  `!` at least once in the 8 strikes.  Call it `em_chance`. Use algebra and type in an arithmetic equation that Python can evalute. \n",
    "\n",
    "<!--\n",
    "BEGIN QUESTION\n",
    "name: q2_6\n",
    "manual: false\n",
    "-->"
   ]
  },
  {
   "cell_type": "code",
   "execution_count": 15,
   "metadata": {},
   "outputs": [
    {
     "data": {
      "text/plain": [
       "550"
      ]
     },
     "execution_count": 15,
     "metadata": {},
     "output_type": "execute_result"
    }
   ],
   "source": [
    "value_strikes = []\n",
    "\n",
    "for x in np.arange(0,5000, 1):\n",
    "    value_strikes.append(simulate_several_key_strikes(8))\n",
    "    \n",
    "exclaim_typed_correctly = []\n",
    "\n",
    "for x in np.arange(0, len(value_strikes), 1):\n",
    "    if '!' in value_strikes[x]: \n",
    "        exclaim_typed_correctly.append(True)\n",
    "    else: \n",
    "        exclaim_typed_correctly.append(False)\n",
    "        \n",
    "sum(exclaim_typed_correctly)"
   ]
  },
  {
   "cell_type": "code",
   "execution_count": 16,
   "metadata": {},
   "outputs": [],
   "source": [
    "# # This code below shows me that my code above works \n",
    "\n",
    "# value_strikes = [['S', 'T', 'O', 'R', '1', '2', '0', '!'], ['S', 'x', 'O', 'R', '1', '2', '0', '!'], ['S', 'T', 'O', 'R', '1', '2', '0', '!']]\n",
    "\n",
    "# stor_120_typed_correctly = []\n",
    "\n",
    "# for x in np.arange(0, len(value_strikes), 1):\n",
    "#     if '!' in value_strikes[x]: \n",
    "#         stor_120_typed_correctly.append(True)\n",
    "#     else: \n",
    "#         stor_120_typed_correctly.append(False)\n",
    "                   \n",
    "    \n",
    "# print(stor_120_typed_correctly)\n",
    "# sum(stor_120_typed_correctly)"
   ]
  },
  {
   "cell_type": "code",
   "execution_count": 17,
   "metadata": {},
   "outputs": [
    {
     "data": {
      "text/plain": [
       "0.11"
      ]
     },
     "execution_count": 17,
     "metadata": {},
     "output_type": "execute_result"
    }
   ],
   "source": [
    "em_chance = sum(exclaim_typed_correctly)/5000\n",
    "em_chance"
   ]
  },
  {
   "cell_type": "markdown",
   "metadata": {},
   "source": [
    "**Question 7.** Do you think that a computer simulation is more or less effective to estimate `em_chance` compared to when we tried to estimate `STOR120_em_chance` this way? Why or why not? (You don't need to write a simulation, but it is an interesting exercise.)\n",
    "\n",
    "<!--\n",
    "BEGIN QUESTION\n",
    "name: q2_7\n",
    "manual: true\n",
    "-->\n",
    "<!-- EXPORT TO PDF -->"
   ]
  },
  {
   "cell_type": "markdown",
   "metadata": {
    "export_pdf": true,
    "manual_grade": true,
    "manual_problem_id": "monkeys_7"
   },
   "source": [
    "I think that a computer simulation is more effecitve in simulating large-scale experiments, but I think that there are things that a computer simulation can't account for that may be in an experiment, like how communicative the monkey is. "
   ]
  },
  {
   "cell_type": "markdown",
   "metadata": {},
   "source": [
    "## 3. Sampling Basketball Players\n"
   ]
  },
  {
   "cell_type": "markdown",
   "metadata": {},
   "source": [
    "This exercise uses salary data and game statistics for basketball players from the 2019-2020 NBA season. The data was collected from [Basketball-Reference](http://www.basketball-reference.com).\n",
    "\n",
    "Run the next cell to load the two datasets."
   ]
  },
  {
   "cell_type": "code",
   "execution_count": 18,
   "metadata": {},
   "outputs": [
    {
     "name": "stdout",
     "output_type": "stream",
     "text": [
      "              Player   3P   2P   PTS\n",
      "0       Steven Adams  0.0  4.4  10.7\n",
      "1        Bam Adebayo  0.0  6.2  15.8\n",
      "2  LaMarcus Aldridge  1.2  6.3  19.1\n"
     ]
    },
    {
     "data": {
      "text/html": [
       "<div>\n",
       "<style scoped>\n",
       "    .dataframe tbody tr th:only-of-type {\n",
       "        vertical-align: middle;\n",
       "    }\n",
       "\n",
       "    .dataframe tbody tr th {\n",
       "        vertical-align: top;\n",
       "    }\n",
       "\n",
       "    .dataframe thead th {\n",
       "        text-align: right;\n",
       "    }\n",
       "</style>\n",
       "<table border=\"1\" class=\"dataframe\">\n",
       "  <thead>\n",
       "    <tr style=\"text-align: right;\">\n",
       "      <th></th>\n",
       "      <th>Name</th>\n",
       "      <th>Salary</th>\n",
       "    </tr>\n",
       "  </thead>\n",
       "  <tbody>\n",
       "    <tr>\n",
       "      <th>0</th>\n",
       "      <td>Stephen Curry</td>\n",
       "      <td>40231758</td>\n",
       "    </tr>\n",
       "    <tr>\n",
       "      <th>1</th>\n",
       "      <td>Chris Paul</td>\n",
       "      <td>38506482</td>\n",
       "    </tr>\n",
       "    <tr>\n",
       "      <th>2</th>\n",
       "      <td>Russell Westbrook</td>\n",
       "      <td>38178000</td>\n",
       "    </tr>\n",
       "  </tbody>\n",
       "</table>\n",
       "</div>"
      ],
      "text/plain": [
       "                Name    Salary\n",
       "0      Stephen Curry  40231758\n",
       "1         Chris Paul  38506482\n",
       "2  Russell Westbrook  38178000"
      ]
     },
     "execution_count": 18,
     "metadata": {},
     "output_type": "execute_result"
    }
   ],
   "source": [
    "import pandas as pd\n",
    "\n",
    "player_data2 = pd.read_csv('../Datasets/player_data2.csv')\n",
    "salary_data2 = pd.read_csv('../Datasets/salary_data2.csv')\n",
    "print(player_data2.head(3))\n",
    "salary_data2.head(3)"
   ]
  },
  {
   "cell_type": "markdown",
   "metadata": {},
   "source": [
    "**Question 1.** We would like to relate players' game statistics to their salaries.  Construct a table called `full_data2` that includes one row for each player who is listed in both `player_data2` and `salary_data2`.  It should include all the columns from `player_data2` and `salary_data2`, except the `\"Name\"` column.\n",
    "\n",
    "<!--\n",
    "BEGIN QUESTION\n",
    "name: q3_1\n",
    "manual: false\n",
    "-->"
   ]
  },
  {
   "cell_type": "code",
   "execution_count": 19,
   "metadata": {},
   "outputs": [
    {
     "data": {
      "text/html": [
       "<div>\n",
       "<style scoped>\n",
       "    .dataframe tbody tr th:only-of-type {\n",
       "        vertical-align: middle;\n",
       "    }\n",
       "\n",
       "    .dataframe tbody tr th {\n",
       "        vertical-align: top;\n",
       "    }\n",
       "\n",
       "    .dataframe thead th {\n",
       "        text-align: right;\n",
       "    }\n",
       "</style>\n",
       "<table border=\"1\" class=\"dataframe\">\n",
       "  <thead>\n",
       "    <tr style=\"text-align: right;\">\n",
       "      <th></th>\n",
       "      <th>Player</th>\n",
       "      <th>Salary</th>\n",
       "    </tr>\n",
       "  </thead>\n",
       "  <tbody>\n",
       "    <tr>\n",
       "      <th>0</th>\n",
       "      <td>Stephen Curry</td>\n",
       "      <td>40231758</td>\n",
       "    </tr>\n",
       "    <tr>\n",
       "      <th>1</th>\n",
       "      <td>Chris Paul</td>\n",
       "      <td>38506482</td>\n",
       "    </tr>\n",
       "    <tr>\n",
       "      <th>2</th>\n",
       "      <td>Russell Westbrook</td>\n",
       "      <td>38178000</td>\n",
       "    </tr>\n",
       "    <tr>\n",
       "      <th>3</th>\n",
       "      <td>John Wall</td>\n",
       "      <td>37800000</td>\n",
       "    </tr>\n",
       "    <tr>\n",
       "      <th>4</th>\n",
       "      <td>James Harden</td>\n",
       "      <td>37800000</td>\n",
       "    </tr>\n",
       "  </tbody>\n",
       "</table>\n",
       "</div>"
      ],
      "text/plain": [
       "              Player    Salary\n",
       "0      Stephen Curry  40231758\n",
       "1         Chris Paul  38506482\n",
       "2  Russell Westbrook  38178000\n",
       "3          John Wall  37800000\n",
       "4       James Harden  37800000"
      ]
     },
     "execution_count": 19,
     "metadata": {},
     "output_type": "execute_result"
    }
   ],
   "source": [
    "# We want an inner join on the names and players columns\n",
    "# NEed to rename the \"Name\" column as \"Player\"\n",
    "salary_data2 = salary_data2.rename(columns={\"Name\":\"Player\"})\n",
    "salary_data2.head()"
   ]
  },
  {
   "cell_type": "code",
   "execution_count": 20,
   "metadata": {
    "scrolled": true
   },
   "outputs": [
    {
     "data": {
      "text/html": [
       "<div>\n",
       "<style scoped>\n",
       "    .dataframe tbody tr th:only-of-type {\n",
       "        vertical-align: middle;\n",
       "    }\n",
       "\n",
       "    .dataframe tbody tr th {\n",
       "        vertical-align: top;\n",
       "    }\n",
       "\n",
       "    .dataframe thead th {\n",
       "        text-align: right;\n",
       "    }\n",
       "</style>\n",
       "<table border=\"1\" class=\"dataframe\">\n",
       "  <thead>\n",
       "    <tr style=\"text-align: right;\">\n",
       "      <th></th>\n",
       "      <th>Player</th>\n",
       "      <th>3P</th>\n",
       "      <th>2P</th>\n",
       "      <th>PTS</th>\n",
       "      <th>Salary</th>\n",
       "    </tr>\n",
       "  </thead>\n",
       "  <tbody>\n",
       "    <tr>\n",
       "      <th>0</th>\n",
       "      <td>Steven Adams</td>\n",
       "      <td>0.0</td>\n",
       "      <td>4.4</td>\n",
       "      <td>10.7</td>\n",
       "      <td>25842697</td>\n",
       "    </tr>\n",
       "    <tr>\n",
       "      <th>1</th>\n",
       "      <td>Bam Adebayo</td>\n",
       "      <td>0.0</td>\n",
       "      <td>6.2</td>\n",
       "      <td>15.8</td>\n",
       "      <td>3454080</td>\n",
       "    </tr>\n",
       "    <tr>\n",
       "      <th>2</th>\n",
       "      <td>LaMarcus Aldridge</td>\n",
       "      <td>1.2</td>\n",
       "      <td>6.3</td>\n",
       "      <td>19.1</td>\n",
       "      <td>26000000</td>\n",
       "    </tr>\n",
       "    <tr>\n",
       "      <th>3</th>\n",
       "      <td>Nickeil Alexander-Walker</td>\n",
       "      <td>1.0</td>\n",
       "      <td>0.9</td>\n",
       "      <td>5.1</td>\n",
       "      <td>2964840</td>\n",
       "    </tr>\n",
       "    <tr>\n",
       "      <th>4</th>\n",
       "      <td>Grayson Allen</td>\n",
       "      <td>1.1</td>\n",
       "      <td>1.5</td>\n",
       "      <td>7.4</td>\n",
       "      <td>2429400</td>\n",
       "    </tr>\n",
       "    <tr>\n",
       "      <th>...</th>\n",
       "      <td>...</td>\n",
       "      <td>...</td>\n",
       "      <td>...</td>\n",
       "      <td>...</td>\n",
       "      <td>...</td>\n",
       "    </tr>\n",
       "    <tr>\n",
       "      <th>452</th>\n",
       "      <td>Thaddeus Young</td>\n",
       "      <td>1.1</td>\n",
       "      <td>2.9</td>\n",
       "      <td>9.7</td>\n",
       "      <td>12900000</td>\n",
       "    </tr>\n",
       "    <tr>\n",
       "      <th>453</th>\n",
       "      <td>Trae Young</td>\n",
       "      <td>3.5</td>\n",
       "      <td>5.7</td>\n",
       "      <td>29.7</td>\n",
       "      <td>6273000</td>\n",
       "    </tr>\n",
       "    <tr>\n",
       "      <th>454</th>\n",
       "      <td>Cody Zeller</td>\n",
       "      <td>0.3</td>\n",
       "      <td>4.0</td>\n",
       "      <td>11.0</td>\n",
       "      <td>14471910</td>\n",
       "    </tr>\n",
       "    <tr>\n",
       "      <th>455</th>\n",
       "      <td>Ante Žižić</td>\n",
       "      <td>0.0</td>\n",
       "      <td>1.8</td>\n",
       "      <td>4.3</td>\n",
       "      <td>2281800</td>\n",
       "    </tr>\n",
       "    <tr>\n",
       "      <th>456</th>\n",
       "      <td>Ivica Zubac</td>\n",
       "      <td>0.0</td>\n",
       "      <td>3.2</td>\n",
       "      <td>8.0</td>\n",
       "      <td>6481482</td>\n",
       "    </tr>\n",
       "  </tbody>\n",
       "</table>\n",
       "<p>457 rows × 5 columns</p>\n",
       "</div>"
      ],
      "text/plain": [
       "                       Player   3P   2P   PTS    Salary\n",
       "0                Steven Adams  0.0  4.4  10.7  25842697\n",
       "1                 Bam Adebayo  0.0  6.2  15.8   3454080\n",
       "2           LaMarcus Aldridge  1.2  6.3  19.1  26000000\n",
       "3    Nickeil Alexander-Walker  1.0  0.9   5.1   2964840\n",
       "4               Grayson Allen  1.1  1.5   7.4   2429400\n",
       "..                        ...  ...  ...   ...       ...\n",
       "452            Thaddeus Young  1.1  2.9   9.7  12900000\n",
       "453                Trae Young  3.5  5.7  29.7   6273000\n",
       "454               Cody Zeller  0.3  4.0  11.0  14471910\n",
       "455                Ante Žižić  0.0  1.8   4.3   2281800\n",
       "456               Ivica Zubac  0.0  3.2   8.0   6481482\n",
       "\n",
       "[457 rows x 5 columns]"
      ]
     },
     "execution_count": 20,
     "metadata": {},
     "output_type": "execute_result"
    }
   ],
   "source": [
    "full_data2 = pd.merge(player_data2, salary_data2, on = \"Player\")\n",
    "full_data2"
   ]
  },
  {
   "cell_type": "markdown",
   "metadata": {},
   "source": [
    "Basketball teams would like to hire players who perform well but don't command high salaries.  From this perspective, a very crude measure of a player's *value* to their team is the number of 3 pointers and free throws the player scored in a season for every **\\$100000 of salary** (*Note*: the `Salary` column is in dollars, not hundreds of thousands of dollars). For example, Al Horford scored an average of 5.2 points for 3 pointers and free throws combined, and has a salary of **\\$28 million.** This is equivalent to 280 hundreds of thousands of dollars, so his value is $\\frac{5.2}{280}$. The formula is:\n",
    "\n",
    "$$\\frac{\\text{\"PTS\"} - 2 * \\text{\"2P\"}}{\\text{\"Salary\"}\\ / \\ 100000}$$\n",
    "\n",
    "**Question 2.** Create a table called `full_data2_with_value` that's a copy of `full_data2`, with an extra column called `\"Value\"` containing each player's value (according to our crude measure).  Then make a histogram of players' values.  **Specify bins that make the histogram informative.** \n",
    "\n",
    "*Just so you know:* Informative histograms contain a majority of the data and **exclude outliers**\n",
    "\n",
    "<!--\n",
    "BEGIN QUESTION\n",
    "name: q3_2\n",
    "manual: true\n",
    "-->\n",
    "<!-- EXPORT TO PDF -->"
   ]
  },
  {
   "cell_type": "code",
   "execution_count": 21,
   "metadata": {
    "export_pdf": true,
    "manual_grade": true,
    "manual_problem_id": "sampling_players_2"
   },
   "outputs": [
    {
     "data": {
      "text/plain": [
       "array([[<AxesSubplot:title={'center':'Value'}>]], dtype=object)"
      ]
     },
     "execution_count": 21,
     "metadata": {},
     "output_type": "execute_result"
    },
    {
     "data": {
      "image/png": "[encoded data removed]",
      "text/plain": [
       "<Figure size 432x288 with 1 Axes>"
      ]
     },
     "metadata": {},
     "output_type": "display_data"
    }
   ],
   "source": [
    "bins = np.arange(0, 0.7, .1) # Use this provided bins when you make your histogram\n",
    "full_data2[\"Value\"] = ((full_data2[\"PTS\"]-2*full_data2[\"2P\"])/(full_data2[\"Salary\"]/100000))\n",
    "full_data2_with_value = full_data2\n",
    "full_data2_with_value.hist(column = \"Value\", bins = bins)"
   ]
  },
  {
   "cell_type": "markdown",
   "metadata": {},
   "source": [
    "Now suppose we weren't able to find out every player's salary (perhaps it was too costly to interview each player).  Instead, we have gathered a *simple random sample* of 50 players' salaries.  The cell below loads those data."
   ]
  },
  {
   "cell_type": "code",
   "execution_count": 22,
   "metadata": {
    "scrolled": true
   },
   "outputs": [
    {
     "data": {
      "text/html": [
       "<div>\n",
       "<style scoped>\n",
       "    .dataframe tbody tr th:only-of-type {\n",
       "        vertical-align: middle;\n",
       "    }\n",
       "\n",
       "    .dataframe tbody tr th {\n",
       "        vertical-align: top;\n",
       "    }\n",
       "\n",
       "    .dataframe thead th {\n",
       "        text-align: right;\n",
       "    }\n",
       "</style>\n",
       "<table border=\"1\" class=\"dataframe\">\n",
       "  <thead>\n",
       "    <tr style=\"text-align: right;\">\n",
       "      <th></th>\n",
       "      <th>Name</th>\n",
       "      <th>Salary</th>\n",
       "    </tr>\n",
       "  </thead>\n",
       "  <tbody>\n",
       "    <tr>\n",
       "      <th>0</th>\n",
       "      <td>D.J. Wilson</td>\n",
       "      <td>2961120</td>\n",
       "    </tr>\n",
       "    <tr>\n",
       "      <th>1</th>\n",
       "      <td>Tyler Cook</td>\n",
       "      <td>101504</td>\n",
       "    </tr>\n",
       "    <tr>\n",
       "      <th>2</th>\n",
       "      <td>Abdel Nader</td>\n",
       "      <td>1618520</td>\n",
       "    </tr>\n",
       "  </tbody>\n",
       "</table>\n",
       "</div>"
      ],
      "text/plain": [
       "          Name   Salary\n",
       "0  D.J. Wilson  2961120\n",
       "1   Tyler Cook   101504\n",
       "2  Abdel Nader  1618520"
      ]
     },
     "execution_count": 22,
     "metadata": {},
     "output_type": "execute_result"
    }
   ],
   "source": [
    "sample_salary_data2 = pd.read_csv(\"../Datasets/sample_salary_data2.csv\")\n",
    "sample_salary_data2.head(3)"
   ]
  },
  {
   "cell_type": "markdown",
   "metadata": {},
   "source": [
    "**Question 3.** Make a histogram of the values of the players in `sample_salary_data2`, using the same method for measuring value we used in question 2. Make sure to specify the units again in the histogram as stated in the previous problem. **Use the same bins, too.**  \n",
    "\n",
    "*Hint:* This will take several steps.\n",
    "\n",
    "<!--\n",
    "BEGIN QUESTION\n",
    "name: q3_3\n",
    "manual: true\n",
    "-->\n",
    "<!-- EXPORT TO PDF -->"
   ]
  },
  {
   "cell_type": "code",
   "execution_count": 23,
   "metadata": {
    "export_pdf": true
   },
   "outputs": [
    {
     "data": {
      "text/plain": [
       "array([[<AxesSubplot:title={'center':'Value'}>]], dtype=object)"
      ]
     },
     "execution_count": 23,
     "metadata": {},
     "output_type": "execute_result"
    },
    {
     "data": {
      "image/png": "[encoded data removed]",
      "text/plain": [
       "<Figure size 432x288 with 1 Axes>"
      ]
     },
     "metadata": {},
     "output_type": "display_data"
    }
   ],
   "source": [
    "sample_salary_data2 = sample_salary_data2.rename(columns={\"Name\":\"Player\"})\n",
    "sample_data2 = pd.merge(player_data2, sample_salary_data2, on = \"Player\")\n",
    "sample_data2[\"Value\"] = ((sample_data2[\"PTS\"]-2*sample_data2[\"2P\"])/(sample_data2[\"Salary\"]/100000))\n",
    "sample_data2_with_value = sample_data2\n",
    "sample_data2_with_value.hist(column = \"Value\", bins = bins)"
   ]
  },
  {
   "cell_type": "markdown",
   "metadata": {},
   "source": [
    "## 4. Earthquakes\n"
   ]
  },
  {
   "cell_type": "markdown",
   "metadata": {},
   "source": [
    "The next cell loads a table containing information about **every earthquake with a magnitude above 5** in 2021 (smaller earthquakes are generally not felt, only recorded by very sensitive equipment), compiled by the US Geological Survey. (source: https://earthquake.usgs.gov/earthquakes/search/)"
   ]
  },
  {
   "cell_type": "code",
   "execution_count": 24,
   "metadata": {
    "ExecuteTime": {
     "end_time": "2018-02-17T03:01:37.654915Z",
     "start_time": "2018-02-17T03:01:37.599746Z"
    }
   },
   "outputs": [
    {
     "data": {
      "text/html": [
       "<table border=\"1\" class=\"dataframe\">\n",
       "    <thead>\n",
       "        <tr>\n",
       "            <th>time</th> <th>mag</th> <th>place</th>\n",
       "        </tr>\n",
       "    </thead>\n",
       "    <tbody>\n",
       "        <tr>\n",
       "            <td>2021-12-31T05:53:42.198Z</td> <td>5   </td> <td>Minahasa, Sulawesi, Indonesia           </td>\n",
       "        </tr>\n",
       "        <tr>\n",
       "            <td>2021-12-31T00:58:32.591Z</td> <td>5   </td> <td>198 km SSW of Lajes das Flores, Portugal</td>\n",
       "        </tr>\n",
       "        <tr>\n",
       "            <td>2021-12-31T00:50:31.294Z</td> <td>5   </td> <td>254 km ESE of Tadine, New Caledonia     </td>\n",
       "        </tr>\n",
       "        <tr>\n",
       "            <td>2021-12-30T19:19:29.687Z</td> <td>5.1 </td> <td>Kermadec Islands region                 </td>\n",
       "        </tr>\n",
       "        <tr>\n",
       "            <td>2021-12-30T13:24:36.748Z</td> <td>5   </td> <td>47 km SW of Karluk, Alaska              </td>\n",
       "        </tr>\n",
       "        <tr>\n",
       "            <td>2021-12-30T13:13:17.562Z</td> <td>5.5 </td> <td>157 km SSE of Tondano, Indonesia        </td>\n",
       "        </tr>\n",
       "        <tr>\n",
       "            <td>2021-12-30T06:47:09.128Z</td> <td>5.3 </td> <td>77 km SW of Yonakuni, Japan             </td>\n",
       "        </tr>\n",
       "        <tr>\n",
       "            <td>2021-12-30T04:58:15.906Z</td> <td>5.7 </td> <td>South Sandwich Islands region           </td>\n",
       "        </tr>\n",
       "        <tr>\n",
       "            <td>2021-12-30T00:19:54.707Z</td> <td>5.1 </td> <td>Fiji region                             </td>\n",
       "        </tr>\n",
       "        <tr>\n",
       "            <td>2021-12-29T21:30:22.185Z</td> <td>5   </td> <td>northern Qinghai, China                 </td>\n",
       "        </tr>\n",
       "    </tbody>\n",
       "</table>\n",
       "<p>... (2198 rows omitted)</p>"
      ],
      "text/plain": [
       "time                     | mag  | place\n",
       "2021-12-31T05:53:42.198Z | 5    | Minahasa, Sulawesi, Indonesia\n",
       "2021-12-31T00:58:32.591Z | 5    | 198 km SSW of Lajes das Flores, Portugal\n",
       "2021-12-31T00:50:31.294Z | 5    | 254 km ESE of Tadine, New Caledonia\n",
       "2021-12-30T19:19:29.687Z | 5.1  | Kermadec Islands region\n",
       "2021-12-30T13:24:36.748Z | 5    | 47 km SW of Karluk, Alaska\n",
       "2021-12-30T13:13:17.562Z | 5.5  | 157 km SSE of Tondano, Indonesia\n",
       "2021-12-30T06:47:09.128Z | 5.3  | 77 km SW of Yonakuni, Japan\n",
       "2021-12-30T04:58:15.906Z | 5.7  | South Sandwich Islands region\n",
       "2021-12-30T00:19:54.707Z | 5.1  | Fiji region\n",
       "2021-12-29T21:30:22.185Z | 5    | northern Qinghai, China\n",
       "... (2198 rows omitted)"
      ]
     },
     "execution_count": 24,
     "metadata": {},
     "output_type": "execute_result"
    }
   ],
   "source": [
    "earthquakes = Table().read_table('../Datasets/earthquakes_2021.csv').select(['time', 'mag', 'place'])\n",
    "earthquakes"
   ]
  },
  {
   "cell_type": "markdown",
   "metadata": {},
   "source": [
    "If we were studying all human-detectable 2021 earthquakes and had access to the above data, we’d be in good shape - however, if the USGS didn’t publish the full data, we could still learn something about earthquakes from just a smaller subsample. If we gathered our sample correctly, we could use that subsample to get an idea about the distribution of magnitudes (above 5, of course) throughout the year!\n",
    "\n",
    "In the following lines of code, we take two different samples from the earthquake table, and calculate the mean of the magnitudes of these earthquakes."
   ]
  },
  {
   "cell_type": "code",
   "execution_count": 25,
   "metadata": {
    "editable": false
   },
   "outputs": [
    {
     "data": {
      "text/plain": [
       "[6.5601, 5.3534999999999995]"
      ]
     },
     "execution_count": 25,
     "metadata": {},
     "output_type": "execute_result"
    }
   ],
   "source": [
    "sample1 = earthquakes.sort('mag', descending = True).take(np.arange(100))\n",
    "sample1_magnitude_mean = np.mean(sample1.column('mag'))\n",
    "sample2 = earthquakes.take(np.arange(100))\n",
    "sample2_magnitude_mean = np.mean(sample2.column('mag'))\n",
    "[sample1_magnitude_mean, sample2_magnitude_mean]"
   ]
  },
  {
   "cell_type": "markdown",
   "metadata": {
    "editable": false
   },
   "source": [
    "**Question 1.**  Are these samples representative of the population of earthquakes in the original table (that is, the should we expect the mean to be close to the population mean)? \n",
    "\n",
    "*Hint:* Consider the ordering of the `earthquakes` table. \n",
    "\n",
    "<!--\n",
    "BEGIN QUESTION\n",
    "name: q4_1\n",
    "manual: true\n",
    "-->\n",
    "<!-- EXPORT TO PDF -->"
   ]
  },
  {
   "cell_type": "markdown",
   "metadata": {
    "export_pdf": true,
    "manual_problem_id": "earthquakes_1"
   },
   "source": [
    "It depends on how many values are in the earthquakes table and if it accounts for the entire Earth. If the table is only taking earthquakes, from say California or the Ring of Fire, then the mean is going to be much higher than the overall average."
   ]
  },
  {
   "cell_type": "markdown",
   "metadata": {},
   "source": [
    "**Question 2.** Write code to produce a sample of size 250 that is representative of the population. Then, take the mean of the magnitudes of the earthquakes in this sample. Assign these to `representative_sample` and `representative_mean` respectively. \n",
    "\n",
    "*Hint:* In class, we learned what kind of samples should be used to properly represent the population.\n",
    "\n",
    "\n",
    "<!--\n",
    "BEGIN QUESTION\n",
    "name: q4_2\n",
    "manual: false\n",
    "-->"
   ]
  },
  {
   "cell_type": "code",
   "execution_count": 26,
   "metadata": {},
   "outputs": [
    {
     "data": {
      "text/plain": [
       "5.324200000000001"
      ]
     },
     "execution_count": 26,
     "metadata": {},
     "output_type": "execute_result"
    }
   ],
   "source": [
    "representative_sample = earthquakes.sample(250)\n",
    "representative_mean = np.mean(representative_sample.column('mag'))\n",
    "representative_mean"
   ]
  },
  {
   "cell_type": "markdown",
   "metadata": {},
   "source": [
    "**Question 3.** Suppose we want to figure out what the biggest magnitude earthquake was in 2021, but we only have our representative sample of 250. Let’s see if trying to find the biggest magnitude in the population from a random sample of 250 is a reasonable idea!\n",
    "\n",
    "Write code that takes many random samples from the `earthquakes` table and finds the maximum of each sample. You should take a random sample of size 250 and do this 5000 times. Assign the array of maximum magnitudes you find to `maximums`.\n",
    "\n",
    "<!--\n",
    "BEGIN QUESTION\n",
    "name: q4_3\n",
    "manual: false\n",
    "-->"
   ]
  },
  {
   "cell_type": "code",
   "execution_count": 27,
   "metadata": {
    "ExecuteTime": {
     "end_time": "2018-02-17T03:01:44.666538Z",
     "start_time": "2018-02-17T03:01:37.708032Z"
    }
   },
   "outputs": [],
   "source": [
    "maximums = []\n",
    "for i in np.arange(5000): \n",
    "    test = earthquakes.sample(250)\n",
    "    maximums.append(test[\"mag\"].max())\n",
    "    \n",
    "# maximums"
   ]
  },
  {
   "cell_type": "code",
   "execution_count": 28,
   "metadata": {},
   "outputs": [
    {
     "data": {
      "image/png": "[encoded data removed]",
      "text/plain": [
       "<Figure size 432x288 with 1 Axes>"
      ]
     },
     "metadata": {},
     "output_type": "display_data"
    }
   ],
   "source": [
    "#Histogram of your maximums\n",
    "Table().with_column('Largest magnitude in sample', maximums).hist('Largest magnitude in sample', bins = np.arange(6, 9.1, 0.1)) "
   ]
  },
  {
   "cell_type": "markdown",
   "metadata": {},
   "source": [
    "**Question 4.** Now find the magnitude of the actual strongest earthquake in 2021 (not the maximum of a sample). This will help us determine whether a random sample of size 250 is likely to help you determine the largest magnitude earthquake in the population.\n",
    "\n",
    "<!--\n",
    "BEGIN QUESTION\n",
    "name: q4_4\n",
    "manual: false\n",
    "-->"
   ]
  },
  {
   "cell_type": "code",
   "execution_count": 29,
   "metadata": {
    "ExecuteTime": {
     "end_time": "2018-02-17T03:01:44.696619Z",
     "start_time": "2018-02-17T03:01:44.689602Z"
    }
   },
   "outputs": [
    {
     "data": {
      "text/plain": [
       "8.2"
      ]
     },
     "execution_count": 29,
     "metadata": {},
     "output_type": "execute_result"
    }
   ],
   "source": [
    "strongest_earthquake_magnitude = earthquakes[\"mag\"].max()\n",
    "strongest_earthquake_magnitude"
   ]
  },
  {
   "cell_type": "markdown",
   "metadata": {},
   "source": [
    "**Question 5.** \n",
    "Explain whether you believe you can accurately use a sample size of 250 to determine the maximum. What is one problem with using the maximum as your estimator? Use the histogram above to help answer. \n",
    "\n",
    "<!--\n",
    "BEGIN QUESTION\n",
    "name: q4_5\n",
    "manual: true\n",
    "-->\n",
    "<!-- EXPORT TO PDF -->"
   ]
  },
  {
   "cell_type": "markdown",
   "metadata": {
    "export_pdf": true,
    "manual_problem_id": "earthquakes_4"
   },
   "source": [
    "I don't think I can accurately use a sample size of 250 to determine the maximum.  Based on the chart above, my best guess would have been closer to 7.8 ish; which is close to 8.2, but I think it's still too far off for comfort.  It gets us close, but it doesn't pinpoint really well. \n",
    "\n",
    "I think if I had more data, it would work better or if I ran the loop multiple times. \n",
    "\n",
    "If you used the maximum as the estimator, one issue is that it can be skewed because of outliers. The sample might not pick up an outlier."
   ]
  },
  {
   "cell_type": "markdown",
   "metadata": {},
   "source": [
    "## 5. Assessing Jade's Models\n",
    "#### Games with Jade"
   ]
  },
  {
   "cell_type": "markdown",
   "metadata": {},
   "source": [
    "Our friend Jade comes over and asks us to play a game with her. The game works like this: \n",
    "\n",
    "> We will draw randomly with replacement from a simplified 24 card deck with 4 types of *good* cards (A, J, Q, K), and 2 types of *bad* cards (9, 10). for each type of card, there are 4 cards in the deck, with one in each suit (\"♠︎\", \"♣︎\", \"♥︎\", or \"♦︎\"). We draw cards with replacement 24 times, and if the number of *bad* cards is greater than or equal to 8, we lose.\n",
    "> \n",
    "> Otherwise, Jade wins.\n",
    "\n",
    "We play the game once and we lose, observing 14 total *bad* cards. We are angry and accuse Jade of cheating! Jade is adamant, however, that the deck is fair.\n",
    "\n",
    "Jade's model claims that there is an equal chance of getting any of the cards (9♠︎, 10♠︎, J♠︎, Q♠︎, K♠︎, A♠︎, 9♣︎, 10♣︎, J♣︎, Q♣︎, K♣︎, A♣︎, 9♥︎, 10♥︎, J♥︎, Q♥︎, K♥︎, A♥︎, 9♦︎, 10♦︎, J♦︎, Q♦︎, K♦︎, A♦︎), but we do not believe her. We believe that the deck is clearly rigged, with *bad* cards (9♠︎, 10♠︎, 9♣︎, 10♣︎, 9♥︎, 10♥︎, 9♦︎, 10♦︎) being more likely than the remaining cards."
   ]
  },
  {
   "cell_type": "markdown",
   "metadata": {},
   "source": [
    "#### Question 1\n",
    "Assign `deck_model_probabilities` to a two-item array containing the chance of drawing a *good* card as the first element, and the chance of drawing a *bad* card as the second element under Jade's model. Since we're working with probabilities, make sure your values are between 0 and 1. \n",
    "\n",
    "<!--\n",
    "BEGIN QUESTION\n",
    "name: q5_1\n",
    "manual: false\n",
    "-->"
   ]
  },
  {
   "cell_type": "code",
   "execution_count": 30,
   "metadata": {},
   "outputs": [
    {
     "data": {
      "text/plain": [
       "array([0.66666667, 0.33333333])"
      ]
     },
     "execution_count": 30,
     "metadata": {},
     "output_type": "execute_result"
    }
   ],
   "source": [
    "good_card = (4*4)/24 \n",
    "bad_card = (2*4)/24\n",
    "\n",
    "deck_model_probabilities = make_array(good_card, bad_card)\n",
    "deck_model_probabilities"
   ]
  },
  {
   "cell_type": "code",
   "execution_count": null,
   "metadata": {},
   "outputs": [],
   "source": []
  },
  {
   "cell_type": "markdown",
   "metadata": {},
   "source": [
    "**Question 2**\n",
    "\n",
    "We believe Jade's model is incorrect. In particular, we believe there to be a larger chance of getting a *bad* card. Which of the following statistics can we use during our simulation to test between the model and our alternative? Assign `statistic_choice` to the correct answer. \n",
    "\n",
    "1. The actual number of *bad* cards we get in 24 draws\n",
    "2. The distance (absolute value) between the actual number of *bad* cards in 24 draws and the expected number of *bad* cards in 24 draws (8)\n",
    "3. The expected number of *bad* cards in 24 draws (8)\n",
    "\n",
    "\n",
    "<!--\n",
    "BEGIN QUESTION\n",
    "name: q5_2\n",
    "manual: false\n",
    "-->"
   ]
  },
  {
   "cell_type": "code",
   "execution_count": 31,
   "metadata": {},
   "outputs": [
    {
     "data": {
      "text/plain": [
       "2"
      ]
     },
     "execution_count": 31,
     "metadata": {},
     "output_type": "execute_result"
    }
   ],
   "source": [
    "statistic_choice = 2\n",
    "statistic_choice"
   ]
  },
  {
   "cell_type": "markdown",
   "metadata": {},
   "source": [
    "#### Question 3\n",
    "\n",
    "Define the function `deck_simulation_and_statistic`, which, given a sample size and an array of model proportions (like the one you created in Question 1), returns the number of *bad* cards in one simulation of drawing a card under the model specified in `model_proportions`. \n",
    "\n",
    "*Hint:* Think about how you can use the function `sample_proportions`. \n",
    "\n",
    "<!--\n",
    "BEGIN QUESTION\n",
    "name: q5_3\n",
    "manual: false\n",
    "-->"
   ]
  },
  {
   "cell_type": "code",
   "execution_count": 192,
   "metadata": {},
   "outputs": [
    {
     "data": {
      "text/plain": [
       "0.3333333333333333"
      ]
     },
     "execution_count": 192,
     "metadata": {},
     "output_type": "execute_result"
    }
   ],
   "source": [
    "good = (4*4)/24 \n",
    "bad = (2*4)/24\n",
    "\n",
    "# This will pull k number of cards from the list of cards \n",
    "cards = ['9♠︎', '10♠︎', 'J♠︎', 'Q♠︎', 'K♠︎', 'A♠︎', '9♣︎', '10♣︎', 'J♣︎', 'Q♣︎', 'K♣︎', 'A♣︎', '9♥︎', '10♥︎', 'J♥︎', 'Q♥︎', 'K♥︎', 'A♥︎', '9♦︎', '10♦︎', 'J♦︎', 'Q♦︎', 'K♦︎', 'A♦︎']\n",
    "sNumbers = [random.choices(cards, weights=(bad, bad, good, good, good, good, bad, bad, good, good, good, good, bad, bad, good, good, good, good, bad, bad, good, \n",
    "                                         good, good, good), k = 24)]\n",
    "len(sNumbers)\n",
    "bad"
   ]
  },
  {
   "cell_type": "code",
   "execution_count": 149,
   "metadata": {},
   "outputs": [],
   "source": [
    "# Create a function that will run at least one game, with a set number of cards \n",
    "def run_one_game(number_of_drawn_cards): \n",
    "    cards = ['9♠︎', '10♠︎', 'J♠︎', 'Q♠︎', 'K♠︎', 'A♠︎', '9♣︎', '10♣︎', 'J♣︎', 'Q♣︎', 'K♣︎', 'A♣︎', '9♥︎', '10♥︎', 'J♥︎', 'Q♥︎', 'K♥︎', 'A♥︎', '9♦︎', '10♦︎', 'J♦︎', 'Q♦︎', 'K♦︎', 'A♦︎']\n",
    "    sNumbers = random.choices(cards, weights=(bad, bad, good, good, good, good, bad, bad, good, good, good, good, bad, bad, good, good, good, good, bad, bad, good, \n",
    "                                         good, good, good), k = number_of_drawn_cards)\n",
    "    return sNumbers\n",
    "\n",
    "# How to repeat the number of games played \n",
    "def run_multiple_games(number_of_drawn_cards, number_of_times_played): \n",
    "    values = [] \n",
    "    for x in np.arange(0, number_of_times_played, 1):\n",
    "        values.append(run_one_game(number_of_drawn_cards))\n",
    "    return values\n",
    "\n",
    "# run_multiple_games(24,1)"
   ]
  },
  {
   "cell_type": "code",
   "execution_count": 140,
   "metadata": {},
   "outputs": [
    {
     "name": "stdout",
     "output_type": "stream",
     "text": [
      "[2, 1]\n"
     ]
    }
   ],
   "source": [
    "# List Indexing Tests \n",
    "test_2 = [['9♠︎', '10♠︎', '9♣︎'],[\"a\",'10♠︎',\"c\"]]\n",
    "test_2[1]\n",
    "\n",
    "# If statement tests\n",
    "list_points = [] # Good, sep by list # This will be the total sum of all bad cards for all of the iterations; we want to separate by list\n",
    "for each_list in np.arange(0, len(test_2), 1):\n",
    "    points = 0 # If you put it here, it will only put the things in the list for the first list \n",
    "    for each_indiv_list_value in np.arange(0,len(test_2[each_list]), 1):\n",
    "        if test_2[each_list][each_indiv_list_value] == '9♠︎' or test_2[each_list][each_indiv_list_value] == '10♠︎':\n",
    "            points = points + 1\n",
    "    list_points.append(points)\n",
    "            \n",
    "print(list_points)   "
   ]
  },
  {
   "cell_type": "code",
   "execution_count": 193,
   "metadata": {},
   "outputs": [
    {
     "data": {
      "text/plain": [
       "[[4, 20], [7, 17], [3, 21], [8, 16], [5, 19], [6, 18]]"
      ]
     },
     "execution_count": 193,
     "metadata": {},
     "output_type": "execute_result"
    }
   ],
   "source": [
    "# How to calculate the number of good and bad cards per game \n",
    "def score_multiple_run_games(number_of_drawn_cards, number_of_times_played): \n",
    "    values = [] \n",
    "    for x in np.arange(0, number_of_times_played, 1):\n",
    "        values.append(run_one_game(number_of_drawn_cards))\n",
    "    #return values # This will return a list of lists with the drawn card values\n",
    "    card_type_total_per_game = [] \n",
    "      \n",
    "    for each_list in np.arange(0, number_of_times_played, 1):\n",
    "        bad_card_count = 0\n",
    "        good_card_count = 0\n",
    "        for each_indiv_list_value in np.arange(0,number_of_drawn_cards, 1): \n",
    "            if values[each_list][each_indiv_list_value] == '9♠︎' or values[each_list][each_indiv_list_value] == '10♠︎' or values[each_list][each_indiv_list_value] == '9♣︎' or values[each_list][each_indiv_list_value] =='10♣︎' or values[each_list][each_indiv_list_value] == '9♥︎' or values[each_list][each_indiv_list_value] == '10♥︎' or values[each_list][each_indiv_list_value] == '9♦︎' or values[each_list][each_indiv_list_value] == '10♦︎':\n",
    "                bad_card_count = bad_card_count + 1 \n",
    "            elif values[each_list][each_indiv_list_value] == 'J♠︎' or values[each_list][each_indiv_list_value] == 'Q♠︎' or values[each_list][each_indiv_list_value] == 'K♠︎' or values[each_list][each_indiv_list_value] == 'A♠︎' or values[each_list][each_indiv_list_value] == 'J♣︎' or values[each_list][each_indiv_list_value] == 'Q♣︎' or values[each_list][each_indiv_list_value] == 'K♣︎' or values[each_list][each_indiv_list_value] =='A♣︎' or values[each_list][each_indiv_list_value] == 'J♥︎' or values[each_list][each_indiv_list_value] == 'Q♥︎' or values[each_list][each_indiv_list_value] == 'K♥︎' or values[each_list][each_indiv_list_value] == 'A♥︎' or values[each_list][each_indiv_list_value] == 'J♦︎' or values[each_list][each_indiv_list_value] == 'Q♦︎' or values[each_list][each_indiv_list_value] == 'K♦︎' or values[each_list][each_indiv_list_value] =='A♦︎': \n",
    "                good_card_count = good_card_count + 1\n",
    "                \n",
    "        card_type_total_per_game.append([bad_card_count, good_card_count]) # May need to make this in a list\n",
    "    return card_type_total_per_game\n",
    "\n",
    "score_multiple_run_games(24, 6) # returned as [BAD, GOOD]\n"
   ]
  },
  {
   "cell_type": "code",
   "execution_count": 196,
   "metadata": {},
   "outputs": [
    {
     "data": {
      "text/plain": [
       "[[0.16666666666666666, 0.8333333333333334],\n",
       " [0.08333333333333333, 0.9166666666666666],\n",
       " [0.20833333333333334, 0.7916666666666666],\n",
       " [0.20833333333333334, 0.7916666666666666],\n",
       " [0.25, 0.75],\n",
       " [0.2916666666666667, 0.7083333333333334]]"
      ]
     },
     "execution_count": 196,
     "metadata": {},
     "output_type": "execute_result"
    }
   ],
   "source": [
    "# Returns the same as score_multple_run_games, but as a proportion of \"Good\" and \"Bad\" cards\n",
    "def score_multiple_run_games_proportion(number_of_drawn_cards, number_of_times_played): \n",
    "    values = [] \n",
    "    for x in np.arange(0, number_of_times_played, 1):\n",
    "        values.append(run_one_game(number_of_drawn_cards))\n",
    "    #return values # This will return a list of lists with the drawn card values\n",
    "    card_type_total_per_game = [] \n",
    "      \n",
    "    for each_list in np.arange(0, number_of_times_played, 1):\n",
    "        bad_card_count = 0\n",
    "        good_card_count = 0\n",
    "        for each_indiv_list_value in np.arange(0,number_of_drawn_cards, 1): \n",
    "            if values[each_list][each_indiv_list_value] == '9♠︎' or values[each_list][each_indiv_list_value] == '10♠︎' or values[each_list][each_indiv_list_value] == '9♣︎' or values[each_list][each_indiv_list_value] =='10♣︎' or values[each_list][each_indiv_list_value] == '9♥︎' or values[each_list][each_indiv_list_value] == '10♥︎' or values[each_list][each_indiv_list_value] == '9♦︎' or values[each_list][each_indiv_list_value] == '10♦︎':\n",
    "                bad_card_count = bad_card_count + 1 \n",
    "            elif values[each_list][each_indiv_list_value] == 'J♠︎' or values[each_list][each_indiv_list_value] == 'Q♠︎' or values[each_list][each_indiv_list_value] == 'K♠︎' or values[each_list][each_indiv_list_value] == 'A♠︎' or values[each_list][each_indiv_list_value] == 'J♣︎' or values[each_list][each_indiv_list_value] == 'Q♣︎' or values[each_list][each_indiv_list_value] == 'K♣︎' or values[each_list][each_indiv_list_value] =='A♣︎' or values[each_list][each_indiv_list_value] == 'J♥︎' or values[each_list][each_indiv_list_value] == 'Q♥︎' or values[each_list][each_indiv_list_value] == 'K♥︎' or values[each_list][each_indiv_list_value] == 'A♥︎' or values[each_list][each_indiv_list_value] == 'J♦︎' or values[each_list][each_indiv_list_value] == 'Q♦︎' or values[each_list][each_indiv_list_value] == 'K♦︎' or values[each_list][each_indiv_list_value] =='A♦︎': \n",
    "                good_card_count = good_card_count + 1\n",
    "                \n",
    "        card_type_total_per_game.append([bad_card_count/number_of_drawn_cards, good_card_count/number_of_drawn_cards]) # May need to make this in a list\n",
    "    return card_type_total_per_game\n",
    "\n",
    "score_multiple_run_games_proportion(24, 6) # returned as [BAD, GOOD]"
   ]
  },
  {
   "cell_type": "code",
   "execution_count": 197,
   "metadata": {},
   "outputs": [
    {
     "data": {
      "text/plain": [
       "[0.125,\n",
       " 0.16666666666666666,\n",
       " 0.3333333333333333,\n",
       " 0.16666666666666666,\n",
       " 0.08333333333333333,\n",
       " 0.25]"
      ]
     },
     "execution_count": 197,
     "metadata": {},
     "output_type": "execute_result"
    }
   ],
   "source": [
    "# Returns the the proportion of \"Bad\" cards\n",
    "def deck_simulation_and_statistic_proportion(number_of_drawn_cards, number_of_times_played): \n",
    "    values = [] \n",
    "    for x in np.arange(0, number_of_times_played, 1):\n",
    "        values.append(run_one_game(number_of_drawn_cards))\n",
    "    #return values # This will return a list of lists with the drawn card values\n",
    "    card_type_total_per_game = [] \n",
    "      \n",
    "    for each_list in np.arange(0, number_of_times_played, 1):\n",
    "        bad_card_count = 0\n",
    "        good_card_count = 0\n",
    "        for each_indiv_list_value in np.arange(0,number_of_drawn_cards, 1): \n",
    "            if values[each_list][each_indiv_list_value] == '9♠︎' or values[each_list][each_indiv_list_value] == '10♠︎' or values[each_list][each_indiv_list_value] == '9♣︎' or values[each_list][each_indiv_list_value] =='10♣︎' or values[each_list][each_indiv_list_value] == '9♥︎' or values[each_list][each_indiv_list_value] == '10♥︎' or values[each_list][each_indiv_list_value] == '9♦︎' or values[each_list][each_indiv_list_value] == '10♦︎':\n",
    "                bad_card_count = bad_card_count + 1 \n",
    "#             elif values[each_list][each_indiv_list_value] == 'J♠︎' or values[each_list][each_indiv_list_value] == 'Q♠︎' or values[each_list][each_indiv_list_value] == 'K♠︎' or values[each_list][each_indiv_list_value] == 'A♠︎' or values[each_list][each_indiv_list_value] == 'J♣︎' or values[each_list][each_indiv_list_value] == 'Q♣︎' or values[each_list][each_indiv_list_value] == 'K♣︎' or values[each_list][each_indiv_list_value] =='A♣︎' or values[each_list][each_indiv_list_value] == 'J♥︎' or values[each_list][each_indiv_list_value] == 'Q♥︎' or values[each_list][each_indiv_list_value] == 'K♥︎' or values[each_list][each_indiv_list_value] == 'A♥︎' or values[each_list][each_indiv_list_value] == 'J♦︎' or values[each_list][each_indiv_list_value] == 'Q♦︎' or values[each_list][each_indiv_list_value] == 'K♦︎' or values[each_list][each_indiv_list_value] =='A♦︎': \n",
    "#                 good_card_count = good_card_count + 1\n",
    "                \n",
    "        card_type_total_per_game.append(bad_card_count/number_of_drawn_cards) # May need to make this in a list\n",
    "    return card_type_total_per_game\n",
    "\n",
    "deck_simulation_and_statistic_proportion(24,6)"
   ]
  },
  {
   "cell_type": "code",
   "execution_count": 198,
   "metadata": {},
   "outputs": [
    {
     "data": {
      "text/plain": [
       "[4, 2, 8, 9, 4, 4]"
      ]
     },
     "execution_count": 198,
     "metadata": {},
     "output_type": "execute_result"
    }
   ],
   "source": [
    "# Returns the the number of \"Bad\" cards\n",
    "def deck_simulation_and_statistic(number_of_drawn_cards, number_of_times_played): \n",
    "    values = [] \n",
    "    for x in np.arange(0, number_of_times_played, 1):\n",
    "        values.append(run_one_game(number_of_drawn_cards))\n",
    "    #return values # This will return a list of lists with the drawn card values\n",
    "    card_type_total_per_game = [] \n",
    "      \n",
    "    for each_list in np.arange(0, number_of_times_played, 1):\n",
    "        bad_card_count = 0\n",
    "        good_card_count = 0\n",
    "        for each_indiv_list_value in np.arange(0,number_of_drawn_cards, 1): \n",
    "            if values[each_list][each_indiv_list_value] == '9♠︎' or values[each_list][each_indiv_list_value] == '10♠︎' or values[each_list][each_indiv_list_value] == '9♣︎' or values[each_list][each_indiv_list_value] =='10♣︎' or values[each_list][each_indiv_list_value] == '9♥︎' or values[each_list][each_indiv_list_value] == '10♥︎' or values[each_list][each_indiv_list_value] == '9♦︎' or values[each_list][each_indiv_list_value] == '10♦︎':\n",
    "                bad_card_count = bad_card_count + 1 \n",
    "#             elif values[each_list][each_indiv_list_value] == 'J♠︎' or values[each_list][each_indiv_list_value] == 'Q♠︎' or values[each_list][each_indiv_list_value] == 'K♠︎' or values[each_list][each_indiv_list_value] == 'A♠︎' or values[each_list][each_indiv_list_value] == 'J♣︎' or values[each_list][each_indiv_list_value] == 'Q♣︎' or values[each_list][each_indiv_list_value] == 'K♣︎' or values[each_list][each_indiv_list_value] =='A♣︎' or values[each_list][each_indiv_list_value] == 'J♥︎' or values[each_list][each_indiv_list_value] == 'Q♥︎' or values[each_list][each_indiv_list_value] == 'K♥︎' or values[each_list][each_indiv_list_value] == 'A♥︎' or values[each_list][each_indiv_list_value] == 'J♦︎' or values[each_list][each_indiv_list_value] == 'Q♦︎' or values[each_list][each_indiv_list_value] == 'K♦︎' or values[each_list][each_indiv_list_value] =='A♦︎': \n",
    "#                 good_card_count = good_card_count + 1\n",
    "                \n",
    "        card_type_total_per_game.append(bad_card_count) # May need to make this in a list\n",
    "    return card_type_total_per_game\n",
    "\n",
    "deck_simulation_and_statistic(24,6)"
   ]
  },
  {
   "cell_type": "markdown",
   "metadata": {},
   "source": [
    "**Question 4** \n",
    "\n",
    "Use your function from above to simulate the drawing of 24 cards 5000 times under the proportions that you specified in Question 1. Keep track of all of your statistics in `deck_statistics`. \n",
    "\n",
    "<!--\n",
    "BEGIN QUESTION\n",
    "name: q5_4\n",
    "manual: false\n",
    "-->"
   ]
  },
  {
   "cell_type": "code",
   "execution_count": 181,
   "metadata": {},
   "outputs": [],
   "source": [
    "deck_statistics = deck_simulation_and_statistic(24,5000)"
   ]
  },
  {
   "cell_type": "code",
   "execution_count": null,
   "metadata": {},
   "outputs": [],
   "source": []
  },
  {
   "cell_type": "markdown",
   "metadata": {},
   "source": [
    "Let’s take a look at the distribution of simulated statistics."
   ]
  },
  {
   "cell_type": "code",
   "execution_count": 191,
   "metadata": {},
   "outputs": [
    {
     "data": {
      "text/plain": [
       "(array([ 157.,  430.,  752.,  958.,  978., 1266.,  276.,  121.,   45.,\n",
       "          17.]),\n",
       " array([ 0. ,  1.2,  2.4,  3.6,  4.8,  6. ,  7.2,  8.4,  9.6, 10.8, 12. ]),\n",
       " <BarContainer object of 10 artists>)"
      ]
     },
     "execution_count": 191,
     "metadata": {},
     "output_type": "execute_result"
    },
    {
     "data": {
      "image/png": "[encoded data removed]",
      "text/plain": [
       "<Figure size 432x288 with 1 Axes>"
      ]
     },
     "metadata": {},
     "output_type": "display_data"
    }
   ],
   "source": [
    "#Draw a distribution of statistics \n",
    "plt.hist(deck_statistics, 10)\n",
    "# This is the distribution of bad cards when you play the game 5000 times. "
   ]
  },
  {
   "cell_type": "code",
   "execution_count": 200,
   "metadata": {},
   "outputs": [
    {
     "data": {
      "text/plain": [
       "(array([1.840e+02, 4.300e+02, 1.709e+03, 9.290e+02, 1.319e+03, 2.660e+02,\n",
       "        1.470e+02, 1.000e+01, 5.000e+00, 1.000e+00]),\n",
       " array([0.    , 0.0625, 0.125 , 0.1875, 0.25  , 0.3125, 0.375 , 0.4375,\n",
       "        0.5   , 0.5625, 0.625 ]),\n",
       " <BarContainer object of 10 artists>)"
      ]
     },
     "execution_count": 200,
     "metadata": {},
     "output_type": "execute_result"
    },
    {
     "data": {
      "image/png": "[encoded data removed]",
      "text/plain": [
       "<Figure size 432x288 with 1 Axes>"
      ]
     },
     "metadata": {},
     "output_type": "display_data"
    }
   ],
   "source": [
    "# This is the distribution of bad cards when you play the game 5000 times, but as a proportion \n",
    "deck_prop = deck_simulation_and_statistic_proportion(24,5000)\n",
    "plt.hist(deck_prop, 10)"
   ]
  },
  {
   "cell_type": "markdown",
   "metadata": {
    "editable": false
   },
   "source": [
    "#### Question 5\n",
    "Given your observed value, do you believe that Jade's model is reasonable, or is our alternative more likely? Explain your answer using the distribution drawn in the previous problem. \n",
    "\n",
    "<!--\n",
    "BEGIN QUESTION\n",
    "name: q5_5\n",
    "manual: true\n",
    "-->\n",
    "<!-- EXPORT TO PDF -->"
   ]
  },
  {
   "cell_type": "markdown",
   "metadata": {
    "export_pdf": true,
    "manual_problem_id": "dice_and_coins_5"
   },
   "source": [
    "We'd expect to get a bad card 1/3 of the time, and this appears to show about a little less than that (at least with the current random histogram that I have generated). I think that Jade's model is reasonable based on the proportion of times we get a bad card.  It follows our expectation. I don't think Jade is lying. "
   ]
  },
  {
   "cell_type": "code",
   "execution_count": null,
   "metadata": {},
   "outputs": [],
   "source": []
  }
 ],
 "metadata": {
  "kernelspec": {
   "display_name": "PythonData",
   "language": "python",
   "name": "pythondata"
  },
  "language_info": {
   "codemirror_mode": {
    "name": "ipython",
    "version": 3
   },
   "file_extension": ".py",
   "mimetype": "text/x-python",
   "name": "python",
   "nbconvert_exporter": "python",
   "pygments_lexer": "ipython3",
   "version": "3.9.7"
  }
 },
 "nbformat": 4,
 "nbformat_minor": 4
}
