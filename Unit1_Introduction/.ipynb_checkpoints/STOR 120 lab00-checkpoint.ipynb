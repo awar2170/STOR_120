{
 "cells": [
  {
   "cell_type": "markdown",
   "metadata": {},
   "source": [
    "# Lab 0: Getting Started\n",
    "\n",
    "Welcome to STOR 120: *Foundations of Statistics and Data Science*!  Most weeks you will complete a lab assignment. You can't learn technical subjects without hands-on practice, so labs are an important part of the course.\n",
    "\n",
    "Collaborating on labs is more than okay -- it's encouraged! You should rarely remain stuck for more than a few minutes on questions in labs, so ask a classmate or an instructor for help. (Explaining things is beneficial, too -- the best way to solidify your knowledge of a subject is to explain it.) Please don't just share answers, though.\n",
    "\n",
    "#### Today's lab\n",
    "\n",
    "In today's lab, you'll learn how to:\n",
    "\n",
    "1. Install the JupyterLab software needed for the course;\n",
    "2. open your first Jupyter notebook (like this one);\n",
    "3. run one *cell* to install a needed package;\n",
    "4. change one *cell* of the notebook;\n",
    "5. save your notebook; and\n",
    "6. submit your notebook to Gradescope."
   ]
  },
  {
   "cell_type": "markdown",
   "metadata": {},
   "source": [
    "**Question 1.** Run the *cell* below to install the needed package"
   ]
  },
  {
   "cell_type": "code",
   "execution_count": 3,
   "metadata": {},
   "outputs": [
    {
     "name": "stdout",
     "output_type": "stream",
     "text": [
      "Requirement already satisfied: datascience in c:\\users\\adeve\\anaconda3\\envs\\pythondata\\lib\\site-packages (0.17.0)\n",
      "Requirement already satisfied: scipy in c:\\users\\adeve\\anaconda3\\envs\\pythondata\\lib\\site-packages (from datascience) (1.7.1)\n",
      "Requirement already satisfied: coverage in c:\\users\\adeve\\anaconda3\\envs\\pythondata\\lib\\site-packages (from datascience) (6.2)\n",
      "Requirement already satisfied: matplotlib>=3.0.0 in c:\\users\\adeve\\anaconda3\\envs\\pythondata\\lib\\site-packages (from datascience) (3.5.0)\n",
      "Requirement already satisfied: folium>=0.9.1 in c:\\users\\adeve\\anaconda3\\envs\\pythondata\\lib\\site-packages (from datascience) (0.12.1.post1)\n",
      "Requirement already satisfied: bokeh in c:\\users\\adeve\\anaconda3\\envs\\pythondata\\lib\\site-packages (from datascience) (2.4.2)\n",
      "Requirement already satisfied: plotly in c:\\users\\adeve\\anaconda3\\envs\\pythondata\\lib\\site-packages (from datascience) (5.5.0)\n",
      "Requirement already satisfied: pandas in c:\\users\\adeve\\anaconda3\\envs\\pythondata\\lib\\site-packages (from datascience) (1.3.4)\n",
      "Requirement already satisfied: ipython in c:\\users\\adeve\\anaconda3\\envs\\pythondata\\lib\\site-packages (from datascience) (7.29.0)\n",
      "Requirement already satisfied: pytest in c:\\users\\adeve\\anaconda3\\envs\\pythondata\\lib\\site-packages (from datascience) (6.2.4)\n",
      "Requirement already satisfied: setuptools in c:\\users\\adeve\\anaconda3\\envs\\pythondata\\lib\\site-packages (from datascience) (58.0.4)\n",
      "Requirement already satisfied: coveralls in c:\\users\\adeve\\anaconda3\\envs\\pythondata\\lib\\site-packages (from datascience) (3.3.1)\n",
      "Requirement already satisfied: sphinx in c:\\users\\adeve\\anaconda3\\envs\\pythondata\\lib\\site-packages (from datascience) (4.2.0)\n",
      "Requirement already satisfied: branca in c:\\users\\adeve\\anaconda3\\envs\\pythondata\\lib\\site-packages (from datascience) (0.4.2)\n",
      "Requirement already satisfied: numpy in c:\\users\\adeve\\anaconda3\\envs\\pythondata\\lib\\site-packages (from datascience) (1.20.3)\n",
      "Requirement already satisfied: nbsphinx in c:\\users\\adeve\\anaconda3\\envs\\pythondata\\lib\\site-packages (from datascience) (0.8.8)\n",
      "Requirement already satisfied: jinja2>=2.9 in c:\\users\\adeve\\anaconda3\\envs\\pythondata\\lib\\site-packages (from folium>=0.9.1->datascience) (2.11.3)\n",
      "Requirement already satisfied: requests in c:\\users\\adeve\\anaconda3\\envs\\pythondata\\lib\\site-packages (from folium>=0.9.1->datascience) (2.26.0)\n",
      "Requirement already satisfied: MarkupSafe>=0.23 in c:\\users\\adeve\\anaconda3\\envs\\pythondata\\lib\\site-packages (from jinja2>=2.9->folium>=0.9.1->datascience) (1.1.1)\n",
      "Requirement already satisfied: packaging>=20.0 in c:\\users\\adeve\\anaconda3\\envs\\pythondata\\lib\\site-packages (from matplotlib>=3.0.0->datascience) (21.3)\n",
      "Requirement already satisfied: python-dateutil>=2.7 in c:\\users\\adeve\\anaconda3\\envs\\pythondata\\lib\\site-packages (from matplotlib>=3.0.0->datascience) (2.8.2)\n",
      "Requirement already satisfied: pyparsing>=2.2.1 in c:\\users\\adeve\\anaconda3\\envs\\pythondata\\lib\\site-packages (from matplotlib>=3.0.0->datascience) (3.0.4)\n",
      "Requirement already satisfied: kiwisolver>=1.0.1 in c:\\users\\adeve\\anaconda3\\envs\\pythondata\\lib\\site-packages (from matplotlib>=3.0.0->datascience) (1.3.1)\n",
      "Requirement already satisfied: fonttools>=4.22.0 in c:\\users\\adeve\\anaconda3\\envs\\pythondata\\lib\\site-packages (from matplotlib>=3.0.0->datascience) (4.25.0)\n",
      "Requirement already satisfied: pillow>=6.2.0 in c:\\users\\adeve\\anaconda3\\envs\\pythondata\\lib\\site-packages (from matplotlib>=3.0.0->datascience) (8.4.0)\n",
      "Requirement already satisfied: cycler>=0.10 in c:\\users\\adeve\\anaconda3\\envs\\pythondata\\lib\\site-packages (from matplotlib>=3.0.0->datascience) (0.11.0)\n",
      "Requirement already satisfied: six>=1.5 in c:\\users\\adeve\\anaconda3\\envs\\pythondata\\lib\\site-packages (from python-dateutil>=2.7->matplotlib>=3.0.0->datascience) (1.16.0)\n",
      "Requirement already satisfied: tornado>=5.1 in c:\\users\\adeve\\anaconda3\\envs\\pythondata\\lib\\site-packages (from bokeh->datascience) (6.1)\n",
      "Requirement already satisfied: typing-extensions>=3.10.0 in c:\\users\\adeve\\anaconda3\\envs\\pythondata\\lib\\site-packages (from bokeh->datascience) (3.10.0.2)\n",
      "Requirement already satisfied: PyYAML>=3.10 in c:\\users\\adeve\\anaconda3\\envs\\pythondata\\lib\\site-packages (from bokeh->datascience) (6.0)\n",
      "Requirement already satisfied: docopt>=0.6.1 in c:\\users\\adeve\\anaconda3\\envs\\pythondata\\lib\\site-packages (from coveralls->datascience) (0.6.2)\n",
      "Requirement already satisfied: urllib3<1.27,>=1.21.1 in c:\\users\\adeve\\anaconda3\\envs\\pythondata\\lib\\site-packages (from requests->folium>=0.9.1->datascience) (1.26.7)\n",
      "Requirement already satisfied: charset-normalizer~=2.0.0 in c:\\users\\adeve\\anaconda3\\envs\\pythondata\\lib\\site-packages (from requests->folium>=0.9.1->datascience) (2.0.4)\n",
      "Requirement already satisfied: certifi>=2017.4.17 in c:\\users\\adeve\\anaconda3\\envs\\pythondata\\lib\\site-packages (from requests->folium>=0.9.1->datascience) (2021.10.8)\n",
      "Requirement already satisfied: idna<4,>=2.5 in c:\\users\\adeve\\anaconda3\\envs\\pythondata\\lib\\site-packages (from requests->folium>=0.9.1->datascience) (3.3)\n",
      "Requirement already satisfied: prompt-toolkit!=3.0.0,!=3.0.1,<3.1.0,>=2.0.0 in c:\\users\\adeve\\anaconda3\\envs\\pythondata\\lib\\site-packages (from ipython->datascience) (3.0.20)\n",
      "Requirement already satisfied: colorama in c:\\users\\adeve\\anaconda3\\envs\\pythondata\\lib\\site-packages (from ipython->datascience) (0.4.4)\n",
      "Requirement already satisfied: matplotlib-inline in c:\\users\\adeve\\anaconda3\\envs\\pythondata\\lib\\site-packages (from ipython->datascience) (0.1.2)\n",
      "Requirement already satisfied: decorator in c:\\users\\adeve\\anaconda3\\envs\\pythondata\\lib\\site-packages (from ipython->datascience) (5.1.0)\n",
      "Requirement already satisfied: pygments in c:\\users\\adeve\\anaconda3\\envs\\pythondata\\lib\\site-packages (from ipython->datascience) (2.10.0)\n",
      "Requirement already satisfied: backcall in c:\\users\\adeve\\anaconda3\\envs\\pythondata\\lib\\site-packages (from ipython->datascience) (0.2.0)\n",
      "Requirement already satisfied: pickleshare in c:\\users\\adeve\\anaconda3\\envs\\pythondata\\lib\\site-packages (from ipython->datascience) (0.7.5)\n",
      "Requirement already satisfied: traitlets>=4.2 in c:\\users\\adeve\\anaconda3\\envs\\pythondata\\lib\\site-packages (from ipython->datascience) (5.1.1)\n",
      "Requirement already satisfied: jedi>=0.16 in c:\\users\\adeve\\anaconda3\\envs\\pythondata\\lib\\site-packages (from ipython->datascience) (0.18.0)\n",
      "Requirement already satisfied: parso<0.9.0,>=0.8.0 in c:\\users\\adeve\\anaconda3\\envs\\pythondata\\lib\\site-packages (from jedi>=0.16->ipython->datascience) (0.8.2)\n",
      "Requirement already satisfied: wcwidth in c:\\users\\adeve\\anaconda3\\envs\\pythondata\\lib\\site-packages (from prompt-toolkit!=3.0.0,!=3.0.1,<3.1.0,>=2.0.0->ipython->datascience) (0.2.5)\n",
      "Requirement already satisfied: nbconvert!=5.4 in c:\\users\\adeve\\anaconda3\\envs\\pythondata\\lib\\site-packages (from nbsphinx->datascience) (6.1.0)\n",
      "Requirement already satisfied: docutils in c:\\users\\adeve\\anaconda3\\envs\\pythondata\\lib\\site-packages (from nbsphinx->datascience) (0.17.1)\n",
      "Requirement already satisfied: nbformat in c:\\users\\adeve\\anaconda3\\envs\\pythondata\\lib\\site-packages (from nbsphinx->datascience) (5.1.3)\n",
      "Requirement already satisfied: mistune<2,>=0.8.1 in c:\\users\\adeve\\anaconda3\\envs\\pythondata\\lib\\site-packages (from nbconvert!=5.4->nbsphinx->datascience) (0.8.4)\n",
      "Requirement already satisfied: jupyterlab-pygments in c:\\users\\adeve\\anaconda3\\envs\\pythondata\\lib\\site-packages (from nbconvert!=5.4->nbsphinx->datascience) (0.1.2)Note: you may need to restart the kernel to use updated packages.\n",
      "Requirement already satisfied: jupyter-core in c:\\users\\adeve\\anaconda3\\envs\\pythondata\\lib\\site-packages (from nbconvert!=5.4->nbsphinx->datascience) (4.9.1)\n",
      "Requirement already satisfied: bleach in c:\\users\\adeve\\anaconda3\\envs\\pythondata\\lib\\site-packages (from nbconvert!=5.4->nbsphinx->datascience) (4.0.0)\n",
      "Requirement already satisfied: defusedxml in c:\\users\\adeve\\anaconda3\\envs\\pythondata\\lib\\site-packages (from nbconvert!=5.4->nbsphinx->datascience) (0.7.1)\n",
      "Requirement already satisfied: testpath in c:\\users\\adeve\\anaconda3\\envs\\pythondata\\lib\\site-packages (from nbconvert!=5.4->nbsphinx->datascience) (0.5.0)\n",
      "Requirement already satisfied: entrypoints>=0.2.2 in c:\\users\\adeve\\anaconda3\\envs\\pythondata\\lib\\site-packages (from nbconvert!=5.4->nbsphinx->datascience) (0.3)\n",
      "Requirement already satisfied: nbclient<0.6.0,>=0.5.0 in c:\\users\\adeve\\anaconda3\\envs\\pythondata\\lib\\site-packages (from nbconvert!=5.4->nbsphinx->datascience) (0.5.3)\n",
      "Requirement already satisfied: pandocfilters>=1.4.1 in c:\\users\\adeve\\anaconda3\\envs\\pythondata\\lib\\site-packages (from nbconvert!=5.4->nbsphinx->datascience) (1.4.3)\n",
      "Requirement already satisfied: jupyter-client>=6.1.5 in c:\\users\\adeve\\anaconda3\\envs\\pythondata\\lib\\site-packages (from nbclient<0.6.0,>=0.5.0->nbconvert!=5.4->nbsphinx->datascience) (6.1.12)\n",
      "Requirement already satisfied: nest-asyncio in c:\\users\\adeve\\anaconda3\\envs\\pythondata\\lib\\site-packages (from nbclient<0.6.0,>=0.5.0->nbconvert!=5.4->nbsphinx->datascience) (1.5.1)\n",
      "Requirement already satisfied: async-generator in c:\\users\\adeve\\anaconda3\\envs\\pythondata\\lib\\site-packages (from nbclient<0.6.0,>=0.5.0->nbconvert!=5.4->nbsphinx->datascience) (1.10)\n",
      "Requirement already satisfied: pyzmq>=13 in c:\\users\\adeve\\anaconda3\\envs\\pythondata\\lib\\site-packages (from jupyter-client>=6.1.5->nbclient<0.6.0,>=0.5.0->nbconvert!=5.4->nbsphinx->datascience) (22.3.0)\n",
      "Requirement already satisfied: pywin32>=1.0 in c:\\users\\adeve\\anaconda3\\envs\\pythondata\\lib\\site-packages (from jupyter-core->nbconvert!=5.4->nbsphinx->datascience) (302)\n",
      "Requirement already satisfied: ipython-genutils in c:\\users\\adeve\\anaconda3\\envs\\pythondata\\lib\\site-packages (from nbformat->nbsphinx->datascience) (0.2.0)\n",
      "Requirement already satisfied: jsonschema!=2.5.0,>=2.4 in c:\\users\\adeve\\anaconda3\\envs\\pythondata\\lib\\site-packages (from nbformat->nbsphinx->datascience) (3.2.0)\n",
      "Requirement already satisfied: pyrsistent>=0.14.0 in c:\\users\\adeve\\anaconda3\\envs\\pythondata\\lib\\site-packages (from jsonschema!=2.5.0,>=2.4->nbformat->nbsphinx->datascience) (0.18.0)\n",
      "Requirement already satisfied: attrs>=17.4.0 in c:\\users\\adeve\\anaconda3\\envs\\pythondata\\lib\\site-packages (from jsonschema!=2.5.0,>=2.4->nbformat->nbsphinx->datascience) (21.2.0)\n",
      "Requirement already satisfied: sphinxcontrib-applehelp in c:\\users\\adeve\\anaconda3\\envs\\pythondata\\lib\\site-packages (from sphinx->datascience) (1.0.2)\n",
      "Requirement already satisfied: sphinxcontrib-devhelp in c:\\users\\adeve\\anaconda3\\envs\\pythondata\\lib\\site-packages (from sphinx->datascience) (1.0.2)\n",
      "Requirement already satisfied: sphinxcontrib-jsmath in c:\\users\\adeve\\anaconda3\\envs\\pythondata\\lib\\site-packages (from sphinx->datascience) (1.0.1)\n",
      "Requirement already satisfied: sphinxcontrib-htmlhelp>=2.0.0 in c:\\users\\adeve\\anaconda3\\envs\\pythondata\\lib\\site-packages (from sphinx->datascience) (2.0.0)\n",
      "Requirement already satisfied: sphinxcontrib-serializinghtml>=1.1.5 in c:\\users\\adeve\\anaconda3\\envs\\pythondata\\lib\\site-packages (from sphinx->datascience) (1.1.5)\n",
      "Requirement already satisfied: sphinxcontrib-qthelp in c:\\users\\adeve\\anaconda3\\envs\\pythondata\\lib\\site-packages (from sphinx->datascience) (1.0.3)\n",
      "\n",
      "Requirement already satisfied: snowballstemmer>=1.1 in c:\\users\\adeve\\anaconda3\\envs\\pythondata\\lib\\site-packages (from sphinx->datascience) (2.2.0)\n",
      "Requirement already satisfied: babel>=1.3 in c:\\users\\adeve\\anaconda3\\envs\\pythondata\\lib\\site-packages (from sphinx->datascience) (2.9.1)\n",
      "Requirement already satisfied: alabaster<0.8,>=0.7 in c:\\users\\adeve\\anaconda3\\envs\\pythondata\\lib\\site-packages (from sphinx->datascience) (0.7.12)\n",
      "Requirement already satisfied: imagesize in c:\\users\\adeve\\anaconda3\\envs\\pythondata\\lib\\site-packages (from sphinx->datascience) (1.3.0)\n",
      "Requirement already satisfied: pytz>=2015.7 in c:\\users\\adeve\\anaconda3\\envs\\pythondata\\lib\\site-packages (from babel>=1.3->sphinx->datascience) (2021.3)\n",
      "Requirement already satisfied: webencodings in c:\\users\\adeve\\anaconda3\\envs\\pythondata\\lib\\site-packages (from bleach->nbconvert!=5.4->nbsphinx->datascience) (0.5.1)\n",
      "Requirement already satisfied: tenacity>=6.2.0 in c:\\users\\adeve\\anaconda3\\envs\\pythondata\\lib\\site-packages (from plotly->datascience) (8.0.1)\n",
      "Requirement already satisfied: iniconfig in c:\\users\\adeve\\anaconda3\\envs\\pythondata\\lib\\site-packages (from pytest->datascience) (1.1.1)\n",
      "Requirement already satisfied: pluggy<1.0.0a1,>=0.12 in c:\\users\\adeve\\anaconda3\\envs\\pythondata\\lib\\site-packages (from pytest->datascience) (0.13.1)\n",
      "Requirement already satisfied: py>=1.8.2 in c:\\users\\adeve\\anaconda3\\envs\\pythondata\\lib\\site-packages (from pytest->datascience) (1.10.0)\n",
      "Requirement already satisfied: toml in c:\\users\\adeve\\anaconda3\\envs\\pythondata\\lib\\site-packages (from pytest->datascience) (0.10.2)\n",
      "Requirement already satisfied: atomicwrites>=1.0 in c:\\users\\adeve\\anaconda3\\envs\\pythondata\\lib\\site-packages (from pytest->datascience) (1.4.0)\n"
     ]
    }
   ],
   "source": [
    "pip install datascience"
   ]
  },
  {
   "cell_type": "markdown",
   "metadata": {},
   "source": [
    "**Question 2.** In the *cell* below type your preferred name and pronouns."
   ]
  },
  {
   "cell_type": "markdown",
   "metadata": {},
   "source": [
    "Name: Alyssa Warnock \\\n",
    "Pronouns: She/Her"
   ]
  },
  {
   "cell_type": "markdown",
   "metadata": {},
   "source": [
    "You're done with Lab 0! \n",
    "\n",
    "Make sure to save your Notebook and submit the .ipynb file to Gradescope."
   ]
  }
 ],
 "metadata": {
  "kernelspec": {
   "display_name": "PythonData",
   "language": "python",
   "name": "pythondata"
  },
  "language_info": {
   "codemirror_mode": {
    "name": "ipython",
    "version": 3
   },
   "file_extension": ".py",
   "mimetype": "text/x-python",
   "name": "python",
   "nbconvert_exporter": "python",
   "pygments_lexer": "ipython3",
   "version": "3.9.7"
  }
 },
 "nbformat": 4,
 "nbformat_minor": 4
}
